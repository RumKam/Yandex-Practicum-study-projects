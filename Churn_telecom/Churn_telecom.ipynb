{
 "cells": [
  {
   "cell_type": "markdown",
   "id": "cdd8bc7e",
   "metadata": {},
   "source": [
    "# Прогнозирование оттока клиентов\n",
    "\n",
    "Оператор связи хочет научиться прогнозировать отток клиентов. Если выяснится, что пользователь планирует уйти, ему будут предложены промокоды и специальные условия. Команда оператора собрала персональные данные о некоторых клиентах, информацию об их тарифах и договорах.\n",
    "\n",
    "<b>Цель проекта</b> - предсказать намерение клиента отказаться от услуг оператора связи для своевременного предложения стимулирующих бонусов.\n",
    "\n",
    "<b>Задача проекта</b> - построить прототип модели машинного обучения способной достичь метрики AUC-ROC больше 0.85.\n",
    "  \n",
    "\n",
    "<b>Описание данных</b>\n",
    "\n",
    "Данные состоят из файлов, полученных из разных источников:\n",
    "- <i>contract_new.csv</i> информация о договоре;\n",
    "- <i>personal_new.csv</i> персональные данные клиента;\n",
    "- <i>internet_new.csv</i> информация об интернет услугах;\n",
    "- <i>phone_new.csv</i> информация об услугах телефонии.\n",
    "\n",
    "Значения признаков:\n",
    "- <i>BeginDate</i> - дата начала пользования услугами;\n",
    "- <i>EndDate</i> - дата окончания пользования услугами;\n",
    "- <i>Type</i> - тип оплаты: ежемесячный, годовой и тд;\n",
    "- <i>PaperlessBilling</i> - безналичный расчет;\n",
    "- <i>PaymentMethod</i> - способ оплаты;\n",
    "- <i>MonthlyCharges</i> - ежемесячные траты на услуги;\n",
    "- <i>TotalCharges</i> - всего потрачено денег на услуги;\n",
    "- <i>Dependents</i> - наличие иждивенцев;\n",
    "- <i>Senior</i> - Citizen наличие пенсионного статуса по возрасту;\n",
    "- <i>Partner</i> - наличие супруга(и);\n",
    "- <i>MultipleLines</i> - наличие возможности ведения параллельных линий во время звонка.\n",
    "\n",
    "\n",
    "<b>План проекта</b> \n",
    "1. Загрузка и изучение данных;\n",
    "2. Предобработка данных:\n",
    "   - объединить датасеты;\n",
    "   - преобразовать типы данных;\n",
    "   - исследовать аномалии и заполнить пропуски;\n",
    "   - удалить дублирующиеся по информативности столбцы; \n",
    "   - преобразовать категориальные признаки в числовые;\n",
    "   - сгенерировать синтетические признаки;\n",
    "   - сгенерировать целевой признак.\n",
    "3. Исследовательский анализ данных:\n",
    "   - исследовать баланс классов;\n",
    "   - исследовать корреляцию признаков и целевого столбца;\n",
    "   - провести группировки и визуализацию признаков для определения зависимостей;\n",
    "   - провести сравнение данных по активным и ушедшим пользователям.\n",
    "4. Обучение моделей:\n",
    "   - разделить датасет на тренировочный и тестовый;\n",
    "   - построить пайплайны, включающие масштабирование, кодирование и обучение для моделей случайного леса и градиентного бустинга;\n",
    "   - подбор гиперпараметров для моделей;\n",
    "   - оценка целевой метрики на кросс-валидации.\n",
    "5. Тестирование лучшей модели:\n",
    "   - оценка целевой метрики;\n",
    "   - оценка важности признаков.\n",
    "6. Выводы"
   ]
  },
  {
   "cell_type": "markdown",
   "id": "209ec862",
   "metadata": {},
   "source": [
    "# Загрузка и изучение данных"
   ]
  },
  {
   "cell_type": "code",
   "execution_count": 1,
   "id": "a599a454",
   "metadata": {},
   "outputs": [],
   "source": [
    "#загрузим необходимые библиотеки\n",
    "\n",
    "import warnings\n",
    "\n",
    "import matplotlib.pyplot as plt\n",
    "import numpy as np\n",
    "import os\n",
    "import pandas as pd\n",
    "import phik\n",
    "import seaborn as sns\n",
    "\n",
    "from catboost import CatBoostClassifier\n",
    "from sklearn.compose import make_column_transformer\n",
    "from sklearn.ensemble import RandomForestClassifier\n",
    "from sklearn.linear_model import LogisticRegression\n",
    "from sklearn.metrics import (\n",
    "    make_scorer,\n",
    "    f1_score, \n",
    "    precision_score, \n",
    "    recall_score, \n",
    "    roc_curve,\n",
    "    roc_auc_score,\n",
    "    precision_recall_curve,\n",
    "    confusion_matrix\n",
    ")\n",
    "from sklearn.model_selection import (\n",
    "    train_test_split, \n",
    "    GridSearchCV, \n",
    "    RandomizedSearchCV,\n",
    "    KFold\n",
    ")\n",
    "from sklearn.pipeline import make_pipeline\n",
    "from sklearn.preprocessing import (\n",
    "    OneHotEncoder,\n",
    "    StandardScaler\n",
    ")\n",
    "\n",
    "# натроим некоторые параметры\n",
    "pd.set_option('display.max_columns', None)\n",
    "warnings.filterwarnings(\"ignore\")\n",
    "\n",
    "#зададим константу\n",
    "RANDOM_STATE = 240423"
   ]
  },
  {
   "cell_type": "code",
   "execution_count": 2,
   "id": "54d56d21",
   "metadata": {},
   "outputs": [],
   "source": [
    "#Создадим функцию для загрузки датасетов\n",
    "def read_df(df):\n",
    "    if os.path.exists('/datasets/'+df):\n",
    "        df_raw = pd.read_csv('/datasets/'+df)\n",
    "        print('platform')\n",
    "    else:\n",
    "        df_raw = pd.read_csv(df)\n",
    "        print('remote')\n",
    "    return df_raw    "
   ]
  },
  {
   "cell_type": "code",
   "execution_count": 3,
   "id": "f5e52bda",
   "metadata": {},
   "outputs": [
    {
     "name": "stdout",
     "output_type": "stream",
     "text": [
      "remote\n",
      "remote\n",
      "remote\n",
      "remote\n"
     ]
    }
   ],
   "source": [
    "#Выполним загрузку данных\n",
    "df_contract = read_df('contract_new.csv')\n",
    "df_personal = read_df('personal_new.csv')\n",
    "df_internet = read_df('internet_new.csv')\n",
    "df_phone = read_df('phone_new.csv')"
   ]
  },
  {
   "cell_type": "code",
   "execution_count": 4,
   "id": "eb6bfccd",
   "metadata": {},
   "outputs": [],
   "source": [
    "#создадим функцию для вывода обзорного отчета по данным\n",
    "def mini_report(df):\n",
    "    print('Head')\n",
    "    display(df.head())\n",
    "    print('')\n",
    "    print('Describe')\n",
    "    display(df.describe())\n",
    "    print('')\n",
    "    display(df.info())\n",
    "    print('Всего пропущенных значений %', \n",
    "          pd.DataFrame(df.isna().mean()*100).sum())"
   ]
  },
  {
   "cell_type": "code",
   "execution_count": 5,
   "id": "b752dc8c",
   "metadata": {},
   "outputs": [
    {
     "name": "stdout",
     "output_type": "stream",
     "text": [
      "Head\n"
     ]
    },
    {
     "data": {
      "text/html": [
       "<div>\n",
       "<style scoped>\n",
       "    .dataframe tbody tr th:only-of-type {\n",
       "        vertical-align: middle;\n",
       "    }\n",
       "\n",
       "    .dataframe tbody tr th {\n",
       "        vertical-align: top;\n",
       "    }\n",
       "\n",
       "    .dataframe thead th {\n",
       "        text-align: right;\n",
       "    }\n",
       "</style>\n",
       "<table border=\"1\" class=\"dataframe\">\n",
       "  <thead>\n",
       "    <tr style=\"text-align: right;\">\n",
       "      <th></th>\n",
       "      <th>customerID</th>\n",
       "      <th>BeginDate</th>\n",
       "      <th>EndDate</th>\n",
       "      <th>Type</th>\n",
       "      <th>PaperlessBilling</th>\n",
       "      <th>PaymentMethod</th>\n",
       "      <th>MonthlyCharges</th>\n",
       "      <th>TotalCharges</th>\n",
       "    </tr>\n",
       "  </thead>\n",
       "  <tbody>\n",
       "    <tr>\n",
       "      <th>0</th>\n",
       "      <td>7590-VHVEG</td>\n",
       "      <td>2020-01-01</td>\n",
       "      <td>No</td>\n",
       "      <td>Month-to-month</td>\n",
       "      <td>Yes</td>\n",
       "      <td>Electronic check</td>\n",
       "      <td>29.85</td>\n",
       "      <td>31.04</td>\n",
       "    </tr>\n",
       "    <tr>\n",
       "      <th>1</th>\n",
       "      <td>5575-GNVDE</td>\n",
       "      <td>2017-04-01</td>\n",
       "      <td>No</td>\n",
       "      <td>One year</td>\n",
       "      <td>No</td>\n",
       "      <td>Mailed check</td>\n",
       "      <td>56.95</td>\n",
       "      <td>2071.84</td>\n",
       "    </tr>\n",
       "    <tr>\n",
       "      <th>2</th>\n",
       "      <td>3668-QPYBK</td>\n",
       "      <td>2019-10-01</td>\n",
       "      <td>No</td>\n",
       "      <td>Month-to-month</td>\n",
       "      <td>Yes</td>\n",
       "      <td>Mailed check</td>\n",
       "      <td>53.85</td>\n",
       "      <td>226.17</td>\n",
       "    </tr>\n",
       "    <tr>\n",
       "      <th>3</th>\n",
       "      <td>7795-CFOCW</td>\n",
       "      <td>2016-05-01</td>\n",
       "      <td>No</td>\n",
       "      <td>One year</td>\n",
       "      <td>No</td>\n",
       "      <td>Bank transfer (automatic)</td>\n",
       "      <td>42.30</td>\n",
       "      <td>1960.6</td>\n",
       "    </tr>\n",
       "    <tr>\n",
       "      <th>4</th>\n",
       "      <td>9237-HQITU</td>\n",
       "      <td>2019-09-01</td>\n",
       "      <td>No</td>\n",
       "      <td>Month-to-month</td>\n",
       "      <td>Yes</td>\n",
       "      <td>Electronic check</td>\n",
       "      <td>70.70</td>\n",
       "      <td>353.5</td>\n",
       "    </tr>\n",
       "  </tbody>\n",
       "</table>\n",
       "</div>"
      ],
      "text/plain": [
       "   customerID   BeginDate EndDate            Type PaperlessBilling  \\\n",
       "0  7590-VHVEG  2020-01-01      No  Month-to-month              Yes   \n",
       "1  5575-GNVDE  2017-04-01      No        One year               No   \n",
       "2  3668-QPYBK  2019-10-01      No  Month-to-month              Yes   \n",
       "3  7795-CFOCW  2016-05-01      No        One year               No   \n",
       "4  9237-HQITU  2019-09-01      No  Month-to-month              Yes   \n",
       "\n",
       "               PaymentMethod  MonthlyCharges TotalCharges  \n",
       "0           Electronic check           29.85        31.04  \n",
       "1               Mailed check           56.95      2071.84  \n",
       "2               Mailed check           53.85       226.17  \n",
       "3  Bank transfer (automatic)           42.30       1960.6  \n",
       "4           Electronic check           70.70        353.5  "
      ]
     },
     "metadata": {},
     "output_type": "display_data"
    },
    {
     "name": "stdout",
     "output_type": "stream",
     "text": [
      "\n",
      "Describe\n"
     ]
    },
    {
     "data": {
      "text/html": [
       "<div>\n",
       "<style scoped>\n",
       "    .dataframe tbody tr th:only-of-type {\n",
       "        vertical-align: middle;\n",
       "    }\n",
       "\n",
       "    .dataframe tbody tr th {\n",
       "        vertical-align: top;\n",
       "    }\n",
       "\n",
       "    .dataframe thead th {\n",
       "        text-align: right;\n",
       "    }\n",
       "</style>\n",
       "<table border=\"1\" class=\"dataframe\">\n",
       "  <thead>\n",
       "    <tr style=\"text-align: right;\">\n",
       "      <th></th>\n",
       "      <th>MonthlyCharges</th>\n",
       "    </tr>\n",
       "  </thead>\n",
       "  <tbody>\n",
       "    <tr>\n",
       "      <th>count</th>\n",
       "      <td>7043.000000</td>\n",
       "    </tr>\n",
       "    <tr>\n",
       "      <th>mean</th>\n",
       "      <td>64.761692</td>\n",
       "    </tr>\n",
       "    <tr>\n",
       "      <th>std</th>\n",
       "      <td>30.090047</td>\n",
       "    </tr>\n",
       "    <tr>\n",
       "      <th>min</th>\n",
       "      <td>18.250000</td>\n",
       "    </tr>\n",
       "    <tr>\n",
       "      <th>25%</th>\n",
       "      <td>35.500000</td>\n",
       "    </tr>\n",
       "    <tr>\n",
       "      <th>50%</th>\n",
       "      <td>70.350000</td>\n",
       "    </tr>\n",
       "    <tr>\n",
       "      <th>75%</th>\n",
       "      <td>89.850000</td>\n",
       "    </tr>\n",
       "    <tr>\n",
       "      <th>max</th>\n",
       "      <td>118.750000</td>\n",
       "    </tr>\n",
       "  </tbody>\n",
       "</table>\n",
       "</div>"
      ],
      "text/plain": [
       "       MonthlyCharges\n",
       "count     7043.000000\n",
       "mean        64.761692\n",
       "std         30.090047\n",
       "min         18.250000\n",
       "25%         35.500000\n",
       "50%         70.350000\n",
       "75%         89.850000\n",
       "max        118.750000"
      ]
     },
     "metadata": {},
     "output_type": "display_data"
    },
    {
     "name": "stdout",
     "output_type": "stream",
     "text": [
      "\n",
      "<class 'pandas.core.frame.DataFrame'>\n",
      "RangeIndex: 7043 entries, 0 to 7042\n",
      "Data columns (total 8 columns):\n",
      " #   Column            Non-Null Count  Dtype  \n",
      "---  ------            --------------  -----  \n",
      " 0   customerID        7043 non-null   object \n",
      " 1   BeginDate         7043 non-null   object \n",
      " 2   EndDate           7043 non-null   object \n",
      " 3   Type              7043 non-null   object \n",
      " 4   PaperlessBilling  7043 non-null   object \n",
      " 5   PaymentMethod     7043 non-null   object \n",
      " 6   MonthlyCharges    7043 non-null   float64\n",
      " 7   TotalCharges      7043 non-null   object \n",
      "dtypes: float64(1), object(7)\n",
      "memory usage: 440.3+ KB\n"
     ]
    },
    {
     "data": {
      "text/plain": [
       "None"
      ]
     },
     "metadata": {},
     "output_type": "display_data"
    },
    {
     "name": "stdout",
     "output_type": "stream",
     "text": [
      "Всего пропущенных значений % 0    0.0\n",
      "dtype: float64\n"
     ]
    }
   ],
   "source": [
    "# получим отчет по первому датасету\n",
    "mini_report(df_contract)"
   ]
  },
  {
   "cell_type": "markdown",
   "id": "0b24c002",
   "metadata": {},
   "source": [
    "Для первого датасета с данными о клиенте необходимо преобразование типов данных. Сейчас численные значения и даты представлены в формате object что затрудняет анализ. Аномалии будут исследованы после преобразование типа данных. Пропущенных значений здесь нет. Дубликаты будут исследованы после объединения датасетов."
   ]
  },
  {
   "cell_type": "code",
   "execution_count": 6,
   "id": "7698ad8d",
   "metadata": {},
   "outputs": [
    {
     "name": "stdout",
     "output_type": "stream",
     "text": [
      "Head\n"
     ]
    },
    {
     "data": {
      "text/html": [
       "<div>\n",
       "<style scoped>\n",
       "    .dataframe tbody tr th:only-of-type {\n",
       "        vertical-align: middle;\n",
       "    }\n",
       "\n",
       "    .dataframe tbody tr th {\n",
       "        vertical-align: top;\n",
       "    }\n",
       "\n",
       "    .dataframe thead th {\n",
       "        text-align: right;\n",
       "    }\n",
       "</style>\n",
       "<table border=\"1\" class=\"dataframe\">\n",
       "  <thead>\n",
       "    <tr style=\"text-align: right;\">\n",
       "      <th></th>\n",
       "      <th>customerID</th>\n",
       "      <th>gender</th>\n",
       "      <th>SeniorCitizen</th>\n",
       "      <th>Partner</th>\n",
       "      <th>Dependents</th>\n",
       "    </tr>\n",
       "  </thead>\n",
       "  <tbody>\n",
       "    <tr>\n",
       "      <th>0</th>\n",
       "      <td>7590-VHVEG</td>\n",
       "      <td>Female</td>\n",
       "      <td>0</td>\n",
       "      <td>Yes</td>\n",
       "      <td>No</td>\n",
       "    </tr>\n",
       "    <tr>\n",
       "      <th>1</th>\n",
       "      <td>5575-GNVDE</td>\n",
       "      <td>Male</td>\n",
       "      <td>0</td>\n",
       "      <td>No</td>\n",
       "      <td>No</td>\n",
       "    </tr>\n",
       "    <tr>\n",
       "      <th>2</th>\n",
       "      <td>3668-QPYBK</td>\n",
       "      <td>Male</td>\n",
       "      <td>0</td>\n",
       "      <td>No</td>\n",
       "      <td>No</td>\n",
       "    </tr>\n",
       "    <tr>\n",
       "      <th>3</th>\n",
       "      <td>7795-CFOCW</td>\n",
       "      <td>Male</td>\n",
       "      <td>0</td>\n",
       "      <td>No</td>\n",
       "      <td>No</td>\n",
       "    </tr>\n",
       "    <tr>\n",
       "      <th>4</th>\n",
       "      <td>9237-HQITU</td>\n",
       "      <td>Female</td>\n",
       "      <td>0</td>\n",
       "      <td>No</td>\n",
       "      <td>No</td>\n",
       "    </tr>\n",
       "  </tbody>\n",
       "</table>\n",
       "</div>"
      ],
      "text/plain": [
       "   customerID  gender  SeniorCitizen Partner Dependents\n",
       "0  7590-VHVEG  Female              0     Yes         No\n",
       "1  5575-GNVDE    Male              0      No         No\n",
       "2  3668-QPYBK    Male              0      No         No\n",
       "3  7795-CFOCW    Male              0      No         No\n",
       "4  9237-HQITU  Female              0      No         No"
      ]
     },
     "metadata": {},
     "output_type": "display_data"
    },
    {
     "name": "stdout",
     "output_type": "stream",
     "text": [
      "\n",
      "Describe\n"
     ]
    },
    {
     "data": {
      "text/html": [
       "<div>\n",
       "<style scoped>\n",
       "    .dataframe tbody tr th:only-of-type {\n",
       "        vertical-align: middle;\n",
       "    }\n",
       "\n",
       "    .dataframe tbody tr th {\n",
       "        vertical-align: top;\n",
       "    }\n",
       "\n",
       "    .dataframe thead th {\n",
       "        text-align: right;\n",
       "    }\n",
       "</style>\n",
       "<table border=\"1\" class=\"dataframe\">\n",
       "  <thead>\n",
       "    <tr style=\"text-align: right;\">\n",
       "      <th></th>\n",
       "      <th>SeniorCitizen</th>\n",
       "    </tr>\n",
       "  </thead>\n",
       "  <tbody>\n",
       "    <tr>\n",
       "      <th>count</th>\n",
       "      <td>7043.000000</td>\n",
       "    </tr>\n",
       "    <tr>\n",
       "      <th>mean</th>\n",
       "      <td>0.162147</td>\n",
       "    </tr>\n",
       "    <tr>\n",
       "      <th>std</th>\n",
       "      <td>0.368612</td>\n",
       "    </tr>\n",
       "    <tr>\n",
       "      <th>min</th>\n",
       "      <td>0.000000</td>\n",
       "    </tr>\n",
       "    <tr>\n",
       "      <th>25%</th>\n",
       "      <td>0.000000</td>\n",
       "    </tr>\n",
       "    <tr>\n",
       "      <th>50%</th>\n",
       "      <td>0.000000</td>\n",
       "    </tr>\n",
       "    <tr>\n",
       "      <th>75%</th>\n",
       "      <td>0.000000</td>\n",
       "    </tr>\n",
       "    <tr>\n",
       "      <th>max</th>\n",
       "      <td>1.000000</td>\n",
       "    </tr>\n",
       "  </tbody>\n",
       "</table>\n",
       "</div>"
      ],
      "text/plain": [
       "       SeniorCitizen\n",
       "count    7043.000000\n",
       "mean        0.162147\n",
       "std         0.368612\n",
       "min         0.000000\n",
       "25%         0.000000\n",
       "50%         0.000000\n",
       "75%         0.000000\n",
       "max         1.000000"
      ]
     },
     "metadata": {},
     "output_type": "display_data"
    },
    {
     "name": "stdout",
     "output_type": "stream",
     "text": [
      "\n",
      "<class 'pandas.core.frame.DataFrame'>\n",
      "RangeIndex: 7043 entries, 0 to 7042\n",
      "Data columns (total 5 columns):\n",
      " #   Column         Non-Null Count  Dtype \n",
      "---  ------         --------------  ----- \n",
      " 0   customerID     7043 non-null   object\n",
      " 1   gender         7043 non-null   object\n",
      " 2   SeniorCitizen  7043 non-null   int64 \n",
      " 3   Partner        7043 non-null   object\n",
      " 4   Dependents     7043 non-null   object\n",
      "dtypes: int64(1), object(4)\n",
      "memory usage: 275.2+ KB\n"
     ]
    },
    {
     "data": {
      "text/plain": [
       "None"
      ]
     },
     "metadata": {},
     "output_type": "display_data"
    },
    {
     "name": "stdout",
     "output_type": "stream",
     "text": [
      "Всего пропущенных значений % 0    0.0\n",
      "dtype: float64\n"
     ]
    }
   ],
   "source": [
    "# получим отчет по датасету с личными данными клиента\n",
    "mini_report(df_personal)"
   ]
  },
  {
   "cell_type": "markdown",
   "id": "8550d253",
   "metadata": {},
   "source": [
    "Для датасета personal также требуется преобразование типов данных. Все признаки представляют собой категории (причем категории всего две). Такие данные будут преобразованы в численные 0 и 1. Пропуски также отсуствуют. Количество строк здесь совпадает с предыдущим датасетом df_contract."
   ]
  },
  {
   "cell_type": "code",
   "execution_count": 7,
   "id": "5f256732",
   "metadata": {},
   "outputs": [
    {
     "name": "stdout",
     "output_type": "stream",
     "text": [
      "Head\n"
     ]
    },
    {
     "data": {
      "text/html": [
       "<div>\n",
       "<style scoped>\n",
       "    .dataframe tbody tr th:only-of-type {\n",
       "        vertical-align: middle;\n",
       "    }\n",
       "\n",
       "    .dataframe tbody tr th {\n",
       "        vertical-align: top;\n",
       "    }\n",
       "\n",
       "    .dataframe thead th {\n",
       "        text-align: right;\n",
       "    }\n",
       "</style>\n",
       "<table border=\"1\" class=\"dataframe\">\n",
       "  <thead>\n",
       "    <tr style=\"text-align: right;\">\n",
       "      <th></th>\n",
       "      <th>customerID</th>\n",
       "      <th>InternetService</th>\n",
       "      <th>OnlineSecurity</th>\n",
       "      <th>OnlineBackup</th>\n",
       "      <th>DeviceProtection</th>\n",
       "      <th>TechSupport</th>\n",
       "      <th>StreamingTV</th>\n",
       "      <th>StreamingMovies</th>\n",
       "    </tr>\n",
       "  </thead>\n",
       "  <tbody>\n",
       "    <tr>\n",
       "      <th>0</th>\n",
       "      <td>7590-VHVEG</td>\n",
       "      <td>DSL</td>\n",
       "      <td>No</td>\n",
       "      <td>Yes</td>\n",
       "      <td>No</td>\n",
       "      <td>No</td>\n",
       "      <td>No</td>\n",
       "      <td>No</td>\n",
       "    </tr>\n",
       "    <tr>\n",
       "      <th>1</th>\n",
       "      <td>5575-GNVDE</td>\n",
       "      <td>DSL</td>\n",
       "      <td>Yes</td>\n",
       "      <td>No</td>\n",
       "      <td>Yes</td>\n",
       "      <td>No</td>\n",
       "      <td>No</td>\n",
       "      <td>No</td>\n",
       "    </tr>\n",
       "    <tr>\n",
       "      <th>2</th>\n",
       "      <td>3668-QPYBK</td>\n",
       "      <td>DSL</td>\n",
       "      <td>Yes</td>\n",
       "      <td>Yes</td>\n",
       "      <td>No</td>\n",
       "      <td>No</td>\n",
       "      <td>No</td>\n",
       "      <td>No</td>\n",
       "    </tr>\n",
       "    <tr>\n",
       "      <th>3</th>\n",
       "      <td>7795-CFOCW</td>\n",
       "      <td>DSL</td>\n",
       "      <td>Yes</td>\n",
       "      <td>No</td>\n",
       "      <td>Yes</td>\n",
       "      <td>Yes</td>\n",
       "      <td>No</td>\n",
       "      <td>No</td>\n",
       "    </tr>\n",
       "    <tr>\n",
       "      <th>4</th>\n",
       "      <td>9237-HQITU</td>\n",
       "      <td>Fiber optic</td>\n",
       "      <td>No</td>\n",
       "      <td>No</td>\n",
       "      <td>No</td>\n",
       "      <td>No</td>\n",
       "      <td>No</td>\n",
       "      <td>No</td>\n",
       "    </tr>\n",
       "  </tbody>\n",
       "</table>\n",
       "</div>"
      ],
      "text/plain": [
       "   customerID InternetService OnlineSecurity OnlineBackup DeviceProtection  \\\n",
       "0  7590-VHVEG             DSL             No          Yes               No   \n",
       "1  5575-GNVDE             DSL            Yes           No              Yes   \n",
       "2  3668-QPYBK             DSL            Yes          Yes               No   \n",
       "3  7795-CFOCW             DSL            Yes           No              Yes   \n",
       "4  9237-HQITU     Fiber optic             No           No               No   \n",
       "\n",
       "  TechSupport StreamingTV StreamingMovies  \n",
       "0          No          No              No  \n",
       "1          No          No              No  \n",
       "2          No          No              No  \n",
       "3         Yes          No              No  \n",
       "4          No          No              No  "
      ]
     },
     "metadata": {},
     "output_type": "display_data"
    },
    {
     "name": "stdout",
     "output_type": "stream",
     "text": [
      "\n",
      "Describe\n"
     ]
    },
    {
     "data": {
      "text/html": [
       "<div>\n",
       "<style scoped>\n",
       "    .dataframe tbody tr th:only-of-type {\n",
       "        vertical-align: middle;\n",
       "    }\n",
       "\n",
       "    .dataframe tbody tr th {\n",
       "        vertical-align: top;\n",
       "    }\n",
       "\n",
       "    .dataframe thead th {\n",
       "        text-align: right;\n",
       "    }\n",
       "</style>\n",
       "<table border=\"1\" class=\"dataframe\">\n",
       "  <thead>\n",
       "    <tr style=\"text-align: right;\">\n",
       "      <th></th>\n",
       "      <th>customerID</th>\n",
       "      <th>InternetService</th>\n",
       "      <th>OnlineSecurity</th>\n",
       "      <th>OnlineBackup</th>\n",
       "      <th>DeviceProtection</th>\n",
       "      <th>TechSupport</th>\n",
       "      <th>StreamingTV</th>\n",
       "      <th>StreamingMovies</th>\n",
       "    </tr>\n",
       "  </thead>\n",
       "  <tbody>\n",
       "    <tr>\n",
       "      <th>count</th>\n",
       "      <td>5517</td>\n",
       "      <td>5517</td>\n",
       "      <td>5517</td>\n",
       "      <td>5517</td>\n",
       "      <td>5517</td>\n",
       "      <td>5517</td>\n",
       "      <td>5517</td>\n",
       "      <td>5517</td>\n",
       "    </tr>\n",
       "    <tr>\n",
       "      <th>unique</th>\n",
       "      <td>5517</td>\n",
       "      <td>2</td>\n",
       "      <td>2</td>\n",
       "      <td>2</td>\n",
       "      <td>2</td>\n",
       "      <td>2</td>\n",
       "      <td>2</td>\n",
       "      <td>2</td>\n",
       "    </tr>\n",
       "    <tr>\n",
       "      <th>top</th>\n",
       "      <td>7590-VHVEG</td>\n",
       "      <td>Fiber optic</td>\n",
       "      <td>No</td>\n",
       "      <td>No</td>\n",
       "      <td>No</td>\n",
       "      <td>No</td>\n",
       "      <td>No</td>\n",
       "      <td>No</td>\n",
       "    </tr>\n",
       "    <tr>\n",
       "      <th>freq</th>\n",
       "      <td>1</td>\n",
       "      <td>3096</td>\n",
       "      <td>3498</td>\n",
       "      <td>3088</td>\n",
       "      <td>3095</td>\n",
       "      <td>3473</td>\n",
       "      <td>2810</td>\n",
       "      <td>2785</td>\n",
       "    </tr>\n",
       "  </tbody>\n",
       "</table>\n",
       "</div>"
      ],
      "text/plain": [
       "        customerID InternetService OnlineSecurity OnlineBackup  \\\n",
       "count         5517            5517           5517         5517   \n",
       "unique        5517               2              2            2   \n",
       "top     7590-VHVEG     Fiber optic             No           No   \n",
       "freq             1            3096           3498         3088   \n",
       "\n",
       "       DeviceProtection TechSupport StreamingTV StreamingMovies  \n",
       "count              5517        5517        5517            5517  \n",
       "unique                2           2           2               2  \n",
       "top                  No          No          No              No  \n",
       "freq               3095        3473        2810            2785  "
      ]
     },
     "metadata": {},
     "output_type": "display_data"
    },
    {
     "name": "stdout",
     "output_type": "stream",
     "text": [
      "\n",
      "<class 'pandas.core.frame.DataFrame'>\n",
      "RangeIndex: 5517 entries, 0 to 5516\n",
      "Data columns (total 8 columns):\n",
      " #   Column            Non-Null Count  Dtype \n",
      "---  ------            --------------  ----- \n",
      " 0   customerID        5517 non-null   object\n",
      " 1   InternetService   5517 non-null   object\n",
      " 2   OnlineSecurity    5517 non-null   object\n",
      " 3   OnlineBackup      5517 non-null   object\n",
      " 4   DeviceProtection  5517 non-null   object\n",
      " 5   TechSupport       5517 non-null   object\n",
      " 6   StreamingTV       5517 non-null   object\n",
      " 7   StreamingMovies   5517 non-null   object\n",
      "dtypes: object(8)\n",
      "memory usage: 344.9+ KB\n"
     ]
    },
    {
     "data": {
      "text/plain": [
       "None"
      ]
     },
     "metadata": {},
     "output_type": "display_data"
    },
    {
     "name": "stdout",
     "output_type": "stream",
     "text": [
      "Всего пропущенных значений % 0    0.0\n",
      "dtype: float64\n"
     ]
    }
   ],
   "source": [
    "#далее посмотрим на данные об использовании интернета\n",
    "mini_report(df_internet)"
   ]
  },
  {
   "cell_type": "markdown",
   "id": "cb878c08",
   "metadata": {},
   "source": [
    "Рассмотренный выше датасет имеет только признаки с двумя уникальными категориями. Категории будут преобразованы в числовые для удобства. Можно сделать вывод, что не все клиенты оператора связи пользуются услугами интернета."
   ]
  },
  {
   "cell_type": "code",
   "execution_count": 8,
   "id": "1ab78013",
   "metadata": {},
   "outputs": [
    {
     "name": "stdout",
     "output_type": "stream",
     "text": [
      "Head\n"
     ]
    },
    {
     "data": {
      "text/html": [
       "<div>\n",
       "<style scoped>\n",
       "    .dataframe tbody tr th:only-of-type {\n",
       "        vertical-align: middle;\n",
       "    }\n",
       "\n",
       "    .dataframe tbody tr th {\n",
       "        vertical-align: top;\n",
       "    }\n",
       "\n",
       "    .dataframe thead th {\n",
       "        text-align: right;\n",
       "    }\n",
       "</style>\n",
       "<table border=\"1\" class=\"dataframe\">\n",
       "  <thead>\n",
       "    <tr style=\"text-align: right;\">\n",
       "      <th></th>\n",
       "      <th>customerID</th>\n",
       "      <th>MultipleLines</th>\n",
       "    </tr>\n",
       "  </thead>\n",
       "  <tbody>\n",
       "    <tr>\n",
       "      <th>0</th>\n",
       "      <td>5575-GNVDE</td>\n",
       "      <td>No</td>\n",
       "    </tr>\n",
       "    <tr>\n",
       "      <th>1</th>\n",
       "      <td>3668-QPYBK</td>\n",
       "      <td>No</td>\n",
       "    </tr>\n",
       "    <tr>\n",
       "      <th>2</th>\n",
       "      <td>9237-HQITU</td>\n",
       "      <td>No</td>\n",
       "    </tr>\n",
       "    <tr>\n",
       "      <th>3</th>\n",
       "      <td>9305-CDSKC</td>\n",
       "      <td>Yes</td>\n",
       "    </tr>\n",
       "    <tr>\n",
       "      <th>4</th>\n",
       "      <td>1452-KIOVK</td>\n",
       "      <td>Yes</td>\n",
       "    </tr>\n",
       "  </tbody>\n",
       "</table>\n",
       "</div>"
      ],
      "text/plain": [
       "   customerID MultipleLines\n",
       "0  5575-GNVDE            No\n",
       "1  3668-QPYBK            No\n",
       "2  9237-HQITU            No\n",
       "3  9305-CDSKC           Yes\n",
       "4  1452-KIOVK           Yes"
      ]
     },
     "metadata": {},
     "output_type": "display_data"
    },
    {
     "name": "stdout",
     "output_type": "stream",
     "text": [
      "\n",
      "Describe\n"
     ]
    },
    {
     "data": {
      "text/html": [
       "<div>\n",
       "<style scoped>\n",
       "    .dataframe tbody tr th:only-of-type {\n",
       "        vertical-align: middle;\n",
       "    }\n",
       "\n",
       "    .dataframe tbody tr th {\n",
       "        vertical-align: top;\n",
       "    }\n",
       "\n",
       "    .dataframe thead th {\n",
       "        text-align: right;\n",
       "    }\n",
       "</style>\n",
       "<table border=\"1\" class=\"dataframe\">\n",
       "  <thead>\n",
       "    <tr style=\"text-align: right;\">\n",
       "      <th></th>\n",
       "      <th>customerID</th>\n",
       "      <th>MultipleLines</th>\n",
       "    </tr>\n",
       "  </thead>\n",
       "  <tbody>\n",
       "    <tr>\n",
       "      <th>count</th>\n",
       "      <td>6361</td>\n",
       "      <td>6361</td>\n",
       "    </tr>\n",
       "    <tr>\n",
       "      <th>unique</th>\n",
       "      <td>6361</td>\n",
       "      <td>2</td>\n",
       "    </tr>\n",
       "    <tr>\n",
       "      <th>top</th>\n",
       "      <td>5575-GNVDE</td>\n",
       "      <td>No</td>\n",
       "    </tr>\n",
       "    <tr>\n",
       "      <th>freq</th>\n",
       "      <td>1</td>\n",
       "      <td>3390</td>\n",
       "    </tr>\n",
       "  </tbody>\n",
       "</table>\n",
       "</div>"
      ],
      "text/plain": [
       "        customerID MultipleLines\n",
       "count         6361          6361\n",
       "unique        6361             2\n",
       "top     5575-GNVDE            No\n",
       "freq             1          3390"
      ]
     },
     "metadata": {},
     "output_type": "display_data"
    },
    {
     "name": "stdout",
     "output_type": "stream",
     "text": [
      "\n",
      "<class 'pandas.core.frame.DataFrame'>\n",
      "RangeIndex: 6361 entries, 0 to 6360\n",
      "Data columns (total 2 columns):\n",
      " #   Column         Non-Null Count  Dtype \n",
      "---  ------         --------------  ----- \n",
      " 0   customerID     6361 non-null   object\n",
      " 1   MultipleLines  6361 non-null   object\n",
      "dtypes: object(2)\n",
      "memory usage: 99.5+ KB\n"
     ]
    },
    {
     "data": {
      "text/plain": [
       "None"
      ]
     },
     "metadata": {},
     "output_type": "display_data"
    },
    {
     "name": "stdout",
     "output_type": "stream",
     "text": [
      "Всего пропущенных значений % 0    0.0\n",
      "dtype: float64\n"
     ]
    }
   ],
   "source": [
    "#получим отчет о пользователях телефонии\n",
    "mini_report(df_phone)"
   ]
  },
  {
   "cell_type": "markdown",
   "id": "101a32e0",
   "metadata": {},
   "source": [
    "Датасет phone содержит только уникальный идентификатор клиента и факт использования параллельных линий во время звонка. Категории здесь также будут преобразованы в 0 и 1. Не все клиенты оператора связи пользуются телефонией, поскольку количество строк не совпадает с преддыдущими датасетами."
   ]
  },
  {
   "cell_type": "markdown",
   "id": "d9113f6f",
   "metadata": {},
   "source": [
    "Все изученные датасеты содержат столбец customerID с уникальным индентификатором клиента. По этому признаку будет выполнено объединение данных для более удобной работы в дальнейшем."
   ]
  },
  {
   "cell_type": "markdown",
   "id": "317e7a28",
   "metadata": {},
   "source": [
    "# Предобработка данных"
   ]
  },
  {
   "cell_type": "code",
   "execution_count": 9,
   "id": "713fabf1",
   "metadata": {},
   "outputs": [],
   "source": [
    "# объединим датасеты\n",
    "df_1 = pd.merge(df_contract, df_personal, how='left', on='customerID')\n",
    "df_2 = pd.merge(df_1, df_internet, how='left', on='customerID')\n",
    "df_raw = pd.merge(df_2, df_phone, how='left', on='customerID')"
   ]
  },
  {
   "cell_type": "markdown",
   "id": "24332845",
   "metadata": {},
   "source": [
    "Далее убедимся, что слияние прошло корректно."
   ]
  },
  {
   "cell_type": "code",
   "execution_count": 10,
   "id": "c650ae46",
   "metadata": {},
   "outputs": [
    {
     "data": {
      "text/html": [
       "<div>\n",
       "<style scoped>\n",
       "    .dataframe tbody tr th:only-of-type {\n",
       "        vertical-align: middle;\n",
       "    }\n",
       "\n",
       "    .dataframe tbody tr th {\n",
       "        vertical-align: top;\n",
       "    }\n",
       "\n",
       "    .dataframe thead th {\n",
       "        text-align: right;\n",
       "    }\n",
       "</style>\n",
       "<table border=\"1\" class=\"dataframe\">\n",
       "  <thead>\n",
       "    <tr style=\"text-align: right;\">\n",
       "      <th></th>\n",
       "      <th>customerID</th>\n",
       "      <th>BeginDate</th>\n",
       "      <th>EndDate</th>\n",
       "      <th>Type</th>\n",
       "      <th>PaperlessBilling</th>\n",
       "      <th>PaymentMethod</th>\n",
       "      <th>MonthlyCharges</th>\n",
       "      <th>TotalCharges</th>\n",
       "      <th>gender</th>\n",
       "      <th>SeniorCitizen</th>\n",
       "      <th>Partner</th>\n",
       "      <th>Dependents</th>\n",
       "      <th>InternetService</th>\n",
       "      <th>OnlineSecurity</th>\n",
       "      <th>OnlineBackup</th>\n",
       "      <th>DeviceProtection</th>\n",
       "      <th>TechSupport</th>\n",
       "      <th>StreamingTV</th>\n",
       "      <th>StreamingMovies</th>\n",
       "      <th>MultipleLines</th>\n",
       "    </tr>\n",
       "  </thead>\n",
       "  <tbody>\n",
       "    <tr>\n",
       "      <th>0</th>\n",
       "      <td>7590-VHVEG</td>\n",
       "      <td>2020-01-01</td>\n",
       "      <td>No</td>\n",
       "      <td>Month-to-month</td>\n",
       "      <td>Yes</td>\n",
       "      <td>Electronic check</td>\n",
       "      <td>29.85</td>\n",
       "      <td>31.04</td>\n",
       "      <td>Female</td>\n",
       "      <td>0</td>\n",
       "      <td>Yes</td>\n",
       "      <td>No</td>\n",
       "      <td>DSL</td>\n",
       "      <td>No</td>\n",
       "      <td>Yes</td>\n",
       "      <td>No</td>\n",
       "      <td>No</td>\n",
       "      <td>No</td>\n",
       "      <td>No</td>\n",
       "      <td>NaN</td>\n",
       "    </tr>\n",
       "    <tr>\n",
       "      <th>1</th>\n",
       "      <td>5575-GNVDE</td>\n",
       "      <td>2017-04-01</td>\n",
       "      <td>No</td>\n",
       "      <td>One year</td>\n",
       "      <td>No</td>\n",
       "      <td>Mailed check</td>\n",
       "      <td>56.95</td>\n",
       "      <td>2071.84</td>\n",
       "      <td>Male</td>\n",
       "      <td>0</td>\n",
       "      <td>No</td>\n",
       "      <td>No</td>\n",
       "      <td>DSL</td>\n",
       "      <td>Yes</td>\n",
       "      <td>No</td>\n",
       "      <td>Yes</td>\n",
       "      <td>No</td>\n",
       "      <td>No</td>\n",
       "      <td>No</td>\n",
       "      <td>No</td>\n",
       "    </tr>\n",
       "    <tr>\n",
       "      <th>2</th>\n",
       "      <td>3668-QPYBK</td>\n",
       "      <td>2019-10-01</td>\n",
       "      <td>No</td>\n",
       "      <td>Month-to-month</td>\n",
       "      <td>Yes</td>\n",
       "      <td>Mailed check</td>\n",
       "      <td>53.85</td>\n",
       "      <td>226.17</td>\n",
       "      <td>Male</td>\n",
       "      <td>0</td>\n",
       "      <td>No</td>\n",
       "      <td>No</td>\n",
       "      <td>DSL</td>\n",
       "      <td>Yes</td>\n",
       "      <td>Yes</td>\n",
       "      <td>No</td>\n",
       "      <td>No</td>\n",
       "      <td>No</td>\n",
       "      <td>No</td>\n",
       "      <td>No</td>\n",
       "    </tr>\n",
       "    <tr>\n",
       "      <th>3</th>\n",
       "      <td>7795-CFOCW</td>\n",
       "      <td>2016-05-01</td>\n",
       "      <td>No</td>\n",
       "      <td>One year</td>\n",
       "      <td>No</td>\n",
       "      <td>Bank transfer (automatic)</td>\n",
       "      <td>42.30</td>\n",
       "      <td>1960.6</td>\n",
       "      <td>Male</td>\n",
       "      <td>0</td>\n",
       "      <td>No</td>\n",
       "      <td>No</td>\n",
       "      <td>DSL</td>\n",
       "      <td>Yes</td>\n",
       "      <td>No</td>\n",
       "      <td>Yes</td>\n",
       "      <td>Yes</td>\n",
       "      <td>No</td>\n",
       "      <td>No</td>\n",
       "      <td>NaN</td>\n",
       "    </tr>\n",
       "    <tr>\n",
       "      <th>4</th>\n",
       "      <td>9237-HQITU</td>\n",
       "      <td>2019-09-01</td>\n",
       "      <td>No</td>\n",
       "      <td>Month-to-month</td>\n",
       "      <td>Yes</td>\n",
       "      <td>Electronic check</td>\n",
       "      <td>70.70</td>\n",
       "      <td>353.5</td>\n",
       "      <td>Female</td>\n",
       "      <td>0</td>\n",
       "      <td>No</td>\n",
       "      <td>No</td>\n",
       "      <td>Fiber optic</td>\n",
       "      <td>No</td>\n",
       "      <td>No</td>\n",
       "      <td>No</td>\n",
       "      <td>No</td>\n",
       "      <td>No</td>\n",
       "      <td>No</td>\n",
       "      <td>No</td>\n",
       "    </tr>\n",
       "    <tr>\n",
       "      <th>...</th>\n",
       "      <td>...</td>\n",
       "      <td>...</td>\n",
       "      <td>...</td>\n",
       "      <td>...</td>\n",
       "      <td>...</td>\n",
       "      <td>...</td>\n",
       "      <td>...</td>\n",
       "      <td>...</td>\n",
       "      <td>...</td>\n",
       "      <td>...</td>\n",
       "      <td>...</td>\n",
       "      <td>...</td>\n",
       "      <td>...</td>\n",
       "      <td>...</td>\n",
       "      <td>...</td>\n",
       "      <td>...</td>\n",
       "      <td>...</td>\n",
       "      <td>...</td>\n",
       "      <td>...</td>\n",
       "      <td>...</td>\n",
       "    </tr>\n",
       "    <tr>\n",
       "      <th>7038</th>\n",
       "      <td>6840-RESVB</td>\n",
       "      <td>2018-02-01</td>\n",
       "      <td>No</td>\n",
       "      <td>One year</td>\n",
       "      <td>Yes</td>\n",
       "      <td>Mailed check</td>\n",
       "      <td>84.80</td>\n",
       "      <td>2035.2</td>\n",
       "      <td>Male</td>\n",
       "      <td>0</td>\n",
       "      <td>Yes</td>\n",
       "      <td>Yes</td>\n",
       "      <td>DSL</td>\n",
       "      <td>Yes</td>\n",
       "      <td>No</td>\n",
       "      <td>Yes</td>\n",
       "      <td>Yes</td>\n",
       "      <td>Yes</td>\n",
       "      <td>Yes</td>\n",
       "      <td>Yes</td>\n",
       "    </tr>\n",
       "    <tr>\n",
       "      <th>7039</th>\n",
       "      <td>2234-XADUH</td>\n",
       "      <td>2014-02-01</td>\n",
       "      <td>No</td>\n",
       "      <td>One year</td>\n",
       "      <td>Yes</td>\n",
       "      <td>Credit card (automatic)</td>\n",
       "      <td>103.20</td>\n",
       "      <td>7430.4</td>\n",
       "      <td>Female</td>\n",
       "      <td>0</td>\n",
       "      <td>Yes</td>\n",
       "      <td>Yes</td>\n",
       "      <td>Fiber optic</td>\n",
       "      <td>No</td>\n",
       "      <td>Yes</td>\n",
       "      <td>Yes</td>\n",
       "      <td>No</td>\n",
       "      <td>Yes</td>\n",
       "      <td>Yes</td>\n",
       "      <td>Yes</td>\n",
       "    </tr>\n",
       "    <tr>\n",
       "      <th>7040</th>\n",
       "      <td>4801-JZAZL</td>\n",
       "      <td>2019-03-01</td>\n",
       "      <td>No</td>\n",
       "      <td>Month-to-month</td>\n",
       "      <td>Yes</td>\n",
       "      <td>Electronic check</td>\n",
       "      <td>29.60</td>\n",
       "      <td>325.6</td>\n",
       "      <td>Female</td>\n",
       "      <td>0</td>\n",
       "      <td>Yes</td>\n",
       "      <td>Yes</td>\n",
       "      <td>DSL</td>\n",
       "      <td>Yes</td>\n",
       "      <td>No</td>\n",
       "      <td>No</td>\n",
       "      <td>No</td>\n",
       "      <td>No</td>\n",
       "      <td>No</td>\n",
       "      <td>NaN</td>\n",
       "    </tr>\n",
       "    <tr>\n",
       "      <th>7041</th>\n",
       "      <td>8361-LTMKD</td>\n",
       "      <td>2019-07-01</td>\n",
       "      <td>No</td>\n",
       "      <td>Month-to-month</td>\n",
       "      <td>Yes</td>\n",
       "      <td>Mailed check</td>\n",
       "      <td>74.40</td>\n",
       "      <td>520.8</td>\n",
       "      <td>Male</td>\n",
       "      <td>1</td>\n",
       "      <td>Yes</td>\n",
       "      <td>No</td>\n",
       "      <td>Fiber optic</td>\n",
       "      <td>No</td>\n",
       "      <td>No</td>\n",
       "      <td>No</td>\n",
       "      <td>No</td>\n",
       "      <td>No</td>\n",
       "      <td>No</td>\n",
       "      <td>Yes</td>\n",
       "    </tr>\n",
       "    <tr>\n",
       "      <th>7042</th>\n",
       "      <td>3186-AJIEK</td>\n",
       "      <td>2014-08-01</td>\n",
       "      <td>No</td>\n",
       "      <td>Two year</td>\n",
       "      <td>Yes</td>\n",
       "      <td>Bank transfer (automatic)</td>\n",
       "      <td>105.65</td>\n",
       "      <td>7251.82</td>\n",
       "      <td>Male</td>\n",
       "      <td>0</td>\n",
       "      <td>No</td>\n",
       "      <td>No</td>\n",
       "      <td>Fiber optic</td>\n",
       "      <td>Yes</td>\n",
       "      <td>No</td>\n",
       "      <td>Yes</td>\n",
       "      <td>Yes</td>\n",
       "      <td>Yes</td>\n",
       "      <td>Yes</td>\n",
       "      <td>No</td>\n",
       "    </tr>\n",
       "  </tbody>\n",
       "</table>\n",
       "<p>7043 rows × 20 columns</p>\n",
       "</div>"
      ],
      "text/plain": [
       "      customerID   BeginDate EndDate            Type PaperlessBilling  \\\n",
       "0     7590-VHVEG  2020-01-01      No  Month-to-month              Yes   \n",
       "1     5575-GNVDE  2017-04-01      No        One year               No   \n",
       "2     3668-QPYBK  2019-10-01      No  Month-to-month              Yes   \n",
       "3     7795-CFOCW  2016-05-01      No        One year               No   \n",
       "4     9237-HQITU  2019-09-01      No  Month-to-month              Yes   \n",
       "...          ...         ...     ...             ...              ...   \n",
       "7038  6840-RESVB  2018-02-01      No        One year              Yes   \n",
       "7039  2234-XADUH  2014-02-01      No        One year              Yes   \n",
       "7040  4801-JZAZL  2019-03-01      No  Month-to-month              Yes   \n",
       "7041  8361-LTMKD  2019-07-01      No  Month-to-month              Yes   \n",
       "7042  3186-AJIEK  2014-08-01      No        Two year              Yes   \n",
       "\n",
       "                  PaymentMethod  MonthlyCharges TotalCharges  gender  \\\n",
       "0              Electronic check           29.85        31.04  Female   \n",
       "1                  Mailed check           56.95      2071.84    Male   \n",
       "2                  Mailed check           53.85       226.17    Male   \n",
       "3     Bank transfer (automatic)           42.30       1960.6    Male   \n",
       "4              Electronic check           70.70        353.5  Female   \n",
       "...                         ...             ...          ...     ...   \n",
       "7038               Mailed check           84.80       2035.2    Male   \n",
       "7039    Credit card (automatic)          103.20       7430.4  Female   \n",
       "7040           Electronic check           29.60        325.6  Female   \n",
       "7041               Mailed check           74.40        520.8    Male   \n",
       "7042  Bank transfer (automatic)          105.65      7251.82    Male   \n",
       "\n",
       "      SeniorCitizen Partner Dependents InternetService OnlineSecurity  \\\n",
       "0                 0     Yes         No             DSL             No   \n",
       "1                 0      No         No             DSL            Yes   \n",
       "2                 0      No         No             DSL            Yes   \n",
       "3                 0      No         No             DSL            Yes   \n",
       "4                 0      No         No     Fiber optic             No   \n",
       "...             ...     ...        ...             ...            ...   \n",
       "7038              0     Yes        Yes             DSL            Yes   \n",
       "7039              0     Yes        Yes     Fiber optic             No   \n",
       "7040              0     Yes        Yes             DSL            Yes   \n",
       "7041              1     Yes         No     Fiber optic             No   \n",
       "7042              0      No         No     Fiber optic            Yes   \n",
       "\n",
       "     OnlineBackup DeviceProtection TechSupport StreamingTV StreamingMovies  \\\n",
       "0             Yes               No          No          No              No   \n",
       "1              No              Yes          No          No              No   \n",
       "2             Yes               No          No          No              No   \n",
       "3              No              Yes         Yes          No              No   \n",
       "4              No               No          No          No              No   \n",
       "...           ...              ...         ...         ...             ...   \n",
       "7038           No              Yes         Yes         Yes             Yes   \n",
       "7039          Yes              Yes          No         Yes             Yes   \n",
       "7040           No               No          No          No              No   \n",
       "7041           No               No          No          No              No   \n",
       "7042           No              Yes         Yes         Yes             Yes   \n",
       "\n",
       "     MultipleLines  \n",
       "0              NaN  \n",
       "1               No  \n",
       "2               No  \n",
       "3              NaN  \n",
       "4               No  \n",
       "...            ...  \n",
       "7038           Yes  \n",
       "7039           Yes  \n",
       "7040           NaN  \n",
       "7041           Yes  \n",
       "7042            No  \n",
       "\n",
       "[7043 rows x 20 columns]"
      ]
     },
     "execution_count": 10,
     "metadata": {},
     "output_type": "execute_result"
    }
   ],
   "source": [
    "#Вывод итоговой таблицы\n",
    "df_raw"
   ]
  },
  {
   "cell_type": "code",
   "execution_count": 11,
   "id": "7c8d1001",
   "metadata": {},
   "outputs": [
    {
     "name": "stdout",
     "output_type": "stream",
     "text": [
      "<class 'pandas.core.frame.DataFrame'>\n",
      "Int64Index: 7043 entries, 0 to 7042\n",
      "Data columns (total 20 columns):\n",
      " #   Column            Non-Null Count  Dtype  \n",
      "---  ------            --------------  -----  \n",
      " 0   customerID        7043 non-null   object \n",
      " 1   BeginDate         7043 non-null   object \n",
      " 2   EndDate           7043 non-null   object \n",
      " 3   Type              7043 non-null   object \n",
      " 4   PaperlessBilling  7043 non-null   object \n",
      " 5   PaymentMethod     7043 non-null   object \n",
      " 6   MonthlyCharges    7043 non-null   float64\n",
      " 7   TotalCharges      7043 non-null   object \n",
      " 8   gender            7043 non-null   object \n",
      " 9   SeniorCitizen     7043 non-null   int64  \n",
      " 10  Partner           7043 non-null   object \n",
      " 11  Dependents        7043 non-null   object \n",
      " 12  InternetService   5517 non-null   object \n",
      " 13  OnlineSecurity    5517 non-null   object \n",
      " 14  OnlineBackup      5517 non-null   object \n",
      " 15  DeviceProtection  5517 non-null   object \n",
      " 16  TechSupport       5517 non-null   object \n",
      " 17  StreamingTV       5517 non-null   object \n",
      " 18  StreamingMovies   5517 non-null   object \n",
      " 19  MultipleLines     6361 non-null   object \n",
      "dtypes: float64(1), int64(1), object(18)\n",
      "memory usage: 1.1+ MB\n"
     ]
    }
   ],
   "source": [
    "#проверим количество пропусков\n",
    "df_raw.info()"
   ]
  },
  {
   "cell_type": "markdown",
   "id": "b5a5ba06",
   "metadata": {},
   "source": [
    "Далее приступим к заполнению пропусков. Пропущенные значения в столбце InternetService можно заполнить значением Unknown, поскольку в этой таблице нет данных для всех пользователей оператора. "
   ]
  },
  {
   "cell_type": "code",
   "execution_count": 12,
   "id": "eb9a95b5",
   "metadata": {},
   "outputs": [],
   "source": [
    "# заполним пропуски в категориальном столбце\n",
    "df_raw['InternetService'] = df_raw['InternetService'].fillna(value='Unknown')"
   ]
  },
  {
   "cell_type": "markdown",
   "id": "41cc0cf5",
   "metadata": {},
   "source": [
    "При попытке преобразовании типа данных в столбце TotalCharges были обнаружены пробелы вместо значений. Данных в этом столбце нет для пользователей, которые стали клиентами оператора в день выгрузки базы данных. Поэтому заполним пропущенные значения суммой ежемесячного платежа, посколку новыми клиентами и был совершен только один платеж."
   ]
  },
  {
   "cell_type": "code",
   "execution_count": 13,
   "id": "fe96f481",
   "metadata": {},
   "outputs": [
    {
     "data": {
      "text/html": [
       "<div>\n",
       "<style scoped>\n",
       "    .dataframe tbody tr th:only-of-type {\n",
       "        vertical-align: middle;\n",
       "    }\n",
       "\n",
       "    .dataframe tbody tr th {\n",
       "        vertical-align: top;\n",
       "    }\n",
       "\n",
       "    .dataframe thead th {\n",
       "        text-align: right;\n",
       "    }\n",
       "</style>\n",
       "<table border=\"1\" class=\"dataframe\">\n",
       "  <thead>\n",
       "    <tr style=\"text-align: right;\">\n",
       "      <th></th>\n",
       "      <th>customerID</th>\n",
       "      <th>BeginDate</th>\n",
       "      <th>EndDate</th>\n",
       "      <th>Type</th>\n",
       "      <th>PaperlessBilling</th>\n",
       "      <th>PaymentMethod</th>\n",
       "      <th>MonthlyCharges</th>\n",
       "      <th>TotalCharges</th>\n",
       "      <th>gender</th>\n",
       "      <th>SeniorCitizen</th>\n",
       "      <th>Partner</th>\n",
       "      <th>Dependents</th>\n",
       "      <th>InternetService</th>\n",
       "      <th>OnlineSecurity</th>\n",
       "      <th>OnlineBackup</th>\n",
       "      <th>DeviceProtection</th>\n",
       "      <th>TechSupport</th>\n",
       "      <th>StreamingTV</th>\n",
       "      <th>StreamingMovies</th>\n",
       "      <th>MultipleLines</th>\n",
       "    </tr>\n",
       "  </thead>\n",
       "  <tbody>\n",
       "    <tr>\n",
       "      <th>488</th>\n",
       "      <td>4472-LVYGI</td>\n",
       "      <td>2020-02-01</td>\n",
       "      <td>No</td>\n",
       "      <td>Two year</td>\n",
       "      <td>Yes</td>\n",
       "      <td>Bank transfer (automatic)</td>\n",
       "      <td>52.55</td>\n",
       "      <td></td>\n",
       "      <td>Female</td>\n",
       "      <td>0</td>\n",
       "      <td>Yes</td>\n",
       "      <td>Yes</td>\n",
       "      <td>DSL</td>\n",
       "      <td>Yes</td>\n",
       "      <td>No</td>\n",
       "      <td>Yes</td>\n",
       "      <td>Yes</td>\n",
       "      <td>Yes</td>\n",
       "      <td>No</td>\n",
       "      <td>NaN</td>\n",
       "    </tr>\n",
       "    <tr>\n",
       "      <th>753</th>\n",
       "      <td>3115-CZMZD</td>\n",
       "      <td>2020-02-01</td>\n",
       "      <td>No</td>\n",
       "      <td>Two year</td>\n",
       "      <td>No</td>\n",
       "      <td>Mailed check</td>\n",
       "      <td>20.25</td>\n",
       "      <td></td>\n",
       "      <td>Male</td>\n",
       "      <td>0</td>\n",
       "      <td>No</td>\n",
       "      <td>Yes</td>\n",
       "      <td>Unknown</td>\n",
       "      <td>NaN</td>\n",
       "      <td>NaN</td>\n",
       "      <td>NaN</td>\n",
       "      <td>NaN</td>\n",
       "      <td>NaN</td>\n",
       "      <td>NaN</td>\n",
       "      <td>No</td>\n",
       "    </tr>\n",
       "    <tr>\n",
       "      <th>936</th>\n",
       "      <td>5709-LVOEQ</td>\n",
       "      <td>2020-02-01</td>\n",
       "      <td>No</td>\n",
       "      <td>Two year</td>\n",
       "      <td>No</td>\n",
       "      <td>Mailed check</td>\n",
       "      <td>80.85</td>\n",
       "      <td></td>\n",
       "      <td>Female</td>\n",
       "      <td>0</td>\n",
       "      <td>Yes</td>\n",
       "      <td>Yes</td>\n",
       "      <td>DSL</td>\n",
       "      <td>Yes</td>\n",
       "      <td>Yes</td>\n",
       "      <td>Yes</td>\n",
       "      <td>No</td>\n",
       "      <td>Yes</td>\n",
       "      <td>Yes</td>\n",
       "      <td>No</td>\n",
       "    </tr>\n",
       "    <tr>\n",
       "      <th>1082</th>\n",
       "      <td>4367-NUYAO</td>\n",
       "      <td>2020-02-01</td>\n",
       "      <td>No</td>\n",
       "      <td>Two year</td>\n",
       "      <td>No</td>\n",
       "      <td>Mailed check</td>\n",
       "      <td>25.75</td>\n",
       "      <td></td>\n",
       "      <td>Male</td>\n",
       "      <td>0</td>\n",
       "      <td>Yes</td>\n",
       "      <td>Yes</td>\n",
       "      <td>Unknown</td>\n",
       "      <td>NaN</td>\n",
       "      <td>NaN</td>\n",
       "      <td>NaN</td>\n",
       "      <td>NaN</td>\n",
       "      <td>NaN</td>\n",
       "      <td>NaN</td>\n",
       "      <td>Yes</td>\n",
       "    </tr>\n",
       "    <tr>\n",
       "      <th>1340</th>\n",
       "      <td>1371-DWPAZ</td>\n",
       "      <td>2020-02-01</td>\n",
       "      <td>No</td>\n",
       "      <td>Two year</td>\n",
       "      <td>No</td>\n",
       "      <td>Credit card (automatic)</td>\n",
       "      <td>56.05</td>\n",
       "      <td></td>\n",
       "      <td>Female</td>\n",
       "      <td>0</td>\n",
       "      <td>Yes</td>\n",
       "      <td>Yes</td>\n",
       "      <td>DSL</td>\n",
       "      <td>Yes</td>\n",
       "      <td>Yes</td>\n",
       "      <td>Yes</td>\n",
       "      <td>Yes</td>\n",
       "      <td>Yes</td>\n",
       "      <td>No</td>\n",
       "      <td>NaN</td>\n",
       "    </tr>\n",
       "    <tr>\n",
       "      <th>3331</th>\n",
       "      <td>7644-OMVMY</td>\n",
       "      <td>2020-02-01</td>\n",
       "      <td>No</td>\n",
       "      <td>Two year</td>\n",
       "      <td>No</td>\n",
       "      <td>Mailed check</td>\n",
       "      <td>19.85</td>\n",
       "      <td></td>\n",
       "      <td>Male</td>\n",
       "      <td>0</td>\n",
       "      <td>Yes</td>\n",
       "      <td>Yes</td>\n",
       "      <td>Unknown</td>\n",
       "      <td>NaN</td>\n",
       "      <td>NaN</td>\n",
       "      <td>NaN</td>\n",
       "      <td>NaN</td>\n",
       "      <td>NaN</td>\n",
       "      <td>NaN</td>\n",
       "      <td>No</td>\n",
       "    </tr>\n",
       "    <tr>\n",
       "      <th>3826</th>\n",
       "      <td>3213-VVOLG</td>\n",
       "      <td>2020-02-01</td>\n",
       "      <td>No</td>\n",
       "      <td>Two year</td>\n",
       "      <td>No</td>\n",
       "      <td>Mailed check</td>\n",
       "      <td>25.35</td>\n",
       "      <td></td>\n",
       "      <td>Male</td>\n",
       "      <td>0</td>\n",
       "      <td>Yes</td>\n",
       "      <td>Yes</td>\n",
       "      <td>Unknown</td>\n",
       "      <td>NaN</td>\n",
       "      <td>NaN</td>\n",
       "      <td>NaN</td>\n",
       "      <td>NaN</td>\n",
       "      <td>NaN</td>\n",
       "      <td>NaN</td>\n",
       "      <td>Yes</td>\n",
       "    </tr>\n",
       "    <tr>\n",
       "      <th>4380</th>\n",
       "      <td>2520-SGTTA</td>\n",
       "      <td>2020-02-01</td>\n",
       "      <td>No</td>\n",
       "      <td>Two year</td>\n",
       "      <td>No</td>\n",
       "      <td>Mailed check</td>\n",
       "      <td>20.00</td>\n",
       "      <td></td>\n",
       "      <td>Female</td>\n",
       "      <td>0</td>\n",
       "      <td>Yes</td>\n",
       "      <td>Yes</td>\n",
       "      <td>Unknown</td>\n",
       "      <td>NaN</td>\n",
       "      <td>NaN</td>\n",
       "      <td>NaN</td>\n",
       "      <td>NaN</td>\n",
       "      <td>NaN</td>\n",
       "      <td>NaN</td>\n",
       "      <td>No</td>\n",
       "    </tr>\n",
       "    <tr>\n",
       "      <th>5218</th>\n",
       "      <td>2923-ARZLG</td>\n",
       "      <td>2020-02-01</td>\n",
       "      <td>No</td>\n",
       "      <td>One year</td>\n",
       "      <td>Yes</td>\n",
       "      <td>Mailed check</td>\n",
       "      <td>19.70</td>\n",
       "      <td></td>\n",
       "      <td>Male</td>\n",
       "      <td>0</td>\n",
       "      <td>Yes</td>\n",
       "      <td>Yes</td>\n",
       "      <td>Unknown</td>\n",
       "      <td>NaN</td>\n",
       "      <td>NaN</td>\n",
       "      <td>NaN</td>\n",
       "      <td>NaN</td>\n",
       "      <td>NaN</td>\n",
       "      <td>NaN</td>\n",
       "      <td>No</td>\n",
       "    </tr>\n",
       "    <tr>\n",
       "      <th>6670</th>\n",
       "      <td>4075-WKNIU</td>\n",
       "      <td>2020-02-01</td>\n",
       "      <td>No</td>\n",
       "      <td>Two year</td>\n",
       "      <td>No</td>\n",
       "      <td>Mailed check</td>\n",
       "      <td>73.35</td>\n",
       "      <td></td>\n",
       "      <td>Female</td>\n",
       "      <td>0</td>\n",
       "      <td>Yes</td>\n",
       "      <td>Yes</td>\n",
       "      <td>DSL</td>\n",
       "      <td>No</td>\n",
       "      <td>Yes</td>\n",
       "      <td>Yes</td>\n",
       "      <td>Yes</td>\n",
       "      <td>Yes</td>\n",
       "      <td>No</td>\n",
       "      <td>Yes</td>\n",
       "    </tr>\n",
       "    <tr>\n",
       "      <th>6754</th>\n",
       "      <td>2775-SEFEE</td>\n",
       "      <td>2020-02-01</td>\n",
       "      <td>No</td>\n",
       "      <td>Two year</td>\n",
       "      <td>Yes</td>\n",
       "      <td>Bank transfer (automatic)</td>\n",
       "      <td>61.90</td>\n",
       "      <td></td>\n",
       "      <td>Male</td>\n",
       "      <td>0</td>\n",
       "      <td>No</td>\n",
       "      <td>Yes</td>\n",
       "      <td>DSL</td>\n",
       "      <td>Yes</td>\n",
       "      <td>Yes</td>\n",
       "      <td>No</td>\n",
       "      <td>Yes</td>\n",
       "      <td>No</td>\n",
       "      <td>No</td>\n",
       "      <td>Yes</td>\n",
       "    </tr>\n",
       "  </tbody>\n",
       "</table>\n",
       "</div>"
      ],
      "text/plain": [
       "      customerID   BeginDate EndDate      Type PaperlessBilling  \\\n",
       "488   4472-LVYGI  2020-02-01      No  Two year              Yes   \n",
       "753   3115-CZMZD  2020-02-01      No  Two year               No   \n",
       "936   5709-LVOEQ  2020-02-01      No  Two year               No   \n",
       "1082  4367-NUYAO  2020-02-01      No  Two year               No   \n",
       "1340  1371-DWPAZ  2020-02-01      No  Two year               No   \n",
       "3331  7644-OMVMY  2020-02-01      No  Two year               No   \n",
       "3826  3213-VVOLG  2020-02-01      No  Two year               No   \n",
       "4380  2520-SGTTA  2020-02-01      No  Two year               No   \n",
       "5218  2923-ARZLG  2020-02-01      No  One year              Yes   \n",
       "6670  4075-WKNIU  2020-02-01      No  Two year               No   \n",
       "6754  2775-SEFEE  2020-02-01      No  Two year              Yes   \n",
       "\n",
       "                  PaymentMethod  MonthlyCharges TotalCharges  gender  \\\n",
       "488   Bank transfer (automatic)           52.55               Female   \n",
       "753                Mailed check           20.25                 Male   \n",
       "936                Mailed check           80.85               Female   \n",
       "1082               Mailed check           25.75                 Male   \n",
       "1340    Credit card (automatic)           56.05               Female   \n",
       "3331               Mailed check           19.85                 Male   \n",
       "3826               Mailed check           25.35                 Male   \n",
       "4380               Mailed check           20.00               Female   \n",
       "5218               Mailed check           19.70                 Male   \n",
       "6670               Mailed check           73.35               Female   \n",
       "6754  Bank transfer (automatic)           61.90                 Male   \n",
       "\n",
       "      SeniorCitizen Partner Dependents InternetService OnlineSecurity  \\\n",
       "488               0     Yes        Yes             DSL            Yes   \n",
       "753               0      No        Yes         Unknown            NaN   \n",
       "936               0     Yes        Yes             DSL            Yes   \n",
       "1082              0     Yes        Yes         Unknown            NaN   \n",
       "1340              0     Yes        Yes             DSL            Yes   \n",
       "3331              0     Yes        Yes         Unknown            NaN   \n",
       "3826              0     Yes        Yes         Unknown            NaN   \n",
       "4380              0     Yes        Yes         Unknown            NaN   \n",
       "5218              0     Yes        Yes         Unknown            NaN   \n",
       "6670              0     Yes        Yes             DSL             No   \n",
       "6754              0      No        Yes             DSL            Yes   \n",
       "\n",
       "     OnlineBackup DeviceProtection TechSupport StreamingTV StreamingMovies  \\\n",
       "488            No              Yes         Yes         Yes              No   \n",
       "753           NaN              NaN         NaN         NaN             NaN   \n",
       "936           Yes              Yes          No         Yes             Yes   \n",
       "1082          NaN              NaN         NaN         NaN             NaN   \n",
       "1340          Yes              Yes         Yes         Yes              No   \n",
       "3331          NaN              NaN         NaN         NaN             NaN   \n",
       "3826          NaN              NaN         NaN         NaN             NaN   \n",
       "4380          NaN              NaN         NaN         NaN             NaN   \n",
       "5218          NaN              NaN         NaN         NaN             NaN   \n",
       "6670          Yes              Yes         Yes         Yes              No   \n",
       "6754          Yes               No         Yes          No              No   \n",
       "\n",
       "     MultipleLines  \n",
       "488            NaN  \n",
       "753             No  \n",
       "936             No  \n",
       "1082           Yes  \n",
       "1340           NaN  \n",
       "3331            No  \n",
       "3826           Yes  \n",
       "4380            No  \n",
       "5218            No  \n",
       "6670           Yes  \n",
       "6754           Yes  "
      ]
     },
     "execution_count": 13,
     "metadata": {},
     "output_type": "execute_result"
    }
   ],
   "source": [
    "# выделем данные с пропусками в отдельный датафрейм\n",
    "missing = df_raw[df_raw['TotalCharges'] == ' ']\n",
    "missing"
   ]
  },
  {
   "cell_type": "code",
   "execution_count": 14,
   "id": "95568c49",
   "metadata": {},
   "outputs": [],
   "source": [
    "# заполняем пропуски значениями из MonthlyCharges\n",
    "df_raw['TotalCharges'] =  np.where(df_raw['TotalCharges']==' ', \n",
    "                          df_raw['MonthlyCharges'], df_raw['TotalCharges'])"
   ]
  },
  {
   "cell_type": "code",
   "execution_count": 15,
   "id": "2448b352",
   "metadata": {},
   "outputs": [
    {
     "data": {
      "text/html": [
       "<div>\n",
       "<style scoped>\n",
       "    .dataframe tbody tr th:only-of-type {\n",
       "        vertical-align: middle;\n",
       "    }\n",
       "\n",
       "    .dataframe tbody tr th {\n",
       "        vertical-align: top;\n",
       "    }\n",
       "\n",
       "    .dataframe thead th {\n",
       "        text-align: right;\n",
       "    }\n",
       "</style>\n",
       "<table border=\"1\" class=\"dataframe\">\n",
       "  <thead>\n",
       "    <tr style=\"text-align: right;\">\n",
       "      <th></th>\n",
       "      <th>customerID</th>\n",
       "      <th>BeginDate</th>\n",
       "      <th>EndDate</th>\n",
       "      <th>Type</th>\n",
       "      <th>PaperlessBilling</th>\n",
       "      <th>PaymentMethod</th>\n",
       "      <th>MonthlyCharges</th>\n",
       "      <th>TotalCharges</th>\n",
       "      <th>gender</th>\n",
       "      <th>SeniorCitizen</th>\n",
       "      <th>Partner</th>\n",
       "      <th>Dependents</th>\n",
       "      <th>InternetService</th>\n",
       "      <th>OnlineSecurity</th>\n",
       "      <th>OnlineBackup</th>\n",
       "      <th>DeviceProtection</th>\n",
       "      <th>TechSupport</th>\n",
       "      <th>StreamingTV</th>\n",
       "      <th>StreamingMovies</th>\n",
       "      <th>MultipleLines</th>\n",
       "    </tr>\n",
       "  </thead>\n",
       "  <tbody>\n",
       "    <tr>\n",
       "      <th>488</th>\n",
       "      <td>4472-LVYGI</td>\n",
       "      <td>2020-02-01</td>\n",
       "      <td>No</td>\n",
       "      <td>Two year</td>\n",
       "      <td>Yes</td>\n",
       "      <td>Bank transfer (automatic)</td>\n",
       "      <td>52.55</td>\n",
       "      <td>52.55</td>\n",
       "      <td>Female</td>\n",
       "      <td>0</td>\n",
       "      <td>Yes</td>\n",
       "      <td>Yes</td>\n",
       "      <td>DSL</td>\n",
       "      <td>Yes</td>\n",
       "      <td>No</td>\n",
       "      <td>Yes</td>\n",
       "      <td>Yes</td>\n",
       "      <td>Yes</td>\n",
       "      <td>No</td>\n",
       "      <td>NaN</td>\n",
       "    </tr>\n",
       "    <tr>\n",
       "      <th>753</th>\n",
       "      <td>3115-CZMZD</td>\n",
       "      <td>2020-02-01</td>\n",
       "      <td>No</td>\n",
       "      <td>Two year</td>\n",
       "      <td>No</td>\n",
       "      <td>Mailed check</td>\n",
       "      <td>20.25</td>\n",
       "      <td>20.25</td>\n",
       "      <td>Male</td>\n",
       "      <td>0</td>\n",
       "      <td>No</td>\n",
       "      <td>Yes</td>\n",
       "      <td>Unknown</td>\n",
       "      <td>NaN</td>\n",
       "      <td>NaN</td>\n",
       "      <td>NaN</td>\n",
       "      <td>NaN</td>\n",
       "      <td>NaN</td>\n",
       "      <td>NaN</td>\n",
       "      <td>No</td>\n",
       "    </tr>\n",
       "    <tr>\n",
       "      <th>936</th>\n",
       "      <td>5709-LVOEQ</td>\n",
       "      <td>2020-02-01</td>\n",
       "      <td>No</td>\n",
       "      <td>Two year</td>\n",
       "      <td>No</td>\n",
       "      <td>Mailed check</td>\n",
       "      <td>80.85</td>\n",
       "      <td>80.85</td>\n",
       "      <td>Female</td>\n",
       "      <td>0</td>\n",
       "      <td>Yes</td>\n",
       "      <td>Yes</td>\n",
       "      <td>DSL</td>\n",
       "      <td>Yes</td>\n",
       "      <td>Yes</td>\n",
       "      <td>Yes</td>\n",
       "      <td>No</td>\n",
       "      <td>Yes</td>\n",
       "      <td>Yes</td>\n",
       "      <td>No</td>\n",
       "    </tr>\n",
       "    <tr>\n",
       "      <th>1082</th>\n",
       "      <td>4367-NUYAO</td>\n",
       "      <td>2020-02-01</td>\n",
       "      <td>No</td>\n",
       "      <td>Two year</td>\n",
       "      <td>No</td>\n",
       "      <td>Mailed check</td>\n",
       "      <td>25.75</td>\n",
       "      <td>25.75</td>\n",
       "      <td>Male</td>\n",
       "      <td>0</td>\n",
       "      <td>Yes</td>\n",
       "      <td>Yes</td>\n",
       "      <td>Unknown</td>\n",
       "      <td>NaN</td>\n",
       "      <td>NaN</td>\n",
       "      <td>NaN</td>\n",
       "      <td>NaN</td>\n",
       "      <td>NaN</td>\n",
       "      <td>NaN</td>\n",
       "      <td>Yes</td>\n",
       "    </tr>\n",
       "    <tr>\n",
       "      <th>1340</th>\n",
       "      <td>1371-DWPAZ</td>\n",
       "      <td>2020-02-01</td>\n",
       "      <td>No</td>\n",
       "      <td>Two year</td>\n",
       "      <td>No</td>\n",
       "      <td>Credit card (automatic)</td>\n",
       "      <td>56.05</td>\n",
       "      <td>56.05</td>\n",
       "      <td>Female</td>\n",
       "      <td>0</td>\n",
       "      <td>Yes</td>\n",
       "      <td>Yes</td>\n",
       "      <td>DSL</td>\n",
       "      <td>Yes</td>\n",
       "      <td>Yes</td>\n",
       "      <td>Yes</td>\n",
       "      <td>Yes</td>\n",
       "      <td>Yes</td>\n",
       "      <td>No</td>\n",
       "      <td>NaN</td>\n",
       "    </tr>\n",
       "    <tr>\n",
       "      <th>3331</th>\n",
       "      <td>7644-OMVMY</td>\n",
       "      <td>2020-02-01</td>\n",
       "      <td>No</td>\n",
       "      <td>Two year</td>\n",
       "      <td>No</td>\n",
       "      <td>Mailed check</td>\n",
       "      <td>19.85</td>\n",
       "      <td>19.85</td>\n",
       "      <td>Male</td>\n",
       "      <td>0</td>\n",
       "      <td>Yes</td>\n",
       "      <td>Yes</td>\n",
       "      <td>Unknown</td>\n",
       "      <td>NaN</td>\n",
       "      <td>NaN</td>\n",
       "      <td>NaN</td>\n",
       "      <td>NaN</td>\n",
       "      <td>NaN</td>\n",
       "      <td>NaN</td>\n",
       "      <td>No</td>\n",
       "    </tr>\n",
       "    <tr>\n",
       "      <th>3826</th>\n",
       "      <td>3213-VVOLG</td>\n",
       "      <td>2020-02-01</td>\n",
       "      <td>No</td>\n",
       "      <td>Two year</td>\n",
       "      <td>No</td>\n",
       "      <td>Mailed check</td>\n",
       "      <td>25.35</td>\n",
       "      <td>25.35</td>\n",
       "      <td>Male</td>\n",
       "      <td>0</td>\n",
       "      <td>Yes</td>\n",
       "      <td>Yes</td>\n",
       "      <td>Unknown</td>\n",
       "      <td>NaN</td>\n",
       "      <td>NaN</td>\n",
       "      <td>NaN</td>\n",
       "      <td>NaN</td>\n",
       "      <td>NaN</td>\n",
       "      <td>NaN</td>\n",
       "      <td>Yes</td>\n",
       "    </tr>\n",
       "    <tr>\n",
       "      <th>4380</th>\n",
       "      <td>2520-SGTTA</td>\n",
       "      <td>2020-02-01</td>\n",
       "      <td>No</td>\n",
       "      <td>Two year</td>\n",
       "      <td>No</td>\n",
       "      <td>Mailed check</td>\n",
       "      <td>20.00</td>\n",
       "      <td>20.0</td>\n",
       "      <td>Female</td>\n",
       "      <td>0</td>\n",
       "      <td>Yes</td>\n",
       "      <td>Yes</td>\n",
       "      <td>Unknown</td>\n",
       "      <td>NaN</td>\n",
       "      <td>NaN</td>\n",
       "      <td>NaN</td>\n",
       "      <td>NaN</td>\n",
       "      <td>NaN</td>\n",
       "      <td>NaN</td>\n",
       "      <td>No</td>\n",
       "    </tr>\n",
       "    <tr>\n",
       "      <th>5218</th>\n",
       "      <td>2923-ARZLG</td>\n",
       "      <td>2020-02-01</td>\n",
       "      <td>No</td>\n",
       "      <td>One year</td>\n",
       "      <td>Yes</td>\n",
       "      <td>Mailed check</td>\n",
       "      <td>19.70</td>\n",
       "      <td>19.7</td>\n",
       "      <td>Male</td>\n",
       "      <td>0</td>\n",
       "      <td>Yes</td>\n",
       "      <td>Yes</td>\n",
       "      <td>Unknown</td>\n",
       "      <td>NaN</td>\n",
       "      <td>NaN</td>\n",
       "      <td>NaN</td>\n",
       "      <td>NaN</td>\n",
       "      <td>NaN</td>\n",
       "      <td>NaN</td>\n",
       "      <td>No</td>\n",
       "    </tr>\n",
       "    <tr>\n",
       "      <th>6670</th>\n",
       "      <td>4075-WKNIU</td>\n",
       "      <td>2020-02-01</td>\n",
       "      <td>No</td>\n",
       "      <td>Two year</td>\n",
       "      <td>No</td>\n",
       "      <td>Mailed check</td>\n",
       "      <td>73.35</td>\n",
       "      <td>73.35</td>\n",
       "      <td>Female</td>\n",
       "      <td>0</td>\n",
       "      <td>Yes</td>\n",
       "      <td>Yes</td>\n",
       "      <td>DSL</td>\n",
       "      <td>No</td>\n",
       "      <td>Yes</td>\n",
       "      <td>Yes</td>\n",
       "      <td>Yes</td>\n",
       "      <td>Yes</td>\n",
       "      <td>No</td>\n",
       "      <td>Yes</td>\n",
       "    </tr>\n",
       "    <tr>\n",
       "      <th>6754</th>\n",
       "      <td>2775-SEFEE</td>\n",
       "      <td>2020-02-01</td>\n",
       "      <td>No</td>\n",
       "      <td>Two year</td>\n",
       "      <td>Yes</td>\n",
       "      <td>Bank transfer (automatic)</td>\n",
       "      <td>61.90</td>\n",
       "      <td>61.9</td>\n",
       "      <td>Male</td>\n",
       "      <td>0</td>\n",
       "      <td>No</td>\n",
       "      <td>Yes</td>\n",
       "      <td>DSL</td>\n",
       "      <td>Yes</td>\n",
       "      <td>Yes</td>\n",
       "      <td>No</td>\n",
       "      <td>Yes</td>\n",
       "      <td>No</td>\n",
       "      <td>No</td>\n",
       "      <td>Yes</td>\n",
       "    </tr>\n",
       "  </tbody>\n",
       "</table>\n",
       "</div>"
      ],
      "text/plain": [
       "      customerID   BeginDate EndDate      Type PaperlessBilling  \\\n",
       "488   4472-LVYGI  2020-02-01      No  Two year              Yes   \n",
       "753   3115-CZMZD  2020-02-01      No  Two year               No   \n",
       "936   5709-LVOEQ  2020-02-01      No  Two year               No   \n",
       "1082  4367-NUYAO  2020-02-01      No  Two year               No   \n",
       "1340  1371-DWPAZ  2020-02-01      No  Two year               No   \n",
       "3331  7644-OMVMY  2020-02-01      No  Two year               No   \n",
       "3826  3213-VVOLG  2020-02-01      No  Two year               No   \n",
       "4380  2520-SGTTA  2020-02-01      No  Two year               No   \n",
       "5218  2923-ARZLG  2020-02-01      No  One year              Yes   \n",
       "6670  4075-WKNIU  2020-02-01      No  Two year               No   \n",
       "6754  2775-SEFEE  2020-02-01      No  Two year              Yes   \n",
       "\n",
       "                  PaymentMethod  MonthlyCharges TotalCharges  gender  \\\n",
       "488   Bank transfer (automatic)           52.55        52.55  Female   \n",
       "753                Mailed check           20.25        20.25    Male   \n",
       "936                Mailed check           80.85        80.85  Female   \n",
       "1082               Mailed check           25.75        25.75    Male   \n",
       "1340    Credit card (automatic)           56.05        56.05  Female   \n",
       "3331               Mailed check           19.85        19.85    Male   \n",
       "3826               Mailed check           25.35        25.35    Male   \n",
       "4380               Mailed check           20.00         20.0  Female   \n",
       "5218               Mailed check           19.70         19.7    Male   \n",
       "6670               Mailed check           73.35        73.35  Female   \n",
       "6754  Bank transfer (automatic)           61.90         61.9    Male   \n",
       "\n",
       "      SeniorCitizen Partner Dependents InternetService OnlineSecurity  \\\n",
       "488               0     Yes        Yes             DSL            Yes   \n",
       "753               0      No        Yes         Unknown            NaN   \n",
       "936               0     Yes        Yes             DSL            Yes   \n",
       "1082              0     Yes        Yes         Unknown            NaN   \n",
       "1340              0     Yes        Yes             DSL            Yes   \n",
       "3331              0     Yes        Yes         Unknown            NaN   \n",
       "3826              0     Yes        Yes         Unknown            NaN   \n",
       "4380              0     Yes        Yes         Unknown            NaN   \n",
       "5218              0     Yes        Yes         Unknown            NaN   \n",
       "6670              0     Yes        Yes             DSL             No   \n",
       "6754              0      No        Yes             DSL            Yes   \n",
       "\n",
       "     OnlineBackup DeviceProtection TechSupport StreamingTV StreamingMovies  \\\n",
       "488            No              Yes         Yes         Yes              No   \n",
       "753           NaN              NaN         NaN         NaN             NaN   \n",
       "936           Yes              Yes          No         Yes             Yes   \n",
       "1082          NaN              NaN         NaN         NaN             NaN   \n",
       "1340          Yes              Yes         Yes         Yes              No   \n",
       "3331          NaN              NaN         NaN         NaN             NaN   \n",
       "3826          NaN              NaN         NaN         NaN             NaN   \n",
       "4380          NaN              NaN         NaN         NaN             NaN   \n",
       "5218          NaN              NaN         NaN         NaN             NaN   \n",
       "6670          Yes              Yes         Yes         Yes              No   \n",
       "6754          Yes               No         Yes          No              No   \n",
       "\n",
       "     MultipleLines  \n",
       "488            NaN  \n",
       "753             No  \n",
       "936             No  \n",
       "1082           Yes  \n",
       "1340           NaN  \n",
       "3331            No  \n",
       "3826           Yes  \n",
       "4380            No  \n",
       "5218            No  \n",
       "6670           Yes  \n",
       "6754           Yes  "
      ]
     },
     "execution_count": 15,
     "metadata": {},
     "output_type": "execute_result"
    }
   ],
   "source": [
    "# проверим корретность заполнения пропусков\n",
    "check = df_raw[df_raw.index.isin(missing.index)]\n",
    "check"
   ]
  },
  {
   "cell_type": "code",
   "execution_count": 16,
   "id": "8980a7e9",
   "metadata": {},
   "outputs": [],
   "source": [
    "#преобразуем колонку из объектного типа в числовой\n",
    "df_raw['TotalCharges'] = df_raw['TotalCharges'].astype(float)"
   ]
  },
  {
   "cell_type": "markdown",
   "id": "cb7f45df",
   "metadata": {},
   "source": [
    "Далее проверим характер распределения значений в чистовых столбцах и наличие выборосов."
   ]
  },
  {
   "cell_type": "code",
   "execution_count": 17,
   "id": "7160e4b4",
   "metadata": {},
   "outputs": [
    {
     "data": {
      "image/png": "[encoded data removed]",
      "text/plain": [
       "<Figure size 432x288 with 1 Axes>"
      ]
     },
     "metadata": {
      "needs_background": "light"
     },
     "output_type": "display_data"
    }
   ],
   "source": [
    "#выведем частотную диаграмму для MonthlyCharges\n",
    "df_raw['MonthlyCharges'].hist(bins=30)\n",
    "\n",
    "plt.xlabel('Ежемесячная оплата')\n",
    "plt.ylabel('Количество клиентов')\n",
    "plt.title('Частота значений MonthlyCharges');"
   ]
  },
  {
   "cell_type": "code",
   "execution_count": 18,
   "id": "a29b0080",
   "metadata": {
    "scrolled": true
   },
   "outputs": [
    {
     "data": {
      "image/png": "[encoded data removed]",
      "text/plain": [
       "<Figure size 288x360 with 1 Axes>"
      ]
     },
     "metadata": {
      "needs_background": "light"
     },
     "output_type": "display_data"
    }
   ],
   "source": [
    "#также отобразим выбросы\n",
    "df_raw['MonthlyCharges'].plot(kind='box', figsize=(4,5))\n",
    "\n",
    "plt.ylabel('Ежемесячная оплата')\n",
    "plt.title('Ящик с усами для MonthlyCharges');"
   ]
  },
  {
   "cell_type": "markdown",
   "id": "30422ff1",
   "metadata": {},
   "source": [
    "Значения в столбце MonthlyCharges имеют нормальное распределение. Видно, что большинство клиентов пользуются недорогим тарифом (месячная оплата около 20 у.е.). В этих данных также нет выборосов."
   ]
  },
  {
   "cell_type": "code",
   "execution_count": 19,
   "id": "563dbdd3",
   "metadata": {},
   "outputs": [
    {
     "data": {
      "image/png": "[encoded data removed]",
      "text/plain": [
       "<Figure size 432x288 with 1 Axes>"
      ]
     },
     "metadata": {
      "needs_background": "light"
     },
     "output_type": "display_data"
    }
   ],
   "source": [
    "#выведем частотную диаграмму для TotalCharges\n",
    "df_raw['TotalCharges'].hist()\n",
    "\n",
    "plt.xlabel('Суммарная оплата')\n",
    "plt.ylabel('Количество клиентов')\n",
    "plt.title('Частота значений TotalCharges');"
   ]
  },
  {
   "cell_type": "code",
   "execution_count": 20,
   "id": "23296c2f",
   "metadata": {},
   "outputs": [
    {
     "data": {
      "image/png": "[encoded data removed]",
      "text/plain": [
       "<Figure size 1008x288 with 1 Axes>"
      ]
     },
     "metadata": {
      "needs_background": "light"
     },
     "output_type": "display_data"
    }
   ],
   "source": [
    "#выведем диаграмму boxplot\n",
    "df_raw['TotalCharges'].plot(kind='box', vert=False, figsize=(14,4))\n",
    "\n",
    "plt.xlabel('Суммарная оплата')\n",
    "plt.title('Ящик с усами для TotalCharges');"
   ]
  },
  {
   "cell_type": "markdown",
   "id": "6169ff7a",
   "metadata": {},
   "source": [
    "Распределение данных в столбце TotalCharges смещено вправо. Кроме того, есть выбросы в районе максимального значения. Эти данные будут сохранены, чтобы не терять информацию. Для того, чтобы выбросы не повлияли на обучение модели, будет использован метод масштабирования, не привязанный к средним значениям."
   ]
  },
  {
   "cell_type": "markdown",
   "id": "2b424d57",
   "metadata": {},
   "source": [
    "Далее заполним пропуски в значениях, полученные при слиянии датафреймов. Эти пропуски связаны с отсутвием данных о клиентах, поэтому заколним их 0 - то есть, клиент не пользуется услугой. "
   ]
  },
  {
   "cell_type": "code",
   "execution_count": 21,
   "id": "d6c99fce",
   "metadata": {},
   "outputs": [],
   "source": [
    "#создадим список столбцов для преобразования \n",
    "col_trans = ['PaperlessBilling', 'Partner', \n",
    "             'Dependents', 'OnlineSecurity', \n",
    "             'OnlineBackup', 'DeviceProtection', \n",
    "             'TechSupport', 'StreamingTV', \n",
    "             'StreamingMovies', 'MultipleLines']\n",
    "\n",
    "#циклом заменим значения, заодно и пропуски заполним\n",
    "for col in col_trans:\n",
    "    df_raw[col] = df_raw[col].fillna(value=0)"
   ]
  },
  {
   "cell_type": "code",
   "execution_count": 22,
   "id": "4e41f3cc",
   "metadata": {},
   "outputs": [],
   "source": [
    "#далее преобразуем типы данных для столбца с датой\n",
    "df_raw['BeginDate'] =  pd.to_datetime(df_raw['BeginDate'])"
   ]
  },
  {
   "cell_type": "code",
   "execution_count": 23,
   "id": "15865c21",
   "metadata": {},
   "outputs": [],
   "source": [
    "#преобразуем столбец с указанием пола клиента\n",
    "df_raw['gender'] = df_raw['gender'].map({'Female': 1, 'Male': 0})"
   ]
  },
  {
   "cell_type": "markdown",
   "id": "f2231e96",
   "metadata": {},
   "source": [
    "Далее создадим целевой столбец. В столбце EndDate содержатся даты, когда клиенты прекращали пользоваться услугами оператора. Таким образом, можно заполнить значение с датой на 1 - то есть клиент ушел и значение No на 0, то есть, клиент продолжает пользоваться услугами."
   ]
  },
  {
   "cell_type": "code",
   "execution_count": 24,
   "id": "3a8a1607",
   "metadata": {},
   "outputs": [
    {
     "data": {
      "text/plain": [
       "array([0, 1])"
      ]
     },
     "execution_count": 24,
     "metadata": {},
     "output_type": "execute_result"
    }
   ],
   "source": [
    "#создадим целевой столбец\n",
    "df_raw['Exited'] =  np.where(df_raw['EndDate']=='No', 0, 1)\n",
    "df_raw['Exited'].unique()"
   ]
  },
  {
   "cell_type": "markdown",
   "id": "4297970d",
   "metadata": {},
   "source": [
    "Далее необходимо создать переходный столбец с зафиксированной датой выгрузы базы данных. Таким образом, у действющих клиентов дата зафиксируется на 2020-02-01, а для ушедших клиентов останется дата прекращения договора. Таким образом можно вычислить срок пользования клиентами услуг оператора, это может стать важным признаком."
   ]
  },
  {
   "cell_type": "code",
   "execution_count": 25,
   "id": "5188fc40",
   "metadata": {},
   "outputs": [],
   "source": [
    "#создадим новый стобец и заменим значения\n",
    "df_raw['EndDateFact'] =  np.where(df_raw['EndDate']=='No', '2020-02-01', df_raw['EndDate'])\n",
    "#преобразуем тип данных на временной\n",
    "df_raw['EndDateFact']= pd.to_datetime(df_raw['EndDateFact'])\n",
    "\n",
    "#создадим новый столбец с количеством дней пользования услугами\n",
    "df_raw['Duration'] = (df_raw['EndDateFact'] - df_raw['BeginDate']).dt.days"
   ]
  },
  {
   "cell_type": "markdown",
   "id": "d3f8460e",
   "metadata": {},
   "source": [
    "Также создадим столбец с предположительным составом семьи. Используем его для вычисления стоимости услуг на одного человека в семье."
   ]
  },
  {
   "cell_type": "code",
   "execution_count": 26,
   "id": "a6921678",
   "metadata": {},
   "outputs": [],
   "source": [
    "#создадим столбец с предположительным составом семьи\n",
    "df_raw['Family'] = df_raw['Partner'] + df_raw['Dependents'] + 1"
   ]
  },
  {
   "cell_type": "markdown",
   "id": "5a859542",
   "metadata": {},
   "source": [
    "Далее создадим дополнительный признак, где зафиксируем стоимость услуг оператора на одного члена семьи."
   ]
  },
  {
   "cell_type": "code",
   "execution_count": 27,
   "id": "97a52cb6",
   "metadata": {},
   "outputs": [],
   "source": [
    "# создадим столбец с платежом на целовека\n",
    "df_raw['PaymentPerMember'] = df_raw['MonthlyCharges'] / df_raw['Family']"
   ]
  },
  {
   "cell_type": "markdown",
   "id": "f9f59f0d",
   "metadata": {},
   "source": [
    "Далее создадим новый датасет только с нужными столбцам. Здесь необходимо удалить столбцы с датами, чтобы не произошла утечка данных. "
   ]
  },
  {
   "cell_type": "code",
   "execution_count": 28,
   "id": "9febe130",
   "metadata": {},
   "outputs": [
    {
     "data": {
      "text/html": [
       "<div>\n",
       "<style scoped>\n",
       "    .dataframe tbody tr th:only-of-type {\n",
       "        vertical-align: middle;\n",
       "    }\n",
       "\n",
       "    .dataframe tbody tr th {\n",
       "        vertical-align: top;\n",
       "    }\n",
       "\n",
       "    .dataframe thead th {\n",
       "        text-align: right;\n",
       "    }\n",
       "</style>\n",
       "<table border=\"1\" class=\"dataframe\">\n",
       "  <thead>\n",
       "    <tr style=\"text-align: right;\">\n",
       "      <th></th>\n",
       "      <th>Type</th>\n",
       "      <th>PaperlessBilling</th>\n",
       "      <th>PaymentMethod</th>\n",
       "      <th>MonthlyCharges</th>\n",
       "      <th>TotalCharges</th>\n",
       "      <th>gender</th>\n",
       "      <th>SeniorCitizen</th>\n",
       "      <th>Partner</th>\n",
       "      <th>Dependents</th>\n",
       "      <th>InternetService</th>\n",
       "      <th>OnlineSecurity</th>\n",
       "      <th>OnlineBackup</th>\n",
       "      <th>DeviceProtection</th>\n",
       "      <th>TechSupport</th>\n",
       "      <th>StreamingTV</th>\n",
       "      <th>StreamingMovies</th>\n",
       "      <th>MultipleLines</th>\n",
       "      <th>Exited</th>\n",
       "      <th>Duration</th>\n",
       "      <th>PaymentPerMember</th>\n",
       "    </tr>\n",
       "  </thead>\n",
       "  <tbody>\n",
       "    <tr>\n",
       "      <th>0</th>\n",
       "      <td>Month-to-month</td>\n",
       "      <td>1</td>\n",
       "      <td>Electronic check</td>\n",
       "      <td>29.85</td>\n",
       "      <td>31.04</td>\n",
       "      <td>1</td>\n",
       "      <td>0</td>\n",
       "      <td>1</td>\n",
       "      <td>0</td>\n",
       "      <td>DSL</td>\n",
       "      <td>0</td>\n",
       "      <td>1</td>\n",
       "      <td>0</td>\n",
       "      <td>0</td>\n",
       "      <td>0</td>\n",
       "      <td>0</td>\n",
       "      <td>0</td>\n",
       "      <td>0</td>\n",
       "      <td>31</td>\n",
       "      <td>14.925000</td>\n",
       "    </tr>\n",
       "    <tr>\n",
       "      <th>1</th>\n",
       "      <td>One year</td>\n",
       "      <td>0</td>\n",
       "      <td>Mailed check</td>\n",
       "      <td>56.95</td>\n",
       "      <td>2071.84</td>\n",
       "      <td>0</td>\n",
       "      <td>0</td>\n",
       "      <td>0</td>\n",
       "      <td>0</td>\n",
       "      <td>DSL</td>\n",
       "      <td>1</td>\n",
       "      <td>0</td>\n",
       "      <td>1</td>\n",
       "      <td>0</td>\n",
       "      <td>0</td>\n",
       "      <td>0</td>\n",
       "      <td>0</td>\n",
       "      <td>0</td>\n",
       "      <td>1036</td>\n",
       "      <td>56.950000</td>\n",
       "    </tr>\n",
       "    <tr>\n",
       "      <th>2</th>\n",
       "      <td>Month-to-month</td>\n",
       "      <td>1</td>\n",
       "      <td>Mailed check</td>\n",
       "      <td>53.85</td>\n",
       "      <td>226.17</td>\n",
       "      <td>0</td>\n",
       "      <td>0</td>\n",
       "      <td>0</td>\n",
       "      <td>0</td>\n",
       "      <td>DSL</td>\n",
       "      <td>1</td>\n",
       "      <td>1</td>\n",
       "      <td>0</td>\n",
       "      <td>0</td>\n",
       "      <td>0</td>\n",
       "      <td>0</td>\n",
       "      <td>0</td>\n",
       "      <td>0</td>\n",
       "      <td>123</td>\n",
       "      <td>53.850000</td>\n",
       "    </tr>\n",
       "    <tr>\n",
       "      <th>3</th>\n",
       "      <td>One year</td>\n",
       "      <td>0</td>\n",
       "      <td>Bank transfer (automatic)</td>\n",
       "      <td>42.30</td>\n",
       "      <td>1960.60</td>\n",
       "      <td>0</td>\n",
       "      <td>0</td>\n",
       "      <td>0</td>\n",
       "      <td>0</td>\n",
       "      <td>DSL</td>\n",
       "      <td>1</td>\n",
       "      <td>0</td>\n",
       "      <td>1</td>\n",
       "      <td>1</td>\n",
       "      <td>0</td>\n",
       "      <td>0</td>\n",
       "      <td>0</td>\n",
       "      <td>0</td>\n",
       "      <td>1371</td>\n",
       "      <td>42.300000</td>\n",
       "    </tr>\n",
       "    <tr>\n",
       "      <th>4</th>\n",
       "      <td>Month-to-month</td>\n",
       "      <td>1</td>\n",
       "      <td>Electronic check</td>\n",
       "      <td>70.70</td>\n",
       "      <td>353.50</td>\n",
       "      <td>1</td>\n",
       "      <td>0</td>\n",
       "      <td>0</td>\n",
       "      <td>0</td>\n",
       "      <td>Fiber optic</td>\n",
       "      <td>0</td>\n",
       "      <td>0</td>\n",
       "      <td>0</td>\n",
       "      <td>0</td>\n",
       "      <td>0</td>\n",
       "      <td>0</td>\n",
       "      <td>0</td>\n",
       "      <td>0</td>\n",
       "      <td>153</td>\n",
       "      <td>70.700000</td>\n",
       "    </tr>\n",
       "    <tr>\n",
       "      <th>...</th>\n",
       "      <td>...</td>\n",
       "      <td>...</td>\n",
       "      <td>...</td>\n",
       "      <td>...</td>\n",
       "      <td>...</td>\n",
       "      <td>...</td>\n",
       "      <td>...</td>\n",
       "      <td>...</td>\n",
       "      <td>...</td>\n",
       "      <td>...</td>\n",
       "      <td>...</td>\n",
       "      <td>...</td>\n",
       "      <td>...</td>\n",
       "      <td>...</td>\n",
       "      <td>...</td>\n",
       "      <td>...</td>\n",
       "      <td>...</td>\n",
       "      <td>...</td>\n",
       "      <td>...</td>\n",
       "      <td>...</td>\n",
       "    </tr>\n",
       "    <tr>\n",
       "      <th>7038</th>\n",
       "      <td>One year</td>\n",
       "      <td>1</td>\n",
       "      <td>Mailed check</td>\n",
       "      <td>84.80</td>\n",
       "      <td>2035.20</td>\n",
       "      <td>0</td>\n",
       "      <td>0</td>\n",
       "      <td>1</td>\n",
       "      <td>1</td>\n",
       "      <td>DSL</td>\n",
       "      <td>1</td>\n",
       "      <td>0</td>\n",
       "      <td>1</td>\n",
       "      <td>1</td>\n",
       "      <td>1</td>\n",
       "      <td>1</td>\n",
       "      <td>1</td>\n",
       "      <td>0</td>\n",
       "      <td>730</td>\n",
       "      <td>28.266667</td>\n",
       "    </tr>\n",
       "    <tr>\n",
       "      <th>7039</th>\n",
       "      <td>One year</td>\n",
       "      <td>1</td>\n",
       "      <td>Credit card (automatic)</td>\n",
       "      <td>103.20</td>\n",
       "      <td>7430.40</td>\n",
       "      <td>1</td>\n",
       "      <td>0</td>\n",
       "      <td>1</td>\n",
       "      <td>1</td>\n",
       "      <td>Fiber optic</td>\n",
       "      <td>0</td>\n",
       "      <td>1</td>\n",
       "      <td>1</td>\n",
       "      <td>0</td>\n",
       "      <td>1</td>\n",
       "      <td>1</td>\n",
       "      <td>1</td>\n",
       "      <td>0</td>\n",
       "      <td>2191</td>\n",
       "      <td>34.400000</td>\n",
       "    </tr>\n",
       "    <tr>\n",
       "      <th>7040</th>\n",
       "      <td>Month-to-month</td>\n",
       "      <td>1</td>\n",
       "      <td>Electronic check</td>\n",
       "      <td>29.60</td>\n",
       "      <td>325.60</td>\n",
       "      <td>1</td>\n",
       "      <td>0</td>\n",
       "      <td>1</td>\n",
       "      <td>1</td>\n",
       "      <td>DSL</td>\n",
       "      <td>1</td>\n",
       "      <td>0</td>\n",
       "      <td>0</td>\n",
       "      <td>0</td>\n",
       "      <td>0</td>\n",
       "      <td>0</td>\n",
       "      <td>0</td>\n",
       "      <td>0</td>\n",
       "      <td>337</td>\n",
       "      <td>9.866667</td>\n",
       "    </tr>\n",
       "    <tr>\n",
       "      <th>7041</th>\n",
       "      <td>Month-to-month</td>\n",
       "      <td>1</td>\n",
       "      <td>Mailed check</td>\n",
       "      <td>74.40</td>\n",
       "      <td>520.80</td>\n",
       "      <td>0</td>\n",
       "      <td>1</td>\n",
       "      <td>1</td>\n",
       "      <td>0</td>\n",
       "      <td>Fiber optic</td>\n",
       "      <td>0</td>\n",
       "      <td>0</td>\n",
       "      <td>0</td>\n",
       "      <td>0</td>\n",
       "      <td>0</td>\n",
       "      <td>0</td>\n",
       "      <td>1</td>\n",
       "      <td>0</td>\n",
       "      <td>215</td>\n",
       "      <td>37.200000</td>\n",
       "    </tr>\n",
       "    <tr>\n",
       "      <th>7042</th>\n",
       "      <td>Two year</td>\n",
       "      <td>1</td>\n",
       "      <td>Bank transfer (automatic)</td>\n",
       "      <td>105.65</td>\n",
       "      <td>7251.82</td>\n",
       "      <td>0</td>\n",
       "      <td>0</td>\n",
       "      <td>0</td>\n",
       "      <td>0</td>\n",
       "      <td>Fiber optic</td>\n",
       "      <td>1</td>\n",
       "      <td>0</td>\n",
       "      <td>1</td>\n",
       "      <td>1</td>\n",
       "      <td>1</td>\n",
       "      <td>1</td>\n",
       "      <td>0</td>\n",
       "      <td>0</td>\n",
       "      <td>2010</td>\n",
       "      <td>105.650000</td>\n",
       "    </tr>\n",
       "  </tbody>\n",
       "</table>\n",
       "<p>7043 rows × 20 columns</p>\n",
       "</div>"
      ],
      "text/plain": [
       "                Type  PaperlessBilling              PaymentMethod  \\\n",
       "0     Month-to-month                 1           Electronic check   \n",
       "1           One year                 0               Mailed check   \n",
       "2     Month-to-month                 1               Mailed check   \n",
       "3           One year                 0  Bank transfer (automatic)   \n",
       "4     Month-to-month                 1           Electronic check   \n",
       "...              ...               ...                        ...   \n",
       "7038        One year                 1               Mailed check   \n",
       "7039        One year                 1    Credit card (automatic)   \n",
       "7040  Month-to-month                 1           Electronic check   \n",
       "7041  Month-to-month                 1               Mailed check   \n",
       "7042        Two year                 1  Bank transfer (automatic)   \n",
       "\n",
       "      MonthlyCharges  TotalCharges  gender  SeniorCitizen  Partner  \\\n",
       "0              29.85         31.04       1              0        1   \n",
       "1              56.95       2071.84       0              0        0   \n",
       "2              53.85        226.17       0              0        0   \n",
       "3              42.30       1960.60       0              0        0   \n",
       "4              70.70        353.50       1              0        0   \n",
       "...              ...           ...     ...            ...      ...   \n",
       "7038           84.80       2035.20       0              0        1   \n",
       "7039          103.20       7430.40       1              0        1   \n",
       "7040           29.60        325.60       1              0        1   \n",
       "7041           74.40        520.80       0              1        1   \n",
       "7042          105.65       7251.82       0              0        0   \n",
       "\n",
       "      Dependents InternetService  OnlineSecurity  OnlineBackup  \\\n",
       "0              0             DSL               0             1   \n",
       "1              0             DSL               1             0   \n",
       "2              0             DSL               1             1   \n",
       "3              0             DSL               1             0   \n",
       "4              0     Fiber optic               0             0   \n",
       "...          ...             ...             ...           ...   \n",
       "7038           1             DSL               1             0   \n",
       "7039           1     Fiber optic               0             1   \n",
       "7040           1             DSL               1             0   \n",
       "7041           0     Fiber optic               0             0   \n",
       "7042           0     Fiber optic               1             0   \n",
       "\n",
       "      DeviceProtection  TechSupport  StreamingTV  StreamingMovies  \\\n",
       "0                    0            0            0                0   \n",
       "1                    1            0            0                0   \n",
       "2                    0            0            0                0   \n",
       "3                    1            1            0                0   \n",
       "4                    0            0            0                0   \n",
       "...                ...          ...          ...              ...   \n",
       "7038                 1            1            1                1   \n",
       "7039                 1            0            1                1   \n",
       "7040                 0            0            0                0   \n",
       "7041                 0            0            0                0   \n",
       "7042                 1            1            1                1   \n",
       "\n",
       "      MultipleLines  Exited  Duration  PaymentPerMember  \n",
       "0                 0       0        31         14.925000  \n",
       "1                 0       0      1036         56.950000  \n",
       "2                 0       0       123         53.850000  \n",
       "3                 0       0      1371         42.300000  \n",
       "4                 0       0       153         70.700000  \n",
       "...             ...     ...       ...               ...  \n",
       "7038              1       0       730         28.266667  \n",
       "7039              1       0      2191         34.400000  \n",
       "7040              0       0       337          9.866667  \n",
       "7041              1       0       215         37.200000  \n",
       "7042              0       0      2010        105.650000  \n",
       "\n",
       "[7043 rows x 20 columns]"
      ]
     },
     "execution_count": 28,
     "metadata": {},
     "output_type": "execute_result"
    }
   ],
   "source": [
    "#создадим новый датасет только с нужными столбцам\n",
    "df = df_raw.drop(['customerID', 'BeginDate', 'EndDate', 'EndDateFact', 'Family'], axis=1)\n",
    "df"
   ]
  },
  {
   "cell_type": "code",
   "execution_count": 29,
   "id": "cce90cd1",
   "metadata": {},
   "outputs": [
    {
     "name": "stdout",
     "output_type": "stream",
     "text": [
      "<class 'pandas.core.frame.DataFrame'>\n",
      "Int64Index: 7043 entries, 0 to 7042\n",
      "Data columns (total 20 columns):\n",
      " #   Column            Non-Null Count  Dtype  \n",
      "---  ------            --------------  -----  \n",
      " 0   Type              7043 non-null   object \n",
      " 1   PaperlessBilling  7043 non-null   int64  \n",
      " 2   PaymentMethod     7043 non-null   object \n",
      " 3   MonthlyCharges    7043 non-null   float64\n",
      " 4   TotalCharges      7043 non-null   float64\n",
      " 5   gender            7043 non-null   int64  \n",
      " 6   SeniorCitizen     7043 non-null   int64  \n",
      " 7   Partner           7043 non-null   int64  \n",
      " 8   Dependents        7043 non-null   int64  \n",
      " 9   InternetService   7043 non-null   object \n",
      " 10  OnlineSecurity    7043 non-null   int64  \n",
      " 11  OnlineBackup      7043 non-null   int64  \n",
      " 12  DeviceProtection  7043 non-null   int64  \n",
      " 13  TechSupport       7043 non-null   int64  \n",
      " 14  StreamingTV       7043 non-null   int64  \n",
      " 15  StreamingMovies   7043 non-null   int64  \n",
      " 16  MultipleLines     7043 non-null   int64  \n",
      " 17  Exited            7043 non-null   int32  \n",
      " 18  Duration          7043 non-null   int64  \n",
      " 19  PaymentPerMember  7043 non-null   float64\n",
      "dtypes: float64(3), int32(1), int64(13), object(3)\n",
      "memory usage: 1.1+ MB\n"
     ]
    }
   ],
   "source": [
    "#проверим, что датасет готов\n",
    "df.info()"
   ]
  },
  {
   "cell_type": "markdown",
   "id": "f94580e0",
   "metadata": {},
   "source": [
    "В результате преобработки данных были объединены датасеты, преобразованы типы данных, заполнены пропуски и исследованы аномалии в числовых столбцах. Кроме того, были сгенерированы новые признаки и целевой признак. Из итогового датасета были удалены столбцы с датами, поскольку они могут стать причиной утечки данных. Вместо них создан признак Duration с числом дней, которые клиент пользовался услугами оператора.\n"
   ]
  },
  {
   "cell_type": "markdown",
   "id": "ae5cf0d6",
   "metadata": {},
   "source": [
    "# Исследовательский анализ данных"
   ]
  },
  {
   "cell_type": "code",
   "execution_count": 29,
   "id": "6ca84827",
   "metadata": {},
   "outputs": [
    {
     "name": "stdout",
     "output_type": "stream",
     "text": [
      "0    0.843675\n",
      "1    0.156325\n",
      "Name: Exited, dtype: float64\n"
     ]
    },
    {
     "data": {
      "image/png": "[encoded data removed]",
      "text/plain": [
       "<Figure size 432x288 with 1 Axes>"
      ]
     },
     "metadata": {
      "needs_background": "light"
     },
     "output_type": "display_data"
    }
   ],
   "source": [
    "#исследуем баланс классов\n",
    "\n",
    "#относительная частота значений от 0 до 1\n",
    "class_frequency = df['Exited'].value_counts(normalize=True)\n",
    "\n",
    "#выведем относительное количество данных в двух классах\n",
    "print(class_frequency)\n",
    "\n",
    "#для наглядности выведем диаграмму\n",
    "class_frequency.plot(kind='bar', color='lightgreen');"
   ]
  },
  {
   "cell_type": "markdown",
   "id": "428fb4f0",
   "metadata": {},
   "source": [
    "Количество действующих клиентов в несколько раз больше числа ушедших, что логично. Дисбаланс классов будет учтен при обучении."
   ]
  },
  {
   "cell_type": "code",
   "execution_count": 30,
   "id": "ab11991f",
   "metadata": {},
   "outputs": [
    {
     "name": "stdout",
     "output_type": "stream",
     "text": [
      "interval columns not set, guessing: ['PaperlessBilling', 'MonthlyCharges', 'TotalCharges', 'gender', 'SeniorCitizen', 'Partner', 'Dependents', 'OnlineSecurity', 'OnlineBackup', 'DeviceProtection', 'TechSupport', 'StreamingTV', 'StreamingMovies', 'MultipleLines', 'Exited', 'Duration', 'PaymentPerMember']\n"
     ]
    },
    {
     "data": {
      "image/png": "[encoded data removed]",
      "text/plain": [
       "<Figure size 1280x960 with 2 Axes>"
      ]
     },
     "metadata": {
      "needs_background": "light"
     },
     "output_type": "display_data"
    }
   ],
   "source": [
    "#отобразим матрицу корреляции для всех признаков\n",
    "\n",
    "plt.figure(figsize=(16,12), dpi= 80)\n",
    "\n",
    "sns.heatmap(df.phik_matrix().round(2),\n",
    "            xticklabels=df.columns, \n",
    "            yticklabels=df.columns, \n",
    "            cmap='RdYlGn', \n",
    "            center=0, \n",
    "            annot=True)\n",
    "\n",
    "#выведем результат\n",
    "plt.title('Матрица корреляции', fontsize=18)\n",
    "plt.xticks(fontsize=12)\n",
    "plt.yticks(fontsize=12)\n",
    "plt.show()\n",
    "None"
   ]
  },
  {
   "cell_type": "markdown",
   "id": "75b20813",
   "metadata": {},
   "source": [
    "Наблюдается слабая корреляция признаков с целевым признаком Exited. Практически ничего на него не влияет. Признак gender слабее всего оказывает влияние на признаки. Для некоторых признаков наблюдается мультиколлинеарность. Эти столбцы будут сохранены, поскольку для обучения будут использованы модели не чувствительные к мультиколлинераности."
   ]
  },
  {
   "cell_type": "markdown",
   "id": "2b29deda",
   "metadata": {},
   "source": [
    "Далее посмотрим, сколько клиентов стало клиентами оператора по годам."
   ]
  },
  {
   "cell_type": "code",
   "execution_count": 31,
   "id": "d98b1233",
   "metadata": {},
   "outputs": [
    {
     "data": {
      "image/png": "[encoded data removed]",
      "text/plain": [
       "<Figure size 720x360 with 1 Axes>"
      ]
     },
     "metadata": {
      "needs_background": "light"
     },
     "output_type": "display_data"
    }
   ],
   "source": [
    "#выведем частотную диаграмму по годам\n",
    "plt.figure(figsize=(10,5))\n",
    "sns.distplot(df_raw['BeginDate'].dt.year,  \n",
    "             hist=True,\n",
    "             bins=22, \n",
    "             color = 'darkblue', \n",
    "             kde_kws={'linewidth': 2})\n",
    "\n",
    "plt.xlabel('Год')\n",
    "plt.ylabel('Количество клиентов')\n",
    "plt.title('Распределение количества клиентов по годам');"
   ]
  },
  {
   "cell_type": "markdown",
   "id": "cd385e9a",
   "metadata": {},
   "source": [
    "Посмотрим, в какие года больше всего клиентов покинуло оператора. Для этого сделаем промежуточную таблицу с данными только ушедших клиентов и преобразуем значения."
   ]
  },
  {
   "cell_type": "code",
   "execution_count": 32,
   "id": "00de3bbe",
   "metadata": {},
   "outputs": [
    {
     "data": {
      "image/png": "[encoded data removed]",
      "text/plain": [
       "<Figure size 720x360 with 1 Axes>"
      ]
     },
     "metadata": {
      "needs_background": "light"
     },
     "output_type": "display_data"
    }
   ],
   "source": [
    "#создадим таблицу с активными клиентами\n",
    "active_clients = df_raw[df_raw['EndDate'] != 'No']\n",
    "active_clients['EndDate'] =  pd.to_datetime(active_clients['EndDate'])\n",
    "\n",
    "#выведем частотную диаграмму по годам\n",
    "plt.figure(figsize=(10,5))\n",
    "sns.distplot(active_clients['EndDate'].dt.year,  \n",
    "             hist=True,\n",
    "             bins=22, \n",
    "             color = 'darkgreen', \n",
    "             kde_kws={'linewidth': 2})\n",
    "\n",
    "plt.xlabel('Год')\n",
    "plt.ylabel('Количество клиентов')\n",
    "plt.title('Распределение количества ушедших клиентов по годам');"
   ]
  },
  {
   "cell_type": "markdown",
   "id": "78d9795d",
   "metadata": {},
   "source": [
    "Больше всего новых клиентов появилось в 2019 году. В этом же году ушло наибольшее количество клиентов. На первой диаграмме есть два пика, когда подключилось большое число клиентов - 2014 и 2019 года. На второй диаграмме данные распределены более равномерно, с каждым годом уходит все больше клиентов. За 2020 данные неполные, поэтому можно не брать во внимание \"спад\"."
   ]
  },
  {
   "cell_type": "markdown",
   "id": "ca314b46",
   "metadata": {},
   "source": [
    "Посмотрим, как наличие партнера и иждивенцев влияет на отток клиентов."
   ]
  },
  {
   "cell_type": "code",
   "execution_count": 33,
   "id": "58640c60",
   "metadata": {},
   "outputs": [
    {
     "data": {
      "image/png": "[encoded data removed]",
      "text/plain": [
       "<Figure size 720x360 with 1 Axes>"
      ]
     },
     "metadata": {
      "needs_background": "light"
     },
     "output_type": "display_data"
    }
   ],
   "source": [
    "#создаим сводную таблицу с группировкой по составу семьи\n",
    "t = (df_raw.pivot_table(index='Family', values='Exited', aggfunc='sum')\n",
    "      .plot(kind='bar', figsize= (10,5), color='lightblue'));\n",
    "\n",
    "plt.xlabel('Состав семьи')\n",
    "plt.ylabel('Количество ушедших клиентов')\n",
    "plt.title('Влияние наличия партнера и иждивенцев на отток');"
   ]
  },
  {
   "cell_type": "markdown",
   "id": "454506dd",
   "metadata": {},
   "source": [
    "Среди ушедших клиентов наибольшее количество составляют те, у кого есть партнер и нет иждивенцев (предположительно, детей). Далее посмотрим, как распределен пенсионный статус среди ушедших клиентов."
   ]
  },
  {
   "cell_type": "code",
   "execution_count": 34,
   "id": "23649917",
   "metadata": {},
   "outputs": [
    {
     "data": {
      "image/png": "[encoded data removed]",
      "text/plain": [
       "<Figure size 576x360 with 1 Axes>"
      ]
     },
     "metadata": {
      "needs_background": "light"
     },
     "output_type": "display_data"
    }
   ],
   "source": [
    "#сгруппируем данные по статусу и вычислим количество ушедших клиентов\n",
    "t = (df.groupby('SeniorCitizen')['Exited'].sum()\n",
    "     .plot(kind='bar', \n",
    "           figsize= (8,5), \n",
    "           color='lightgrey'))\n",
    "\n",
    "plt.xlabel('Пенсионный статус')\n",
    "plt.ylabel('Количество ушедших клиентов')\n",
    "plt.title('Влияние статуса на отток');"
   ]
  },
  {
   "cell_type": "markdown",
   "id": "300926b4",
   "metadata": {},
   "source": [
    "Пенсионеров среди ушедших клиентов меньшинство. Посмотрим также на гендерный состав ушедших клиентов."
   ]
  },
  {
   "cell_type": "code",
   "execution_count": 35,
   "id": "a45d27e0",
   "metadata": {},
   "outputs": [
    {
     "data": {
      "image/png": "[encoded data removed]",
      "text/plain": [
       "<Figure size 576x360 with 1 Axes>"
      ]
     },
     "metadata": {
      "needs_background": "light"
     },
     "output_type": "display_data"
    }
   ],
   "source": [
    "#сгруппируем данные ушедших клиентов по гендеру\n",
    "(df.groupby('gender')['Exited'].sum()\n",
    " .plot(kind='bar', \n",
    "       figsize= (8,5), \n",
    "       color='blue'))\n",
    "\n",
    "plt.xlabel('Пол')\n",
    "plt.ylabel('Количество ушедших клиентов')\n",
    "plt.title('Влияние пола на отток');"
   ]
  },
  {
   "cell_type": "markdown",
   "id": "218ccc50",
   "metadata": {},
   "source": [
    "Гендерный состав ушедших клиентов почти равен. Проанализируем распределение клиентов с разными типами подписок."
   ]
  },
  {
   "cell_type": "code",
   "execution_count": 36,
   "id": "41a5d448",
   "metadata": {},
   "outputs": [
    {
     "data": {
      "image/png": "[encoded data removed]",
      "text/plain": [
       "<Figure size 720x360 with 1 Axes>"
      ]
     },
     "metadata": {
      "needs_background": "light"
     },
     "output_type": "display_data"
    }
   ],
   "source": [
    "#сгруппируем ушедших клиентов по типу подписки\n",
    "t = (df.pivot_table(index='Type', values='Exited', aggfunc='sum')\n",
    "      .plot(kind='bar', figsize= (10,5), color='green'));\n",
    "\n",
    "plt.xlabel('Тип подписки')\n",
    "plt.ylabel('Количество ушедших клиентов')\n",
    "plt.title('Влияние типа подписки на отток');"
   ]
  },
  {
   "cell_type": "markdown",
   "id": "22974ea1",
   "metadata": {},
   "source": [
    "Среди ушедших клиентов больше тех, кто приобретал месячную подписку. Немного меньше тех, кто был приобретал подписку на два года."
   ]
  },
  {
   "cell_type": "markdown",
   "id": "03814845",
   "metadata": {},
   "source": [
    "Далее посмотрим сколько какое распределение количества дней, когда пользователь был клиентом оператора. Выберем только те значения, которые превышают максимальную цену ежемесячного списания чтобы отсеч тех, кто является клиентом короткий срок."
   ]
  },
  {
   "cell_type": "code",
   "execution_count": 37,
   "id": "af4f2e83",
   "metadata": {},
   "outputs": [
    {
     "data": {
      "image/png": "[encoded data removed]",
      "text/plain": [
       "<Figure size 720x504 with 1 Axes>"
      ]
     },
     "metadata": {
      "needs_background": "light"
     },
     "output_type": "display_data"
    }
   ],
   "source": [
    "#зададим размер диаграммы\n",
    "plt.figure(figsize=(10,7))\n",
    "\n",
    "#задаим параметры диаграммы\n",
    "sns.histplot(data=df.query('TotalCharges > 120'), \n",
    "             x='TotalCharges', \n",
    "             hue='Exited', \n",
    "             multiple='dodge', \n",
    "             palette = ('lightblue', 'red'),\n",
    "             kde=True,\n",
    "             bins=50,\n",
    "             element='step')\n",
    "\n",
    "plt.xlabel('Общая сумма списаний')\n",
    "plt.ylabel('Количество клиентов')\n",
    "plt.title('Зависимость общей суммы списаний и оттока');"
   ]
  },
  {
   "cell_type": "markdown",
   "id": "d25dc67f",
   "metadata": {},
   "source": [
    "Наибольшее количество клиентов, покинувших оператора заплатило за весь период активности около 700 у.е. Дальше посмотрим, как факт пользования услугами интернета влияет на отток клиентов."
   ]
  },
  {
   "cell_type": "code",
   "execution_count": 38,
   "id": "d0d58332",
   "metadata": {},
   "outputs": [
    {
     "data": {
      "image/png": "[encoded data removed]",
      "text/plain": [
       "<Figure size 720x360 with 1 Axes>"
      ]
     },
     "metadata": {
      "needs_background": "light"
     },
     "output_type": "display_data"
    }
   ],
   "source": [
    "#сгруппируем данные по столбцу InternetService\n",
    "t = (df.pivot_table(index='InternetService', values='Exited', aggfunc='sum')\n",
    "      .plot(kind='bar', figsize= (10,5), color='red'));\n",
    "\n",
    "plt.xlabel('Услуги интернета')\n",
    "plt.ylabel('Количество ушедших клиентов')\n",
    "plt.title('Влияние использования интернета на отток');"
   ]
  },
  {
   "cell_type": "markdown",
   "id": "79558388",
   "metadata": {},
   "source": [
    "Большее количество ушедших клиентов использовало современный интернет. Меньше всего ушедших клиентов вообще не пользовались услугами интернета. Далее проанализируем, сколько клиентов пользовались услугами телефонии."
   ]
  },
  {
   "cell_type": "code",
   "execution_count": 39,
   "id": "6ebdb6a8",
   "metadata": {},
   "outputs": [
    {
     "data": {
      "image/png": "[encoded data removed]",
      "text/plain": [
       "<Figure size 720x360 with 1 Axes>"
      ]
     },
     "metadata": {
      "needs_background": "light"
     },
     "output_type": "display_data"
    }
   ],
   "source": [
    "#сгруппируем данные по MultipleLines и выведем диаграмму\n",
    "t = (df.pivot_table(index='MultipleLines', values='Exited', aggfunc='sum')\n",
    "      .plot(kind='bar', figsize= (10,5), color='orange'));\n",
    "\n",
    "plt.xlabel('Услуги телефонии')\n",
    "plt.ylabel('Количество ушедших клиентов')\n",
    "plt.title('Влияние использования телефонии на отток');"
   ]
  },
  {
   "cell_type": "markdown",
   "id": "fcd7888b",
   "metadata": {},
   "source": [
    "Клиентов, которые использовали многоканальную телефонию и решили сменить оператора связи, больше. Следующим шагом посмотрим сколько какое распределение количества дней, когда пользователь был клиентом оператора."
   ]
  },
  {
   "cell_type": "code",
   "execution_count": 40,
   "id": "78ac87da",
   "metadata": {},
   "outputs": [
    {
     "data": {
      "image/png": "[encoded data removed]",
      "text/plain": [
       "<Figure size 720x504 with 1 Axes>"
      ]
     },
     "metadata": {
      "needs_background": "light"
     },
     "output_type": "display_data"
    }
   ],
   "source": [
    "#задаем размер диаграммы\n",
    "plt.figure(figsize=(10,7))\n",
    "\n",
    "#задаем параметры диаграммы\n",
    "sns.histplot(data=df, \n",
    "             x='Duration', \n",
    "             hue='Exited', \n",
    "             multiple='dodge', \n",
    "             palette = ('lightblue', 'red'),\n",
    "             kde=True,\n",
    "             bins=30,\n",
    "             element='step')\n",
    "\n",
    "plt.xlabel('Количество дней в подписке')\n",
    "plt.ylabel('Количество клиентов')\n",
    "plt.title('Зависимость срока пользования и оттока');"
   ]
  },
  {
   "cell_type": "markdown",
   "id": "f84b6150",
   "metadata": {},
   "source": [
    "Среди ушедших клиентов наибольшее количество пользовалось услугами оператора около 1000 дней. Выходит, что ушедшие клиенты довльно долго пользовались услугами, прежде чем принять решение уйти. Далее выведем диаграмму распределения типа оплаты услуг для всех клиентов. "
   ]
  },
  {
   "cell_type": "code",
   "execution_count": 41,
   "id": "00e7ee29",
   "metadata": {},
   "outputs": [
    {
     "data": {
      "image/png": "[encoded data removed]",
      "text/plain": [
       "<Figure size 720x360 with 1 Axes>"
      ]
     },
     "metadata": {
      "needs_background": "light"
     },
     "output_type": "display_data"
    }
   ],
   "source": [
    "#зададим размер диаграммы\n",
    "plt.figure(figsize=(10,5))\n",
    "\n",
    "#зададим параметры диаграммы\n",
    "sns.histplot(data=df, \n",
    "             x='PaymentMethod', \n",
    "             hue='Exited', \n",
    "             multiple='dodge', \n",
    "             palette = ('pink', 'lightgreen'), \n",
    "             shrink=.8)\n",
    "\n",
    "plt.xlabel('Способ оплаты')\n",
    "plt.ylabel('Количество клиентов')\n",
    "plt.title('Влияние типа оплаты на отток');"
   ]
  },
  {
   "cell_type": "markdown",
   "id": "3e7a214c",
   "metadata": {},
   "source": [
    "Меньше всего клиентов отказались от услуг оператора среди тех, кто пользуется почтовым переводом. Далее посмотрим, какое количество ушедших клиентов пользовалось элеметронными чеками."
   ]
  },
  {
   "cell_type": "code",
   "execution_count": 42,
   "id": "6c7eeaf4",
   "metadata": {},
   "outputs": [
    {
     "data": {
      "image/png": "[encoded data removed]",
      "text/plain": [
       "<Figure size 720x360 with 1 Axes>"
      ]
     },
     "metadata": {
      "needs_background": "light"
     },
     "output_type": "display_data"
    }
   ],
   "source": [
    "# сгруппируем данные по PaperlessBilling\n",
    "t = (df.pivot_table(index='PaperlessBilling', values='Exited', aggfunc='sum')\n",
    "      .plot(kind='bar', figsize= (10,5), color='magenta'));\n",
    "\n",
    "plt.xlabel('Электронный чек')\n",
    "plt.ylabel('Количество ушедших клиентов')\n",
    "plt.title('Влияние использования электронных чеков на отток');"
   ]
  },
  {
   "cell_type": "markdown",
   "id": "a7ea09c3",
   "metadata": {},
   "source": [
    "Количество клиентов, использовавших электронные чеки, гораздо больше среди ушедших."
   ]
  },
  {
   "cell_type": "markdown",
   "id": "c7dc46e9",
   "metadata": {},
   "source": [
    "Исследовав исходные данные можно составить портрет клиента, решившего отказаться от услуг оператора:\n",
    "- мужчина, с парнером, без иждивенцев, не пенсионного возраста;\n",
    "- является давним клиентом оператора (2-3 года);\n",
    "- пользуется тарифом с ежемесячной оплатой;\n",
    "- пользуется скоростным интернетом и многоканальной телефонией;\n",
    "- предпочитает электронный чеки, а в качестве способа оплаты автоматический бансковский перевод или списание с кредитной карты.\n",
    "\n",
    "В дальнейшем эти предположения можно сформулировать в гипотезы."
   ]
  },
  {
   "cell_type": "markdown",
   "id": "6d87f7a0",
   "metadata": {},
   "source": [
    "# Обучение моделей"
   ]
  },
  {
   "cell_type": "markdown",
   "id": "f8a380e3",
   "metadata": {},
   "source": [
    "На данном этапе необходимо разделить выборку и обучить модели на лучших гиперпараметрах."
   ]
  },
  {
   "cell_type": "code",
   "execution_count": 30,
   "id": "4d25c794",
   "metadata": {},
   "outputs": [],
   "source": [
    "#разделим выборку\n",
    "X = df.drop('Exited', axis=1)\n",
    "y = df['Exited']\n",
    "\n",
    "X_train, X_test, y_train, y_test = train_test_split(\n",
    "        X, y, shuffle=True, test_size=0.25, stratify=y, random_state=RANDOM_STATE)"
   ]
  },
  {
   "cell_type": "code",
   "execution_count": 31,
   "id": "f7f31b92",
   "metadata": {},
   "outputs": [
    {
     "name": "stdout",
     "output_type": "stream",
     "text": [
      "(5282, 19)\n",
      "(5282,)\n",
      "(1761, 19)\n",
      "(1761,)\n"
     ]
    }
   ],
   "source": [
    "#посмотрим на результат деления\n",
    "print(X_train.shape)\n",
    "print(y_train.shape)\n",
    "print(X_test.shape)\n",
    "print(y_test.shape)"
   ]
  },
  {
   "cell_type": "code",
   "execution_count": 32,
   "id": "25049027",
   "metadata": {},
   "outputs": [],
   "source": [
    "#зададим метрики, которые будут вычисляться для всех моделей\n",
    "scorers = {\n",
    "    'roc_auc_score': make_scorer(roc_auc_score, needs_proba=True),\n",
    "    'f1_score': make_scorer(f1_score),\n",
    "    'precision_score': make_scorer(precision_score),\n",
    "    'recall_score': make_scorer(recall_score)\n",
    "}"
   ]
  },
  {
   "cell_type": "code",
   "execution_count": 33,
   "id": "a274a637",
   "metadata": {},
   "outputs": [
    {
     "name": "stdout",
     "output_type": "stream",
     "text": [
      "['Type', 'PaymentMethod', 'InternetService']\n"
     ]
    }
   ],
   "source": [
    "#создадим список названий столбцов для кодирования\n",
    "ohe_features = X_train.select_dtypes(include='object').columns.to_list()\n",
    "print(ohe_features)"
   ]
  },
  {
   "cell_type": "code",
   "execution_count": 34,
   "id": "3940a61a",
   "metadata": {},
   "outputs": [],
   "source": [
    "#создадим список столбцов для масштабирования\n",
    "num_features = ['MonthlyCharges', 'TotalCharges', 'PaymentPerMember', 'Duration']"
   ]
  },
  {
   "cell_type": "markdown",
   "id": "8ee14524",
   "metadata": {},
   "source": [
    "Создадим транформер для кодирования категориальных и масштабирования численных признаков. Хоть не все модели чувствительны к масштабированию, в целях экономии времени трансформер будет один для всех."
   ]
  },
  {
   "cell_type": "code",
   "execution_count": 48,
   "id": "8f0f369b",
   "metadata": {},
   "outputs": [],
   "source": [
    "#создадим трансформер для всех моделей\n",
    "col_transformer = make_column_transformer(\n",
    "    (\n",
    "        OneHotEncoder(drop='first', handle_unknown='ignore'), \n",
    "        ohe_features\n",
    "    ),\n",
    "    (\n",
    "        StandardScaler(), \n",
    "        num_features\n",
    "    ),\n",
    "    remainder='passthrough'\n",
    ")"
   ]
  },
  {
   "cell_type": "code",
   "execution_count": 49,
   "id": "f0eebc96",
   "metadata": {},
   "outputs": [],
   "source": [
    "#зададим параметр для генерации валидационных выборок\n",
    "kf = KFold(n_splits=3, random_state=RANDOM_STATE, shuffle=True)"
   ]
  },
  {
   "cell_type": "markdown",
   "id": "9696aed8",
   "metadata": {},
   "source": [
    "Первым шагом обучим модель логистическая регрессия."
   ]
  },
  {
   "cell_type": "code",
   "execution_count": 50,
   "id": "15155e48",
   "metadata": {},
   "outputs": [
    {
     "name": "stdout",
     "output_type": "stream",
     "text": [
      "best_score: 0.7727033912930278\n",
      "best_params: {'logisticregression__C': 10}\n"
     ]
    }
   ],
   "source": [
    "#объявим саму модель\n",
    "model_lr = LogisticRegression(max_iter=500, class_weight='balanced', random_state=RANDOM_STATE)\n",
    "\n",
    "#создадим пайплайн для нмодели\n",
    "pipline_lr = make_pipeline(col_transformer, model_lr)\n",
    "\n",
    "#зададим параметры перебора параметров\n",
    "param_grid_lr = {'logisticregression__C': [0.1, 0.2, 0.3, 1, 10]}\n",
    "\n",
    "gs_lr = GridSearchCV(estimator=pipline_lr, \n",
    "                     cv=kf, \n",
    "                     param_grid=param_grid_lr,\n",
    "                     refit='roc_auc_score',\n",
    "                     scoring=scorers,\n",
    "                     n_jobs=-1)\n",
    "\n",
    "#обучим модель\n",
    "gs_lr.fit(X_train, y_train)\n",
    "\n",
    "gs_lr_best_score = gs_lr.best_score_ \n",
    "gs_lr_best_params = gs_lr.best_params_\n",
    "\n",
    "#выведем результаты обучения\n",
    "print(f'best_score: {gs_lr_best_score}')\n",
    "print(f'best_params: {gs_lr_best_params}')"
   ]
  },
  {
   "cell_type": "code",
   "execution_count": 51,
   "id": "43bad0e6",
   "metadata": {},
   "outputs": [],
   "source": [
    "#зададим функцию для вывода интересующих метрик\n",
    "\n",
    "def results_gm(model):\n",
    "    \n",
    "    results = pd.DataFrame(model.cv_results_)\n",
    "    table_results = (results[['mean_test_f1_score', 'mean_test_roc_auc_score', \n",
    "                    'mean_test_precision_score', 'mean_test_recall_score']].round(3).head(5)\n",
    "                     .sort_values(by='mean_test_roc_auc_score', ascending=False))\n",
    "    \n",
    "    return table_results"
   ]
  },
  {
   "cell_type": "code",
   "execution_count": 52,
   "id": "0dcae542",
   "metadata": {},
   "outputs": [
    {
     "data": {
      "text/html": [
       "<div>\n",
       "<style scoped>\n",
       "    .dataframe tbody tr th:only-of-type {\n",
       "        vertical-align: middle;\n",
       "    }\n",
       "\n",
       "    .dataframe tbody tr th {\n",
       "        vertical-align: top;\n",
       "    }\n",
       "\n",
       "    .dataframe thead th {\n",
       "        text-align: right;\n",
       "    }\n",
       "</style>\n",
       "<table border=\"1\" class=\"dataframe\">\n",
       "  <thead>\n",
       "    <tr style=\"text-align: right;\">\n",
       "      <th></th>\n",
       "      <th>mean_test_f1_score</th>\n",
       "      <th>mean_test_roc_auc_score</th>\n",
       "      <th>mean_test_precision_score</th>\n",
       "      <th>mean_test_recall_score</th>\n",
       "    </tr>\n",
       "  </thead>\n",
       "  <tbody>\n",
       "    <tr>\n",
       "      <th>3</th>\n",
       "      <td>0.423</td>\n",
       "      <td>0.773</td>\n",
       "      <td>0.305</td>\n",
       "      <td>0.691</td>\n",
       "    </tr>\n",
       "    <tr>\n",
       "      <th>4</th>\n",
       "      <td>0.420</td>\n",
       "      <td>0.773</td>\n",
       "      <td>0.303</td>\n",
       "      <td>0.688</td>\n",
       "    </tr>\n",
       "    <tr>\n",
       "      <th>1</th>\n",
       "      <td>0.425</td>\n",
       "      <td>0.772</td>\n",
       "      <td>0.307</td>\n",
       "      <td>0.692</td>\n",
       "    </tr>\n",
       "    <tr>\n",
       "      <th>2</th>\n",
       "      <td>0.422</td>\n",
       "      <td>0.772</td>\n",
       "      <td>0.304</td>\n",
       "      <td>0.691</td>\n",
       "    </tr>\n",
       "    <tr>\n",
       "      <th>0</th>\n",
       "      <td>0.425</td>\n",
       "      <td>0.771</td>\n",
       "      <td>0.306</td>\n",
       "      <td>0.694</td>\n",
       "    </tr>\n",
       "  </tbody>\n",
       "</table>\n",
       "</div>"
      ],
      "text/plain": [
       "   mean_test_f1_score  mean_test_roc_auc_score  mean_test_precision_score  \\\n",
       "3               0.423                    0.773                      0.305   \n",
       "4               0.420                    0.773                      0.303   \n",
       "1               0.425                    0.772                      0.307   \n",
       "2               0.422                    0.772                      0.304   \n",
       "0               0.425                    0.771                      0.306   \n",
       "\n",
       "   mean_test_recall_score  \n",
       "3                   0.691  \n",
       "4                   0.688  \n",
       "1                   0.692  \n",
       "2                   0.691  \n",
       "0                   0.694  "
      ]
     },
     "execution_count": 52,
     "metadata": {},
     "output_type": "execute_result"
    }
   ],
   "source": [
    "#сохраним результаты в таблице и выведем результаты\n",
    "tadle_results_lr = results_gm(gs_lr)\n",
    "\n",
    "tadle_results_lr"
   ]
  },
  {
   "cell_type": "markdown",
   "id": "d2ff2ac8",
   "metadata": {},
   "source": [
    "Далее оценим влияние признаков на целевой, чтобы при доработке лучшей модели можно было отказаться от менее значимых."
   ]
  },
  {
   "cell_type": "code",
   "execution_count": 53,
   "id": "f13961c4",
   "metadata": {},
   "outputs": [
    {
     "data": {
      "image/png": "[encoded data removed]",
      "text/plain": [
       "<Figure size 720x432 with 1 Axes>"
      ]
     },
     "metadata": {
      "needs_background": "light"
     },
     "output_type": "display_data"
    }
   ],
   "source": [
    "#Зафитим тренировочный датасет,чтобы получить названия столбцов\n",
    "X_train_col = X_train.copy()\n",
    "col_transformer.fit(X_train_col)\n",
    "\n",
    "#определим финальную модель и выведем результаты\n",
    "model_lr = gs_lr.best_estimator_._final_estimator\n",
    "imp = pd.Series(model_lr.coef_[0],\n",
    "               pipline_lr[:-1].get_feature_names_out())\n",
    "\n",
    "fig, ax = plt.subplots(figsize=(10,6))\n",
    "imp.sort_values(ascending=False).plot.bar(ax=ax)\n",
    "ax.set_title(\"Важность признаков\")\n",
    "ax.set_ylabel('Важность')\n",
    "fig.tight_layout()"
   ]
  },
  {
   "cell_type": "markdown",
   "id": "ffbd46f7",
   "metadata": {},
   "source": [
    "Наибольшее влияние на целевой признак оказывают типы подписок (два года и год), а также факт использования скоростного интернета. Это похоже на результаты исследования типичного пользователя, решившего покинуть оператора."
   ]
  },
  {
   "cell_type": "markdown",
   "id": "6a4a44a7",
   "metadata": {},
   "source": [
    "Далее обучим модель случайный лес и также оценим важность признаков."
   ]
  },
  {
   "cell_type": "code",
   "execution_count": 54,
   "id": "8c8772cb",
   "metadata": {},
   "outputs": [
    {
     "name": "stdout",
     "output_type": "stream",
     "text": [
      "best_score: 0.8208881225362319\n",
      "best_params: {'randomforestclassifier__min_samples_split': 6, 'randomforestclassifier__min_samples_leaf': 16, 'randomforestclassifier__max_depth': 11}\n"
     ]
    }
   ],
   "source": [
    "#объявим саму модель\n",
    "model_rf = RandomForestClassifier(class_weight='balanced', n_estimators=300, random_state=RANDOM_STATE)\n",
    "\n",
    "#создадим пйплайн для нмодели\n",
    "pipline_rf = make_pipeline(col_transformer, model_rf)\n",
    "\n",
    "#зададим параметры перебора параметров\n",
    "param_grid_rf = {\n",
    "    'randomforestclassifier__max_depth': range(2, 18),\n",
    "    'randomforestclassifier__min_samples_split': [2, 4, 6, 8, 10],\n",
    "    'randomforestclassifier__min_samples_leaf': [8, 16, 20, 24, 32]\n",
    "}\n",
    "\n",
    "gs_rf = RandomizedSearchCV(estimator=pipline_rf, \n",
    "                     cv=kf, \n",
    "                     param_distributions=param_grid_rf,\n",
    "                     refit='roc_auc_score',\n",
    "                     scoring=scorers,\n",
    "                     n_jobs=-1,\n",
    "                     random_state=RANDOM_STATE)\n",
    "\n",
    "#обучим модель\n",
    "gs_rf.fit(X_train, y_train)\n",
    "\n",
    "gs_rf_best_score = gs_rf.best_score_ \n",
    "gs_rf_best_params = gs_rf.best_params_\n",
    "\n",
    "#выведем результаты обучения\n",
    "print(f'best_score: {gs_rf_best_score}')\n",
    "print(f'best_params: {gs_rf_best_params}')"
   ]
  },
  {
   "cell_type": "code",
   "execution_count": 55,
   "id": "d115d730",
   "metadata": {},
   "outputs": [
    {
     "data": {
      "text/html": [
       "<div>\n",
       "<style scoped>\n",
       "    .dataframe tbody tr th:only-of-type {\n",
       "        vertical-align: middle;\n",
       "    }\n",
       "\n",
       "    .dataframe tbody tr th {\n",
       "        vertical-align: top;\n",
       "    }\n",
       "\n",
       "    .dataframe thead th {\n",
       "        text-align: right;\n",
       "    }\n",
       "</style>\n",
       "<table border=\"1\" class=\"dataframe\">\n",
       "  <thead>\n",
       "    <tr style=\"text-align: right;\">\n",
       "      <th></th>\n",
       "      <th>mean_test_f1_score</th>\n",
       "      <th>mean_test_roc_auc_score</th>\n",
       "      <th>mean_test_precision_score</th>\n",
       "      <th>mean_test_recall_score</th>\n",
       "    </tr>\n",
       "  </thead>\n",
       "  <tbody>\n",
       "    <tr>\n",
       "      <th>2</th>\n",
       "      <td>0.480</td>\n",
       "      <td>0.820</td>\n",
       "      <td>0.408</td>\n",
       "      <td>0.584</td>\n",
       "    </tr>\n",
       "    <tr>\n",
       "      <th>3</th>\n",
       "      <td>0.476</td>\n",
       "      <td>0.820</td>\n",
       "      <td>0.368</td>\n",
       "      <td>0.677</td>\n",
       "    </tr>\n",
       "    <tr>\n",
       "      <th>0</th>\n",
       "      <td>0.474</td>\n",
       "      <td>0.818</td>\n",
       "      <td>0.352</td>\n",
       "      <td>0.727</td>\n",
       "    </tr>\n",
       "    <tr>\n",
       "      <th>4</th>\n",
       "      <td>0.475</td>\n",
       "      <td>0.818</td>\n",
       "      <td>0.360</td>\n",
       "      <td>0.702</td>\n",
       "    </tr>\n",
       "    <tr>\n",
       "      <th>1</th>\n",
       "      <td>0.473</td>\n",
       "      <td>0.817</td>\n",
       "      <td>0.351</td>\n",
       "      <td>0.726</td>\n",
       "    </tr>\n",
       "  </tbody>\n",
       "</table>\n",
       "</div>"
      ],
      "text/plain": [
       "   mean_test_f1_score  mean_test_roc_auc_score  mean_test_precision_score  \\\n",
       "2               0.480                    0.820                      0.408   \n",
       "3               0.476                    0.820                      0.368   \n",
       "0               0.474                    0.818                      0.352   \n",
       "4               0.475                    0.818                      0.360   \n",
       "1               0.473                    0.817                      0.351   \n",
       "\n",
       "   mean_test_recall_score  \n",
       "2                   0.584  \n",
       "3                   0.677  \n",
       "0                   0.727  \n",
       "4                   0.702  \n",
       "1                   0.726  "
      ]
     },
     "execution_count": 55,
     "metadata": {},
     "output_type": "execute_result"
    }
   ],
   "source": [
    "#сохраним результаты в таблице и выведем результаты\n",
    "tadle_results_rf = results_gm(gs_rf)\n",
    "\n",
    "tadle_results_rf"
   ]
  },
  {
   "cell_type": "code",
   "execution_count": 56,
   "id": "da7bb999",
   "metadata": {},
   "outputs": [
    {
     "data": {
      "image/png": "[encoded data removed]",
      "text/plain": [
       "<Figure size 720x432 with 1 Axes>"
      ]
     },
     "metadata": {
      "needs_background": "light"
     },
     "output_type": "display_data"
    }
   ],
   "source": [
    "#Выведем диаграмму с оценкой влияния признаков на целевой\n",
    "\n",
    "model_rf = gs_rf.best_estimator_._final_estimator\n",
    "imp = pd.Series(model_rf.feature_importances_,\n",
    "               pipline_rf[:-1].get_feature_names_out())\n",
    "\n",
    "fig, ax = plt.subplots(figsize=(10,6))\n",
    "imp.sort_values(ascending=False).plot.bar(ax=ax)\n",
    "ax.set_title(\"Важность признаков\")\n",
    "ax.set_ylabel('Важность')\n",
    "fig.tight_layout()"
   ]
  },
  {
   "cell_type": "markdown",
   "id": "5467be62",
   "metadata": {},
   "source": [
    "Нелинейная модель дала другие важные признаки. Здесь большее значение имеет количество дней, когда клиент был активен и общая сумма платажей за весь период."
   ]
  },
  {
   "cell_type": "markdown",
   "id": "907bd521",
   "metadata": {},
   "source": [
    "Далее обучим модель катбуст. здесь нет необходимости задавать пайплайн с трансформером, поскольку модель сама делает кодирование OHE."
   ]
  },
  {
   "cell_type": "code",
   "execution_count": 57,
   "id": "82e1212f",
   "metadata": {},
   "outputs": [
    {
     "name": "stdout",
     "output_type": "stream",
     "text": [
      "best_score: 0.891735064787735\n",
      "best_params: {'max_depth': 2, 'learning_rate': 0.3}\n"
     ]
    }
   ],
   "source": [
    "#задаем категориальные признаки\n",
    "cat_features = X_train.drop(num_features, axis=1).columns.to_list()\n",
    "\n",
    "param_search = {'learning_rate': [0.1, 0.2, 0.3],\n",
    "             'max_depth': [2, 6, 8, 10]}\n",
    "\n",
    "#задаим постоянные параметры для модели CatBoost\n",
    "params_cb = {'loss_function': 'Logloss',\n",
    "             'eval_metric':  'AUC',\n",
    "             'cat_features': cat_features,\n",
    "              'n_estimators': 300,\n",
    "              'random_seed': RANDOM_STATE,\n",
    "              'verbose': False}\n",
    "\n",
    "clf = CatBoostClassifier(**params_cb)\n",
    "\n",
    "#определим модель\n",
    "gs_cb = RandomizedSearchCV(estimator=clf, \n",
    "                       cv=3, \n",
    "                       param_distributions=param_search,  \n",
    "                       refit='roc_auc_score',\n",
    "                       random_state=RANDOM_STATE,\n",
    "                       scoring=scorers)\n",
    "\n",
    "gs_cb.fit(X_train, y_train)\n",
    "\n",
    "gs_cb_best_score = gs_cb.best_score_ \n",
    "gs_cb_best_params = gs_cb.best_params_\n",
    "print(f'best_score: {gs_cb_best_score}')\n",
    "print(f'best_params: {gs_cb_best_params}')"
   ]
  },
  {
   "cell_type": "code",
   "execution_count": 58,
   "id": "d6b8d610",
   "metadata": {},
   "outputs": [
    {
     "data": {
      "text/html": [
       "<div>\n",
       "<style scoped>\n",
       "    .dataframe tbody tr th:only-of-type {\n",
       "        vertical-align: middle;\n",
       "    }\n",
       "\n",
       "    .dataframe tbody tr th {\n",
       "        vertical-align: top;\n",
       "    }\n",
       "\n",
       "    .dataframe thead th {\n",
       "        text-align: right;\n",
       "    }\n",
       "</style>\n",
       "<table border=\"1\" class=\"dataframe\">\n",
       "  <thead>\n",
       "    <tr style=\"text-align: right;\">\n",
       "      <th></th>\n",
       "      <th>mean_test_f1_score</th>\n",
       "      <th>mean_test_roc_auc_score</th>\n",
       "      <th>mean_test_precision_score</th>\n",
       "      <th>mean_test_recall_score</th>\n",
       "    </tr>\n",
       "  </thead>\n",
       "  <tbody>\n",
       "    <tr>\n",
       "      <th>4</th>\n",
       "      <td>0.569</td>\n",
       "      <td>0.883</td>\n",
       "      <td>0.748</td>\n",
       "      <td>0.459</td>\n",
       "    </tr>\n",
       "    <tr>\n",
       "      <th>1</th>\n",
       "      <td>0.514</td>\n",
       "      <td>0.877</td>\n",
       "      <td>0.760</td>\n",
       "      <td>0.389</td>\n",
       "    </tr>\n",
       "    <tr>\n",
       "      <th>2</th>\n",
       "      <td>0.453</td>\n",
       "      <td>0.854</td>\n",
       "      <td>0.678</td>\n",
       "      <td>0.341</td>\n",
       "    </tr>\n",
       "    <tr>\n",
       "      <th>3</th>\n",
       "      <td>0.456</td>\n",
       "      <td>0.850</td>\n",
       "      <td>0.665</td>\n",
       "      <td>0.347</td>\n",
       "    </tr>\n",
       "    <tr>\n",
       "      <th>0</th>\n",
       "      <td>0.420</td>\n",
       "      <td>0.848</td>\n",
       "      <td>0.699</td>\n",
       "      <td>0.301</td>\n",
       "    </tr>\n",
       "  </tbody>\n",
       "</table>\n",
       "</div>"
      ],
      "text/plain": [
       "   mean_test_f1_score  mean_test_roc_auc_score  mean_test_precision_score  \\\n",
       "4               0.569                    0.883                      0.748   \n",
       "1               0.514                    0.877                      0.760   \n",
       "2               0.453                    0.854                      0.678   \n",
       "3               0.456                    0.850                      0.665   \n",
       "0               0.420                    0.848                      0.699   \n",
       "\n",
       "   mean_test_recall_score  \n",
       "4                   0.459  \n",
       "1                   0.389  \n",
       "2                   0.341  \n",
       "3                   0.347  \n",
       "0                   0.301  "
      ]
     },
     "execution_count": 58,
     "metadata": {},
     "output_type": "execute_result"
    }
   ],
   "source": [
    "#сохраним результаты в таблице и выведем результаты\n",
    "tadle_results_cb = results_gm(gs_cb)\n",
    "\n",
    "tadle_results_cb"
   ]
  },
  {
   "cell_type": "code",
   "execution_count": 59,
   "id": "88b3a0aa",
   "metadata": {},
   "outputs": [
    {
     "data": {
      "image/png": "[encoded data removed]",
      "text/plain": [
       "<Figure size 720x432 with 1 Axes>"
      ]
     },
     "metadata": {
      "needs_background": "light"
     },
     "output_type": "display_data"
    }
   ],
   "source": [
    "#Выведем диаграмму с оценкой влияния признаков на целевой\n",
    "imp = pd.Series(gs_cb.best_estimator_.feature_importances_,\n",
    "               X_train.columns)\n",
    "\n",
    "fig, ax = plt.subplots(figsize=(10,6))\n",
    "imp.sort_values(ascending=False).plot.bar(ax=ax)\n",
    "ax.set_title(\"Важность признаков\")\n",
    "ax.set_ylabel('Важность')\n",
    "fig.tight_layout()"
   ]
  },
  {
   "cell_type": "markdown",
   "id": "5a880913",
   "metadata": {},
   "source": [
    "Лучший показатель roc_auc из трех моделей дала модель катбуст.\n",
    "Здесь также большее влияние на целевой признак оказывает количество дней, когда пользователь был клиентом оператора."
   ]
  },
  {
   "cell_type": "markdown",
   "id": "121f173d",
   "metadata": {},
   "source": [
    "# Доработка модели"
   ]
  },
  {
   "cell_type": "markdown",
   "id": "7200ce01",
   "metadata": {},
   "source": [
    "Попробуем обучить лучшую модель только на наиболее значимых признаках."
   ]
  },
  {
   "cell_type": "code",
   "execution_count": 60,
   "id": "474f7532",
   "metadata": {},
   "outputs": [
    {
     "name": "stdout",
     "output_type": "stream",
     "text": [
      "best_score: 0.899862338080616\n",
      "best_params: {'max_depth': 2, 'learning_rate': 0.3}\n"
     ]
    }
   ],
   "source": [
    "#выберем 8 самых важных фич для модели катбуст\n",
    "features = imp.sort_values(ascending=False).index[:8]\n",
    "\n",
    "cat_features2 = ['Type', 'PaymentMethod', 'PaymentMethod', 'MultipleLines']\n",
    "\n",
    "X_train_imp = X_train[features]\n",
    "\n",
    "#задаим постоянные параметры для модели CatBoost\n",
    "params_cb_imp = {'loss_function': 'Logloss',\n",
    "             'eval_metric':  'AUC',\n",
    "             'cat_features': cat_features2,\n",
    "              'n_estimators': 300,\n",
    "              'random_seed': RANDOM_STATE,\n",
    "              'verbose': False}\n",
    "\n",
    "clf_imp = CatBoostClassifier(**params_cb_imp)\n",
    "\n",
    "#определим модель\n",
    "gs_cb_imp = RandomizedSearchCV(estimator=clf_imp, \n",
    "                       cv=3, \n",
    "                       param_distributions=param_search,  \n",
    "                       refit='roc_auc_score',\n",
    "                       random_state=RANDOM_STATE,\n",
    "                       scoring=scorers)\n",
    "\n",
    "gs_cb_imp.fit(X_train_imp, y_train)\n",
    "\n",
    "gs_cb_best_score_imp = gs_cb_imp.best_score_ \n",
    "gs_cb_best_params_imp = gs_cb_imp.best_params_\n",
    "print(f'best_score: {gs_cb_best_score_imp}')\n",
    "print(f'best_params: {gs_cb_best_params_imp}')"
   ]
  },
  {
   "cell_type": "markdown",
   "id": "b77b372b",
   "metadata": {},
   "source": [
    "Метрики получаются лучше немного лучше для модели с отобранными признаками. Посмотрим как теперь распределы признаки по важности."
   ]
  },
  {
   "cell_type": "code",
   "execution_count": 61,
   "id": "d6c92310",
   "metadata": {},
   "outputs": [
    {
     "data": {
      "image/png": "[encoded data removed]",
      "text/plain": [
       "<Figure size 720x432 with 1 Axes>"
      ]
     },
     "metadata": {
      "needs_background": "light"
     },
     "output_type": "display_data"
    }
   ],
   "source": [
    "#Выведем диаграмму с оценкой влияния признаков на целевой\n",
    "imp = pd.Series(gs_cb_imp.best_estimator_.feature_importances_,\n",
    "               X_train_imp.columns)\n",
    "\n",
    "fig, ax = plt.subplots(figsize=(10,6))\n",
    "imp.sort_values(ascending=False).plot.bar(ax=ax)\n",
    "ax.set_title(\"Важность признаков\")\n",
    "ax.set_ylabel('Важность')\n",
    "fig.tight_layout()"
   ]
  },
  {
   "cell_type": "markdown",
   "id": "df8662f2",
   "metadata": {},
   "source": [
    "Порядок фичей немного поменялся, но менее значимых признаков."
   ]
  },
  {
   "cell_type": "markdown",
   "id": "bf8a4463",
   "metadata": {},
   "source": [
    "# Тестирование лучшей модели"
   ]
  },
  {
   "cell_type": "code",
   "execution_count": 68,
   "id": "1976bd88",
   "metadata": {},
   "outputs": [
    {
     "name": "stdout",
     "output_type": "stream",
     "text": [
      "AUC_ROC при тестировании: 0.92\n",
      "F1 при тестировании: 0.63\n",
      "Точность при тестировании: 0.94\n",
      "Полнота при тестировании: 0.48\n"
     ]
    }
   ],
   "source": [
    "#в результате обучения лучшие показатели дала модель катбуст\n",
    "# выполним тестирование модели\n",
    "\n",
    "model_test=gs_cb.best_estimator_\n",
    "\n",
    "predicted_test = model_test.predict(X_test)\n",
    "\n",
    "# вычислим вероятность положительного класса для всех моделей\n",
    "probabilities_test = model_test.predict_proba(X_test)\n",
    "\n",
    "#вычислим значение auc_roc\n",
    "auc_roc_test = roc_auc_score(y_test, probabilities_test[:, 1])\n",
    "\n",
    "print('AUC_ROC при тестировании:',\"%.2f\" % auc_roc_test)\n",
    "print(\"F1 при тестировании:\", \"%.2f\" % f1_score(y_test, predicted_test))\n",
    "print(\"Точность при тестировании:\", \"%.2f\" % precision_score(y_test, predicted_test))\n",
    "print(\"Полнота при тестировании:\", \"%.2f\" % recall_score(y_test, predicted_test))"
   ]
  },
  {
   "cell_type": "code",
   "execution_count": 63,
   "id": "0063d6b2",
   "metadata": {},
   "outputs": [
    {
     "data": {
      "text/html": [
       "<div>\n",
       "<style scoped>\n",
       "    .dataframe tbody tr th:only-of-type {\n",
       "        vertical-align: middle;\n",
       "    }\n",
       "\n",
       "    .dataframe tbody tr th {\n",
       "        vertical-align: top;\n",
       "    }\n",
       "\n",
       "    .dataframe thead th {\n",
       "        text-align: right;\n",
       "    }\n",
       "</style>\n",
       "<table border=\"1\" class=\"dataframe\">\n",
       "  <thead>\n",
       "    <tr style=\"text-align: right;\">\n",
       "      <th></th>\n",
       "      <th>predicted 0</th>\n",
       "      <th>predicted 1</th>\n",
       "    </tr>\n",
       "  </thead>\n",
       "  <tbody>\n",
       "    <tr>\n",
       "      <th>actual 0</th>\n",
       "      <td>1477</td>\n",
       "      <td>9</td>\n",
       "    </tr>\n",
       "    <tr>\n",
       "      <th>actual 1</th>\n",
       "      <td>144</td>\n",
       "      <td>131</td>\n",
       "    </tr>\n",
       "  </tbody>\n",
       "</table>\n",
       "</div>"
      ],
      "text/plain": [
       "          predicted 0  predicted 1\n",
       "actual 0         1477            9\n",
       "actual 1          144          131"
      ]
     },
     "execution_count": 63,
     "metadata": {},
     "output_type": "execute_result"
    }
   ],
   "source": [
    "# выведем матрицу ошибок\n",
    "conf_matrix = pd.DataFrame(confusion_matrix(y_test, predicted_test), \n",
    "                           index = ['actual 0', 'actual 1'], columns = ['predicted 0', 'predicted 1'])\n",
    "conf_matrix"
   ]
  },
  {
   "cell_type": "markdown",
   "id": "3f1f60c8",
   "metadata": {},
   "source": [
    "Матрица ошибок показывает, что модель хорошо предсказывает отрицательные значения. Это значит, что ошибочно выданных прокодов клиентам, которые не собираются уходить, будет немного. Однако, ошибка второго рода в данном случае, довольно велика. Необходимо обратить внимание на метрику f1, это значение должно быть выше для модели, хорошо предсказывающей отток."
   ]
  },
  {
   "cell_type": "code",
   "execution_count": 64,
   "id": "a9dfeb43",
   "metadata": {},
   "outputs": [
    {
     "data": {
      "image/png": "[encoded data removed]",
      "text/plain": [
       "<Figure size 720x576 with 1 Axes>"
      ]
     },
     "metadata": {
      "needs_background": "light"
     },
     "output_type": "display_data"
    }
   ],
   "source": [
    "# посмотрим на изменение метрик полноты и точности при изменении порога классификации \n",
    "#для лучшей модели на тестовых данных\n",
    "\n",
    "# вычислим значения точности, полноты и порога\n",
    "precision, recall, thresholds = precision_recall_curve(y_test, \n",
    "                                                       probabilities_test[:, 1]) # Логистическая регрессия\n",
    "# выведем графики изменения кривых по мере изменения порога \n",
    "plt.figure(figsize=(10, 8))\n",
    "plt.plot(recall, precision, linestyle='-', label='Logistic Regression')\n",
    "plt.legend()\n",
    "plt.xlabel('Recall')\n",
    "plt.ylabel('Precision')\n",
    "plt.ylim([0.0, 1.05])\n",
    "plt.xlim([0.0, 1.0])\n",
    "plt.title('Кривая Precision-Recall')\n",
    "plt.show() "
   ]
  },
  {
   "cell_type": "code",
   "execution_count": 65,
   "id": "66f0fb7a",
   "metadata": {},
   "outputs": [
    {
     "data": {
      "image/png": "[encoded data removed]",
      "text/plain": [
       "<Figure size 720x576 with 1 Axes>"
      ]
     },
     "metadata": {
      "needs_background": "light"
     },
     "output_type": "display_data"
    }
   ],
   "source": [
    "# посмотрим на кривую ошибок при изменении порога классификации\n",
    "#для лучшей модели на тестовых данных\n",
    "\n",
    "# вычислим значения ошибок и порога\n",
    "fpr, tpr, thresholds = roc_curve(y_test, probabilities_test[:, 1])\n",
    "\n",
    "# выведем графики кривой ошибок для всех моделей\n",
    "plt.figure(figsize=(10, 8))\n",
    "plt.plot(fpr, tpr, linestyle='-', label='Logistic Regression')\n",
    "plt.plot([0, 1], [0, 1], linestyle=':', label='Dummy Model') # добавим график для случаной модели\n",
    "plt.legend()\n",
    "plt.xlabel('False Positive Rate')\n",
    "plt.ylabel('True Positive Rate')\n",
    "plt.ylim([0.0, 1.0])\n",
    "plt.xlim([0.0, 1.0])\n",
    "plt.title('ROC-кривая')\n",
    "plt.show()"
   ]
  },
  {
   "cell_type": "markdown",
   "id": "e7d3c400",
   "metadata": {},
   "source": [
    "ROC- кривые показывают отношение ложноположительных ответов (FPR) и истинно положительных ответов (TPR) по мере изменения порога классификации. Для оценки качества модели используется площадь под соотвествующей кривой - метрика AUC-ROC. Судя по характеру кривой ошибок и площади под кривой, качество предсказаний для модели на тестовых данных достаточно высоко. "
   ]
  },
  {
   "cell_type": "markdown",
   "id": "cc623e12",
   "metadata": {},
   "source": [
    "# Выводы\n",
    "\n",
    "В результате исследования достигнута цель и выполнена задача проекта - построена модель машинного обучения, способная достаточно точно предсказать намерение клиента отказаться от услуг оператора.\n",
    "\n",
    "Лушие результаты показала модель Catboost - AUC-ROC = 0.92.\n",
    "\n",
    "В ходе работы над проектом выполнены следующие этапы и получены результаты:\n",
    "1. Данные загружены и исследованы;\n",
    "2. Выполнена данных:\n",
    "    - данные преобразованы;\n",
    "    - сгенерированы синтетические признаки;\n",
    "    - исследованы аномалии.\n",
    "3. Выполнен исследовательский анализ данных\n",
    "   - обнаружен дисбаланс целевого признака;\n",
    "   - составлен портрет пользователя, решившего откаться от услуг оператора.\n",
    "4. Выполнено обучение моделей и получены результаты:\n",
    "   - Логистическая регрессия: AUC-ROC = 0.77;\n",
    "   - Случайный лес: AUC-ROC = 0.82;\n",
    "   - Catboost: AUC-ROC = 0.89;\n",
    "5. Протестирована лучшая модель Catboost: AUC-ROC = 0.92.\n"
   ]
  }
 ],
 "metadata": {
  "ExecuteTimeLog": [
   {
    "duration": 1321,
    "start_time": "2023-04-25T13:44:00.780Z"
   },
   {
    "duration": 9,
    "start_time": "2023-04-25T13:44:02.103Z"
   },
   {
    "duration": 163,
    "start_time": "2023-04-25T13:44:02.113Z"
   },
   {
    "duration": 4,
    "start_time": "2023-04-25T13:44:02.278Z"
   },
   {
    "duration": 83,
    "start_time": "2023-04-25T13:44:02.284Z"
   },
   {
    "duration": 43,
    "start_time": "2023-04-25T13:44:02.369Z"
   },
   {
    "duration": 49,
    "start_time": "2023-04-25T13:44:02.413Z"
   },
   {
    "duration": 57,
    "start_time": "2023-04-25T13:44:02.464Z"
   }
  ],
  "kernelspec": {
   "display_name": "Python 3 (ipykernel)",
   "language": "python",
   "name": "python3"
  },
  "language_info": {
   "codemirror_mode": {
    "name": "ipython",
    "version": 3
   },
   "file_extension": ".py",
   "mimetype": "text/x-python",
   "name": "python",
   "nbconvert_exporter": "python",
   "pygments_lexer": "ipython3",
   "version": "3.9.12"
  },
  "toc": {
   "base_numbering": 1,
   "nav_menu": {},
   "number_sections": true,
   "sideBar": true,
   "skip_h1_title": true,
   "title_cell": "Table of Contents",
   "title_sidebar": "Contents",
   "toc_cell": true,
   "toc_position": {},
   "toc_section_display": true,
   "toc_window_display": false
  }
 },
 "nbformat": 4,
 "nbformat_minor": 5
}
