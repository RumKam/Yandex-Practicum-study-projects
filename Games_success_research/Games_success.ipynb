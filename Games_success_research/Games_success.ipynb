{
 "cells": [
  {
   "cell_type": "markdown",
   "id": "22db56f1",
   "metadata": {},
   "source": [
    "# Исследование успешности компьютерных игр\n",
    "\n",
    "Описание данных:\n",
    "\n",
    "* Name — название игры\n",
    "* Platform — платформа\n",
    "* Year_of_Release — год выпуска\n",
    "* Genre — жанр игры\n",
    "* NA_sales — продажи в Северной Америке (миллионы проданных копий)\n",
    "* EU_sales — продажи в Европе (миллионы проданных копий)\n",
    "* JP_sales — продажи в Японии (миллионы проданных копий)\n",
    "* Other_sales — продажи в других странах (миллионы проданных копий)\n",
    "* Critic_Score — оценка критиков (максимум 100)\n",
    "* User_Score — оценка пользователей (максимум 10)\n",
    "* Rating — рейтинг от организации ESRB*.\n",
    "\n",
    "*ESRB (Entertainment Software Rating Board) — это ассоциация, определяющая возрастной рейтинг компьютерных игр. ESRB оценивает игровой контент и присваивает ему подходящую возрастную категорию, например, «Для взрослых», «Для детей младшего возраста» или «Для подростков».\n",
    "\n",
    "\n",
    "## План работы\n",
    "\n",
    "1. Открыть и изучить данные;\n",
    "2. Подготовить данные;\n",
    "3. Провести исследовательский анализ данных;\n",
    "4. Составить портрет пользователя каждого региона;\n",
    "5. Проверить гипотезы:\n",
    "   - Средние пользовательские рейтинги платформ Xbox One и PC одинаковые;\n",
    "   - Средние пользовательские рейтинги жанров Action и Sports разные.\n",
    "6. Общий вывод"
   ]
  },
  {
   "cell_type": "markdown",
   "id": "ea0f699e",
   "metadata": {},
   "source": [
    "## 1 Изучение данных"
   ]
  },
  {
   "cell_type": "code",
   "execution_count": 1,
   "id": "a0e82e07",
   "metadata": {},
   "outputs": [],
   "source": [
    "# импорт библиотек\n",
    "import pandas as pd \n",
    "import matplotlib.pyplot as plt     \n",
    "import numpy as np\n",
    "import seaborn as sns\n",
    "\n",
    "from scipy import stats as st\n",
    "\n",
    "import warnings\n",
    "warnings.filterwarnings(\"ignore\")"
   ]
  },
  {
   "cell_type": "code",
   "execution_count": 2,
   "id": "6c9cc19b",
   "metadata": {},
   "outputs": [],
   "source": [
    "# загрузим датасет\n",
    "data = pd.read_csv('games.csv')"
   ]
  },
  {
   "cell_type": "code",
   "execution_count": 3,
   "id": "74f8f92b",
   "metadata": {
    "scrolled": true
   },
   "outputs": [
    {
     "data": {
      "text/html": [
       "<div>\n",
       "<style scoped>\n",
       "    .dataframe tbody tr th:only-of-type {\n",
       "        vertical-align: middle;\n",
       "    }\n",
       "\n",
       "    .dataframe tbody tr th {\n",
       "        vertical-align: top;\n",
       "    }\n",
       "\n",
       "    .dataframe thead th {\n",
       "        text-align: right;\n",
       "    }\n",
       "</style>\n",
       "<table border=\"1\" class=\"dataframe\">\n",
       "  <thead>\n",
       "    <tr style=\"text-align: right;\">\n",
       "      <th></th>\n",
       "      <th>Name</th>\n",
       "      <th>Platform</th>\n",
       "      <th>Year_of_Release</th>\n",
       "      <th>Genre</th>\n",
       "      <th>NA_sales</th>\n",
       "      <th>EU_sales</th>\n",
       "      <th>JP_sales</th>\n",
       "      <th>Other_sales</th>\n",
       "      <th>Critic_Score</th>\n",
       "      <th>User_Score</th>\n",
       "      <th>Rating</th>\n",
       "    </tr>\n",
       "  </thead>\n",
       "  <tbody>\n",
       "    <tr>\n",
       "      <th>0</th>\n",
       "      <td>Wii Sports</td>\n",
       "      <td>Wii</td>\n",
       "      <td>2006.0</td>\n",
       "      <td>Sports</td>\n",
       "      <td>41.36</td>\n",
       "      <td>28.96</td>\n",
       "      <td>3.77</td>\n",
       "      <td>8.45</td>\n",
       "      <td>76.0</td>\n",
       "      <td>8</td>\n",
       "      <td>E</td>\n",
       "    </tr>\n",
       "    <tr>\n",
       "      <th>1</th>\n",
       "      <td>Super Mario Bros.</td>\n",
       "      <td>NES</td>\n",
       "      <td>1985.0</td>\n",
       "      <td>Platform</td>\n",
       "      <td>29.08</td>\n",
       "      <td>3.58</td>\n",
       "      <td>6.81</td>\n",
       "      <td>0.77</td>\n",
       "      <td>NaN</td>\n",
       "      <td>NaN</td>\n",
       "      <td>NaN</td>\n",
       "    </tr>\n",
       "    <tr>\n",
       "      <th>2</th>\n",
       "      <td>Mario Kart Wii</td>\n",
       "      <td>Wii</td>\n",
       "      <td>2008.0</td>\n",
       "      <td>Racing</td>\n",
       "      <td>15.68</td>\n",
       "      <td>12.76</td>\n",
       "      <td>3.79</td>\n",
       "      <td>3.29</td>\n",
       "      <td>82.0</td>\n",
       "      <td>8.3</td>\n",
       "      <td>E</td>\n",
       "    </tr>\n",
       "    <tr>\n",
       "      <th>3</th>\n",
       "      <td>Wii Sports Resort</td>\n",
       "      <td>Wii</td>\n",
       "      <td>2009.0</td>\n",
       "      <td>Sports</td>\n",
       "      <td>15.61</td>\n",
       "      <td>10.93</td>\n",
       "      <td>3.28</td>\n",
       "      <td>2.95</td>\n",
       "      <td>80.0</td>\n",
       "      <td>8</td>\n",
       "      <td>E</td>\n",
       "    </tr>\n",
       "    <tr>\n",
       "      <th>4</th>\n",
       "      <td>Pokemon Red/Pokemon Blue</td>\n",
       "      <td>GB</td>\n",
       "      <td>1996.0</td>\n",
       "      <td>Role-Playing</td>\n",
       "      <td>11.27</td>\n",
       "      <td>8.89</td>\n",
       "      <td>10.22</td>\n",
       "      <td>1.00</td>\n",
       "      <td>NaN</td>\n",
       "      <td>NaN</td>\n",
       "      <td>NaN</td>\n",
       "    </tr>\n",
       "    <tr>\n",
       "      <th>5</th>\n",
       "      <td>Tetris</td>\n",
       "      <td>GB</td>\n",
       "      <td>1989.0</td>\n",
       "      <td>Puzzle</td>\n",
       "      <td>23.20</td>\n",
       "      <td>2.26</td>\n",
       "      <td>4.22</td>\n",
       "      <td>0.58</td>\n",
       "      <td>NaN</td>\n",
       "      <td>NaN</td>\n",
       "      <td>NaN</td>\n",
       "    </tr>\n",
       "    <tr>\n",
       "      <th>6</th>\n",
       "      <td>New Super Mario Bros.</td>\n",
       "      <td>DS</td>\n",
       "      <td>2006.0</td>\n",
       "      <td>Platform</td>\n",
       "      <td>11.28</td>\n",
       "      <td>9.14</td>\n",
       "      <td>6.50</td>\n",
       "      <td>2.88</td>\n",
       "      <td>89.0</td>\n",
       "      <td>8.5</td>\n",
       "      <td>E</td>\n",
       "    </tr>\n",
       "    <tr>\n",
       "      <th>7</th>\n",
       "      <td>Wii Play</td>\n",
       "      <td>Wii</td>\n",
       "      <td>2006.0</td>\n",
       "      <td>Misc</td>\n",
       "      <td>13.96</td>\n",
       "      <td>9.18</td>\n",
       "      <td>2.93</td>\n",
       "      <td>2.84</td>\n",
       "      <td>58.0</td>\n",
       "      <td>6.6</td>\n",
       "      <td>E</td>\n",
       "    </tr>\n",
       "    <tr>\n",
       "      <th>8</th>\n",
       "      <td>New Super Mario Bros. Wii</td>\n",
       "      <td>Wii</td>\n",
       "      <td>2009.0</td>\n",
       "      <td>Platform</td>\n",
       "      <td>14.44</td>\n",
       "      <td>6.94</td>\n",
       "      <td>4.70</td>\n",
       "      <td>2.24</td>\n",
       "      <td>87.0</td>\n",
       "      <td>8.4</td>\n",
       "      <td>E</td>\n",
       "    </tr>\n",
       "    <tr>\n",
       "      <th>9</th>\n",
       "      <td>Duck Hunt</td>\n",
       "      <td>NES</td>\n",
       "      <td>1984.0</td>\n",
       "      <td>Shooter</td>\n",
       "      <td>26.93</td>\n",
       "      <td>0.63</td>\n",
       "      <td>0.28</td>\n",
       "      <td>0.47</td>\n",
       "      <td>NaN</td>\n",
       "      <td>NaN</td>\n",
       "      <td>NaN</td>\n",
       "    </tr>\n",
       "  </tbody>\n",
       "</table>\n",
       "</div>"
      ],
      "text/plain": [
       "                        Name Platform  Year_of_Release         Genre  \\\n",
       "0                 Wii Sports      Wii           2006.0        Sports   \n",
       "1          Super Mario Bros.      NES           1985.0      Platform   \n",
       "2             Mario Kart Wii      Wii           2008.0        Racing   \n",
       "3          Wii Sports Resort      Wii           2009.0        Sports   \n",
       "4   Pokemon Red/Pokemon Blue       GB           1996.0  Role-Playing   \n",
       "5                     Tetris       GB           1989.0        Puzzle   \n",
       "6      New Super Mario Bros.       DS           2006.0      Platform   \n",
       "7                   Wii Play      Wii           2006.0          Misc   \n",
       "8  New Super Mario Bros. Wii      Wii           2009.0      Platform   \n",
       "9                  Duck Hunt      NES           1984.0       Shooter   \n",
       "\n",
       "   NA_sales  EU_sales  JP_sales  Other_sales  Critic_Score User_Score Rating  \n",
       "0     41.36     28.96      3.77         8.45          76.0          8      E  \n",
       "1     29.08      3.58      6.81         0.77           NaN        NaN    NaN  \n",
       "2     15.68     12.76      3.79         3.29          82.0        8.3      E  \n",
       "3     15.61     10.93      3.28         2.95          80.0          8      E  \n",
       "4     11.27      8.89     10.22         1.00           NaN        NaN    NaN  \n",
       "5     23.20      2.26      4.22         0.58           NaN        NaN    NaN  \n",
       "6     11.28      9.14      6.50         2.88          89.0        8.5      E  \n",
       "7     13.96      9.18      2.93         2.84          58.0        6.6      E  \n",
       "8     14.44      6.94      4.70         2.24          87.0        8.4      E  \n",
       "9     26.93      0.63      0.28         0.47           NaN        NaN    NaN  "
      ]
     },
     "execution_count": 3,
     "metadata": {},
     "output_type": "execute_result"
    }
   ],
   "source": [
    "# просмотрим названия столбцов и порядок значений в них\n",
    "data.head(10)"
   ]
  },
  {
   "cell_type": "code",
   "execution_count": 4,
   "id": "beacde81",
   "metadata": {},
   "outputs": [
    {
     "name": "stdout",
     "output_type": "stream",
     "text": [
      "<class 'pandas.core.frame.DataFrame'>\n",
      "RangeIndex: 16715 entries, 0 to 16714\n",
      "Data columns (total 11 columns):\n",
      " #   Column           Non-Null Count  Dtype  \n",
      "---  ------           --------------  -----  \n",
      " 0   Name             16713 non-null  object \n",
      " 1   Platform         16715 non-null  object \n",
      " 2   Year_of_Release  16446 non-null  float64\n",
      " 3   Genre            16713 non-null  object \n",
      " 4   NA_sales         16715 non-null  float64\n",
      " 5   EU_sales         16715 non-null  float64\n",
      " 6   JP_sales         16715 non-null  float64\n",
      " 7   Other_sales      16715 non-null  float64\n",
      " 8   Critic_Score     8137 non-null   float64\n",
      " 9   User_Score       10014 non-null  object \n",
      " 10  Rating           9949 non-null   object \n",
      "dtypes: float64(6), object(5)\n",
      "memory usage: 1.4+ MB\n"
     ]
    }
   ],
   "source": [
    "# изучим количество пропусков и тип значений в каждом столбце\n",
    "data.info()"
   ]
  },
  {
   "cell_type": "code",
   "execution_count": 5,
   "id": "ef7ef9b4",
   "metadata": {},
   "outputs": [
    {
     "data": {
      "image/png": "[encoded data removed]",
      "text/plain": [
       "<Figure size 1080x1440 with 6 Axes>"
      ]
     },
     "metadata": {
      "needs_background": "light"
     },
     "output_type": "display_data"
    }
   ],
   "source": [
    "#посмотрим на распределения значений на гистрораммах\n",
    "data.hist(figsize=(15, 20))\n",
    "None"
   ]
  },
  {
   "cell_type": "markdown",
   "id": "38ff7884",
   "metadata": {},
   "source": [
    "По итогу изучения исходных данных можно сделать несколько выводов:\n",
    "- представленные данных полны и достаточны для исследвания;\n",
    "- значения в столбцах critic_score и year_of_release распределены нормально;\n",
    "- столбцы, содержащие данные о количестве проданных копий имеют большие выбросы в большую сторону;\n",
    "- данные в столбце user_score представлены в неверном виде, поскольку там должны быть численные значения."
   ]
  },
  {
   "cell_type": "markdown",
   "id": "d546e5cf",
   "metadata": {},
   "source": [
    "## 2 Предобработка данных"
   ]
  },
  {
   "cell_type": "code",
   "execution_count": 6,
   "id": "b4e5c7b1",
   "metadata": {},
   "outputs": [],
   "source": [
    "#приведем названия колонок к нижнему регистру\n",
    "data.columns = data.columns.str.lower()"
   ]
  },
  {
   "cell_type": "code",
   "execution_count": 7,
   "id": "3336f9a2",
   "metadata": {},
   "outputs": [
    {
     "data": {
      "text/html": [
       "<style type=\"text/css\">\n",
       "#T_38cba_row0_col0, #T_38cba_row1_col0, #T_38cba_row3_col0, #T_38cba_row4_col0, #T_38cba_row5_col0, #T_38cba_row6_col0, #T_38cba_row7_col0 {\n",
       "  background-color: #3b4cc0;\n",
       "  color: #f1f1f1;\n",
       "}\n",
       "#T_38cba_row2_col0 {\n",
       "  background-color: #445acc;\n",
       "  color: #f1f1f1;\n",
       "}\n",
       "#T_38cba_row8_col0 {\n",
       "  background-color: #b40426;\n",
       "  color: #f1f1f1;\n",
       "}\n",
       "#T_38cba_row9_col0 {\n",
       "  background-color: #f18d6f;\n",
       "  color: #f1f1f1;\n",
       "}\n",
       "#T_38cba_row10_col0 {\n",
       "  background-color: #f08a6c;\n",
       "  color: #f1f1f1;\n",
       "}\n",
       "</style>\n",
       "<table id=\"T_38cba\">\n",
       "  <thead>\n",
       "    <tr>\n",
       "      <th class=\"blank level0\" >&nbsp;</th>\n",
       "      <th id=\"T_38cba_level0_col0\" class=\"col_heading level0 col0\" >0</th>\n",
       "    </tr>\n",
       "  </thead>\n",
       "  <tbody>\n",
       "    <tr>\n",
       "      <th id=\"T_38cba_level0_row0\" class=\"row_heading level0 row0\" >name</th>\n",
       "      <td id=\"T_38cba_row0_col0\" class=\"data row0 col0\" >0.0</td>\n",
       "    </tr>\n",
       "    <tr>\n",
       "      <th id=\"T_38cba_level0_row1\" class=\"row_heading level0 row1\" >platform</th>\n",
       "      <td id=\"T_38cba_row1_col0\" class=\"data row1 col0\" >0.0</td>\n",
       "    </tr>\n",
       "    <tr>\n",
       "      <th id=\"T_38cba_level0_row2\" class=\"row_heading level0 row2\" >year_of_release</th>\n",
       "      <td id=\"T_38cba_row2_col0\" class=\"data row2 col0\" >1.6</td>\n",
       "    </tr>\n",
       "    <tr>\n",
       "      <th id=\"T_38cba_level0_row3\" class=\"row_heading level0 row3\" >genre</th>\n",
       "      <td id=\"T_38cba_row3_col0\" class=\"data row3 col0\" >0.0</td>\n",
       "    </tr>\n",
       "    <tr>\n",
       "      <th id=\"T_38cba_level0_row4\" class=\"row_heading level0 row4\" >na_sales</th>\n",
       "      <td id=\"T_38cba_row4_col0\" class=\"data row4 col0\" >0.0</td>\n",
       "    </tr>\n",
       "    <tr>\n",
       "      <th id=\"T_38cba_level0_row5\" class=\"row_heading level0 row5\" >eu_sales</th>\n",
       "      <td id=\"T_38cba_row5_col0\" class=\"data row5 col0\" >0.0</td>\n",
       "    </tr>\n",
       "    <tr>\n",
       "      <th id=\"T_38cba_level0_row6\" class=\"row_heading level0 row6\" >jp_sales</th>\n",
       "      <td id=\"T_38cba_row6_col0\" class=\"data row6 col0\" >0.0</td>\n",
       "    </tr>\n",
       "    <tr>\n",
       "      <th id=\"T_38cba_level0_row7\" class=\"row_heading level0 row7\" >other_sales</th>\n",
       "      <td id=\"T_38cba_row7_col0\" class=\"data row7 col0\" >0.0</td>\n",
       "    </tr>\n",
       "    <tr>\n",
       "      <th id=\"T_38cba_level0_row8\" class=\"row_heading level0 row8\" >critic_score</th>\n",
       "      <td id=\"T_38cba_row8_col0\" class=\"data row8 col0\" >51.3</td>\n",
       "    </tr>\n",
       "    <tr>\n",
       "      <th id=\"T_38cba_level0_row9\" class=\"row_heading level0 row9\" >user_score</th>\n",
       "      <td id=\"T_38cba_row9_col0\" class=\"data row9 col0\" >40.1</td>\n",
       "    </tr>\n",
       "    <tr>\n",
       "      <th id=\"T_38cba_level0_row10\" class=\"row_heading level0 row10\" >rating</th>\n",
       "      <td id=\"T_38cba_row10_col0\" class=\"data row10 col0\" >40.5</td>\n",
       "    </tr>\n",
       "  </tbody>\n",
       "</table>\n"
      ],
      "text/plain": [
       "<pandas.io.formats.style.Styler at 0x20470117e80>"
      ]
     },
     "execution_count": 7,
     "metadata": {},
     "output_type": "execute_result"
    }
   ],
   "source": [
    "#Посмотрим на количество пропусков в столбцах, выраженных в процентах\n",
    "pd.DataFrame(data.isna().mean()*100).style.set_precision(1).background_gradient('coolwarm')"
   ]
  },
  {
   "cell_type": "code",
   "execution_count": 8,
   "id": "63e827e9",
   "metadata": {},
   "outputs": [],
   "source": [
    "#удалим данные с пропусками, где их количество незначительно\n",
    "data.dropna(subset=['name', 'year_of_release', 'genre'], inplace = True)"
   ]
  },
  {
   "cell_type": "markdown",
   "id": "5b174f2d",
   "metadata": {},
   "source": [
    "В столбцах 'name', 'year_of_release', 'genre' количество данных с пропущенными значениями незначительно, составляет меньше 1%. От этих данных можно избавиться, чтобы в дальнейшем получить более правильное распределение и получить более достоверный прогноз.\n",
    "\n",
    "Пропуски в данных могут возникнуть последующим причинам:\n",
    "1. ошибка при ручном вводе;\n",
    "2. программная ошибка при выгрузке или обработке исходных данных;\n",
    "3. намерянное оставление пропусков, например, когда нет достаточно информации."
   ]
  },
  {
   "cell_type": "code",
   "execution_count": 9,
   "id": "1e277424",
   "metadata": {
    "scrolled": false
   },
   "outputs": [
    {
     "data": {
      "text/html": [
       "<div>\n",
       "<style scoped>\n",
       "    .dataframe tbody tr th:only-of-type {\n",
       "        vertical-align: middle;\n",
       "    }\n",
       "\n",
       "    .dataframe tbody tr th {\n",
       "        vertical-align: top;\n",
       "    }\n",
       "\n",
       "    .dataframe thead th {\n",
       "        text-align: right;\n",
       "    }\n",
       "</style>\n",
       "<table border=\"1\" class=\"dataframe\">\n",
       "  <thead>\n",
       "    <tr style=\"text-align: right;\">\n",
       "      <th></th>\n",
       "      <th>name</th>\n",
       "      <th>platform</th>\n",
       "      <th>year_of_release</th>\n",
       "      <th>genre</th>\n",
       "      <th>na_sales</th>\n",
       "      <th>eu_sales</th>\n",
       "      <th>jp_sales</th>\n",
       "      <th>other_sales</th>\n",
       "      <th>critic_score</th>\n",
       "      <th>user_score</th>\n",
       "      <th>rating</th>\n",
       "    </tr>\n",
       "  </thead>\n",
       "  <tbody>\n",
       "    <tr>\n",
       "      <th>119</th>\n",
       "      <td>Zumba Fitness</td>\n",
       "      <td>Wii</td>\n",
       "      <td>2010.0</td>\n",
       "      <td>Sports</td>\n",
       "      <td>3.45</td>\n",
       "      <td>2.59</td>\n",
       "      <td>0.0</td>\n",
       "      <td>0.66</td>\n",
       "      <td>NaN</td>\n",
       "      <td>tbd</td>\n",
       "      <td>E</td>\n",
       "    </tr>\n",
       "    <tr>\n",
       "      <th>301</th>\n",
       "      <td>Namco Museum: 50th Anniversary</td>\n",
       "      <td>PS2</td>\n",
       "      <td>2005.0</td>\n",
       "      <td>Misc</td>\n",
       "      <td>2.08</td>\n",
       "      <td>1.35</td>\n",
       "      <td>0.0</td>\n",
       "      <td>0.54</td>\n",
       "      <td>61.0</td>\n",
       "      <td>tbd</td>\n",
       "      <td>E10+</td>\n",
       "    </tr>\n",
       "    <tr>\n",
       "      <th>520</th>\n",
       "      <td>Zumba Fitness 2</td>\n",
       "      <td>Wii</td>\n",
       "      <td>2011.0</td>\n",
       "      <td>Sports</td>\n",
       "      <td>1.51</td>\n",
       "      <td>1.03</td>\n",
       "      <td>0.0</td>\n",
       "      <td>0.27</td>\n",
       "      <td>NaN</td>\n",
       "      <td>tbd</td>\n",
       "      <td>T</td>\n",
       "    </tr>\n",
       "    <tr>\n",
       "      <th>645</th>\n",
       "      <td>uDraw Studio</td>\n",
       "      <td>Wii</td>\n",
       "      <td>2010.0</td>\n",
       "      <td>Misc</td>\n",
       "      <td>1.65</td>\n",
       "      <td>0.57</td>\n",
       "      <td>0.0</td>\n",
       "      <td>0.20</td>\n",
       "      <td>71.0</td>\n",
       "      <td>tbd</td>\n",
       "      <td>E</td>\n",
       "    </tr>\n",
       "    <tr>\n",
       "      <th>718</th>\n",
       "      <td>Just Dance Kids</td>\n",
       "      <td>Wii</td>\n",
       "      <td>2010.0</td>\n",
       "      <td>Misc</td>\n",
       "      <td>1.52</td>\n",
       "      <td>0.54</td>\n",
       "      <td>0.0</td>\n",
       "      <td>0.18</td>\n",
       "      <td>NaN</td>\n",
       "      <td>tbd</td>\n",
       "      <td>E</td>\n",
       "    </tr>\n",
       "    <tr>\n",
       "      <th>...</th>\n",
       "      <td>...</td>\n",
       "      <td>...</td>\n",
       "      <td>...</td>\n",
       "      <td>...</td>\n",
       "      <td>...</td>\n",
       "      <td>...</td>\n",
       "      <td>...</td>\n",
       "      <td>...</td>\n",
       "      <td>...</td>\n",
       "      <td>...</td>\n",
       "      <td>...</td>\n",
       "    </tr>\n",
       "    <tr>\n",
       "      <th>16695</th>\n",
       "      <td>Planet Monsters</td>\n",
       "      <td>GBA</td>\n",
       "      <td>2001.0</td>\n",
       "      <td>Action</td>\n",
       "      <td>0.01</td>\n",
       "      <td>0.00</td>\n",
       "      <td>0.0</td>\n",
       "      <td>0.00</td>\n",
       "      <td>67.0</td>\n",
       "      <td>tbd</td>\n",
       "      <td>E</td>\n",
       "    </tr>\n",
       "    <tr>\n",
       "      <th>16697</th>\n",
       "      <td>Bust-A-Move 3000</td>\n",
       "      <td>GC</td>\n",
       "      <td>2003.0</td>\n",
       "      <td>Puzzle</td>\n",
       "      <td>0.01</td>\n",
       "      <td>0.00</td>\n",
       "      <td>0.0</td>\n",
       "      <td>0.00</td>\n",
       "      <td>53.0</td>\n",
       "      <td>tbd</td>\n",
       "      <td>E</td>\n",
       "    </tr>\n",
       "    <tr>\n",
       "      <th>16698</th>\n",
       "      <td>Mega Brain Boost</td>\n",
       "      <td>DS</td>\n",
       "      <td>2008.0</td>\n",
       "      <td>Puzzle</td>\n",
       "      <td>0.01</td>\n",
       "      <td>0.00</td>\n",
       "      <td>0.0</td>\n",
       "      <td>0.00</td>\n",
       "      <td>48.0</td>\n",
       "      <td>tbd</td>\n",
       "      <td>E</td>\n",
       "    </tr>\n",
       "    <tr>\n",
       "      <th>16704</th>\n",
       "      <td>Plushees</td>\n",
       "      <td>DS</td>\n",
       "      <td>2008.0</td>\n",
       "      <td>Simulation</td>\n",
       "      <td>0.01</td>\n",
       "      <td>0.00</td>\n",
       "      <td>0.0</td>\n",
       "      <td>0.00</td>\n",
       "      <td>NaN</td>\n",
       "      <td>tbd</td>\n",
       "      <td>E</td>\n",
       "    </tr>\n",
       "    <tr>\n",
       "      <th>16706</th>\n",
       "      <td>Men in Black II: Alien Escape</td>\n",
       "      <td>GC</td>\n",
       "      <td>2003.0</td>\n",
       "      <td>Shooter</td>\n",
       "      <td>0.01</td>\n",
       "      <td>0.00</td>\n",
       "      <td>0.0</td>\n",
       "      <td>0.00</td>\n",
       "      <td>NaN</td>\n",
       "      <td>tbd</td>\n",
       "      <td>T</td>\n",
       "    </tr>\n",
       "  </tbody>\n",
       "</table>\n",
       "<p>2376 rows × 11 columns</p>\n",
       "</div>"
      ],
      "text/plain": [
       "                                 name platform  year_of_release       genre  \\\n",
       "119                     Zumba Fitness      Wii           2010.0      Sports   \n",
       "301    Namco Museum: 50th Anniversary      PS2           2005.0        Misc   \n",
       "520                   Zumba Fitness 2      Wii           2011.0      Sports   \n",
       "645                      uDraw Studio      Wii           2010.0        Misc   \n",
       "718                   Just Dance Kids      Wii           2010.0        Misc   \n",
       "...                               ...      ...              ...         ...   \n",
       "16695                 Planet Monsters      GBA           2001.0      Action   \n",
       "16697                Bust-A-Move 3000       GC           2003.0      Puzzle   \n",
       "16698                Mega Brain Boost       DS           2008.0      Puzzle   \n",
       "16704                        Plushees       DS           2008.0  Simulation   \n",
       "16706   Men in Black II: Alien Escape       GC           2003.0     Shooter   \n",
       "\n",
       "       na_sales  eu_sales  jp_sales  other_sales  critic_score user_score  \\\n",
       "119        3.45      2.59       0.0         0.66           NaN        tbd   \n",
       "301        2.08      1.35       0.0         0.54          61.0        tbd   \n",
       "520        1.51      1.03       0.0         0.27           NaN        tbd   \n",
       "645        1.65      0.57       0.0         0.20          71.0        tbd   \n",
       "718        1.52      0.54       0.0         0.18           NaN        tbd   \n",
       "...         ...       ...       ...          ...           ...        ...   \n",
       "16695      0.01      0.00       0.0         0.00          67.0        tbd   \n",
       "16697      0.01      0.00       0.0         0.00          53.0        tbd   \n",
       "16698      0.01      0.00       0.0         0.00          48.0        tbd   \n",
       "16704      0.01      0.00       0.0         0.00           NaN        tbd   \n",
       "16706      0.01      0.00       0.0         0.00           NaN        tbd   \n",
       "\n",
       "      rating  \n",
       "119        E  \n",
       "301     E10+  \n",
       "520        T  \n",
       "645        E  \n",
       "718        E  \n",
       "...      ...  \n",
       "16695      E  \n",
       "16697      E  \n",
       "16698      E  \n",
       "16704      E  \n",
       "16706      T  \n",
       "\n",
       "[2376 rows x 11 columns]"
      ]
     },
     "execution_count": 9,
     "metadata": {},
     "output_type": "execute_result"
    }
   ],
   "source": [
    "#подробнее изучим значения \"tbd\" в данных столбца \"user_score\"\n",
    "data[data['user_score'] == 'tbd']"
   ]
  },
  {
   "cell_type": "markdown",
   "id": "7545bb57",
   "metadata": {},
   "source": [
    "tbd  - означает, оценка не определена. В данной классификации существует рейтинг RP - «Rating Pending», что означает, что рейтинг будет определен позже. На данном этапе нет достоверных данных о том, что в действительности tbd и RP предполагают одно и то же. Принято решение эти значения заменить на nan, поскольку для данного этапа анализа это, по-сути, одно и то же."
   ]
  },
  {
   "cell_type": "code",
   "execution_count": 10,
   "id": "d79236fb",
   "metadata": {
    "scrolled": false
   },
   "outputs": [],
   "source": [
    "#заменим значения 'tbd' на nan и проверим\n",
    "data.replace('tbd', np.nan, inplace=True)"
   ]
  },
  {
   "cell_type": "code",
   "execution_count": 11,
   "id": "59b9362a",
   "metadata": {},
   "outputs": [],
   "source": [
    "#заменим данные в колонке с годом релиза на целочисленные\n",
    "data['year_of_release'] = data['year_of_release'].astype('int')\n",
    "\n",
    "#а данные с оценкой пользователей на вещественные\n",
    "data['user_score'] = data['user_score'].astype('float64')"
   ]
  },
  {
   "cell_type": "markdown",
   "id": "a7b20c46",
   "metadata": {},
   "source": [
    "Значения в столбце 'year_of_release' в исходном датафрейме представленны в виде вещественных значений, что несовсем правильно. Данные представленны в виде значения полного года, поэтому логично заменить тип данных на целочисленный. После обработки столбца 'user_score' можно перевести тип данных из категориального в вещественный, чтобы в дальнейшем с ним можно было выполнять операции для оставления таблиц и диаграмм."
   ]
  },
  {
   "cell_type": "code",
   "execution_count": 12,
   "id": "64466c7a",
   "metadata": {},
   "outputs": [
    {
     "name": "stdout",
     "output_type": "stream",
     "text": [
      "<class 'pandas.core.frame.DataFrame'>\n",
      "Int64Index: 16444 entries, 0 to 16714\n",
      "Data columns (total 11 columns):\n",
      " #   Column           Non-Null Count  Dtype  \n",
      "---  ------           --------------  -----  \n",
      " 0   name             16444 non-null  object \n",
      " 1   platform         16444 non-null  object \n",
      " 2   year_of_release  16444 non-null  int32  \n",
      " 3   genre            16444 non-null  object \n",
      " 4   na_sales         16444 non-null  float64\n",
      " 5   eu_sales         16444 non-null  float64\n",
      " 6   jp_sales         16444 non-null  float64\n",
      " 7   other_sales      16444 non-null  float64\n",
      " 8   critic_score     7983 non-null   float64\n",
      " 9   user_score       7463 non-null   float64\n",
      " 10  rating           9768 non-null   object \n",
      "dtypes: float64(6), int32(1), object(4)\n",
      "memory usage: 1.4+ MB\n"
     ]
    }
   ],
   "source": [
    "#проверим, как заполнены пропуски\n",
    "data.info()"
   ]
  },
  {
   "cell_type": "markdown",
   "id": "7aefae2c",
   "metadata": {},
   "source": [
    "Данные в столбах \"critic_score\", \"user_score\", \"rating\" оставлены с пропусками, поскольку на данном этапе исследования имеется недостаточно данных для их заполнения. Кроме того, замена данных в этих столбцах медианным или средним по какой-то категории или зависимости может привести к рискам получить неверные выводы. Оценка пользователя или критика является субъективной и не может быть спрогнозирована по имеющимся данным, а данные о рейтинге по возрастным ограничениям требуют исследования контента каждой игры, либо поиска этой информации в сторонних источниках. "
   ]
  },
  {
   "cell_type": "code",
   "execution_count": 13,
   "id": "0992fee9",
   "metadata": {},
   "outputs": [],
   "source": [
    "#посчитаем суммарные продажи и запишем в отдельный столбец\n",
    "data['total_sales'] = data[['na_sales', 'eu_sales', 'jp_sales', 'other_sales']].sum(axis=1)"
   ]
  },
  {
   "cell_type": "code",
   "execution_count": 14,
   "id": "acece33d",
   "metadata": {},
   "outputs": [
    {
     "data": {
      "image/png": "[encoded data removed]",
      "text/plain": [
       "<Figure size 432x288 with 1 Axes>"
      ]
     },
     "metadata": {
      "needs_background": "light"
     },
     "output_type": "display_data"
    }
   ],
   "source": [
    "#проверим выбросы в столбце total_sales\n",
    "\n",
    "data.boxplot(column='total_sales')\n",
    "plt.title('Boxplot of Total sales')\n",
    "plt.ylabel('Quantity')\n",
    "None"
   ]
  },
  {
   "cell_type": "code",
   "execution_count": 15,
   "id": "581efe6c",
   "metadata": {},
   "outputs": [
    {
     "data": {
      "text/plain": [
       "0.12162490878131842"
      ]
     },
     "execution_count": 15,
     "metadata": {},
     "output_type": "execute_result"
    }
   ],
   "source": [
    "#Посмотрим, какой процент строк отсечется, если отбросить выбросы более 20 млн проданных копий\n",
    "for_cut = len(data[data['total_sales'] > 20])\n",
    "\n",
    "total = len(data['total_sales'])\n",
    "\n",
    "for_cut*100/total"
   ]
  },
  {
   "cell_type": "markdown",
   "id": "f25df53c",
   "metadata": {},
   "source": [
    "Процент продаж стоимостью более 20 млн составляет менее 1% от всех данных. Эти строки можно удалить, чтобы в дальнейшем исследовании получить более равномерное распределение значений."
   ]
  },
  {
   "cell_type": "code",
   "execution_count": 16,
   "id": "526d7a6e",
   "metadata": {},
   "outputs": [],
   "source": [
    "#фильтруем данные по количеству проданных копий\n",
    "data = data[data['total_sales'] < 20]"
   ]
  },
  {
   "cell_type": "code",
   "execution_count": 17,
   "id": "abc866ba",
   "metadata": {},
   "outputs": [
    {
     "name": "stdout",
     "output_type": "stream",
     "text": [
      "['Pokemon Diamond/Pokemon Pearl' 'Super Mario Land' 'Super Mario Bros. 3'\n",
      " ... 'Woody Woodpecker in Crazy Castle 5' 'LMA Manager 2007'\n",
      " 'Haitaka no Psychedelica']\n",
      "\n",
      "['DS' 'GB' 'NES' 'X360' 'PS2' 'GBA' 'PS4' '3DS' 'PS3' 'Wii' 'N64' 'PS'\n",
      " 'SNES' 'XB' 'PC' '2600' 'PSP' 'XOne' 'WiiU' 'GC' 'GEN' 'DC' 'PSV' 'SAT'\n",
      " 'SCD' 'WS' 'NG' 'TG16' '3DO' 'GG' 'PCFX']\n",
      "\n",
      "[nan 'M' 'E' 'T' 'E10+' 'K-A' 'AO' 'EC' 'RP']\n"
     ]
    }
   ],
   "source": [
    "#проверим категориальные данные на наличие дубликатов\n",
    "\n",
    "print(data['name'].unique())\n",
    "print()\n",
    "print(data['platform'].unique())\n",
    "print()\n",
    "print(data['rating'].unique())"
   ]
  },
  {
   "cell_type": "markdown",
   "id": "dae65765",
   "metadata": {},
   "source": [
    "В столбце 'rating' обнаружены неявные дубликаты. В данном случае, рейтинг 'K-A' и 'E' это одно и то же. Наименование 'K-A'- \"Kids to Adults\" использовалось ранее, позже его заменили на 'E' - «Everyone»."
   ]
  },
  {
   "cell_type": "code",
   "execution_count": 18,
   "id": "c03b5347",
   "metadata": {},
   "outputs": [
    {
     "data": {
      "text/plain": [
       "array(['unknown', 'M', 'E', 'T', 'E10+', 'AO', 'EC', 'RP'], dtype=object)"
      ]
     },
     "execution_count": 18,
     "metadata": {},
     "output_type": "execute_result"
    }
   ],
   "source": [
    "#заменим значения 'K-A' на 'E' и проверим\n",
    "\n",
    "data.replace('K-A', 'E', inplace=True)\n",
    "\n",
    "#заменим значения nan на 'unknown', чтобы эти данные не были отброшены в дальнейшем исследовании\n",
    "data['rating'] = data['rating'].fillna(value='unknown')\n",
    "\n",
    "data['rating'].unique()"
   ]
  },
  {
   "cell_type": "markdown",
   "id": "4e3c113f",
   "metadata": {},
   "source": [
    "Таким образом, исходные данные подготовлены к дальнейшему исследованию. Заменены названия столбцов, удалено незначительное количество строк с пропущенными значениями и большими выбросами в новом стобце 'total_sales'. Кроме того, преобразованы типы данных в тех столбцах, где это было необходимо.  "
   ]
  },
  {
   "cell_type": "markdown",
   "id": "461ed664",
   "metadata": {},
   "source": [
    "## 3 Исследовательский анализ данных"
   ]
  },
  {
   "cell_type": "code",
   "execution_count": 19,
   "id": "f31fa203",
   "metadata": {
    "scrolled": true
   },
   "outputs": [
    {
     "data": {
      "image/png": "[encoded data removed]",
      "text/plain": [
       "<Figure size 432x288 with 1 Axes>"
      ]
     },
     "metadata": {
      "needs_background": "light"
     },
     "output_type": "display_data"
    }
   ],
   "source": [
    "#посмотрим, сколько игр выпускалось в разные годы\n",
    "\n",
    "data.plot(y='year_of_release', title='Histogram: year of release', kind='hist', bins=10, color='blue')\n",
    "plt.xlabel('year of release')\n",
    "None"
   ]
  },
  {
   "cell_type": "markdown",
   "id": "27a8d561",
   "metadata": {},
   "source": [
    "Похоже, что данные до 2000 года незначительны. Они могут быть менее важными, чем в период роста продаж в следующее десятилетие."
   ]
  },
  {
   "cell_type": "code",
   "execution_count": 20,
   "id": "492ad217",
   "metadata": {},
   "outputs": [
    {
     "data": {
      "text/html": [
       "<div>\n",
       "<style scoped>\n",
       "    .dataframe tbody tr th:only-of-type {\n",
       "        vertical-align: middle;\n",
       "    }\n",
       "\n",
       "    .dataframe tbody tr th {\n",
       "        vertical-align: top;\n",
       "    }\n",
       "\n",
       "    .dataframe thead th {\n",
       "        text-align: right;\n",
       "    }\n",
       "</style>\n",
       "<table border=\"1\" class=\"dataframe\">\n",
       "  <thead>\n",
       "    <tr style=\"text-align: right;\">\n",
       "      <th></th>\n",
       "      <th>total_sales</th>\n",
       "    </tr>\n",
       "    <tr>\n",
       "      <th>platform</th>\n",
       "      <th></th>\n",
       "    </tr>\n",
       "  </thead>\n",
       "  <tbody>\n",
       "    <tr>\n",
       "      <th>PS2</th>\n",
       "      <td>1212.75</td>\n",
       "    </tr>\n",
       "    <tr>\n",
       "      <th>X360</th>\n",
       "      <td>939.42</td>\n",
       "    </tr>\n",
       "    <tr>\n",
       "      <th>PS3</th>\n",
       "      <td>910.29</td>\n",
       "    </tr>\n",
       "    <tr>\n",
       "      <th>PS</th>\n",
       "      <td>727.58</td>\n",
       "    </tr>\n",
       "    <tr>\n",
       "      <th>DS</th>\n",
       "      <td>704.96</td>\n",
       "    </tr>\n",
       "    <tr>\n",
       "      <th>Wii</th>\n",
       "      <td>638.62</td>\n",
       "    </tr>\n",
       "    <tr>\n",
       "      <th>PS4</th>\n",
       "      <td>314.14</td>\n",
       "    </tr>\n",
       "    <tr>\n",
       "      <th>GBA</th>\n",
       "      <td>312.88</td>\n",
       "    </tr>\n",
       "    <tr>\n",
       "      <th>PSP</th>\n",
       "      <td>289.53</td>\n",
       "    </tr>\n",
       "    <tr>\n",
       "      <th>3DS</th>\n",
       "      <td>257.81</td>\n",
       "    </tr>\n",
       "  </tbody>\n",
       "</table>\n",
       "</div>"
      ],
      "text/plain": [
       "          total_sales\n",
       "platform             \n",
       "PS2           1212.75\n",
       "X360           939.42\n",
       "PS3            910.29\n",
       "PS             727.58\n",
       "DS             704.96\n",
       "Wii            638.62\n",
       "PS4            314.14\n",
       "GBA            312.88\n",
       "PSP            289.53\n",
       "3DS            257.81"
      ]
     },
     "metadata": {},
     "output_type": "display_data"
    }
   ],
   "source": [
    "#посмотрим, как менялись продажи по платформам\n",
    "#отсортируем данные по платформам и выберем 10 с самыми большими продажами\n",
    "data_grouped = (data.pivot_table(index='platform', values='total_sales', aggfunc='sum')\n",
    "                .sort_values(by='total_sales', ascending=False).head(10))\n",
    "\n",
    "display(data_grouped)"
   ]
  },
  {
   "cell_type": "code",
   "execution_count": 21,
   "id": "c5dd055a",
   "metadata": {
    "scrolled": false
   },
   "outputs": [
    {
     "data": {
      "image/png": "[encoded data removed]",
      "text/plain": [
       "<Figure size 720x360 with 1 Axes>"
      ]
     },
     "metadata": {
      "needs_background": "light"
     },
     "output_type": "display_data"
    },
    {
     "data": {
      "image/png": "[encoded data removed]",
      "text/plain": [
       "<Figure size 720x360 with 1 Axes>"
      ]
     },
     "metadata": {
      "needs_background": "light"
     },
     "output_type": "display_data"
    },
    {
     "data": {
      "image/png": "[encoded data removed]",
      "text/plain": [
       "<Figure size 720x360 with 1 Axes>"
      ]
     },
     "metadata": {
      "needs_background": "light"
     },
     "output_type": "display_data"
    },
    {
     "data": {
      "image/png": "[encoded data removed]",
      "text/plain": [
       "<Figure size 720x360 with 1 Axes>"
      ]
     },
     "metadata": {
      "needs_background": "light"
     },
     "output_type": "display_data"
    },
    {
     "data": {
      "image/png": "[encoded data removed]",
      "text/plain": [
       "<Figure size 720x360 with 1 Axes>"
      ]
     },
     "metadata": {
      "needs_background": "light"
     },
     "output_type": "display_data"
    },
    {
     "data": {
      "image/png": "[encoded data removed]",
      "text/plain": [
       "<Figure size 720x360 with 1 Axes>"
      ]
     },
     "metadata": {
      "needs_background": "light"
     },
     "output_type": "display_data"
    },
    {
     "data": {
      "image/png": "[encoded data removed]",
      "text/plain": [
       "<Figure size 720x360 with 1 Axes>"
      ]
     },
     "metadata": {
      "needs_background": "light"
     },
     "output_type": "display_data"
    },
    {
     "data": {
      "image/png": "[encoded data removed]",
      "text/plain": [
       "<Figure size 720x360 with 1 Axes>"
      ]
     },
     "metadata": {
      "needs_background": "light"
     },
     "output_type": "display_data"
    },
    {
     "data": {
      "image/png": "[encoded data removed]",
      "text/plain": [
       "<Figure size 720x360 with 1 Axes>"
      ]
     },
     "metadata": {
      "needs_background": "light"
     },
     "output_type": "display_data"
    },
    {
     "data": {
      "image/png": "[encoded data removed]",
      "text/plain": [
       "<Figure size 720x360 with 1 Axes>"
      ]
     },
     "metadata": {
      "needs_background": "light"
     },
     "output_type": "display_data"
    }
   ],
   "source": [
    "#построим диаграммы для каждой из выбранных платформ по годам\n",
    "for platf in data.query('platform in @data_grouped.index')['platform'].unique():\n",
    "    sales_graph = (data[data['platform'] == platf] \n",
    "        .pivot_table(index=['year_of_release'], values='total_sales', aggfunc='sum')\n",
    "        .plot(y='total_sales', title=platf, kind='bar', figsize= (10,5), color='blue')\n",
    "     )\n",
    "    plt.ylabel('total sales')\n",
    "    plt.xlabel('year of release')\n",
    "    plt.show()\n",
    "\n",
    "None"
   ]
  },
  {
   "cell_type": "markdown",
   "id": "faaa9910",
   "metadata": {},
   "source": [
    "Судя по году старта продаж игр для каждой из выбранных платформ, можно сделать вывод, что платформы существуют приблизительно 10 лет. Если не учитывать данные до 2000 года, то характерный срок появления новых платформ 1-3 года, а срок исчезновения старых - 8-10 лет."
   ]
  },
  {
   "cell_type": "code",
   "execution_count": 22,
   "id": "3c9fec1e",
   "metadata": {},
   "outputs": [
    {
     "data": {
      "text/html": [
       "<div>\n",
       "<style scoped>\n",
       "    .dataframe tbody tr th:only-of-type {\n",
       "        vertical-align: middle;\n",
       "    }\n",
       "\n",
       "    .dataframe tbody tr th {\n",
       "        vertical-align: top;\n",
       "    }\n",
       "\n",
       "    .dataframe thead th {\n",
       "        text-align: right;\n",
       "    }\n",
       "</style>\n",
       "<table border=\"1\" class=\"dataframe\">\n",
       "  <thead>\n",
       "    <tr style=\"text-align: right;\">\n",
       "      <th></th>\n",
       "      <th>name</th>\n",
       "      <th>platform</th>\n",
       "      <th>year_of_release</th>\n",
       "      <th>genre</th>\n",
       "      <th>na_sales</th>\n",
       "      <th>eu_sales</th>\n",
       "      <th>jp_sales</th>\n",
       "      <th>other_sales</th>\n",
       "      <th>critic_score</th>\n",
       "      <th>user_score</th>\n",
       "      <th>rating</th>\n",
       "      <th>total_sales</th>\n",
       "    </tr>\n",
       "  </thead>\n",
       "  <tbody>\n",
       "    <tr>\n",
       "      <th>31</th>\n",
       "      <td>Call of Duty: Black Ops 3</td>\n",
       "      <td>PS4</td>\n",
       "      <td>2015</td>\n",
       "      <td>Shooter</td>\n",
       "      <td>6.03</td>\n",
       "      <td>5.86</td>\n",
       "      <td>0.36</td>\n",
       "      <td>2.38</td>\n",
       "      <td>NaN</td>\n",
       "      <td>NaN</td>\n",
       "      <td>unknown</td>\n",
       "      <td>14.63</td>\n",
       "    </tr>\n",
       "    <tr>\n",
       "      <th>77</th>\n",
       "      <td>FIFA 16</td>\n",
       "      <td>PS4</td>\n",
       "      <td>2015</td>\n",
       "      <td>Sports</td>\n",
       "      <td>1.12</td>\n",
       "      <td>6.12</td>\n",
       "      <td>0.06</td>\n",
       "      <td>1.28</td>\n",
       "      <td>82.0</td>\n",
       "      <td>4.3</td>\n",
       "      <td>E</td>\n",
       "      <td>8.58</td>\n",
       "    </tr>\n",
       "    <tr>\n",
       "      <th>87</th>\n",
       "      <td>Star Wars Battlefront (2015)</td>\n",
       "      <td>PS4</td>\n",
       "      <td>2015</td>\n",
       "      <td>Shooter</td>\n",
       "      <td>2.99</td>\n",
       "      <td>3.49</td>\n",
       "      <td>0.22</td>\n",
       "      <td>1.28</td>\n",
       "      <td>NaN</td>\n",
       "      <td>NaN</td>\n",
       "      <td>unknown</td>\n",
       "      <td>7.98</td>\n",
       "    </tr>\n",
       "    <tr>\n",
       "      <th>94</th>\n",
       "      <td>FIFA 17</td>\n",
       "      <td>PS4</td>\n",
       "      <td>2016</td>\n",
       "      <td>Sports</td>\n",
       "      <td>0.66</td>\n",
       "      <td>5.75</td>\n",
       "      <td>0.08</td>\n",
       "      <td>1.11</td>\n",
       "      <td>85.0</td>\n",
       "      <td>5.0</td>\n",
       "      <td>E</td>\n",
       "      <td>7.60</td>\n",
       "    </tr>\n",
       "    <tr>\n",
       "      <th>99</th>\n",
       "      <td>Call of Duty: Black Ops 3</td>\n",
       "      <td>XOne</td>\n",
       "      <td>2015</td>\n",
       "      <td>Shooter</td>\n",
       "      <td>4.59</td>\n",
       "      <td>2.11</td>\n",
       "      <td>0.01</td>\n",
       "      <td>0.68</td>\n",
       "      <td>NaN</td>\n",
       "      <td>NaN</td>\n",
       "      <td>unknown</td>\n",
       "      <td>7.39</td>\n",
       "    </tr>\n",
       "    <tr>\n",
       "      <th>...</th>\n",
       "      <td>...</td>\n",
       "      <td>...</td>\n",
       "      <td>...</td>\n",
       "      <td>...</td>\n",
       "      <td>...</td>\n",
       "      <td>...</td>\n",
       "      <td>...</td>\n",
       "      <td>...</td>\n",
       "      <td>...</td>\n",
       "      <td>...</td>\n",
       "      <td>...</td>\n",
       "      <td>...</td>\n",
       "    </tr>\n",
       "    <tr>\n",
       "      <th>16699</th>\n",
       "      <td>The Longest 5 Minutes</td>\n",
       "      <td>PSV</td>\n",
       "      <td>2016</td>\n",
       "      <td>Action</td>\n",
       "      <td>0.00</td>\n",
       "      <td>0.00</td>\n",
       "      <td>0.01</td>\n",
       "      <td>0.00</td>\n",
       "      <td>NaN</td>\n",
       "      <td>NaN</td>\n",
       "      <td>unknown</td>\n",
       "      <td>0.01</td>\n",
       "    </tr>\n",
       "    <tr>\n",
       "      <th>16703</th>\n",
       "      <td>Strawberry Nauts</td>\n",
       "      <td>PSV</td>\n",
       "      <td>2016</td>\n",
       "      <td>Adventure</td>\n",
       "      <td>0.00</td>\n",
       "      <td>0.00</td>\n",
       "      <td>0.01</td>\n",
       "      <td>0.00</td>\n",
       "      <td>NaN</td>\n",
       "      <td>NaN</td>\n",
       "      <td>unknown</td>\n",
       "      <td>0.01</td>\n",
       "    </tr>\n",
       "    <tr>\n",
       "      <th>16710</th>\n",
       "      <td>Samurai Warriors: Sanada Maru</td>\n",
       "      <td>PS3</td>\n",
       "      <td>2016</td>\n",
       "      <td>Action</td>\n",
       "      <td>0.00</td>\n",
       "      <td>0.00</td>\n",
       "      <td>0.01</td>\n",
       "      <td>0.00</td>\n",
       "      <td>NaN</td>\n",
       "      <td>NaN</td>\n",
       "      <td>unknown</td>\n",
       "      <td>0.01</td>\n",
       "    </tr>\n",
       "    <tr>\n",
       "      <th>16712</th>\n",
       "      <td>Haitaka no Psychedelica</td>\n",
       "      <td>PSV</td>\n",
       "      <td>2016</td>\n",
       "      <td>Adventure</td>\n",
       "      <td>0.00</td>\n",
       "      <td>0.00</td>\n",
       "      <td>0.01</td>\n",
       "      <td>0.00</td>\n",
       "      <td>NaN</td>\n",
       "      <td>NaN</td>\n",
       "      <td>unknown</td>\n",
       "      <td>0.01</td>\n",
       "    </tr>\n",
       "    <tr>\n",
       "      <th>16714</th>\n",
       "      <td>Winning Post 8 2016</td>\n",
       "      <td>PSV</td>\n",
       "      <td>2016</td>\n",
       "      <td>Simulation</td>\n",
       "      <td>0.00</td>\n",
       "      <td>0.00</td>\n",
       "      <td>0.01</td>\n",
       "      <td>0.00</td>\n",
       "      <td>NaN</td>\n",
       "      <td>NaN</td>\n",
       "      <td>unknown</td>\n",
       "      <td>0.01</td>\n",
       "    </tr>\n",
       "  </tbody>\n",
       "</table>\n",
       "<p>1108 rows × 12 columns</p>\n",
       "</div>"
      ],
      "text/plain": [
       "                                name platform  year_of_release       genre  \\\n",
       "31         Call of Duty: Black Ops 3      PS4             2015     Shooter   \n",
       "77                           FIFA 16      PS4             2015      Sports   \n",
       "87      Star Wars Battlefront (2015)      PS4             2015     Shooter   \n",
       "94                           FIFA 17      PS4             2016      Sports   \n",
       "99         Call of Duty: Black Ops 3     XOne             2015     Shooter   \n",
       "...                              ...      ...              ...         ...   \n",
       "16699          The Longest 5 Minutes      PSV             2016      Action   \n",
       "16703               Strawberry Nauts      PSV             2016   Adventure   \n",
       "16710  Samurai Warriors: Sanada Maru      PS3             2016      Action   \n",
       "16712        Haitaka no Psychedelica      PSV             2016   Adventure   \n",
       "16714            Winning Post 8 2016      PSV             2016  Simulation   \n",
       "\n",
       "       na_sales  eu_sales  jp_sales  other_sales  critic_score  user_score  \\\n",
       "31         6.03      5.86      0.36         2.38           NaN         NaN   \n",
       "77         1.12      6.12      0.06         1.28          82.0         4.3   \n",
       "87         2.99      3.49      0.22         1.28           NaN         NaN   \n",
       "94         0.66      5.75      0.08         1.11          85.0         5.0   \n",
       "99         4.59      2.11      0.01         0.68           NaN         NaN   \n",
       "...         ...       ...       ...          ...           ...         ...   \n",
       "16699      0.00      0.00      0.01         0.00           NaN         NaN   \n",
       "16703      0.00      0.00      0.01         0.00           NaN         NaN   \n",
       "16710      0.00      0.00      0.01         0.00           NaN         NaN   \n",
       "16712      0.00      0.00      0.01         0.00           NaN         NaN   \n",
       "16714      0.00      0.00      0.01         0.00           NaN         NaN   \n",
       "\n",
       "        rating  total_sales  \n",
       "31     unknown        14.63  \n",
       "77           E         8.58  \n",
       "87     unknown         7.98  \n",
       "94           E         7.60  \n",
       "99     unknown         7.39  \n",
       "...        ...          ...  \n",
       "16699  unknown         0.01  \n",
       "16703  unknown         0.01  \n",
       "16710  unknown         0.01  \n",
       "16712  unknown         0.01  \n",
       "16714  unknown         0.01  \n",
       "\n",
       "[1108 rows x 12 columns]"
      ]
     },
     "execution_count": 22,
     "metadata": {},
     "output_type": "execute_result"
    }
   ],
   "source": [
    "#отсеим данные, считая, что актуальный период для пронозирования на 2017 являтеся 2015-2016 годы релиза игр\n",
    "data_sort = data.query('year_of_release == [2015, 2016]')\n",
    "data_sort"
   ]
  },
  {
   "cell_type": "markdown",
   "id": "2c3abb56",
   "metadata": {},
   "source": [
    "Актуальный период для прогноза на 2017 год выбираем с 2015 по 2016. Не смотря на то, что данные за 2016 год могут быть неполными, этот период хорошо описывает общую тендецию и имеет достаточное количество данных за 2015 год. Более ранние данные в дальнейшем не будут рассматриваться."
   ]
  },
  {
   "cell_type": "code",
   "execution_count": 23,
   "id": "0a37bf4e",
   "metadata": {},
   "outputs": [
    {
     "data": {
      "image/png": "[encoded data removed]",
      "text/plain": [
       "<Figure size 720x360 with 1 Axes>"
      ]
     },
     "metadata": {
      "needs_background": "light"
     },
     "output_type": "display_data"
    }
   ],
   "source": [
    "#зададим размер диаграммы\n",
    "plt.figure(figsize=(10,5))\n",
    "\n",
    "#построим диаграмму продаж по платформам, с разделением по годам\n",
    "sales = sns.barplot(x='platform',\n",
    "            y='total_sales',\n",
    "            hue='year_of_release',\n",
    "            data=data_sort,\n",
    "            ci=None,\n",
    "            palette=['lightblue', 'lightgreen']\n",
    ")\n",
    "\n",
    "sales.set_title('Platform sales for actual period')\n",
    "sales.set(xlabel='Platform', ylabel='Total sales')\n",
    "None"
   ]
  },
  {
   "cell_type": "markdown",
   "id": "70a61eb2",
   "metadata": {},
   "source": [
    "За период 2015-2016 год можно определить платформы с самыми низкими продажами - PSP, PSV. Самые высокие продажи - PS4 как за 2015, так и за 2016 период. Платформы PS4, 3DS, WiiU, XOne можно назвать потенциально прибыльными, не смотря на то,что для платформы XOne показатели продаж за 2016 год гораздо ниже 2015. Данные за 2016 год могут быть неполными, поэтому в этом случае берем во внимание данные за 2015 год."
   ]
  },
  {
   "cell_type": "code",
   "execution_count": 24,
   "id": "8de5f948",
   "metadata": {
    "scrolled": false
   },
   "outputs": [
    {
     "data": {
      "image/png": "[encoded data removed]",
      "text/plain": [
       "<Figure size 720x504 with 1 Axes>"
      ]
     },
     "metadata": {
      "needs_background": "light"
     },
     "output_type": "display_data"
    }
   ],
   "source": [
    "#зададим размер диаграммы\n",
    "plt.figure(figsize=(10,7))\n",
    "\n",
    "#построим ящик с усами для выбранных платформ за актуальный период по продажам\n",
    "sns.boxplot(x='platform', y='total_sales', data=data_sort)\n",
    "plt.ylim([0, 0.6])\n",
    "plt.title('Boxplot for platforms total sales')\n",
    "plt.ylabel('total sales')\n",
    "plt.xlabel('platform')\n",
    "None"
   ]
  },
  {
   "cell_type": "markdown",
   "id": "5ea52ed6",
   "metadata": {},
   "source": [
    "Исходя из полученных результатов можно сделать вывод, что наибольшие продажи у платформы XOne. По медианному же значению по продажам лидирует WiiU. Кроме того, выбросы и большой разброс значений сильно влияют на показатели продаж, в то время как медианное значение отражает более скромные показатели, что ближе к реальности. Самое низкое количество проданных игр наблюдается на платформе PSP и PSV. Большой разброс значений может быть связан с выходом какой-то очень популярной игры, когда продажи единомоментно резко возрастают от ее поклонников и далее падают по мере потери интереса. "
   ]
  },
  {
   "cell_type": "code",
   "execution_count": 25,
   "id": "6414cd37",
   "metadata": {},
   "outputs": [],
   "source": [
    "# напишем функцию для получения графика зависимостей\n",
    "def dependency_results(platform, valuator, color):\n",
    "    if valuator == 'user_score':\n",
    "        valuator_name = 'user'\n",
    "    else:\n",
    "        valuator_name = 'critic'\n",
    "    \n",
    "    table = (data_sort.query('platform == @platform')\n",
    "             .pivot_table(index=valuator, values='total_sales')\n",
    "             .plot(y='total_sales', style='o', color=color, \n",
    "                   figsize=(10,7), alpha=0.5))\n",
    "    plt.gca().set(xlabel=valuator, ylabel='total sales')\n",
    "    plt.xticks(fontsize=12); plt.yticks(fontsize=12)\n",
    "    plt.title(f'Platforms dependence of sales on {valuator_name} scores {platform}', fontsize=14)\n",
    "    plt.legend(fontsize=12)  \n",
    "    \n",
    "    return table"
   ]
  },
  {
   "cell_type": "code",
   "execution_count": 26,
   "id": "6abcfe7c",
   "metadata": {},
   "outputs": [],
   "source": [
    "# напишем функцию для вычисления корреляции\n",
    "def correlation_result(platform, valuator):\n",
    "    result = (data_sort.query('platform == @platform')[valuator]\n",
    "       .corr(data_sort.query('platform == @platform')[\"total_sales\"]))\n",
    "\n",
    "    return result    "
   ]
  },
  {
   "cell_type": "code",
   "execution_count": 27,
   "id": "3311c79e",
   "metadata": {},
   "outputs": [
    {
     "name": "stdout",
     "output_type": "stream",
     "text": [
      "Коэффициент корреляции (оценка пользователей): 0.36\n",
      "Коэффициент корреляции (оценка критиков): 0.32\n"
     ]
    },
    {
     "data": {
      "image/png": "[encoded data removed]",
      "text/plain": [
       "<Figure size 720x504 with 1 Axes>"
      ]
     },
     "metadata": {
      "needs_background": "light"
     },
     "output_type": "display_data"
    },
    {
     "data": {
      "image/png": "[encoded data removed]",
      "text/plain": [
       "<Figure size 720x504 with 1 Axes>"
      ]
     },
     "metadata": {
      "needs_background": "light"
     },
     "output_type": "display_data"
    }
   ],
   "source": [
    "#построим диаграмму зависимсоти продаж от оценки пользователей для платформы WiiU\n",
    "dependency_results(\"WiiU\", 'user_score', 'blue')\n",
    "\n",
    "#построим диаграмму зависимсоти продаж от оценки критиков для платформы WiiU\n",
    "dependency_results(\"WiiU\", 'critic_score', 'blue')\n",
    "\n",
    "#вычислим коэффициент корреляции\n",
    "print('Коэффициент корреляции (оценка пользователей):', \"%.2f\" % correlation_result(\"WiiU\", 'user_score'))\n",
    "print('Коэффициент корреляции (оценка критиков):', \"%.2f\" % correlation_result(\"WiiU\", 'critic_score'))"
   ]
  },
  {
   "cell_type": "markdown",
   "id": "fe73edc0",
   "metadata": {},
   "source": [
    "Корреляция продаж от оценки пользователей средняя. Можно сказать, что оценка пользователей влияет на продажи, некоторое увеличение продаж наблюдается при максимальной положительной оценке. Корреляция продаж от оценки критиков средняя. Здесь также наблюдается некоторое увеличение продаж при высокой оценке критиков."
   ]
  },
  {
   "cell_type": "code",
   "execution_count": 28,
   "id": "b477e8aa",
   "metadata": {},
   "outputs": [
    {
     "name": "stdout",
     "output_type": "stream",
     "text": [
      "Коэффициент корреляции (оценка пользователей): -0.06\n",
      "Коэффициент корреляции (оценка критиков): 0.39\n"
     ]
    },
    {
     "data": {
      "image/png": "[encoded data removed]",
      "text/plain": [
       "<Figure size 720x504 with 1 Axes>"
      ]
     },
     "metadata": {
      "needs_background": "light"
     },
     "output_type": "display_data"
    },
    {
     "data": {
      "image/png": "[encoded data removed]",
      "text/plain": [
       "<Figure size 720x504 with 1 Axes>"
      ]
     },
     "metadata": {
      "needs_background": "light"
     },
     "output_type": "display_data"
    }
   ],
   "source": [
    "#построим диаграмму зависимсоти продаж от оценки пользователей для платформы PS4\n",
    "dependency_results(\"PS4\", 'user_score', 'green')\n",
    "\n",
    "#построим диаграмму зависимсоти продаж от оценки критиков для платформы PS4\n",
    "dependency_results(\"PS4\", 'critic_score', 'green')\n",
    "\n",
    "#вычислим коэффициент корреляции\n",
    "print('Коэффициент корреляции (оценка пользователей):', \"%.2f\" % correlation_result(\"PS4\", 'user_score')) \n",
    "print('Коэффициент корреляции (оценка критиков):', \"%.2f\" % correlation_result(\"PS4\", 'critic_score'))"
   ]
  },
  {
   "cell_type": "markdown",
   "id": "c997a250",
   "metadata": {},
   "source": [
    "Корреляция продаж от оценки критиков для платформы PS4 средняя. Можно сказать, что оценка критиков влияет на продажи, некоторое увеличение продаж наблюдается при максимальной положительной оценке. Корреляция продаж от оценки пользователей близка к 0, здесь зависимости не наблюдается."
   ]
  },
  {
   "cell_type": "code",
   "execution_count": 29,
   "id": "3ea59d6a",
   "metadata": {},
   "outputs": [
    {
     "name": "stdout",
     "output_type": "stream",
     "text": [
      "Коэффициент корреляции (оценка пользователей): 0.20\n",
      "Коэффициент корреляции (оценка критиков): 0.18\n"
     ]
    },
    {
     "data": {
      "image/png": "[encoded data removed]",
      "text/plain": [
       "<Figure size 720x504 with 1 Axes>"
      ]
     },
     "metadata": {
      "needs_background": "light"
     },
     "output_type": "display_data"
    },
    {
     "data": {
      "image/png": "[encoded data removed]",
      "text/plain": [
       "<Figure size 720x504 with 1 Axes>"
      ]
     },
     "metadata": {
      "needs_background": "light"
     },
     "output_type": "display_data"
    }
   ],
   "source": [
    "#построим диаграмму зависимсоти продаж от оценки пользователей для платформы 3DS\n",
    "dependency_results(\"3DS\", 'user_score', 'magenta')\n",
    "\n",
    "#построим диаграмму зависимсоти продаж от оценки критиков для платформы 3DS\n",
    "dependency_results(\"3DS\", 'critic_score', 'magenta')\n",
    "\n",
    "#вычислим коэффициент корреляции\n",
    "print('Коэффициент корреляции (оценка пользователей):', \"%.2f\" % correlation_result(\"3DS\", 'user_score')) \n",
    "print('Коэффициент корреляции (оценка критиков):', \"%.2f\" % correlation_result(\"3DS\", 'critic_score'))"
   ]
  },
  {
   "cell_type": "markdown",
   "id": "8e57f995",
   "metadata": {},
   "source": [
    "Корреляция продаж от оценки пользователей и критиков для платформы 3DS низкая. Можно сказать, что оценки слабо влияют на продажи за актуальный период."
   ]
  },
  {
   "cell_type": "code",
   "execution_count": 30,
   "id": "9ee9877d",
   "metadata": {},
   "outputs": [
    {
     "name": "stdout",
     "output_type": "stream",
     "text": [
      "Коэффициент корреляции (оценка пользователей): -0.04\n",
      "Коэффициент корреляции (оценка критиков): 0.43\n"
     ]
    },
    {
     "data": {
      "image/png": "[encoded data removed]",
      "text/plain": [
       "<Figure size 720x504 with 1 Axes>"
      ]
     },
     "metadata": {
      "needs_background": "light"
     },
     "output_type": "display_data"
    },
    {
     "data": {
      "image/png": "[encoded data removed]",
      "text/plain": [
       "<Figure size 720x504 with 1 Axes>"
      ]
     },
     "metadata": {
      "needs_background": "light"
     },
     "output_type": "display_data"
    }
   ],
   "source": [
    "#построим диаграмму зависимсоти продаж от оценки пользователей для платформы XOne\n",
    "dependency_results(\"XOne\", 'user_score', 'red')\n",
    "\n",
    "#построим диаграмму зависимсоти продаж от оценки критиков для платформы XOne\n",
    "dependency_results(\"XOne\", 'critic_score', 'red')\n",
    "\n",
    "#вычислим коэффициент корреляции\n",
    "print('Коэффициент корреляции (оценка пользователей):', \"%.2f\" % correlation_result(\"XOne\", 'user_score')) \n",
    "print('Коэффициент корреляции (оценка критиков):', \"%.2f\" % correlation_result(\"XOne\", 'critic_score'))"
   ]
  },
  {
   "cell_type": "markdown",
   "id": "9e4b5879",
   "metadata": {},
   "source": [
    "Корреляция продаж от оценки критиков для платформы XOne средняя. Можно сказать, что оценка критиков влияет на продажи, некоторое увеличение продаж наблюдается при максимальной положительной оценке. Корреляция продаж от оценки пользователей близка к 0, здесь зависимости не наблюдается."
   ]
  },
  {
   "cell_type": "code",
   "execution_count": 31,
   "id": "c881c7a6",
   "metadata": {},
   "outputs": [
    {
     "data": {
      "image/png": "[encoded data removed]",
      "text/plain": [
       "<Figure size 720x360 with 1 Axes>"
      ]
     },
     "metadata": {
      "needs_background": "light"
     },
     "output_type": "display_data"
    }
   ],
   "source": [
    "#посмотрим на распределение продаж по игровым жанрам и определеим наиболее прибыльные\n",
    "plt.figure(figsize=(10,5))\n",
    "\n",
    "sales = sns.barplot(x='genre',\n",
    "            y='total_sales',\n",
    "            data=data_sort,\n",
    "            ci=None,\n",
    "            palette=['lightgreen', 'green'])\n",
    "\n",
    "sales.set_title('Sales for genres')\n",
    "sales.set(xlabel='genre', ylabel='sales')\n",
    "plt.xticks(rotation=90)\n",
    "None"
   ]
  },
  {
   "cell_type": "markdown",
   "id": "b6da0f4d",
   "metadata": {},
   "source": [
    "Самый прибыльный жанр по актульному периоду  - Shooter. Жанры с самыми низкими продажами - Adventure, Strategy, Puzzle. Популярность жанра Shooter быть обоснована как выходом в эти годы культовых игр, также может отражать мировые события, направления в кино и соотвествующий этим факторам запрос игроков. \n",
    "\n",
    "По данным из открытых источников \"Call of Duty: Black Ops 3\", вышедшая в 2015 году имела огромный коммерческий успех в Америке. Это могло повлиять на исследуемые данные, поскольку продажи по Северной Америке представляют собой значительную часть."
   ]
  },
  {
   "cell_type": "markdown",
   "id": "204d072e",
   "metadata": {},
   "source": [
    "### 3.1 Портрет пользователя каждого региона"
   ]
  },
  {
   "cell_type": "code",
   "execution_count": 32,
   "id": "d1dbb3d1",
   "metadata": {},
   "outputs": [
    {
     "data": {
      "image/png": "[encoded data removed]",
      "text/plain": [
       "<Figure size 432x432 with 1 Axes>"
      ]
     },
     "metadata": {},
     "output_type": "display_data"
    },
    {
     "data": {
      "image/png": "[encoded data removed]",
      "text/plain": [
       "<Figure size 432x432 with 1 Axes>"
      ]
     },
     "metadata": {},
     "output_type": "display_data"
    },
    {
     "data": {
      "image/png": "[encoded data removed]",
      "text/plain": [
       "<Figure size 432x432 with 1 Axes>"
      ]
     },
     "metadata": {},
     "output_type": "display_data"
    }
   ],
   "source": [
    "#вычислим долю продаж по региону относительно общих продаж\n",
    "na_sales_table = (data_sort\n",
    "    .pivot_table(index='platform', values='na_sales')\n",
    "    .sort_values(by='na_sales', ascending=False)\n",
    ")\n",
    "\n",
    "na_sales_table = na_sales_table[:5]\n",
    "\n",
    "eu_sales_table= (data_sort\n",
    "    .pivot_table(index='platform', values='eu_sales')\n",
    "    .sort_values(by='eu_sales', ascending=False)\n",
    ")\n",
    "\n",
    "eu_sales_table = eu_sales_table[:5]\n",
    "\n",
    "jp_sales_table= (data_sort\n",
    "    .pivot_table(index='platform', values='jp_sales')\n",
    "    .sort_values(by='jp_sales', ascending=False)\n",
    ")\n",
    "\n",
    "jp_sales_table = jp_sales_table[:5]\n",
    "\n",
    "#зададим функцию, показывающую долю процентов от общего количества продаж\n",
    "def autopct(pct): \n",
    "    return ('%.2f' % pct)\n",
    "\n",
    "#выводим получившиеся диаграммы\n",
    "na_sales_table.plot(y='na_sales', kind='pie', autopct=autopct, labels=None, title='NA sales', figsize=(6, 6))\n",
    "eu_sales_table.plot(y='eu_sales', kind='pie', autopct=autopct, labels=None, title='EU sales', figsize=(6, 6))\n",
    "jp_sales_table.plot(y='jp_sales', kind='pie', autopct=autopct, labels=None, title='JP sales', figsize=(6, 6))\n",
    "\n",
    "None"
   ]
  },
  {
   "cell_type": "markdown",
   "id": "d8ce177a",
   "metadata": {},
   "source": [
    "- В Северной Америке самой популярной является платформа XOne - 30.42% из пяти самых популярных платформ.\n",
    "- В Европе наибольшую популярность имеет платформа PS4 - 33.28% из пяти самых популярных платформ.\n",
    "- В Японии самая популярная платформа 3DS - 44.11% продаж из пяти наиболее популярных."
   ]
  },
  {
   "cell_type": "code",
   "execution_count": 33,
   "id": "cf16ea7b",
   "metadata": {},
   "outputs": [
    {
     "data": {
      "text/html": [
       "<div>\n",
       "<style scoped>\n",
       "    .dataframe tbody tr th:only-of-type {\n",
       "        vertical-align: middle;\n",
       "    }\n",
       "\n",
       "    .dataframe tbody tr th {\n",
       "        vertical-align: top;\n",
       "    }\n",
       "\n",
       "    .dataframe thead th {\n",
       "        text-align: right;\n",
       "    }\n",
       "</style>\n",
       "<table border=\"1\" class=\"dataframe\">\n",
       "  <thead>\n",
       "    <tr style=\"text-align: right;\">\n",
       "      <th></th>\n",
       "      <th>na_sales</th>\n",
       "    </tr>\n",
       "    <tr>\n",
       "      <th>genre</th>\n",
       "      <th></th>\n",
       "    </tr>\n",
       "  </thead>\n",
       "  <tbody>\n",
       "    <tr>\n",
       "      <th>Shooter</th>\n",
       "      <td>0.594815</td>\n",
       "    </tr>\n",
       "    <tr>\n",
       "      <th>Sports</th>\n",
       "      <td>0.245888</td>\n",
       "    </tr>\n",
       "    <tr>\n",
       "      <th>Role-Playing</th>\n",
       "      <td>0.150152</td>\n",
       "    </tr>\n",
       "    <tr>\n",
       "      <th>Fighting</th>\n",
       "      <td>0.149730</td>\n",
       "    </tr>\n",
       "    <tr>\n",
       "      <th>Platform</th>\n",
       "      <td>0.135000</td>\n",
       "    </tr>\n",
       "  </tbody>\n",
       "</table>\n",
       "</div>"
      ],
      "text/plain": [
       "              na_sales\n",
       "genre                 \n",
       "Shooter       0.594815\n",
       "Sports        0.245888\n",
       "Role-Playing  0.150152\n",
       "Fighting      0.149730\n",
       "Platform      0.135000"
      ]
     },
     "metadata": {},
     "output_type": "display_data"
    },
    {
     "name": "stdout",
     "output_type": "stream",
     "text": [
      "\n"
     ]
    },
    {
     "data": {
      "text/html": [
       "<div>\n",
       "<style scoped>\n",
       "    .dataframe tbody tr th:only-of-type {\n",
       "        vertical-align: middle;\n",
       "    }\n",
       "\n",
       "    .dataframe tbody tr th {\n",
       "        vertical-align: top;\n",
       "    }\n",
       "\n",
       "    .dataframe thead th {\n",
       "        text-align: right;\n",
       "    }\n",
       "</style>\n",
       "<table border=\"1\" class=\"dataframe\">\n",
       "  <thead>\n",
       "    <tr style=\"text-align: right;\">\n",
       "      <th></th>\n",
       "      <th>eu_sales</th>\n",
       "    </tr>\n",
       "    <tr>\n",
       "      <th>genre</th>\n",
       "      <th></th>\n",
       "    </tr>\n",
       "  </thead>\n",
       "  <tbody>\n",
       "    <tr>\n",
       "      <th>Shooter</th>\n",
       "      <td>0.497284</td>\n",
       "    </tr>\n",
       "    <tr>\n",
       "      <th>Sports</th>\n",
       "      <td>0.260000</td>\n",
       "    </tr>\n",
       "    <tr>\n",
       "      <th>Racing</th>\n",
       "      <td>0.155238</td>\n",
       "    </tr>\n",
       "    <tr>\n",
       "      <th>Role-Playing</th>\n",
       "      <td>0.130379</td>\n",
       "    </tr>\n",
       "    <tr>\n",
       "      <th>Platform</th>\n",
       "      <td>0.114286</td>\n",
       "    </tr>\n",
       "  </tbody>\n",
       "</table>\n",
       "</div>"
      ],
      "text/plain": [
       "              eu_sales\n",
       "genre                 \n",
       "Shooter       0.497284\n",
       "Sports        0.260000\n",
       "Racing        0.155238\n",
       "Role-Playing  0.130379\n",
       "Platform      0.114286"
      ]
     },
     "metadata": {},
     "output_type": "display_data"
    },
    {
     "name": "stdout",
     "output_type": "stream",
     "text": [
      "\n"
     ]
    },
    {
     "data": {
      "text/html": [
       "<div>\n",
       "<style scoped>\n",
       "    .dataframe tbody tr th:only-of-type {\n",
       "        vertical-align: middle;\n",
       "    }\n",
       "\n",
       "    .dataframe tbody tr th {\n",
       "        vertical-align: top;\n",
       "    }\n",
       "\n",
       "    .dataframe thead th {\n",
       "        text-align: right;\n",
       "    }\n",
       "</style>\n",
       "<table border=\"1\" class=\"dataframe\">\n",
       "  <thead>\n",
       "    <tr style=\"text-align: right;\">\n",
       "      <th></th>\n",
       "      <th>jp_sales</th>\n",
       "    </tr>\n",
       "    <tr>\n",
       "      <th>genre</th>\n",
       "      <th></th>\n",
       "    </tr>\n",
       "  </thead>\n",
       "  <tbody>\n",
       "    <tr>\n",
       "      <th>Role-Playing</th>\n",
       "      <td>0.101591</td>\n",
       "    </tr>\n",
       "    <tr>\n",
       "      <th>Puzzle</th>\n",
       "      <td>0.074286</td>\n",
       "    </tr>\n",
       "    <tr>\n",
       "      <th>Simulation</th>\n",
       "      <td>0.058485</td>\n",
       "    </tr>\n",
       "    <tr>\n",
       "      <th>Action</th>\n",
       "      <td>0.053480</td>\n",
       "    </tr>\n",
       "    <tr>\n",
       "      <th>Platform</th>\n",
       "      <td>0.050714</td>\n",
       "    </tr>\n",
       "  </tbody>\n",
       "</table>\n",
       "</div>"
      ],
      "text/plain": [
       "              jp_sales\n",
       "genre                 \n",
       "Role-Playing  0.101591\n",
       "Puzzle        0.074286\n",
       "Simulation    0.058485\n",
       "Action        0.053480\n",
       "Platform      0.050714"
      ]
     },
     "metadata": {},
     "output_type": "display_data"
    }
   ],
   "source": [
    "#Определим популярные жанры в различных регионах\n",
    "def region_tables(region):\n",
    "    table = (data_sort\n",
    "             .pivot_table(index='genre', values=region)\n",
    "             .sort_values(by=region, ascending=False)\n",
    "             .head())\n",
    "    \n",
    "    return table\n",
    "\n",
    "\n",
    "display(region_tables('na_sales'))\n",
    "display(region_tables('eu_sales'))\n",
    "display(region_tables('jp_sales'))"
   ]
  },
  {
   "cell_type": "markdown",
   "id": "48782877",
   "metadata": {},
   "source": [
    "В Северной Америке и Европе самые популярные жанры - Shooter и Sports. В Японии же Role-Playing. Схожесть предпочтений в Европе и Северной Америке может быть обоснована схожестью культур и общим влиянием друг на друга. Япония, как и другие азиатские страны, развиваются обособлено и формируют, таким образом, собвственные предпочтения и культурные специфики. "
   ]
  },
  {
   "cell_type": "code",
   "execution_count": 34,
   "id": "c41ee170",
   "metadata": {},
   "outputs": [
    {
     "data": {
      "image/png": "[encoded data removed]",
      "text/plain": [
       "<Figure size 432x288 with 1 Axes>"
      ]
     },
     "metadata": {
      "needs_background": "light"
     },
     "output_type": "display_data"
    },
    {
     "data": {
      "image/png": "[encoded data removed]",
      "text/plain": [
       "<Figure size 432x288 with 1 Axes>"
      ]
     },
     "metadata": {
      "needs_background": "light"
     },
     "output_type": "display_data"
    },
    {
     "data": {
      "image/png": "[encoded data removed]",
      "text/plain": [
       "<Figure size 432x288 with 1 Axes>"
      ]
     },
     "metadata": {
      "needs_background": "light"
     },
     "output_type": "display_data"
    }
   ],
   "source": [
    "#Определим как влияет рейтинг на продажи в различных регионах\n",
    "def rating_daigramm(region, color):\n",
    "    graph = (data_sort\n",
    "             .pivot_table(index='rating', values=region)\n",
    "             .plot(y=region, kind='bar', color=color, title=region))\n",
    "\n",
    "rating_daigramm('na_sales', 'blue')\n",
    "rating_daigramm('eu_sales', 'red')\n",
    "rating_daigramm('jp_sales', 'green')"
   ]
  },
  {
   "cell_type": "markdown",
   "id": "86a7deb6",
   "metadata": {},
   "source": [
    "Ретинг игры определенно имеет влияние на продажи платформы. Так, в Северной Америке и Европе наибльшие продажи имеют игры с категорией \"М\" («Mature») — «Для взрослых», имеющие ограничение по возрасту от 17 лет. \n",
    "\n",
    "В Японии рейтинг выглядит иначе. Большая часть игр не внесена в систему ESRB. Возможно, для реализации игр на территории Японии не обязательно быть частью системы рейтингов ESRB, либо они пользуются собственной системой рейтингов.\n",
    "В остальном, судя по существующим данным в Японии наибольшей популярностью пользуются игры «T» («Teen») — «Подросткам», для категории пользователей от 13 лет. Но этим данным нельзя доверять. "
   ]
  },
  {
   "cell_type": "markdown",
   "id": "d2a0ff56",
   "metadata": {},
   "source": [
    "## 4 Проверка гипотез"
   ]
  },
  {
   "cell_type": "markdown",
   "id": "aad3b028",
   "metadata": {},
   "source": [
    "Проверка гипотезы: cредние пользовательские рейтинги платформ Xbox One и PC одинаковые;\n",
    "\n",
    "```\n",
    "H_0: Рейтинг (user_score) пользователей платформ \"Xbox One\" = рейтинг (user_score) пользователей платформ \"PC\"\n",
    "H_a: Рейтинг (user_score) пользователей платформ \"Xbox One\" ≠ рейтинг (user_score) пользователей платформ \"PC\"\n",
    "\n",
    "alpha = 0.05\n",
    "```"
   ]
  },
  {
   "cell_type": "code",
   "execution_count": 35,
   "id": "4b17056a",
   "metadata": {
    "scrolled": true
   },
   "outputs": [
    {
     "name": "stdout",
     "output_type": "stream",
     "text": [
      "0.2946308864003345\n",
      "Не получилось отвергнуть нулевую гипотезу\n"
     ]
    }
   ],
   "source": [
    "#для проверки гипотез также будем изучать данные за актуальный период\n",
    "#здесь же отбросим nan значения\n",
    "pc_user_score = data_sort[data_sort['platform'] =='PC']['user_score'].dropna()\n",
    "xone_user_score = data_sort[data_sort['platform'] =='XOne']['user_score'].dropna()\n",
    "\n",
    "results = st.ttest_ind(\n",
    "    pc_user_score, \n",
    "    xone_user_score,\n",
    "    equal_var = False)\n",
    "\n",
    "# alpha = задайте значение уровня значимости\n",
    "alpha = .05\n",
    "# вывод значения p-value на экран \n",
    "print(results.pvalue)\n",
    "# условный оператор с выводом строки с ответом\n",
    "if results.pvalue < alpha:\n",
    "    print(\"Отвергаем нулевую гипотезу\")\n",
    "else:\n",
    "    print(\"Не получилось отвергнуть нулевую гипотезу\") \n",
    "    "
   ]
  },
  {
   "cell_type": "markdown",
   "id": "accd3d13",
   "metadata": {},
   "source": [
    "Проверка гипотезы: cредние пользовательские рейтинги жанров Action (англ. «действие», экшен-игры) и Sports (англ. «спортивные соревнования») разные;\n",
    "\n",
    "```\n",
    "H_0: Рейтинг (user_score) пользователей жанров Action = рейтинг (user_score) пользователей жанров Sports\n",
    "H_a: Рейтинг (user_score) пользователей жанров Action ≠ рейтинг (user_score) пользователей жанров Sports\n",
    "\n",
    "alpha = 0.05\n",
    "```\n"
   ]
  },
  {
   "cell_type": "code",
   "execution_count": 36,
   "id": "f0a8e5cf",
   "metadata": {
    "scrolled": false
   },
   "outputs": [
    {
     "name": "stdout",
     "output_type": "stream",
     "text": [
      "5.97163549920592e-10\n",
      "Отвергаем нулевую гипотезу\n"
     ]
    }
   ],
   "source": [
    "#для проверки гипотез также будем изучать данные за актуальный период\n",
    "#здесь же отбросим nan значения\n",
    "action_user_score = data_sort[data_sort['genre'] =='Action']['user_score'].dropna()\n",
    "sports_user_score = data_sort[data_sort['genre'] =='Sports']['user_score'].dropna()\n",
    "\n",
    "results = st.ttest_ind(\n",
    "    action_user_score, \n",
    "    sports_user_score,\n",
    "    equal_var = False)\n",
    "\n",
    "# alpha = задайте значение уровня значимости\n",
    "alpha = .05\n",
    "# вывод значения p-value на экран \n",
    "print(results.pvalue)\n",
    "# условный оператор с выводом строки с ответом\n",
    "if results.pvalue < alpha:\n",
    "    print(\"Отвергаем нулевую гипотезу\")\n",
    "else:\n",
    "    print(\"Не получилось отвергнуть нулевую гипотезу\") "
   ]
  },
  {
   "cell_type": "markdown",
   "id": "13073d43",
   "metadata": {},
   "source": [
    "Нулевые гипотезы формулируются как утверждения, полученные в качестве исходных данных к проверке. Альтенативные же гипотезы формулируются как обратные по смыслу. \n",
    "\n",
    "Для проверки гипотез о равенстве среднего двух генеральных совокупностей по взятым из них выборкам хорошо подходит t-test (t-критерий Стьюдента). Для параметра alpha, предназначенного для решения о принятии или отвержении нулевой гипотезы выбрано общепринятое значение 5%. \n",
    "\n",
    "Таким образом, гипотезу \"cредние пользовательские рейтинги платформ Xbox One и PC одинаковые\" не получилось отвергнуть. Это значит, что существует значительная вероятность получить наблюдаемый результат при условии, что нулевая гипотеза верна. \n",
    "\n",
    "Гипотеза о том, что cредние пользовательские рейтинги жанров Action и Sports одинаковы - отвергнута."
   ]
  },
  {
   "cell_type": "markdown",
   "id": "7d562ad2",
   "metadata": {},
   "source": [
    "## 5 Общий вывод"
   ]
  },
  {
   "cell_type": "markdown",
   "id": "9a7661a0",
   "metadata": {},
   "source": [
    "В ходе проведения исследования исторических данные о продажах игр с целью выявить определяющие успешность игры закономерности были выполнены следующие этапы:\n",
    "- проведен исследовательский анализ данных и получены следующие выводы:\n",
    "   - данные до 2000 года незначительны по количеству;\n",
    "   - актульным периодом для прогноза на 2017 год является 2015-2016 года;\n",
    "   - лидирущая по продажам платформа - XOne, по медианным значениям продаж - WiiU. Платформы PS4, XOne, WiiU и 3DS можно назвать потенциально прибыльными;\n",
    "   - внутри одной популярной платформы \"WiiU\" отзывы критиков и пользователей коррелируют с показателями продаж с значениями 0.3635 и 0.3170 соотвественно;\n",
    "   - корреляция пользовательских оценок и количества продаж для нескольких потенциально прибыльных платформ имеют низкую зависимость, либо стремятся к нулю, также продажи имеют среднюю зависимость от оценки критиков;\n",
    "- составлен портрет среднего пользователя по регионам:\n",
    "   - Типичный игрок Северной Америки предпочитает платформу XOne, жанр Shooter и игры с рейтиногом \"M\" (возрастное ограничение 17+);\n",
    "   - Типичный игрок Европы предпочитает платформу PS4, жанр Shooter и игры с рейтиногом \"M\" (возрастное ограничение 17+);\n",
    "   - Типичный игрок Японии предпочитает платформу 3DS, жанр Role-Playing. Предпочитаемый рейтинг игры неоднозначен по имеющимся данным;\n",
    "- проверены следующие гипотезы по t-критерию Стьюдента и получены результаты:\n",
    "   - cредние пользовательские рейтинги платформ Xbox One и PC одинаковые - нулевая гипотеза не отвергнута;\n",
    "   - cредние пользовательские рейтинги жанров Action и Sports одинаковые - нулевая гипотеза отвергнута.\n",
    "\n",
    "Делая прогноз на 2017 год можно предположить, что популярными платформами будут PS4 и XOne, а жанр Shooter с рейтингом M. Кроме того, рекомендуется делать упор на Американский и Европейский рынок, поскольку их аудитория имеет большую численость и схожие предпочтения.\n"
   ]
  }
 ],
 "metadata": {
  "ExecuteTimeLog": [
   {
    "duration": 1000,
    "start_time": "2022-11-02T13:45:21.270Z"
   },
   {
    "duration": 56,
    "start_time": "2022-11-02T13:45:22.272Z"
   },
   {
    "duration": 85,
    "start_time": "2022-11-02T13:45:22.329Z"
   },
   {
    "duration": 0,
    "start_time": "2022-11-02T13:45:22.416Z"
   },
   {
    "duration": 0,
    "start_time": "2022-11-02T13:45:22.418Z"
   },
   {
    "duration": 0,
    "start_time": "2022-11-02T13:45:22.419Z"
   },
   {
    "duration": 0,
    "start_time": "2022-11-02T13:45:22.420Z"
   },
   {
    "duration": 0,
    "start_time": "2022-11-02T13:45:22.421Z"
   },
   {
    "duration": 0,
    "start_time": "2022-11-02T13:45:22.421Z"
   },
   {
    "duration": 0,
    "start_time": "2022-11-02T13:45:22.422Z"
   },
   {
    "duration": 0,
    "start_time": "2022-11-02T13:45:22.423Z"
   },
   {
    "duration": 0,
    "start_time": "2022-11-02T13:45:22.424Z"
   },
   {
    "duration": 0,
    "start_time": "2022-11-02T13:45:22.425Z"
   },
   {
    "duration": 1,
    "start_time": "2022-11-02T13:45:22.425Z"
   },
   {
    "duration": 0,
    "start_time": "2022-11-02T13:45:22.426Z"
   },
   {
    "duration": 0,
    "start_time": "2022-11-02T13:45:22.428Z"
   },
   {
    "duration": 0,
    "start_time": "2022-11-02T13:45:22.428Z"
   },
   {
    "duration": 0,
    "start_time": "2022-11-02T13:45:22.429Z"
   },
   {
    "duration": 0,
    "start_time": "2022-11-02T13:45:22.430Z"
   },
   {
    "duration": 0,
    "start_time": "2022-11-02T13:45:22.431Z"
   },
   {
    "duration": 0,
    "start_time": "2022-11-02T13:45:22.432Z"
   },
   {
    "duration": 0,
    "start_time": "2022-11-02T13:45:22.433Z"
   },
   {
    "duration": 0,
    "start_time": "2022-11-02T13:45:22.433Z"
   },
   {
    "duration": 0,
    "start_time": "2022-11-02T13:45:22.434Z"
   },
   {
    "duration": 0,
    "start_time": "2022-11-02T13:45:22.436Z"
   },
   {
    "duration": 0,
    "start_time": "2022-11-02T13:45:22.437Z"
   },
   {
    "duration": 0,
    "start_time": "2022-11-02T13:45:22.437Z"
   },
   {
    "duration": 0,
    "start_time": "2022-11-02T13:45:22.438Z"
   },
   {
    "duration": 0,
    "start_time": "2022-11-02T13:45:22.439Z"
   },
   {
    "duration": 0,
    "start_time": "2022-11-02T13:45:22.440Z"
   },
   {
    "duration": 0,
    "start_time": "2022-11-02T13:45:22.441Z"
   },
   {
    "duration": 0,
    "start_time": "2022-11-02T13:45:22.442Z"
   },
   {
    "duration": 72,
    "start_time": "2022-11-02T13:50:08.776Z"
   },
   {
    "duration": 1072,
    "start_time": "2022-11-02T13:50:20.199Z"
   },
   {
    "duration": 43,
    "start_time": "2022-11-02T13:50:21.273Z"
   },
   {
    "duration": 92,
    "start_time": "2022-11-02T13:50:21.318Z"
   },
   {
    "duration": 0,
    "start_time": "2022-11-02T13:50:21.412Z"
   },
   {
    "duration": 0,
    "start_time": "2022-11-02T13:50:21.413Z"
   },
   {
    "duration": 0,
    "start_time": "2022-11-02T13:50:21.414Z"
   },
   {
    "duration": 0,
    "start_time": "2022-11-02T13:50:21.415Z"
   },
   {
    "duration": 0,
    "start_time": "2022-11-02T13:50:21.416Z"
   },
   {
    "duration": 0,
    "start_time": "2022-11-02T13:50:21.417Z"
   },
   {
    "duration": 0,
    "start_time": "2022-11-02T13:50:21.418Z"
   },
   {
    "duration": 0,
    "start_time": "2022-11-02T13:50:21.419Z"
   },
   {
    "duration": 0,
    "start_time": "2022-11-02T13:50:21.420Z"
   },
   {
    "duration": 0,
    "start_time": "2022-11-02T13:50:21.421Z"
   },
   {
    "duration": 0,
    "start_time": "2022-11-02T13:50:21.422Z"
   },
   {
    "duration": 0,
    "start_time": "2022-11-02T13:50:21.423Z"
   },
   {
    "duration": 0,
    "start_time": "2022-11-02T13:50:21.423Z"
   },
   {
    "duration": 0,
    "start_time": "2022-11-02T13:50:21.424Z"
   },
   {
    "duration": 0,
    "start_time": "2022-11-02T13:50:21.425Z"
   },
   {
    "duration": 0,
    "start_time": "2022-11-02T13:50:21.426Z"
   },
   {
    "duration": 0,
    "start_time": "2022-11-02T13:50:21.428Z"
   },
   {
    "duration": 0,
    "start_time": "2022-11-02T13:50:21.429Z"
   },
   {
    "duration": 0,
    "start_time": "2022-11-02T13:50:21.429Z"
   },
   {
    "duration": 0,
    "start_time": "2022-11-02T13:50:21.430Z"
   },
   {
    "duration": 0,
    "start_time": "2022-11-02T13:50:21.431Z"
   },
   {
    "duration": 0,
    "start_time": "2022-11-02T13:50:21.432Z"
   },
   {
    "duration": 0,
    "start_time": "2022-11-02T13:50:21.433Z"
   },
   {
    "duration": 0,
    "start_time": "2022-11-02T13:50:21.434Z"
   },
   {
    "duration": 0,
    "start_time": "2022-11-02T13:50:21.436Z"
   },
   {
    "duration": 0,
    "start_time": "2022-11-02T13:50:21.437Z"
   },
   {
    "duration": 0,
    "start_time": "2022-11-02T13:50:21.438Z"
   },
   {
    "duration": 0,
    "start_time": "2022-11-02T13:50:21.438Z"
   },
   {
    "duration": 0,
    "start_time": "2022-11-02T13:50:21.440Z"
   },
   {
    "duration": 96,
    "start_time": "2022-11-02T13:53:08.840Z"
   },
   {
    "duration": 1036,
    "start_time": "2022-11-02T13:53:14.740Z"
   },
   {
    "duration": 50,
    "start_time": "2022-11-02T13:53:15.778Z"
   },
   {
    "duration": 14,
    "start_time": "2022-11-02T13:53:15.830Z"
   },
   {
    "duration": 12,
    "start_time": "2022-11-02T13:53:15.845Z"
   },
   {
    "duration": 686,
    "start_time": "2022-11-02T13:53:15.858Z"
   },
   {
    "duration": 3,
    "start_time": "2022-11-02T13:53:16.545Z"
   },
   {
    "duration": 13,
    "start_time": "2022-11-02T13:53:16.549Z"
   },
   {
    "duration": 10,
    "start_time": "2022-11-02T13:53:16.563Z"
   },
   {
    "duration": 7,
    "start_time": "2022-11-02T13:53:16.574Z"
   },
   {
    "duration": 6,
    "start_time": "2022-11-02T13:53:16.600Z"
   },
   {
    "duration": 13,
    "start_time": "2022-11-02T13:53:16.607Z"
   },
   {
    "duration": 6,
    "start_time": "2022-11-02T13:53:16.621Z"
   },
   {
    "duration": 98,
    "start_time": "2022-11-02T13:53:16.628Z"
   },
   {
    "duration": 6,
    "start_time": "2022-11-02T13:53:16.728Z"
   },
   {
    "duration": 6,
    "start_time": "2022-11-02T13:53:16.736Z"
   },
   {
    "duration": 12,
    "start_time": "2022-11-02T13:53:16.743Z"
   },
   {
    "duration": 6,
    "start_time": "2022-11-02T13:53:16.756Z"
   },
   {
    "duration": 162,
    "start_time": "2022-11-02T13:53:16.764Z"
   },
   {
    "duration": 1041,
    "start_time": "2022-11-02T14:50:35.936Z"
   },
   {
    "duration": 50,
    "start_time": "2022-11-02T14:50:36.979Z"
   },
   {
    "duration": 16,
    "start_time": "2022-11-02T14:50:37.030Z"
   },
   {
    "duration": 14,
    "start_time": "2022-11-02T14:50:37.048Z"
   },
   {
    "duration": 723,
    "start_time": "2022-11-02T14:50:37.063Z"
   },
   {
    "duration": 3,
    "start_time": "2022-11-02T14:50:37.788Z"
   },
   {
    "duration": 16,
    "start_time": "2022-11-02T14:50:37.792Z"
   },
   {
    "duration": 13,
    "start_time": "2022-11-02T14:50:37.809Z"
   },
   {
    "duration": 8,
    "start_time": "2022-11-02T14:50:37.824Z"
   },
   {
    "duration": 8,
    "start_time": "2022-11-02T14:50:37.834Z"
   },
   {
    "duration": 14,
    "start_time": "2022-11-02T14:50:37.844Z"
   },
   {
    "duration": 41,
    "start_time": "2022-11-02T14:50:37.859Z"
   },
   {
    "duration": 100,
    "start_time": "2022-11-02T14:50:37.902Z"
   },
   {
    "duration": 6,
    "start_time": "2022-11-02T14:50:38.003Z"
   },
   {
    "duration": 10,
    "start_time": "2022-11-02T14:50:38.011Z"
   },
   {
    "duration": 11,
    "start_time": "2022-11-02T14:50:38.022Z"
   },
   {
    "duration": 6,
    "start_time": "2022-11-02T14:50:38.034Z"
   },
   {
    "duration": 144,
    "start_time": "2022-11-02T14:50:38.042Z"
   },
   {
    "duration": 1528,
    "start_time": "2022-11-02T14:50:38.188Z"
   },
   {
    "duration": 16,
    "start_time": "2022-11-02T14:50:39.717Z"
   },
   {
    "duration": 327,
    "start_time": "2022-11-02T14:50:39.735Z"
   },
   {
    "duration": 204,
    "start_time": "2022-11-02T14:50:40.063Z"
   },
   {
    "duration": 137,
    "start_time": "2022-11-02T14:50:40.269Z"
   },
   {
    "duration": 123,
    "start_time": "2022-11-02T14:50:40.408Z"
   },
   {
    "duration": 118,
    "start_time": "2022-11-02T14:50:40.533Z"
   },
   {
    "duration": 125,
    "start_time": "2022-11-02T14:50:40.653Z"
   },
   {
    "duration": 453,
    "start_time": "2022-11-02T14:50:40.780Z"
   },
   {
    "duration": 485,
    "start_time": "2022-11-02T14:50:41.236Z"
   },
   {
    "duration": 23,
    "start_time": "2022-11-02T14:50:41.722Z"
   },
   {
    "duration": 375,
    "start_time": "2022-11-02T14:50:41.746Z"
   },
   {
    "duration": 7,
    "start_time": "2022-11-02T14:50:42.123Z"
   },
   {
    "duration": 21,
    "start_time": "2022-11-02T14:50:42.131Z"
   },
   {
    "duration": 1059,
    "start_time": "2022-11-02T15:24:04.521Z"
   },
   {
    "duration": 49,
    "start_time": "2022-11-02T15:24:05.582Z"
   },
   {
    "duration": 14,
    "start_time": "2022-11-02T15:24:05.633Z"
   },
   {
    "duration": 12,
    "start_time": "2022-11-02T15:24:05.649Z"
   },
   {
    "duration": 672,
    "start_time": "2022-11-02T15:24:05.663Z"
   },
   {
    "duration": 3,
    "start_time": "2022-11-02T15:24:06.336Z"
   },
   {
    "duration": 13,
    "start_time": "2022-11-02T15:24:06.341Z"
   },
   {
    "duration": 11,
    "start_time": "2022-11-02T15:24:06.355Z"
   },
   {
    "duration": 14,
    "start_time": "2022-11-02T15:24:06.367Z"
   },
   {
    "duration": 18,
    "start_time": "2022-11-02T15:24:06.382Z"
   },
   {
    "duration": 11,
    "start_time": "2022-11-02T15:24:06.401Z"
   },
   {
    "duration": 6,
    "start_time": "2022-11-02T15:24:06.413Z"
   },
   {
    "duration": 95,
    "start_time": "2022-11-02T15:24:06.421Z"
   },
   {
    "duration": 6,
    "start_time": "2022-11-02T15:24:06.519Z"
   },
   {
    "duration": 14,
    "start_time": "2022-11-02T15:24:06.526Z"
   },
   {
    "duration": 12,
    "start_time": "2022-11-02T15:24:06.541Z"
   },
   {
    "duration": 6,
    "start_time": "2022-11-02T15:24:06.555Z"
   },
   {
    "duration": 142,
    "start_time": "2022-11-02T15:24:06.562Z"
   },
   {
    "duration": 1523,
    "start_time": "2022-11-02T15:24:06.706Z"
   },
   {
    "duration": 16,
    "start_time": "2022-11-02T15:24:08.230Z"
   },
   {
    "duration": 299,
    "start_time": "2022-11-02T15:24:08.247Z"
   },
   {
    "duration": 200,
    "start_time": "2022-11-02T15:24:08.548Z"
   },
   {
    "duration": 135,
    "start_time": "2022-11-02T15:24:08.749Z"
   },
   {
    "duration": 131,
    "start_time": "2022-11-02T15:24:08.886Z"
   },
   {
    "duration": 120,
    "start_time": "2022-11-02T15:24:09.018Z"
   },
   {
    "duration": 128,
    "start_time": "2022-11-02T15:24:09.139Z"
   },
   {
    "duration": 432,
    "start_time": "2022-11-02T15:24:09.268Z"
   },
   {
    "duration": 457,
    "start_time": "2022-11-02T15:24:09.702Z"
   },
   {
    "duration": 22,
    "start_time": "2022-11-02T15:24:10.161Z"
   },
   {
    "duration": 361,
    "start_time": "2022-11-02T15:24:10.185Z"
   },
   {
    "duration": 8,
    "start_time": "2022-11-02T15:24:10.547Z"
   },
   {
    "duration": 9,
    "start_time": "2022-11-02T15:24:10.557Z"
   },
   {
    "duration": 1346,
    "start_time": "2022-11-02T17:11:51.430Z"
   },
   {
    "duration": 93,
    "start_time": "2022-11-02T17:11:52.778Z"
   },
   {
    "duration": 16,
    "start_time": "2022-11-02T17:11:52.873Z"
   },
   {
    "duration": 15,
    "start_time": "2022-11-02T17:11:52.890Z"
   },
   {
    "duration": 718,
    "start_time": "2022-11-02T17:11:52.907Z"
   },
   {
    "duration": 3,
    "start_time": "2022-11-02T17:11:53.627Z"
   },
   {
    "duration": 11,
    "start_time": "2022-11-02T17:11:53.639Z"
   },
   {
    "duration": 14,
    "start_time": "2022-11-02T17:11:53.651Z"
   },
   {
    "duration": 10,
    "start_time": "2022-11-02T17:11:53.667Z"
   },
   {
    "duration": 8,
    "start_time": "2022-11-02T17:11:53.679Z"
   },
   {
    "duration": 26,
    "start_time": "2022-11-02T17:11:53.689Z"
   },
   {
    "duration": 28,
    "start_time": "2022-11-02T17:11:53.717Z"
   },
   {
    "duration": 104,
    "start_time": "2022-11-02T17:11:53.747Z"
   },
   {
    "duration": 7,
    "start_time": "2022-11-02T17:11:53.853Z"
   },
   {
    "duration": 5,
    "start_time": "2022-11-02T17:11:53.861Z"
   },
   {
    "duration": 8,
    "start_time": "2022-11-02T17:11:53.868Z"
   },
   {
    "duration": 10,
    "start_time": "2022-11-02T17:11:53.878Z"
   },
   {
    "duration": 180,
    "start_time": "2022-11-02T17:11:53.890Z"
   },
   {
    "duration": 1633,
    "start_time": "2022-11-02T17:11:54.071Z"
   },
   {
    "duration": 17,
    "start_time": "2022-11-02T17:11:55.706Z"
   },
   {
    "duration": 361,
    "start_time": "2022-11-02T17:11:55.724Z"
   },
   {
    "duration": 216,
    "start_time": "2022-11-02T17:11:56.087Z"
   },
   {
    "duration": 166,
    "start_time": "2022-11-02T17:11:56.305Z"
   },
   {
    "duration": 133,
    "start_time": "2022-11-02T17:11:56.473Z"
   },
   {
    "duration": 123,
    "start_time": "2022-11-02T17:11:56.608Z"
   },
   {
    "duration": 134,
    "start_time": "2022-11-02T17:11:56.732Z"
   },
   {
    "duration": 549,
    "start_time": "2022-11-02T17:11:56.868Z"
   },
   {
    "duration": 488,
    "start_time": "2022-11-02T17:11:57.418Z"
   },
   {
    "duration": 35,
    "start_time": "2022-11-02T17:11:57.907Z"
   },
   {
    "duration": 393,
    "start_time": "2022-11-02T17:11:57.944Z"
   },
   {
    "duration": 7,
    "start_time": "2022-11-02T17:11:58.339Z"
   },
   {
    "duration": 9,
    "start_time": "2022-11-02T17:11:58.348Z"
   },
   {
    "duration": 217,
    "start_time": "2022-11-02T17:37:03.725Z"
   },
   {
    "duration": 1061,
    "start_time": "2022-11-02T17:53:31.581Z"
   },
   {
    "duration": 53,
    "start_time": "2022-11-02T17:53:32.644Z"
   },
   {
    "duration": 19,
    "start_time": "2022-11-02T17:53:32.698Z"
   },
   {
    "duration": 16,
    "start_time": "2022-11-02T17:53:32.719Z"
   },
   {
    "duration": 733,
    "start_time": "2022-11-02T17:53:32.737Z"
   },
   {
    "duration": 3,
    "start_time": "2022-11-02T17:53:33.472Z"
   },
   {
    "duration": 14,
    "start_time": "2022-11-02T17:53:33.477Z"
   },
   {
    "duration": 35,
    "start_time": "2022-11-02T17:53:33.492Z"
   },
   {
    "duration": 10,
    "start_time": "2022-11-02T17:53:33.529Z"
   },
   {
    "duration": 7,
    "start_time": "2022-11-02T17:53:33.541Z"
   },
   {
    "duration": 13,
    "start_time": "2022-11-02T17:53:33.549Z"
   },
   {
    "duration": 15,
    "start_time": "2022-11-02T17:53:33.564Z"
   },
   {
    "duration": 113,
    "start_time": "2022-11-02T17:53:33.580Z"
   },
   {
    "duration": 7,
    "start_time": "2022-11-02T17:53:33.695Z"
   },
   {
    "duration": 11,
    "start_time": "2022-11-02T17:53:33.703Z"
   },
   {
    "duration": 9,
    "start_time": "2022-11-02T17:53:33.715Z"
   },
   {
    "duration": 7,
    "start_time": "2022-11-02T17:53:33.739Z"
   },
   {
    "duration": 159,
    "start_time": "2022-11-02T17:53:33.747Z"
   },
   {
    "duration": 1624,
    "start_time": "2022-11-02T17:53:33.908Z"
   },
   {
    "duration": 24,
    "start_time": "2022-11-02T17:53:35.533Z"
   },
   {
    "duration": 346,
    "start_time": "2022-11-02T17:53:35.558Z"
   },
   {
    "duration": 224,
    "start_time": "2022-11-02T17:53:35.905Z"
   },
   {
    "duration": 134,
    "start_time": "2022-11-02T17:53:36.138Z"
   },
   {
    "duration": 133,
    "start_time": "2022-11-02T17:53:36.274Z"
   },
   {
    "duration": 136,
    "start_time": "2022-11-02T17:53:36.409Z"
   },
   {
    "duration": 147,
    "start_time": "2022-11-02T17:53:36.547Z"
   },
   {
    "duration": 495,
    "start_time": "2022-11-02T17:53:36.695Z"
   },
   {
    "duration": 537,
    "start_time": "2022-11-02T17:53:37.194Z"
   },
   {
    "duration": 30,
    "start_time": "2022-11-02T17:53:37.732Z"
   },
   {
    "duration": 389,
    "start_time": "2022-11-02T17:53:37.764Z"
   },
   {
    "duration": 8,
    "start_time": "2022-11-02T17:53:38.154Z"
   },
   {
    "duration": 9,
    "start_time": "2022-11-02T17:53:38.164Z"
   },
   {
    "duration": 1406,
    "start_time": "2022-11-03T19:51:12.520Z"
   },
   {
    "duration": 46,
    "start_time": "2022-11-03T19:51:13.928Z"
   },
   {
    "duration": 106,
    "start_time": "2022-11-03T19:51:13.975Z"
   },
   {
    "duration": 0,
    "start_time": "2022-11-03T19:51:14.085Z"
   },
   {
    "duration": 0,
    "start_time": "2022-11-03T19:51:14.086Z"
   },
   {
    "duration": 0,
    "start_time": "2022-11-03T19:51:14.087Z"
   },
   {
    "duration": 0,
    "start_time": "2022-11-03T19:51:14.089Z"
   },
   {
    "duration": 0,
    "start_time": "2022-11-03T19:51:14.090Z"
   },
   {
    "duration": 0,
    "start_time": "2022-11-03T19:51:14.091Z"
   },
   {
    "duration": 0,
    "start_time": "2022-11-03T19:51:14.092Z"
   },
   {
    "duration": 0,
    "start_time": "2022-11-03T19:51:14.093Z"
   },
   {
    "duration": 0,
    "start_time": "2022-11-03T19:51:14.094Z"
   },
   {
    "duration": 0,
    "start_time": "2022-11-03T19:51:14.095Z"
   },
   {
    "duration": 0,
    "start_time": "2022-11-03T19:51:14.110Z"
   },
   {
    "duration": 0,
    "start_time": "2022-11-03T19:51:14.111Z"
   },
   {
    "duration": 0,
    "start_time": "2022-11-03T19:51:14.112Z"
   },
   {
    "duration": 0,
    "start_time": "2022-11-03T19:51:14.113Z"
   },
   {
    "duration": 0,
    "start_time": "2022-11-03T19:51:14.114Z"
   },
   {
    "duration": 0,
    "start_time": "2022-11-03T19:51:14.115Z"
   },
   {
    "duration": 0,
    "start_time": "2022-11-03T19:51:14.117Z"
   },
   {
    "duration": 0,
    "start_time": "2022-11-03T19:51:14.118Z"
   },
   {
    "duration": 0,
    "start_time": "2022-11-03T19:51:14.119Z"
   },
   {
    "duration": 0,
    "start_time": "2022-11-03T19:51:14.120Z"
   },
   {
    "duration": 0,
    "start_time": "2022-11-03T19:51:14.122Z"
   },
   {
    "duration": 0,
    "start_time": "2022-11-03T19:51:14.122Z"
   },
   {
    "duration": 0,
    "start_time": "2022-11-03T19:51:14.124Z"
   },
   {
    "duration": 0,
    "start_time": "2022-11-03T19:51:14.125Z"
   },
   {
    "duration": 0,
    "start_time": "2022-11-03T19:51:14.126Z"
   },
   {
    "duration": 0,
    "start_time": "2022-11-03T19:51:14.127Z"
   },
   {
    "duration": 0,
    "start_time": "2022-11-03T19:51:14.129Z"
   },
   {
    "duration": 0,
    "start_time": "2022-11-03T19:51:14.130Z"
   },
   {
    "duration": 0,
    "start_time": "2022-11-03T19:51:14.131Z"
   },
   {
    "duration": 0,
    "start_time": "2022-11-03T19:51:14.132Z"
   },
   {
    "duration": 0,
    "start_time": "2022-11-03T19:51:14.133Z"
   },
   {
    "duration": 57,
    "start_time": "2022-11-04T07:40:18.745Z"
   },
   {
    "duration": 1345,
    "start_time": "2022-11-04T07:40:22.771Z"
   },
   {
    "duration": 113,
    "start_time": "2022-11-04T07:40:25.626Z"
   },
   {
    "duration": 78,
    "start_time": "2022-11-04T07:43:51.964Z"
   },
   {
    "duration": 1236,
    "start_time": "2022-11-04T07:50:11.330Z"
   },
   {
    "duration": 78,
    "start_time": "2022-11-04T07:50:12.568Z"
   },
   {
    "duration": 17,
    "start_time": "2022-11-04T07:50:12.648Z"
   },
   {
    "duration": 15,
    "start_time": "2022-11-04T07:50:12.667Z"
   },
   {
    "duration": 775,
    "start_time": "2022-11-04T07:50:12.684Z"
   },
   {
    "duration": 4,
    "start_time": "2022-11-04T07:50:13.460Z"
   },
   {
    "duration": 57,
    "start_time": "2022-11-04T07:50:13.465Z"
   },
   {
    "duration": 11,
    "start_time": "2022-11-04T07:50:13.532Z"
   },
   {
    "duration": 20,
    "start_time": "2022-11-04T07:50:13.545Z"
   },
   {
    "duration": 13,
    "start_time": "2022-11-04T07:50:13.567Z"
   },
   {
    "duration": 13,
    "start_time": "2022-11-04T07:50:13.581Z"
   },
   {
    "duration": 39,
    "start_time": "2022-11-04T07:50:13.596Z"
   },
   {
    "duration": 9,
    "start_time": "2022-11-04T07:50:13.637Z"
   },
   {
    "duration": 116,
    "start_time": "2022-11-04T07:50:13.650Z"
   },
   {
    "duration": 6,
    "start_time": "2022-11-04T07:50:13.769Z"
   },
   {
    "duration": 16,
    "start_time": "2022-11-04T07:50:13.777Z"
   },
   {
    "duration": 15,
    "start_time": "2022-11-04T07:50:13.796Z"
   },
   {
    "duration": 21,
    "start_time": "2022-11-04T07:50:13.813Z"
   },
   {
    "duration": 166,
    "start_time": "2022-11-04T07:50:13.836Z"
   },
   {
    "duration": 2005,
    "start_time": "2022-11-04T07:50:14.004Z"
   },
   {
    "duration": 32,
    "start_time": "2022-11-04T07:50:16.011Z"
   },
   {
    "duration": 278,
    "start_time": "2022-11-04T07:50:16.045Z"
   },
   {
    "duration": 392,
    "start_time": "2022-11-04T07:50:16.325Z"
   },
   {
    "duration": 201,
    "start_time": "2022-11-04T07:50:16.719Z"
   },
   {
    "duration": 181,
    "start_time": "2022-11-04T07:50:16.922Z"
   },
   {
    "duration": 380,
    "start_time": "2022-11-04T07:50:17.105Z"
   },
   {
    "duration": 389,
    "start_time": "2022-11-04T07:50:17.488Z"
   },
   {
    "duration": 379,
    "start_time": "2022-11-04T07:50:17.879Z"
   },
   {
    "duration": 196,
    "start_time": "2022-11-04T07:50:18.260Z"
   },
   {
    "duration": 537,
    "start_time": "2022-11-04T07:50:18.458Z"
   },
   {
    "duration": 44,
    "start_time": "2022-11-04T07:50:18.997Z"
   },
   {
    "duration": 531,
    "start_time": "2022-11-04T07:50:19.043Z"
   },
   {
    "duration": 7,
    "start_time": "2022-11-04T07:50:19.576Z"
   },
   {
    "duration": 12,
    "start_time": "2022-11-04T07:50:19.585Z"
   },
   {
    "duration": 90,
    "start_time": "2022-11-04T07:54:20.016Z"
   },
   {
    "duration": 688,
    "start_time": "2022-11-04T07:59:56.076Z"
   },
   {
    "duration": 1384,
    "start_time": "2022-11-04T20:32:23.403Z"
   },
   {
    "duration": 129,
    "start_time": "2022-11-04T20:32:24.789Z"
   },
   {
    "duration": 17,
    "start_time": "2022-11-04T20:32:24.920Z"
   },
   {
    "duration": 16,
    "start_time": "2022-11-04T20:32:24.938Z"
   },
   {
    "duration": 777,
    "start_time": "2022-11-04T20:32:24.957Z"
   },
   {
    "duration": 4,
    "start_time": "2022-11-04T20:32:25.736Z"
   },
   {
    "duration": 62,
    "start_time": "2022-11-04T20:32:25.742Z"
   },
   {
    "duration": 10,
    "start_time": "2022-11-04T20:32:25.805Z"
   },
   {
    "duration": 35,
    "start_time": "2022-11-04T20:32:25.817Z"
   },
   {
    "duration": 6,
    "start_time": "2022-11-04T20:32:25.853Z"
   },
   {
    "duration": 13,
    "start_time": "2022-11-04T20:32:25.861Z"
   },
   {
    "duration": 20,
    "start_time": "2022-11-04T20:32:25.876Z"
   },
   {
    "duration": 8,
    "start_time": "2022-11-04T20:32:25.898Z"
   },
   {
    "duration": 106,
    "start_time": "2022-11-04T20:32:25.932Z"
   },
   {
    "duration": 7,
    "start_time": "2022-11-04T20:32:26.039Z"
   },
   {
    "duration": 8,
    "start_time": "2022-11-04T20:32:26.047Z"
   },
   {
    "duration": 11,
    "start_time": "2022-11-04T20:32:26.056Z"
   },
   {
    "duration": 9,
    "start_time": "2022-11-04T20:32:26.069Z"
   },
   {
    "duration": 234,
    "start_time": "2022-11-04T20:32:26.079Z"
   },
   {
    "duration": 2034,
    "start_time": "2022-11-04T20:32:26.316Z"
   },
   {
    "duration": 18,
    "start_time": "2022-11-04T20:32:28.352Z"
   },
   {
    "duration": 243,
    "start_time": "2022-11-04T20:32:28.372Z"
   },
   {
    "duration": 374,
    "start_time": "2022-11-04T20:32:28.617Z"
   },
   {
    "duration": 212,
    "start_time": "2022-11-04T20:32:28.993Z"
   },
   {
    "duration": 170,
    "start_time": "2022-11-04T20:32:29.206Z"
   },
   {
    "duration": 364,
    "start_time": "2022-11-04T20:32:29.377Z"
   },
   {
    "duration": 376,
    "start_time": "2022-11-04T20:32:29.744Z"
   },
   {
    "duration": 367,
    "start_time": "2022-11-04T20:32:30.122Z"
   },
   {
    "duration": 206,
    "start_time": "2022-11-04T20:32:30.491Z"
   },
   {
    "duration": 556,
    "start_time": "2022-11-04T20:32:30.699Z"
   },
   {
    "duration": 25,
    "start_time": "2022-11-04T20:32:31.256Z"
   },
   {
    "duration": 489,
    "start_time": "2022-11-04T20:32:31.282Z"
   },
   {
    "duration": 7,
    "start_time": "2022-11-04T20:32:31.773Z"
   },
   {
    "duration": 25,
    "start_time": "2022-11-04T20:32:31.782Z"
   },
   {
    "duration": 7,
    "start_time": "2022-11-04T20:37:15.730Z"
   },
   {
    "duration": 527,
    "start_time": "2022-11-04T20:45:41.024Z"
   },
   {
    "duration": 504,
    "start_time": "2022-11-04T20:45:47.364Z"
   },
   {
    "duration": 119,
    "start_time": "2022-11-04T20:47:24.628Z"
   },
   {
    "duration": 514,
    "start_time": "2022-11-04T20:47:34.137Z"
   },
   {
    "duration": 624,
    "start_time": "2022-11-04T20:49:59.405Z"
   },
   {
    "duration": 579,
    "start_time": "2022-11-04T20:50:04.243Z"
   },
   {
    "duration": 43,
    "start_time": "2022-11-04T21:11:09.997Z"
   },
   {
    "duration": 1248,
    "start_time": "2022-11-04T21:11:40.486Z"
   },
   {
    "duration": 113,
    "start_time": "2022-11-04T21:11:41.736Z"
   },
   {
    "duration": 16,
    "start_time": "2022-11-04T21:11:41.850Z"
   },
   {
    "duration": 21,
    "start_time": "2022-11-04T21:11:41.867Z"
   },
   {
    "duration": 708,
    "start_time": "2022-11-04T21:11:41.890Z"
   },
   {
    "duration": 3,
    "start_time": "2022-11-04T21:11:42.601Z"
   },
   {
    "duration": 60,
    "start_time": "2022-11-04T21:11:42.606Z"
   },
   {
    "duration": 8,
    "start_time": "2022-11-04T21:11:42.668Z"
   },
   {
    "duration": 34,
    "start_time": "2022-11-04T21:11:42.678Z"
   },
   {
    "duration": 9,
    "start_time": "2022-11-04T21:11:42.715Z"
   },
   {
    "duration": 11,
    "start_time": "2022-11-04T21:11:42.725Z"
   },
   {
    "duration": 23,
    "start_time": "2022-11-04T21:11:42.738Z"
   },
   {
    "duration": 7,
    "start_time": "2022-11-04T21:11:42.762Z"
   },
   {
    "duration": 94,
    "start_time": "2022-11-04T21:11:42.771Z"
   },
   {
    "duration": 6,
    "start_time": "2022-11-04T21:11:42.866Z"
   },
   {
    "duration": 7,
    "start_time": "2022-11-04T21:11:42.873Z"
   },
   {
    "duration": 24,
    "start_time": "2022-11-04T21:11:42.881Z"
   },
   {
    "duration": 20,
    "start_time": "2022-11-04T21:11:42.906Z"
   },
   {
    "duration": 136,
    "start_time": "2022-11-04T21:11:42.927Z"
   },
   {
    "duration": 1690,
    "start_time": "2022-11-04T21:11:43.065Z"
   },
   {
    "duration": 16,
    "start_time": "2022-11-04T21:11:44.757Z"
   },
   {
    "duration": 196,
    "start_time": "2022-11-04T21:11:44.774Z"
   },
   {
    "duration": 289,
    "start_time": "2022-11-04T21:11:44.972Z"
   },
   {
    "duration": 168,
    "start_time": "2022-11-04T21:11:45.262Z"
   },
   {
    "duration": 158,
    "start_time": "2022-11-04T21:11:45.431Z"
   },
   {
    "duration": 323,
    "start_time": "2022-11-04T21:11:45.590Z"
   },
   {
    "duration": 315,
    "start_time": "2022-11-04T21:11:45.915Z"
   },
   {
    "duration": 306,
    "start_time": "2022-11-04T21:11:46.233Z"
   },
   {
    "duration": 163,
    "start_time": "2022-11-04T21:11:46.540Z"
   },
   {
    "duration": 522,
    "start_time": "2022-11-04T21:11:46.704Z"
   },
   {
    "duration": 22,
    "start_time": "2022-11-04T21:11:47.228Z"
   },
   {
    "duration": 393,
    "start_time": "2022-11-04T21:11:47.251Z"
   },
   {
    "duration": 7,
    "start_time": "2022-11-04T21:11:47.646Z"
   },
   {
    "duration": 25,
    "start_time": "2022-11-04T21:11:47.654Z"
   },
   {
    "duration": 1319,
    "start_time": "2022-11-05T06:18:14.724Z"
   },
   {
    "duration": 112,
    "start_time": "2022-11-05T06:18:16.045Z"
   },
   {
    "duration": 19,
    "start_time": "2022-11-05T06:18:16.159Z"
   },
   {
    "duration": 15,
    "start_time": "2022-11-05T06:18:16.180Z"
   },
   {
    "duration": 851,
    "start_time": "2022-11-05T06:18:16.202Z"
   },
   {
    "duration": 3,
    "start_time": "2022-11-05T06:18:17.055Z"
   },
   {
    "duration": 55,
    "start_time": "2022-11-05T06:18:17.060Z"
   },
   {
    "duration": 24,
    "start_time": "2022-11-05T06:18:17.116Z"
   },
   {
    "duration": 20,
    "start_time": "2022-11-05T06:18:17.142Z"
   },
   {
    "duration": 5,
    "start_time": "2022-11-05T06:18:17.165Z"
   },
   {
    "duration": 21,
    "start_time": "2022-11-05T06:18:17.172Z"
   },
   {
    "duration": 17,
    "start_time": "2022-11-05T06:18:17.195Z"
   },
   {
    "duration": 24,
    "start_time": "2022-11-05T06:18:17.216Z"
   },
   {
    "duration": 120,
    "start_time": "2022-11-05T06:18:17.241Z"
   },
   {
    "duration": 9,
    "start_time": "2022-11-05T06:18:17.363Z"
   },
   {
    "duration": 13,
    "start_time": "2022-11-05T06:18:17.374Z"
   },
   {
    "duration": 14,
    "start_time": "2022-11-05T06:18:17.389Z"
   },
   {
    "duration": 32,
    "start_time": "2022-11-05T06:18:17.405Z"
   },
   {
    "duration": 182,
    "start_time": "2022-11-05T06:18:17.439Z"
   },
   {
    "duration": 1957,
    "start_time": "2022-11-05T06:18:17.623Z"
   },
   {
    "duration": 22,
    "start_time": "2022-11-05T06:18:19.581Z"
   },
   {
    "duration": 255,
    "start_time": "2022-11-05T06:18:19.605Z"
   },
   {
    "duration": 332,
    "start_time": "2022-11-05T06:18:19.862Z"
   },
   {
    "duration": 191,
    "start_time": "2022-11-05T06:18:20.196Z"
   },
   {
    "duration": 182,
    "start_time": "2022-11-05T06:18:20.389Z"
   },
   {
    "duration": 374,
    "start_time": "2022-11-05T06:18:20.573Z"
   },
   {
    "duration": 356,
    "start_time": "2022-11-05T06:18:20.948Z"
   },
   {
    "duration": 353,
    "start_time": "2022-11-05T06:18:21.307Z"
   },
   {
    "duration": 191,
    "start_time": "2022-11-05T06:18:21.662Z"
   },
   {
    "duration": 510,
    "start_time": "2022-11-05T06:18:21.855Z"
   },
   {
    "duration": 24,
    "start_time": "2022-11-05T06:18:22.367Z"
   },
   {
    "duration": 526,
    "start_time": "2022-11-05T06:18:22.393Z"
   },
   {
    "duration": 14,
    "start_time": "2022-11-05T06:18:22.921Z"
   },
   {
    "duration": 17,
    "start_time": "2022-11-05T06:18:22.937Z"
   },
   {
    "duration": 497,
    "start_time": "2022-11-05T06:25:36.550Z"
   },
   {
    "duration": 472,
    "start_time": "2022-11-05T06:26:10.450Z"
   },
   {
    "duration": 495,
    "start_time": "2022-11-05T06:27:34.666Z"
   },
   {
    "duration": 676,
    "start_time": "2022-11-05T06:28:06.181Z"
   },
   {
    "duration": 635,
    "start_time": "2022-11-05T06:28:43.318Z"
   },
   {
    "duration": 496,
    "start_time": "2022-11-05T06:28:54.171Z"
   },
   {
    "duration": 542,
    "start_time": "2022-11-05T06:29:22.732Z"
   },
   {
    "duration": 515,
    "start_time": "2022-11-05T06:30:22.192Z"
   },
   {
    "duration": 1196,
    "start_time": "2022-11-05T08:35:44.108Z"
   },
   {
    "duration": 121,
    "start_time": "2022-11-05T08:35:45.306Z"
   },
   {
    "duration": 15,
    "start_time": "2022-11-05T08:35:45.429Z"
   },
   {
    "duration": 16,
    "start_time": "2022-11-05T08:35:45.446Z"
   },
   {
    "duration": 683,
    "start_time": "2022-11-05T08:35:45.463Z"
   },
   {
    "duration": 3,
    "start_time": "2022-11-05T08:35:46.148Z"
   },
   {
    "duration": 65,
    "start_time": "2022-11-05T08:35:46.152Z"
   },
   {
    "duration": 9,
    "start_time": "2022-11-05T08:35:46.218Z"
   },
   {
    "duration": 20,
    "start_time": "2022-11-05T08:35:46.228Z"
   },
   {
    "duration": 6,
    "start_time": "2022-11-05T08:35:46.251Z"
   },
   {
    "duration": 12,
    "start_time": "2022-11-05T08:35:46.258Z"
   },
   {
    "duration": 14,
    "start_time": "2022-11-05T08:35:46.272Z"
   },
   {
    "duration": 26,
    "start_time": "2022-11-05T08:35:46.287Z"
   },
   {
    "duration": 101,
    "start_time": "2022-11-05T08:35:46.314Z"
   },
   {
    "duration": 6,
    "start_time": "2022-11-05T08:35:46.416Z"
   },
   {
    "duration": 4,
    "start_time": "2022-11-05T08:35:46.424Z"
   },
   {
    "duration": 10,
    "start_time": "2022-11-05T08:35:46.430Z"
   },
   {
    "duration": 8,
    "start_time": "2022-11-05T08:35:46.442Z"
   },
   {
    "duration": 182,
    "start_time": "2022-11-05T08:35:46.452Z"
   },
   {
    "duration": 1731,
    "start_time": "2022-11-05T08:35:46.635Z"
   },
   {
    "duration": 19,
    "start_time": "2022-11-05T08:35:48.367Z"
   },
   {
    "duration": 226,
    "start_time": "2022-11-05T08:35:48.388Z"
   },
   {
    "duration": 289,
    "start_time": "2022-11-05T08:35:48.616Z"
   },
   {
    "duration": 195,
    "start_time": "2022-11-05T08:35:48.906Z"
   },
   {
    "duration": 164,
    "start_time": "2022-11-05T08:35:49.103Z"
   },
   {
    "duration": 345,
    "start_time": "2022-11-05T08:35:49.269Z"
   },
   {
    "duration": 340,
    "start_time": "2022-11-05T08:35:49.616Z"
   },
   {
    "duration": 340,
    "start_time": "2022-11-05T08:35:49.960Z"
   },
   {
    "duration": 180,
    "start_time": "2022-11-05T08:35:50.302Z"
   },
   {
    "duration": 467,
    "start_time": "2022-11-05T08:35:50.483Z"
   },
   {
    "duration": 21,
    "start_time": "2022-11-05T08:35:50.952Z"
   },
   {
    "duration": 462,
    "start_time": "2022-11-05T08:35:50.974Z"
   },
   {
    "duration": 9,
    "start_time": "2022-11-05T08:35:51.437Z"
   },
   {
    "duration": 10,
    "start_time": "2022-11-05T08:35:51.447Z"
   }
  ],
  "kernelspec": {
   "display_name": "Python 3 (ipykernel)",
   "language": "python",
   "name": "python3"
  },
  "language_info": {
   "codemirror_mode": {
    "name": "ipython",
    "version": 3
   },
   "file_extension": ".py",
   "mimetype": "text/x-python",
   "name": "python",
   "nbconvert_exporter": "python",
   "pygments_lexer": "ipython3",
   "version": "3.9.12"
  },
  "toc": {
   "base_numbering": 1,
   "nav_menu": {},
   "number_sections": false,
   "sideBar": true,
   "skip_h1_title": true,
   "title_cell": "Table of Contents",
   "title_sidebar": "Contents",
   "toc_cell": true,
   "toc_position": {},
   "toc_section_display": true,
   "toc_window_display": true
  }
 },
 "nbformat": 4,
 "nbformat_minor": 5
}
