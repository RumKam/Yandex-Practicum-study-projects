{
 "cells": [
  {
   "cell_type": "markdown",
   "metadata": {},
   "source": [
    "# Защита персональных данных клиентов"
   ]
  },
  {
   "cell_type": "markdown",
   "metadata": {},
   "source": [
    "Необходимо защитить данные клиентов страховой компании «Хоть потоп». \n",
    "\n",
    "Задача проекта: разработать метод преобразования данных и обосновать корректность его работы. \n",
    "\n",
    "Цель проекта: сохранить качество моделей машинного обучения без ухудшений.\n",
    "\n",
    "<b>План проекта:</b>\n",
    "\n",
    "1. Загрузить и изучить данные.\n",
    "2. Признаки умножают на обратимую матрицу. Изменится ли качество линейной регрессии?\n",
    "3. Предложить алгоритм преобразования данных для решения задачи.\n",
    "4. Запрограммировать предложенный алгоритм, применив матричные операции. Применить метрику R2.\n",
    "\n",
    "<b>Описание данных:</b>\n",
    "- Признаки: пол, возраст и зарплата застрахованного, количество членов его семьи.\n",
    "- Целевой признак: количество страховых выплат клиенту за последние 5 лет."
   ]
  },
  {
   "cell_type": "markdown",
   "metadata": {},
   "source": [
    "## Загрузка данных"
   ]
  },
  {
   "cell_type": "code",
   "execution_count": 1,
   "metadata": {},
   "outputs": [],
   "source": [
    "#загрузим необходимые библиотеки\n",
    "import os\n",
    "\n",
    "import pandas as pd\n",
    "\n",
    "import numpy as np\n",
    "\n",
    "import matplotlib.pyplot as plt\n",
    "\n",
    "import seaborn as sns\n",
    "\n",
    "from sklearn.model_selection import train_test_split\n",
    "from sklearn.linear_model import LinearRegression\n",
    "from sklearn.metrics import r2_score, mean_squared_error\n",
    "\n",
    "import warnings\n",
    "warnings.filterwarnings(\"ignore\")"
   ]
  },
  {
   "cell_type": "code",
   "execution_count": 2,
   "metadata": {},
   "outputs": [
    {
     "name": "stdout",
     "output_type": "stream",
     "text": [
      "platform\n"
     ]
    }
   ],
   "source": [
    "#Загрузим датасет\n",
    "\n",
    "def read_df(df):\n",
    "    if os.path.exists('/datasets/'+df):\n",
    "        df_raw = pd.read_csv('/datasets/'+df)\n",
    "        print('platform')\n",
    "    else:\n",
    "        df_raw = pd.read_csv(df)\n",
    "        print('remote')\n",
    "    return df_raw\n",
    "    \n",
    "df_raw = read_df('insurance.csv')"
   ]
  },
  {
   "cell_type": "code",
   "execution_count": 3,
   "metadata": {},
   "outputs": [
    {
     "data": {
      "text/html": [
       "<div>\n",
       "<style scoped>\n",
       "    .dataframe tbody tr th:only-of-type {\n",
       "        vertical-align: middle;\n",
       "    }\n",
       "\n",
       "    .dataframe tbody tr th {\n",
       "        vertical-align: top;\n",
       "    }\n",
       "\n",
       "    .dataframe thead th {\n",
       "        text-align: right;\n",
       "    }\n",
       "</style>\n",
       "<table border=\"1\" class=\"dataframe\">\n",
       "  <thead>\n",
       "    <tr style=\"text-align: right;\">\n",
       "      <th></th>\n",
       "      <th>Пол</th>\n",
       "      <th>Возраст</th>\n",
       "      <th>Зарплата</th>\n",
       "      <th>Члены семьи</th>\n",
       "      <th>Страховые выплаты</th>\n",
       "    </tr>\n",
       "  </thead>\n",
       "  <tbody>\n",
       "    <tr>\n",
       "      <th>0</th>\n",
       "      <td>1</td>\n",
       "      <td>41.0</td>\n",
       "      <td>49600.0</td>\n",
       "      <td>1</td>\n",
       "      <td>0</td>\n",
       "    </tr>\n",
       "    <tr>\n",
       "      <th>1</th>\n",
       "      <td>0</td>\n",
       "      <td>46.0</td>\n",
       "      <td>38000.0</td>\n",
       "      <td>1</td>\n",
       "      <td>1</td>\n",
       "    </tr>\n",
       "    <tr>\n",
       "      <th>2</th>\n",
       "      <td>0</td>\n",
       "      <td>29.0</td>\n",
       "      <td>21000.0</td>\n",
       "      <td>0</td>\n",
       "      <td>0</td>\n",
       "    </tr>\n",
       "    <tr>\n",
       "      <th>3</th>\n",
       "      <td>0</td>\n",
       "      <td>21.0</td>\n",
       "      <td>41700.0</td>\n",
       "      <td>2</td>\n",
       "      <td>0</td>\n",
       "    </tr>\n",
       "    <tr>\n",
       "      <th>4</th>\n",
       "      <td>1</td>\n",
       "      <td>28.0</td>\n",
       "      <td>26100.0</td>\n",
       "      <td>0</td>\n",
       "      <td>0</td>\n",
       "    </tr>\n",
       "  </tbody>\n",
       "</table>\n",
       "</div>"
      ],
      "text/plain": [
       "   Пол  Возраст  Зарплата  Члены семьи  Страховые выплаты\n",
       "0    1     41.0   49600.0            1                  0\n",
       "1    0     46.0   38000.0            1                  1\n",
       "2    0     29.0   21000.0            0                  0\n",
       "3    0     21.0   41700.0            2                  0\n",
       "4    1     28.0   26100.0            0                  0"
      ]
     },
     "execution_count": 3,
     "metadata": {},
     "output_type": "execute_result"
    }
   ],
   "source": [
    "#посмотрим на порядок данных \n",
    "df_raw.head()"
   ]
  },
  {
   "cell_type": "code",
   "execution_count": 4,
   "metadata": {},
   "outputs": [
    {
     "data": {
      "text/plain": [
       "Пол                  0.0\n",
       "Возраст              0.0\n",
       "Зарплата             0.0\n",
       "Члены семьи          0.0\n",
       "Страховые выплаты    0.0\n",
       "dtype: float64"
      ]
     },
     "execution_count": 4,
     "metadata": {},
     "output_type": "execute_result"
    }
   ],
   "source": [
    "#проверим пропуски\n",
    "df_raw.isna().mean()"
   ]
  },
  {
   "cell_type": "code",
   "execution_count": 5,
   "metadata": {},
   "outputs": [
    {
     "data": {
      "text/html": [
       "<div>\n",
       "<style scoped>\n",
       "    .dataframe tbody tr th:only-of-type {\n",
       "        vertical-align: middle;\n",
       "    }\n",
       "\n",
       "    .dataframe tbody tr th {\n",
       "        vertical-align: top;\n",
       "    }\n",
       "\n",
       "    .dataframe thead tr th {\n",
       "        text-align: left;\n",
       "    }\n",
       "\n",
       "    .dataframe thead tr:last-of-type th {\n",
       "        text-align: right;\n",
       "    }\n",
       "</style>\n",
       "<table border=\"1\" class=\"dataframe\">\n",
       "  <thead>\n",
       "    <tr>\n",
       "      <th></th>\n",
       "      <th colspan=\"2\" halign=\"left\">Пол</th>\n",
       "      <th colspan=\"2\" halign=\"left\">Возраст</th>\n",
       "      <th colspan=\"2\" halign=\"left\">Зарплата</th>\n",
       "      <th colspan=\"2\" halign=\"left\">Члены семьи</th>\n",
       "    </tr>\n",
       "    <tr>\n",
       "      <th></th>\n",
       "      <th>count</th>\n",
       "      <th>mean</th>\n",
       "      <th>count</th>\n",
       "      <th>mean</th>\n",
       "      <th>count</th>\n",
       "      <th>mean</th>\n",
       "      <th>count</th>\n",
       "      <th>mean</th>\n",
       "    </tr>\n",
       "    <tr>\n",
       "      <th>Страховые выплаты</th>\n",
       "      <th></th>\n",
       "      <th></th>\n",
       "      <th></th>\n",
       "      <th></th>\n",
       "      <th></th>\n",
       "      <th></th>\n",
       "      <th></th>\n",
       "      <th></th>\n",
       "    </tr>\n",
       "  </thead>\n",
       "  <tbody>\n",
       "    <tr>\n",
       "      <th>0</th>\n",
       "      <td>4436</td>\n",
       "      <td>0.499324</td>\n",
       "      <td>4436</td>\n",
       "      <td>28.970694</td>\n",
       "      <td>4436</td>\n",
       "      <td>39924.752029</td>\n",
       "      <td>4436</td>\n",
       "      <td>1.205816</td>\n",
       "    </tr>\n",
       "    <tr>\n",
       "      <th>1</th>\n",
       "      <td>423</td>\n",
       "      <td>0.468085</td>\n",
       "      <td>423</td>\n",
       "      <td>44.706856</td>\n",
       "      <td>423</td>\n",
       "      <td>40260.520095</td>\n",
       "      <td>423</td>\n",
       "      <td>1.139480</td>\n",
       "    </tr>\n",
       "    <tr>\n",
       "      <th>2</th>\n",
       "      <td>115</td>\n",
       "      <td>0.600000</td>\n",
       "      <td>115</td>\n",
       "      <td>50.860870</td>\n",
       "      <td>115</td>\n",
       "      <td>39035.652174</td>\n",
       "      <td>115</td>\n",
       "      <td>1.017391</td>\n",
       "    </tr>\n",
       "    <tr>\n",
       "      <th>3</th>\n",
       "      <td>18</td>\n",
       "      <td>0.444444</td>\n",
       "      <td>18</td>\n",
       "      <td>55.833333</td>\n",
       "      <td>18</td>\n",
       "      <td>37677.777778</td>\n",
       "      <td>18</td>\n",
       "      <td>0.944444</td>\n",
       "    </tr>\n",
       "    <tr>\n",
       "      <th>4</th>\n",
       "      <td>7</td>\n",
       "      <td>0.571429</td>\n",
       "      <td>7</td>\n",
       "      <td>60.000000</td>\n",
       "      <td>7</td>\n",
       "      <td>34057.142857</td>\n",
       "      <td>7</td>\n",
       "      <td>0.714286</td>\n",
       "    </tr>\n",
       "    <tr>\n",
       "      <th>5</th>\n",
       "      <td>1</td>\n",
       "      <td>1.000000</td>\n",
       "      <td>1</td>\n",
       "      <td>65.000000</td>\n",
       "      <td>1</td>\n",
       "      <td>39700.000000</td>\n",
       "      <td>1</td>\n",
       "      <td>1.000000</td>\n",
       "    </tr>\n",
       "  </tbody>\n",
       "</table>\n",
       "</div>"
      ],
      "text/plain": [
       "                    Пол           Возраст            Зарплата                \\\n",
       "                  count      mean   count       mean    count          mean   \n",
       "Страховые выплаты                                                             \n",
       "0                  4436  0.499324    4436  28.970694     4436  39924.752029   \n",
       "1                   423  0.468085     423  44.706856      423  40260.520095   \n",
       "2                   115  0.600000     115  50.860870      115  39035.652174   \n",
       "3                    18  0.444444      18  55.833333       18  37677.777778   \n",
       "4                     7  0.571429       7  60.000000        7  34057.142857   \n",
       "5                     1  1.000000       1  65.000000        1  39700.000000   \n",
       "\n",
       "                  Члены семьи            \n",
       "                        count      mean  \n",
       "Страховые выплаты                        \n",
       "0                        4436  1.205816  \n",
       "1                         423  1.139480  \n",
       "2                         115  1.017391  \n",
       "3                          18  0.944444  \n",
       "4                           7  0.714286  \n",
       "5                           1  1.000000  "
      ]
     },
     "execution_count": 5,
     "metadata": {},
     "output_type": "execute_result"
    }
   ],
   "source": [
    "#посмотрим на распределение целевого признака\n",
    "df_raw.groupby('Страховые выплаты').agg(['count', 'mean'])"
   ]
  },
  {
   "cell_type": "code",
   "execution_count": 6,
   "metadata": {},
   "outputs": [
    {
     "data": {
      "image/png": "[encoded data removed]",
      "text/plain": [
       "<Figure size 576x576 with 4 Axes>"
      ]
     },
     "metadata": {
      "needs_background": "light"
     },
     "output_type": "display_data"
    }
   ],
   "source": [
    "#также посмотрим на частоту значений в числовых столбцах\n",
    "t = df_raw.drop('Пол', axis=1)\n",
    "t.hist(figsize=(8,8));"
   ]
  },
  {
   "cell_type": "markdown",
   "metadata": {},
   "source": [
    "Исходные данные содержат численные значения. В столбце 'Пол' содержатся категории. В столбцах 'Члены семьи' и 'Страховые выплаты' - целочисленные значений, в остальных двух столбцах представлены вещественные значения. В целом данные распределены нормально, выброы незначительны, а пропусков нет. Исходные данные не нуждаются в предобработке."
   ]
  },
  {
   "cell_type": "code",
   "execution_count": 7,
   "metadata": {},
   "outputs": [
    {
     "data": {
      "image/png": "[encoded data removed]",
      "text/plain": [
       "<Figure size 1120x960 with 2 Axes>"
      ]
     },
     "metadata": {
      "needs_background": "light"
     },
     "output_type": "display_data"
    }
   ],
   "source": [
    "#выведем дополнительно матрицу корреляций\n",
    "plt.figure(figsize=(14,12), dpi= 80)\n",
    "sns.heatmap(t.corr(), xticklabels=t.corr().columns, \n",
    "            yticklabels=t.corr().columns, cmap='RdYlGn', \n",
    "            center=0, annot=True)\n",
    "\n",
    "plt.title('Матрица корреляции', fontsize=14)\n",
    "plt.xticks(fontsize=10)\n",
    "plt.yticks(fontsize=10)\n",
    "plt.show()"
   ]
  },
  {
   "cell_type": "markdown",
   "metadata": {},
   "source": [
    "Похоже, что столбцы 'Возраст' и 'Страховые выплаты' мультиколлинеарны. Признак 'Страховые выплаты' - целевой, значит, признак 'Возраст' будет линейно влиять на предсказания модели. В нашей задаче используется модель линейной регрессии, поэтому важно отследить мультиколлинеарность признаков между собой, поскольку она вносит неопределенность в модель. Это грозит тем, что для разных выборок результаты оценок могут сильно отличаться, несмотря на однородность."
   ]
  },
  {
   "cell_type": "code",
   "execution_count": 8,
   "metadata": {},
   "outputs": [
    {
     "data": {
      "image/png": "[encoded data removed]",
      "text/plain": [
       "<Figure size 720x432 with 1 Axes>"
      ]
     },
     "metadata": {
      "needs_background": "light"
     },
     "output_type": "display_data"
    }
   ],
   "source": [
    "#посмотрим подробнее на зависимость признаков на диаграмме\n",
    "plt.figure(figsize=(10,6))\n",
    "sns.barplot(x='Страховые выплаты', y='Возраст', data=t);\n",
    "\n",
    "plt.title('Зависимость возраст / страховые выплаты', fontsize=14)\n",
    "plt.xticks(fontsize=12)\n",
    "plt.yticks(fontsize=12)\n",
    "plt.show()"
   ]
  },
  {
   "cell_type": "markdown",
   "metadata": {},
   "source": [
    "Заивисмость очевидна - чем старше клиент, тем больше страховых выплат было получено за период пять лет. "
   ]
  },
  {
   "cell_type": "markdown",
   "metadata": {},
   "source": [
    "## Умножение матриц"
   ]
  },
  {
   "cell_type": "markdown",
   "metadata": {},
   "source": [
    "Ответим на вопрос: изменится ли качество линейной регрессии, если признаки умножить на обратимую матрицу?\n",
    "\n",
    "Для этого введем обозначения и запишем основные понятия линеной регрессии.\n",
    "\n",
    "Обозначения:\n",
    "\n",
    "- $X$ — матрица признаков (нулевой столбец состоит из единиц)\n",
    "\n",
    "- $y$ — вектор целевого признака\n",
    "\n",
    "- $P$ — матрица, на которую умножаются признаки\n",
    "\n",
    "- $w$ — вектор весов линейной регрессии (нулевой элемент равен сдвигу)"
   ]
  },
  {
   "cell_type": "markdown",
   "metadata": {},
   "source": [
    "Предсказания:\n",
    "\n",
    "$$\n",
    "a = Xw\n",
    "$$\n",
    "\n",
    "Задача обучения:\n",
    "\n",
    "$$\n",
    "w = \\arg\\min_w MSE(Xw, y)\n",
    "$$\n",
    "\n",
    "Формула обучения:\n",
    "\n",
    "$$\n",
    "w = (X^T X)^{-1} X^T y\n",
    "$$"
   ]
  },
  {
   "cell_type": "markdown",
   "metadata": {},
   "source": [
    "Предположим, что качество линейной регрессии не изменится. Исходя из этого предположения выполним несколько преобразований и посмотрим, как связаны параметры линейной регрессии в исходной задаче и в преобразованной.\n",
    "\n",
    "Для выполнения преобразований необходимо использовать следующие свойства операций над матрицами:\n",
    "\n",
    "$$\n",
    "(AB)^T = B^T A^T,\n",
    "$$\n",
    "\n",
    "$$\n",
    "(AB)^{-1}) = B^{-1} A^{-1}.\n",
    "$$\n",
    "\n",
    "При этом необходимо учитывать, что только квадратная матрица может иметь обратную. \n",
    "\n",
    "Запишем формулу для вычисления предсказаний для преобразованного варианта задачи с умножением матрицы признаков на обратимую матрицу P:\n",
    "\n",
    "$$\n",
    "a_p = XP w_p.\n",
    "$$\n",
    "\n",
    "Также преобразуем формулу обучения:\n",
    "\n",
    "$$\n",
    "w_p = ((XP)^T XP)^{-1} (XP)^T y.\n",
    "$$\n",
    "\n",
    "Далее выполним подстановку w_p в формулу для вычисления предсказаний:\n",
    "\n",
    "$$\n",
    "a_p = XP ((XP)^T XP)^{-1} (XP)^T y.\n",
    "$$\n",
    "\n",
    "Раскроем в первую очередь операции транспонирования и переставим скобки внутри выражения для удобства:\n",
    "\n",
    "$$\n",
    "a_p = XP (P^T (X^T X) P)^{-1} P^T X^T y.\n",
    "$$\n",
    "\n",
    "Таким образом, получаем три квадратные матрицы, для которых можно найти обратные:\n",
    "\n",
    "$$\n",
    "a_p = X P P^{-1} (X^T X)^{-1} (P^T)^{-1} P^T X^T y,\n",
    "$$\n",
    "\n",
    "Выражения $(P^T)^{-1} P^T$ и $P^{-1} P$ дают в результате единичную матрицу:\n",
    "\n",
    "$$\n",
    "a_p = X (X^T X)^{-1} X^T y,\n",
    "$$\n",
    "\n",
    "Можно заметить, что выражение $(X^T X)^{-1} X^T y$ равно вектору весов для исходной задачи $w$. Тогда можно заменить это выражение и получим формулировку для исходной задачи:\n",
    "$$\n",
    "a_p = X w,\n",
    "$$\n",
    "тогда:\n",
    "\n",
    "$$\n",
    "a_p = a,\n",
    "$$\n",
    "\n",
    "Результат сокращений получится идентичный для исходной и преобразованной задачи, а значит, умножение матрицы признаков на обратимую не влияет на метрики качества линейной регрессии. \n",
    "\n",
    "Далее найдем связь параметров линейной регрессии в исходной и преобразованной задаче. Для этого запишем оба выражения:\n",
    "$$\n",
    "w = (X^T X)^{-1} X^T y;\n",
    "$$\n",
    "\n",
    "$$\n",
    "w_p = ((XP)^T XP)^{-1} (XP)^T y.\n",
    "$$\n",
    "\n",
    "После транспонирования внутреннего выражения, по аналогии с тем, что было выполнено выше, получаем для $w_p$:\n",
    "\n",
    "$$\n",
    "w_p = (P^T X^T XP)^{-1} P^T X^T y = P^{-1} (X^T X)^{-1} (P^T)^{-1} P^T X^T y =  P^{-1} (X^T X)^{-1} X^T y;\n",
    "$$\n",
    "\n",
    "выражение $(X^T X)^{-1} X^T y$ можно наменить на $w$, тогда получим искомое соотношение парметров $w$ и $w_p$:\n",
    "\n",
    "$$\n",
    "w_p = w P^{-1}.\n",
    "$$\n",
    "\n",
    "Таким образом, параметры $w$ и $w_p$ связаны обратимой матрицей $P^{-1}$.\n"
   ]
  },
  {
   "cell_type": "markdown",
   "metadata": {},
   "source": [
    "**Ответ:** При умножении матрицы признаков на обратимую матрицу метрики линейной регрессии не изменяются. Параметры линейной регрессии в исходной задаче и в преобразованной связаны матрицей $P$, на которую умнжнаяются признаки: $w_p = w P^{-1}$\n",
    "\n",
    "**Обоснование:** Преобразования, представленные выше, показывают, как матрица признаков сокращается до единичной при выполнении условия минимума функции метрики MSE. Таким образом, если матрицы признаков для обучения и теста умножить на одну и ту же обратимую матрицу - метрика качества линейной регрессии не изменится."
   ]
  },
  {
   "cell_type": "markdown",
   "metadata": {},
   "source": [
    "## Алгоритм преобразования"
   ]
  },
  {
   "cell_type": "markdown",
   "metadata": {},
   "source": [
    "Для шифрования наших данных реализуем аналитический метод шифрования, основанный на линейных преобразованиях матриц - метод Хилла. В оригинальном методе Хилла матрица ключа умножается на вектор открытого текста. Таким образом, размер ключа составляет $n$ x $n$, где n-количество строк открытого текста. В нашем случае размеры выборок разные и могут изменяться в процессе доработок. В связи с этим будет использован обратный порядок умножения, то есть, матрица открытого текста будет умножаться на матрицу ключа, чтобы размер ключа соотвестовал количеству столбцов в матрице текста (этот параметр остается без изменений как для тренировочной, так и для тестовой выборки).\n",
    "\n",
    "**Алгоритм**\n",
    "\n",
    "Обозначения:\n",
    "\n",
    "$X$ — матрица признаков (нулевой столбец состоит из единиц);\n",
    "\n",
    "$P$ — матрица - ключ;\n",
    "\n",
    "$C$ — зашифрованный текст.\n",
    "\n",
    "1. Зададим квадратную матрицу ключа $P$ размером $n$ x $n$. Это может быть случайный, но воспроизводимый для дешифровки, набор цифр. Кроме того, матрица ключа должна иметь обратную.\n",
    "2. Произведем умножение матриц, в результате чего получим матрицу зашифрованного текста:\n",
    "\n",
    "$$\n",
    "C = XP.\n",
    "$$\n",
    "\n",
    "3. Чтобы расшифровать данные, воспользуемся выражением для поиска обратной матрицы:\n",
    "$$\n",
    "P^{-1} = \\frac{1}{P}\n",
    "$$\n",
    "\n",
    "Таким образом, исходный текст можно получить путем произведения обратной матрицы ключа и матрицы зашифрованного текста:\n",
    "$$\n",
    "X = C P^{-1}\n",
    "$$\n",
    "\n",
    "\n"
   ]
  },
  {
   "cell_type": "markdown",
   "metadata": {},
   "source": [
    "**Обоснование**\n",
    "\n",
    "Этот метод основан на преобразовании вектора данных путем умножения на матрицу ключа. Как было доказано выше, такое преобразование зашифрует данные и позволит сохранить метрики качества модели без изменений. Для выполнения условия сохранения метрик модели линейной регрессии, матрица ключа должна быть константной для всех выборок."
   ]
  },
  {
   "cell_type": "markdown",
   "metadata": {},
   "source": [
    "## Проверка алгоритма"
   ]
  },
  {
   "cell_type": "code",
   "execution_count": 9,
   "metadata": {},
   "outputs": [
    {
     "name": "stdout",
     "output_type": "stream",
     "text": [
      "Train:\n"
     ]
    },
    {
     "data": {
      "text/plain": [
       "(3750, 4)"
      ]
     },
     "metadata": {},
     "output_type": "display_data"
    },
    {
     "data": {
      "text/plain": [
       "(3750,)"
      ]
     },
     "metadata": {},
     "output_type": "display_data"
    },
    {
     "name": "stdout",
     "output_type": "stream",
     "text": [
      "Test:\n"
     ]
    },
    {
     "data": {
      "text/plain": [
       "(1250, 4)"
      ]
     },
     "metadata": {},
     "output_type": "display_data"
    },
    {
     "data": {
      "text/plain": [
       "(1250,)"
      ]
     },
     "metadata": {},
     "output_type": "display_data"
    }
   ],
   "source": [
    "#выделим признаки\n",
    "X = df_raw.drop(['Страховые выплаты'], axis=1)\n",
    "y = df_raw['Страховые выплаты']\n",
    "\n",
    "#разделим выборки на тренировочную и тестовую\n",
    "X_train, X_test, y_train, y_test = train_test_split(\n",
    "    X, y, test_size=0.25, random_state=42)\n",
    "\n",
    "#убедимся в правильности разделения\n",
    "print('Train:')\n",
    "display(X_train.shape)\n",
    "display(y_train.shape)\n",
    "print('Test:')\n",
    "display(X_test.shape)\n",
    "display(y_test.shape)"
   ]
  },
  {
   "cell_type": "code",
   "execution_count": 10,
   "metadata": {},
   "outputs": [],
   "source": [
    "#Исследуем модель по методу линейной регрессии и гиперпараметрами по умолчанию для исходной задачи\n",
    "\n",
    "model = LinearRegression() #обучим модель\n",
    "\n",
    "model.fit(X_train, y_train) # обучим модель на тренировочной выборке\n",
    "predictions = model.predict(X_test) # получим предсказания модели\n",
    "result = r2_score(y_test, predictions)  # посчитаем качество модели для предсказания"
   ]
  },
  {
   "cell_type": "code",
   "execution_count": 11,
   "metadata": {
    "scrolled": true
   },
   "outputs": [
    {
     "name": "stdout",
     "output_type": "stream",
     "text": [
      "R2 для исходной задачи: 0.4255\n",
      "MSE для исходной задачи: 0.1386\n",
      "\n",
      "R2 после преобразования: 0.4255\n",
      "MSE после преобразования: 0.1386\n"
     ]
    }
   ],
   "source": [
    "#далее получим метрики для преобразованной задачи\n",
    "\n",
    "#создадим матрицу-ключ, обеспечив при этом гарантированную обратимость\n",
    "def key_encryption(data):\n",
    "    P = np.random.normal(size=(data.shape[1], data.shape[1]))\n",
    "    if np.linalg.det(P) != 0:\n",
    "        return P\n",
    "    return print('det = 0')\n",
    "\n",
    "P = key_encryption(X)\n",
    "\n",
    "#создадим преобразованные выборки, умножих их на ключ\n",
    "X_train_trans = X_train.dot(P)\n",
    "X_test_trans = X_test.dot(P)\n",
    "\n",
    "#далее получим предсказание\n",
    "model.fit(X_train_trans, y_train) # обучим модель на тренировочной выборке\n",
    "predictions_trans = model.predict(X_test_trans) # получим предсказания модели\n",
    "result_trans = r2_score(y_test, predictions_trans)  # посчитаем качество модели для предсказания\n",
    "\n",
    "print(\"R2 для исходной задачи:\", round(result, 4))\n",
    "print(\"MSE для исходной задачи:\", round(mean_squared_error(y_test, predictions), 4))\n",
    "print()\n",
    "print(\"R2 после преобразования:\", round(result_trans, 4))\n",
    "print(\"MSE после преобразования:\", round(mean_squared_error(y_test, predictions_trans), 4))"
   ]
  },
  {
   "cell_type": "markdown",
   "metadata": {},
   "source": [
    "Результаты работы модели показали, что метрика качества не изменилась после преобразования признаков."
   ]
  },
  {
   "cell_type": "code",
   "execution_count": 12,
   "metadata": {},
   "outputs": [
    {
     "data": {
      "text/plain": [
       "Пол            0.0\n",
       "Возраст        0.0\n",
       "Зарплата      -0.0\n",
       "Члены семьи   -0.0\n",
       "dtype: float64"
      ]
     },
     "metadata": {},
     "output_type": "display_data"
    },
    {
     "data": {
      "text/plain": [
       "Пол            0.0\n",
       "Возраст        0.0\n",
       "Зарплата      -0.0\n",
       "Члены семьи   -0.0\n",
       "dtype: float64"
      ]
     },
     "metadata": {},
     "output_type": "display_data"
    }
   ],
   "source": [
    "#выполним расшифровку данных\n",
    "\n",
    "#получим обратную матрицу ключа\n",
    "P_inv = np.linalg.inv(P)\n",
    "\n",
    "#выполним преобразование\n",
    "X_train_dec = X_train_trans.dot(P_inv)\n",
    "X_test_dec = X_test_trans.dot(P_inv)\n",
    "\n",
    "X_train_dec.columns = X_train.columns\n",
    "X_test_dec.columns = X_test.columns\n",
    "\n",
    "#сравним дешифрованные данные с исходными\n",
    "display((X_train_dec - X_train).mean().round(1))\n",
    "display((X_test_dec - X_test).mean().round(1))"
   ]
  },
  {
   "cell_type": "markdown",
   "metadata": {},
   "source": [
    "Такой алгоритм поволяет корректно шифровать и дешифровать данные без риска ухудшения метрик качества модели линейной регрессии."
   ]
  },
  {
   "cell_type": "markdown",
   "metadata": {},
   "source": [
    "## Выводы\n",
    "\n",
    "Задача проекта выполнена - метод преобразования данных разработан и обоснована корректность его работы. \n",
    "\n",
    "Достигнута цель проекта - качество модели машинного обучения не изменилось после преобразования исходных данных.\n",
    "\n",
    "В ходе выполнения проекта выполнены следующие этапы и получены результаты:\n",
    "\n",
    "1. Данные загружены, предобработка не потребовалась.\n",
    "2. При умножении признаков на обратимую матрицу качество линейной регрессии не изменится. Вывод обоснован аналитически. Для параметров линейной регрессии в исходной задаче и в преобразованной выполняется соотношение: $w_p = w P^{-1}$.\n",
    "3. Предложен алгоритм преобразования данных для решения задачи.\n",
    "4. Алгоритм реализован и проверен на модели - метрики качества до и после преобразования признаков не изменяются."
   ]
  }
 ],
 "metadata": {
  "ExecuteTimeLog": [
   {
    "duration": 2045,
    "start_time": "2023-01-19T11:31:35.069Z"
   },
   {
    "duration": 25,
    "start_time": "2023-01-19T11:31:37.116Z"
   },
   {
    "duration": 31,
    "start_time": "2023-01-19T11:31:37.143Z"
   },
   {
    "duration": 7,
    "start_time": "2023-01-19T11:31:37.176Z"
   },
   {
    "duration": 30,
    "start_time": "2023-01-19T11:31:37.184Z"
   },
   {
    "duration": 933,
    "start_time": "2023-01-19T11:31:37.216Z"
   },
   {
    "duration": 16,
    "start_time": "2023-01-19T11:31:38.152Z"
   },
   {
    "duration": 35,
    "start_time": "2023-01-19T11:31:38.170Z"
   },
   {
    "duration": 109,
    "start_time": "2023-01-19T11:31:38.206Z"
   },
   {
    "duration": 93,
    "start_time": "2023-01-19T11:31:38.318Z"
   },
   {
    "duration": 97,
    "start_time": "2023-01-19T11:31:38.413Z"
   },
   {
    "duration": 1168,
    "start_time": "2023-01-20T08:12:10.582Z"
   },
   {
    "duration": 98,
    "start_time": "2023-01-20T08:14:11.180Z"
   },
   {
    "duration": 91,
    "start_time": "2023-01-20T08:14:20.577Z"
   },
   {
    "duration": 16,
    "start_time": "2023-01-20T08:14:21.483Z"
   },
   {
    "duration": 8,
    "start_time": "2023-01-20T08:14:22.100Z"
   },
   {
    "duration": 23,
    "start_time": "2023-01-20T08:14:24.000Z"
   },
   {
    "duration": 836,
    "start_time": "2023-01-20T08:14:24.841Z"
   },
   {
    "duration": 22,
    "start_time": "2023-01-20T08:14:41.324Z"
   },
   {
    "duration": 3,
    "start_time": "2023-01-20T08:14:58.088Z"
   },
   {
    "duration": 412,
    "start_time": "2023-01-20T08:15:07.946Z"
   },
   {
    "duration": 13,
    "start_time": "2023-01-20T08:15:10.789Z"
   },
   {
    "duration": 132,
    "start_time": "2023-01-20T08:15:22.821Z"
   },
   {
    "duration": 17,
    "start_time": "2023-01-20T08:15:27.624Z"
   },
   {
    "duration": 293,
    "start_time": "2023-01-20T08:16:40.521Z"
   },
   {
    "duration": 432,
    "start_time": "2023-01-20T08:17:13.502Z"
   },
   {
    "duration": 5,
    "start_time": "2023-01-20T08:17:20.209Z"
   },
   {
    "duration": 16,
    "start_time": "2023-01-20T08:17:32.992Z"
   },
   {
    "duration": 413,
    "start_time": "2023-01-20T08:17:57.422Z"
   },
   {
    "duration": 8,
    "start_time": "2023-01-20T08:18:00.144Z"
   },
   {
    "duration": 249,
    "start_time": "2023-01-20T08:18:26.193Z"
   },
   {
    "duration": 437,
    "start_time": "2023-01-20T08:19:25.944Z"
   },
   {
    "duration": 342,
    "start_time": "2023-01-20T08:19:27.190Z"
   },
   {
    "duration": 11,
    "start_time": "2023-01-20T08:34:25.382Z"
   },
   {
    "duration": 12,
    "start_time": "2023-01-20T08:34:38.782Z"
   },
   {
    "duration": 10,
    "start_time": "2023-01-20T08:36:01.656Z"
   },
   {
    "duration": 9,
    "start_time": "2023-01-20T08:36:19.597Z"
   },
   {
    "duration": 9,
    "start_time": "2023-01-20T08:36:24.735Z"
   },
   {
    "duration": 17,
    "start_time": "2023-01-20T08:36:31.883Z"
   },
   {
    "duration": 247,
    "start_time": "2023-01-20T08:36:47.405Z"
   },
   {
    "duration": 157,
    "start_time": "2023-01-20T08:36:58.457Z"
   },
   {
    "duration": 136,
    "start_time": "2023-01-20T08:39:52.154Z"
   },
   {
    "duration": 137,
    "start_time": "2023-01-20T08:40:11.527Z"
   },
   {
    "duration": 23673,
    "start_time": "2023-01-20T08:40:29.213Z"
   },
   {
    "duration": 12,
    "start_time": "2023-01-20T08:41:10.796Z"
   },
   {
    "duration": 247,
    "start_time": "2023-01-20T08:41:30.422Z"
   },
   {
    "duration": 263,
    "start_time": "2023-01-20T08:41:37.042Z"
   },
   {
    "duration": 237,
    "start_time": "2023-01-20T08:42:11.533Z"
   },
   {
    "duration": 263,
    "start_time": "2023-01-20T08:42:16.185Z"
   },
   {
    "duration": 248,
    "start_time": "2023-01-20T08:43:51.239Z"
   },
   {
    "duration": 263,
    "start_time": "2023-01-20T08:44:06.217Z"
   },
   {
    "duration": 253,
    "start_time": "2023-01-20T08:44:53.550Z"
   },
   {
    "duration": 250,
    "start_time": "2023-01-20T08:45:03.641Z"
   },
   {
    "duration": 268,
    "start_time": "2023-01-20T08:45:09.325Z"
   },
   {
    "duration": 266,
    "start_time": "2023-01-20T08:45:22.995Z"
   },
   {
    "duration": 259,
    "start_time": "2023-01-20T08:45:30.628Z"
   },
   {
    "duration": 253,
    "start_time": "2023-01-20T08:45:34.921Z"
   },
   {
    "duration": 260,
    "start_time": "2023-01-20T08:45:40.746Z"
   },
   {
    "duration": 4,
    "start_time": "2023-01-20T09:06:57.783Z"
   },
   {
    "duration": 4,
    "start_time": "2023-01-20T09:07:18.338Z"
   },
   {
    "duration": 5,
    "start_time": "2023-01-20T09:07:32.948Z"
   },
   {
    "duration": 15,
    "start_time": "2023-01-20T09:07:36.027Z"
   },
   {
    "duration": 22,
    "start_time": "2023-01-20T09:08:57.530Z"
   },
   {
    "duration": 13,
    "start_time": "2023-01-20T09:09:56.664Z"
   },
   {
    "duration": 16,
    "start_time": "2023-01-20T09:15:07.030Z"
   },
   {
    "duration": 10,
    "start_time": "2023-01-20T09:21:42.935Z"
   },
   {
    "duration": 16,
    "start_time": "2023-01-20T09:21:46.245Z"
   },
   {
    "duration": 11,
    "start_time": "2023-01-20T09:22:03.989Z"
   },
   {
    "duration": 71,
    "start_time": "2023-01-20T11:07:02.632Z"
   },
   {
    "duration": 76,
    "start_time": "2023-01-20T11:07:11.137Z"
   },
   {
    "duration": 69,
    "start_time": "2023-01-20T11:07:16.882Z"
   },
   {
    "duration": 4,
    "start_time": "2023-01-20T11:14:55.018Z"
   },
   {
    "duration": 3,
    "start_time": "2023-01-20T11:16:33.310Z"
   },
   {
    "duration": 13,
    "start_time": "2023-01-20T11:17:23.486Z"
   },
   {
    "duration": 6,
    "start_time": "2023-01-20T11:17:29.382Z"
   },
   {
    "duration": 6,
    "start_time": "2023-01-20T11:18:26.410Z"
   },
   {
    "duration": 5,
    "start_time": "2023-01-20T11:18:29.306Z"
   },
   {
    "duration": 6,
    "start_time": "2023-01-20T11:18:32.911Z"
   },
   {
    "duration": 4,
    "start_time": "2023-01-20T11:18:33.602Z"
   },
   {
    "duration": 6,
    "start_time": "2023-01-20T11:18:53.313Z"
   },
   {
    "duration": 4,
    "start_time": "2023-01-20T11:18:54.353Z"
   },
   {
    "duration": 7,
    "start_time": "2023-01-20T11:18:56.598Z"
   },
   {
    "duration": 7,
    "start_time": "2023-01-20T11:19:00.712Z"
   },
   {
    "duration": 8,
    "start_time": "2023-01-20T11:19:04.226Z"
   },
   {
    "duration": 7,
    "start_time": "2023-01-20T11:19:07.914Z"
   },
   {
    "duration": 7,
    "start_time": "2023-01-20T11:19:11.239Z"
   },
   {
    "duration": 7,
    "start_time": "2023-01-20T11:19:14.950Z"
   },
   {
    "duration": 8,
    "start_time": "2023-01-20T11:19:28.585Z"
   },
   {
    "duration": 7,
    "start_time": "2023-01-20T11:19:32.086Z"
   },
   {
    "duration": 7,
    "start_time": "2023-01-20T11:19:34.084Z"
   },
   {
    "duration": 7,
    "start_time": "2023-01-20T11:19:35.906Z"
   },
   {
    "duration": 6,
    "start_time": "2023-01-20T11:19:38.125Z"
   },
   {
    "duration": 7,
    "start_time": "2023-01-20T11:19:40.514Z"
   },
   {
    "duration": 7,
    "start_time": "2023-01-20T11:20:22.893Z"
   },
   {
    "duration": 7,
    "start_time": "2023-01-20T11:20:26.333Z"
   },
   {
    "duration": 7,
    "start_time": "2023-01-20T11:20:28.390Z"
   },
   {
    "duration": 7,
    "start_time": "2023-01-20T11:20:30.407Z"
   },
   {
    "duration": 6,
    "start_time": "2023-01-20T11:21:07.806Z"
   },
   {
    "duration": 7,
    "start_time": "2023-01-20T11:21:09.819Z"
   },
   {
    "duration": 7,
    "start_time": "2023-01-20T11:21:11.810Z"
   },
   {
    "duration": 5,
    "start_time": "2023-01-20T11:25:05.481Z"
   },
   {
    "duration": 75,
    "start_time": "2023-01-20T11:25:25.753Z"
   },
   {
    "duration": 3,
    "start_time": "2023-01-20T11:25:33.734Z"
   },
   {
    "duration": 7,
    "start_time": "2023-01-20T11:26:03.693Z"
   },
   {
    "duration": 7,
    "start_time": "2023-01-20T11:27:28.290Z"
   },
   {
    "duration": 21,
    "start_time": "2023-01-20T11:27:58.297Z"
   },
   {
    "duration": 8,
    "start_time": "2023-01-20T11:29:17.301Z"
   },
   {
    "duration": 21,
    "start_time": "2023-01-20T11:29:59.998Z"
   },
   {
    "duration": 14,
    "start_time": "2023-01-20T11:30:13.232Z"
   },
   {
    "duration": 13,
    "start_time": "2023-01-20T11:30:27.751Z"
   },
   {
    "duration": 5,
    "start_time": "2023-01-20T11:30:31.442Z"
   },
   {
    "duration": 16,
    "start_time": "2023-01-20T11:30:37.606Z"
   },
   {
    "duration": 6,
    "start_time": "2023-01-20T11:31:00.953Z"
   },
   {
    "duration": 13,
    "start_time": "2023-01-20T11:31:05.442Z"
   },
   {
    "duration": 8,
    "start_time": "2023-01-20T11:33:52.359Z"
   },
   {
    "duration": 14,
    "start_time": "2023-01-20T11:33:55.687Z"
   },
   {
    "duration": 14,
    "start_time": "2023-01-20T11:35:07.928Z"
   },
   {
    "duration": 1475,
    "start_time": "2023-01-20T11:35:38.075Z"
   },
   {
    "duration": 31,
    "start_time": "2023-01-20T11:35:39.552Z"
   },
   {
    "duration": 13,
    "start_time": "2023-01-20T11:35:39.585Z"
   },
   {
    "duration": 37,
    "start_time": "2023-01-20T11:35:39.601Z"
   },
   {
    "duration": 27,
    "start_time": "2023-01-20T11:35:39.640Z"
   },
   {
    "duration": 479,
    "start_time": "2023-01-20T11:35:39.669Z"
   },
   {
    "duration": 293,
    "start_time": "2023-01-20T11:35:40.150Z"
   },
   {
    "duration": 295,
    "start_time": "2023-01-20T11:35:40.445Z"
   },
   {
    "duration": 14,
    "start_time": "2023-01-20T11:35:40.741Z"
   },
   {
    "duration": 37,
    "start_time": "2023-01-20T11:35:40.757Z"
   },
   {
    "duration": 39,
    "start_time": "2023-01-20T11:35:40.796Z"
   },
   {
    "duration": 97,
    "start_time": "2023-01-20T11:35:40.837Z"
   },
   {
    "duration": 68,
    "start_time": "2023-01-20T11:35:40.936Z"
   },
   {
    "duration": 297,
    "start_time": "2023-01-20T11:36:15.097Z"
   },
   {
    "duration": 290,
    "start_time": "2023-01-20T11:36:22.142Z"
   },
   {
    "duration": 302,
    "start_time": "2023-01-20T11:36:29.286Z"
   },
   {
    "duration": 287,
    "start_time": "2023-01-20T11:36:39.799Z"
   },
   {
    "duration": 232,
    "start_time": "2023-01-20T11:36:45.620Z"
   },
   {
    "duration": 255,
    "start_time": "2023-01-20T11:36:48.826Z"
   },
   {
    "duration": 304,
    "start_time": "2023-01-20T11:37:04.840Z"
   },
   {
    "duration": 314,
    "start_time": "2023-01-20T11:37:15.630Z"
   },
   {
    "duration": 296,
    "start_time": "2023-01-20T11:37:29.167Z"
   },
   {
    "duration": 1592,
    "start_time": "2023-01-21T06:56:30.175Z"
   },
   {
    "duration": 1421,
    "start_time": "2023-01-21T08:53:59.785Z"
   },
   {
    "duration": 95,
    "start_time": "2023-01-21T08:54:01.208Z"
   },
   {
    "duration": 17,
    "start_time": "2023-01-21T08:54:01.306Z"
   },
   {
    "duration": 36,
    "start_time": "2023-01-21T08:54:01.326Z"
   },
   {
    "duration": 48,
    "start_time": "2023-01-21T08:54:01.364Z"
   },
   {
    "duration": 496,
    "start_time": "2023-01-21T08:54:01.414Z"
   },
   {
    "duration": 297,
    "start_time": "2023-01-21T08:54:01.912Z"
   },
   {
    "duration": 272,
    "start_time": "2023-01-21T08:54:02.211Z"
   },
   {
    "duration": 14,
    "start_time": "2023-01-21T08:54:02.485Z"
   },
   {
    "duration": 133,
    "start_time": "2023-01-21T08:54:02.501Z"
   },
   {
    "duration": 0,
    "start_time": "2023-01-21T08:54:02.636Z"
   },
   {
    "duration": 21,
    "start_time": "2023-01-21T08:55:08.153Z"
   },
   {
    "duration": 10,
    "start_time": "2023-01-21T08:56:18.088Z"
   },
   {
    "duration": 109,
    "start_time": "2023-01-21T08:56:18.876Z"
   },
   {
    "duration": 1426,
    "start_time": "2023-01-21T08:56:30.072Z"
   },
   {
    "duration": 40,
    "start_time": "2023-01-21T08:56:31.500Z"
   },
   {
    "duration": 14,
    "start_time": "2023-01-21T08:56:31.542Z"
   },
   {
    "duration": 7,
    "start_time": "2023-01-21T08:56:31.558Z"
   },
   {
    "duration": 37,
    "start_time": "2023-01-21T08:56:31.567Z"
   },
   {
    "duration": 470,
    "start_time": "2023-01-21T08:56:31.606Z"
   },
   {
    "duration": 279,
    "start_time": "2023-01-21T08:56:32.078Z"
   },
   {
    "duration": 286,
    "start_time": "2023-01-21T08:56:32.359Z"
   },
   {
    "duration": 13,
    "start_time": "2023-01-21T08:56:32.647Z"
   },
   {
    "duration": 9,
    "start_time": "2023-01-21T08:56:32.662Z"
   },
   {
    "duration": 134,
    "start_time": "2023-01-21T08:56:32.672Z"
   },
   {
    "duration": 129,
    "start_time": "2023-01-21T08:56:32.808Z"
   }
  ],
  "kernelspec": {
   "display_name": "Python 3 (ipykernel)",
   "language": "python",
   "name": "python3"
  },
  "language_info": {
   "codemirror_mode": {
    "name": "ipython",
    "version": 3
   },
   "file_extension": ".py",
   "mimetype": "text/x-python",
   "name": "python",
   "nbconvert_exporter": "python",
   "pygments_lexer": "ipython3",
   "version": "3.9.12"
  },
  "toc": {
   "base_numbering": 1,
   "nav_menu": {},
   "number_sections": true,
   "sideBar": true,
   "skip_h1_title": true,
   "title_cell": "Содержание",
   "title_sidebar": "Contents",
   "toc_cell": true,
   "toc_position": {},
   "toc_section_display": true,
   "toc_window_display": false
  }
 },
 "nbformat": 4,
 "nbformat_minor": 2
}
