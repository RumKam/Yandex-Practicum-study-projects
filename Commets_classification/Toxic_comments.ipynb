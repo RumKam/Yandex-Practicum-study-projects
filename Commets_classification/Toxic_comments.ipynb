{
 "cells": [
  {
   "cell_type": "markdown",
   "metadata": {},
   "source": [
    "# Проект для «Викишоп»"
   ]
  },
  {
   "cell_type": "markdown",
   "metadata": {},
   "source": [
    "Интернет-магазин «Викишоп» запускает новый сервис. Теперь пользователи могут редактировать и дополнять описания товаров, как в вики-сообществах. То есть клиенты предлагают свои правки и комментируют изменения других. Магазину нужен инструмент, который будет искать токсичные комментарии и отправлять их на модерацию. \n",
    "\n",
    "**Задача проекта** - обучить модель и классифицировать комментарии на позитивные и негативные. \n",
    "\n",
    "**Цель проекта** - построить модель со значением метрики качества *F1* не меньше 0.75. \n",
    "\n",
    "**План проекта**\n",
    "\n",
    "1. Загрузить и подготовить данные.\n",
    "2. Обучить разные модели. \n",
    "3. Сделать выводы.\n",
    "\n",
    "**Описание данных**\n",
    "\n",
    "Исходные данные находятся в файле `toxic_comments.csv`. Столбец *text* в нём содержит текст комментария, а *toxic* — целевой признак."
   ]
  },
  {
   "cell_type": "markdown",
   "metadata": {},
   "source": [
    "## Подготовка"
   ]
  },
  {
   "cell_type": "code",
   "execution_count": 42,
   "metadata": {},
   "outputs": [],
   "source": [
    "#загрузим необходимые библиотеки\n",
    "import os\n",
    "import re\n",
    "\n",
    "import matplotlib.pyplot as plt\n",
    "import numpy as np\n",
    "import pandas as pd\n",
    "\n",
    "from sklearn.feature_extraction.text import TfidfVectorizer\n",
    "\n",
    "from sklearn.linear_model import LogisticRegression\n",
    "from sklearn.linear_model import SGDClassifier\n",
    "\n",
    "from sklearn.model_selection import GridSearchCV\n",
    "from sklearn.model_selection import train_test_split\n",
    "\n",
    "from sklearn.metrics import f1_score, precision_score, recall_score, make_scorer\n",
    "from sklearn.metrics import roc_curve, roc_auc_score\n",
    "from sklearn.metrics import precision_recall_curve\n",
    "\n",
    "from sklearn.pipeline import Pipeline\n",
    "\n",
    "import nltk\n",
    "from nltk.corpus import stopwords as nltk_stopwords\n",
    "\n",
    "from lightgbm import LGBMClassifier\n",
    "\n",
    "from textblob import TextBlob, Word\n",
    "\n",
    "from tqdm.notebook import tqdm\n",
    "tqdm.pandas()\n",
    "\n",
    "from wordcloud import WordCloud\n",
    "\n",
    "import warnings\n",
    "warnings.filterwarnings(\"ignore\")"
   ]
  },
  {
   "cell_type": "code",
   "execution_count": 2,
   "metadata": {},
   "outputs": [
    {
     "name": "stdout",
     "output_type": "stream",
     "text": [
      "remote\n"
     ]
    }
   ],
   "source": [
    "#Загрузим датасет\n",
    "pth1 = '/datasets/toxic_comments.csv'\n",
    "pth2 = 'toxic_comments.csv'\n",
    "\n",
    "if os.path.exists(pth1):\n",
    "    df = pd.read_csv(pth1, index_col=0)\n",
    "    print('platform')\n",
    "else:\n",
    "    df = pd.read_csv(pth2, index_col=0)\n",
    "    print('remote')"
   ]
  },
  {
   "cell_type": "code",
   "execution_count": 3,
   "metadata": {},
   "outputs": [
    {
     "data": {
      "text/plain": [
       "<bound method NDFrame.sample of                                                      text  toxic\n",
       "0       Explanation\\nWhy the edits made under my usern...      0\n",
       "1       D'aww! He matches this background colour I'm s...      0\n",
       "2       Hey man, I'm really not trying to edit war. It...      0\n",
       "3       \"\\nMore\\nI can't make any real suggestions on ...      0\n",
       "4       You, sir, are my hero. Any chance you remember...      0\n",
       "...                                                   ...    ...\n",
       "159446  \":::::And for the second time of asking, when ...      0\n",
       "159447  You should be ashamed of yourself \\n\\nThat is ...      0\n",
       "159448  Spitzer \\n\\nUmm, theres no actual article for ...      0\n",
       "159449  And it looks like it was actually you who put ...      0\n",
       "159450  \"\\nAnd ... I really don't think you understand...      0\n",
       "\n",
       "[159292 rows x 2 columns]>"
      ]
     },
     "execution_count": 3,
     "metadata": {},
     "output_type": "execute_result"
    }
   ],
   "source": [
    "#посмотрим на выборку\n",
    "df.sample"
   ]
  },
  {
   "cell_type": "code",
   "execution_count": 4,
   "metadata": {},
   "outputs": [
    {
     "name": "stdout",
     "output_type": "stream",
     "text": [
      "<class 'pandas.core.frame.DataFrame'>\n",
      "Int64Index: 159292 entries, 0 to 159450\n",
      "Data columns (total 2 columns):\n",
      " #   Column  Non-Null Count   Dtype \n",
      "---  ------  --------------   ----- \n",
      " 0   text    159292 non-null  object\n",
      " 1   toxic   159292 non-null  int64 \n",
      "dtypes: int64(1), object(1)\n",
      "memory usage: 3.6+ MB\n"
     ]
    }
   ],
   "source": [
    "#проверим пропуски\n",
    "df.info()"
   ]
  },
  {
   "cell_type": "code",
   "execution_count": 5,
   "metadata": {},
   "outputs": [],
   "source": [
    "#преобразуем столбец с текстом в список текстов\n",
    "df['text'] = df['text'].str.lower()"
   ]
  },
  {
   "cell_type": "code",
   "execution_count": 6,
   "metadata": {},
   "outputs": [],
   "source": [
    "#очистим текст, оставив только буквенные численные символы\n",
    "def clear_text(text):\n",
    "    text = re.sub(r'[^a-z0-9]', ' ', text)\n",
    "    text = text.split()\n",
    "    return \" \".join(text)"
   ]
  },
  {
   "cell_type": "code",
   "execution_count": 7,
   "metadata": {},
   "outputs": [],
   "source": [
    "#применим функцию по очистке текста\n",
    "df['clear_text'] = df['text'].apply(lambda x: clear_text(x))"
   ]
  },
  {
   "cell_type": "code",
   "execution_count": 8,
   "metadata": {},
   "outputs": [
    {
     "data": {
      "text/html": [
       "<div>\n",
       "<style scoped>\n",
       "    .dataframe tbody tr th:only-of-type {\n",
       "        vertical-align: middle;\n",
       "    }\n",
       "\n",
       "    .dataframe tbody tr th {\n",
       "        vertical-align: top;\n",
       "    }\n",
       "\n",
       "    .dataframe thead th {\n",
       "        text-align: right;\n",
       "    }\n",
       "</style>\n",
       "<table border=\"1\" class=\"dataframe\">\n",
       "  <thead>\n",
       "    <tr style=\"text-align: right;\">\n",
       "      <th></th>\n",
       "      <th>text</th>\n",
       "      <th>toxic</th>\n",
       "      <th>clear_text</th>\n",
       "    </tr>\n",
       "  </thead>\n",
       "  <tbody>\n",
       "    <tr>\n",
       "      <th>0</th>\n",
       "      <td>explanation\\nwhy the edits made under my usern...</td>\n",
       "      <td>0</td>\n",
       "      <td>explanation why the edits made under my userna...</td>\n",
       "    </tr>\n",
       "    <tr>\n",
       "      <th>1</th>\n",
       "      <td>d'aww! he matches this background colour i'm s...</td>\n",
       "      <td>0</td>\n",
       "      <td>d aww he matches this background colour i m se...</td>\n",
       "    </tr>\n",
       "    <tr>\n",
       "      <th>2</th>\n",
       "      <td>hey man, i'm really not trying to edit war. it...</td>\n",
       "      <td>0</td>\n",
       "      <td>hey man i m really not trying to edit war it s...</td>\n",
       "    </tr>\n",
       "    <tr>\n",
       "      <th>3</th>\n",
       "      <td>\"\\nmore\\ni can't make any real suggestions on ...</td>\n",
       "      <td>0</td>\n",
       "      <td>more i can t make any real suggestions on impr...</td>\n",
       "    </tr>\n",
       "    <tr>\n",
       "      <th>4</th>\n",
       "      <td>you, sir, are my hero. any chance you remember...</td>\n",
       "      <td>0</td>\n",
       "      <td>you sir are my hero any chance you remember wh...</td>\n",
       "    </tr>\n",
       "  </tbody>\n",
       "</table>\n",
       "</div>"
      ],
      "text/plain": [
       "                                                text  toxic  \\\n",
       "0  explanation\\nwhy the edits made under my usern...      0   \n",
       "1  d'aww! he matches this background colour i'm s...      0   \n",
       "2  hey man, i'm really not trying to edit war. it...      0   \n",
       "3  \"\\nmore\\ni can't make any real suggestions on ...      0   \n",
       "4  you, sir, are my hero. any chance you remember...      0   \n",
       "\n",
       "                                          clear_text  \n",
       "0  explanation why the edits made under my userna...  \n",
       "1  d aww he matches this background colour i m se...  \n",
       "2  hey man i m really not trying to edit war it s...  \n",
       "3  more i can t make any real suggestions on impr...  \n",
       "4  you sir are my hero any chance you remember wh...  "
      ]
     },
     "execution_count": 8,
     "metadata": {},
     "output_type": "execute_result"
    }
   ],
   "source": [
    "#посмотрим, что получилось\n",
    "df.head()"
   ]
  },
  {
   "cell_type": "code",
   "execution_count": 9,
   "metadata": {},
   "outputs": [
    {
     "name": "stdout",
     "output_type": "stream",
     "text": [
      "0    0.898388\n",
      "1    0.101612\n",
      "Name: toxic, dtype: float64\n"
     ]
    },
    {
     "data": {
      "image/png": "[encoded data removed]",
      "text/plain": [
       "<Figure size 432x288 with 1 Axes>"
      ]
     },
     "metadata": {
      "needs_background": "light"
     },
     "output_type": "display_data"
    }
   ],
   "source": [
    "#исследуем баланс классов в целевом столбце\n",
    "\n",
    "#относительная частота значений от 0 до 1\n",
    "class_frequency = df['toxic'].value_counts(normalize=True)\n",
    "\n",
    "#выведем относительное количество данных в двух классах\n",
    "print(class_frequency)\n",
    "\n",
    "#для наглядности выведем диаграмму\n",
    "class_frequency.plot(kind='bar', color='lightgreen')\n",
    "None"
   ]
  },
  {
   "cell_type": "markdown",
   "metadata": {},
   "source": [
    "В целевом признаке наблюдается сильный дисбаланс. Это может сильно ухудшить качество моделей. Избавимся от дисбаланса путем параметра class_weight."
   ]
  },
  {
   "cell_type": "code",
   "execution_count": 10,
   "metadata": {},
   "outputs": [],
   "source": [
    "#далее лемматизируем текст, используя более быстрый метод\n",
    "#используем также теги для обозначения частей речи\n",
    "\n",
    "def lemmatize_with_postag(text):\n",
    "    sent = TextBlob(text)\n",
    "    tag_dict = {\"J\": 'a', \n",
    "                \"N\": 'n', \n",
    "                \"V\": 'v', \n",
    "                \"R\": 'r'}\n",
    "    words_and_tags = [(w, tag_dict.get(pos[0], 'n')) for w, pos in sent.tags]    \n",
    "    lemmatized_list = [wd.lemmatize(tag) for wd, tag in words_and_tags]\n",
    "    lemm_text = \" \".join(lemmatized_list)\n",
    "    return lemm_text"
   ]
  },
  {
   "cell_type": "code",
   "execution_count": 11,
   "metadata": {},
   "outputs": [
    {
     "data": {
      "application/vnd.jupyter.widget-view+json": {
       "model_id": "8b0d2ede1aff487f84153227bfb7ca3e",
       "version_major": 2,
       "version_minor": 0
      },
      "text/plain": [
       "  0%|          | 0/159292 [00:00<?, ?it/s]"
      ]
     },
     "metadata": {},
     "output_type": "display_data"
    }
   ],
   "source": [
    "#применим функцию\n",
    "df['lemm_text'] = df['clear_text'].progress_apply(lambda x: lemmatize_with_postag(x))"
   ]
  },
  {
   "cell_type": "code",
   "execution_count": 12,
   "metadata": {},
   "outputs": [
    {
     "data": {
      "text/html": [
       "<div>\n",
       "<style scoped>\n",
       "    .dataframe tbody tr th:only-of-type {\n",
       "        vertical-align: middle;\n",
       "    }\n",
       "\n",
       "    .dataframe tbody tr th {\n",
       "        vertical-align: top;\n",
       "    }\n",
       "\n",
       "    .dataframe thead th {\n",
       "        text-align: right;\n",
       "    }\n",
       "</style>\n",
       "<table border=\"1\" class=\"dataframe\">\n",
       "  <thead>\n",
       "    <tr style=\"text-align: right;\">\n",
       "      <th></th>\n",
       "      <th>text</th>\n",
       "      <th>toxic</th>\n",
       "      <th>clear_text</th>\n",
       "      <th>lemm_text</th>\n",
       "    </tr>\n",
       "  </thead>\n",
       "  <tbody>\n",
       "    <tr>\n",
       "      <th>0</th>\n",
       "      <td>explanation\\nwhy the edits made under my usern...</td>\n",
       "      <td>0</td>\n",
       "      <td>explanation why the edits made under my userna...</td>\n",
       "      <td>explanation why the edits make under my userna...</td>\n",
       "    </tr>\n",
       "    <tr>\n",
       "      <th>1</th>\n",
       "      <td>d'aww! he matches this background colour i'm s...</td>\n",
       "      <td>0</td>\n",
       "      <td>d aww he matches this background colour i m se...</td>\n",
       "      <td>d aww he match this background colour i m seem...</td>\n",
       "    </tr>\n",
       "    <tr>\n",
       "      <th>2</th>\n",
       "      <td>hey man, i'm really not trying to edit war. it...</td>\n",
       "      <td>0</td>\n",
       "      <td>hey man i m really not trying to edit war it s...</td>\n",
       "      <td>hey man i m really not try to edit war it s ju...</td>\n",
       "    </tr>\n",
       "    <tr>\n",
       "      <th>3</th>\n",
       "      <td>\"\\nmore\\ni can't make any real suggestions on ...</td>\n",
       "      <td>0</td>\n",
       "      <td>more i can t make any real suggestions on impr...</td>\n",
       "      <td>more i can t make any real suggestion on impro...</td>\n",
       "    </tr>\n",
       "    <tr>\n",
       "      <th>4</th>\n",
       "      <td>you, sir, are my hero. any chance you remember...</td>\n",
       "      <td>0</td>\n",
       "      <td>you sir are my hero any chance you remember wh...</td>\n",
       "      <td>you sir be my hero any chance you remember wha...</td>\n",
       "    </tr>\n",
       "    <tr>\n",
       "      <th>...</th>\n",
       "      <td>...</td>\n",
       "      <td>...</td>\n",
       "      <td>...</td>\n",
       "      <td>...</td>\n",
       "    </tr>\n",
       "    <tr>\n",
       "      <th>159446</th>\n",
       "      <td>\":::::and for the second time of asking, when ...</td>\n",
       "      <td>0</td>\n",
       "      <td>and for the second time of asking when your vi...</td>\n",
       "      <td>and for the second time of ask when your view ...</td>\n",
       "    </tr>\n",
       "    <tr>\n",
       "      <th>159447</th>\n",
       "      <td>you should be ashamed of yourself \\n\\nthat is ...</td>\n",
       "      <td>0</td>\n",
       "      <td>you should be ashamed of yourself that is a ho...</td>\n",
       "      <td>you should be ashamed of yourself that be a ho...</td>\n",
       "    </tr>\n",
       "    <tr>\n",
       "      <th>159448</th>\n",
       "      <td>spitzer \\n\\numm, theres no actual article for ...</td>\n",
       "      <td>0</td>\n",
       "      <td>spitzer umm theres no actual article for prost...</td>\n",
       "      <td>spitzer umm theres no actual article for prost...</td>\n",
       "    </tr>\n",
       "    <tr>\n",
       "      <th>159449</th>\n",
       "      <td>and it looks like it was actually you who put ...</td>\n",
       "      <td>0</td>\n",
       "      <td>and it looks like it was actually you who put ...</td>\n",
       "      <td>and it look like it be actually you who put on...</td>\n",
       "    </tr>\n",
       "    <tr>\n",
       "      <th>159450</th>\n",
       "      <td>\"\\nand ... i really don't think you understand...</td>\n",
       "      <td>0</td>\n",
       "      <td>and i really don t think you understand i came...</td>\n",
       "      <td>and i really don t think you understand i come...</td>\n",
       "    </tr>\n",
       "  </tbody>\n",
       "</table>\n",
       "<p>159292 rows × 4 columns</p>\n",
       "</div>"
      ],
      "text/plain": [
       "                                                     text  toxic  \\\n",
       "0       explanation\\nwhy the edits made under my usern...      0   \n",
       "1       d'aww! he matches this background colour i'm s...      0   \n",
       "2       hey man, i'm really not trying to edit war. it...      0   \n",
       "3       \"\\nmore\\ni can't make any real suggestions on ...      0   \n",
       "4       you, sir, are my hero. any chance you remember...      0   \n",
       "...                                                   ...    ...   \n",
       "159446  \":::::and for the second time of asking, when ...      0   \n",
       "159447  you should be ashamed of yourself \\n\\nthat is ...      0   \n",
       "159448  spitzer \\n\\numm, theres no actual article for ...      0   \n",
       "159449  and it looks like it was actually you who put ...      0   \n",
       "159450  \"\\nand ... i really don't think you understand...      0   \n",
       "\n",
       "                                               clear_text  \\\n",
       "0       explanation why the edits made under my userna...   \n",
       "1       d aww he matches this background colour i m se...   \n",
       "2       hey man i m really not trying to edit war it s...   \n",
       "3       more i can t make any real suggestions on impr...   \n",
       "4       you sir are my hero any chance you remember wh...   \n",
       "...                                                   ...   \n",
       "159446  and for the second time of asking when your vi...   \n",
       "159447  you should be ashamed of yourself that is a ho...   \n",
       "159448  spitzer umm theres no actual article for prost...   \n",
       "159449  and it looks like it was actually you who put ...   \n",
       "159450  and i really don t think you understand i came...   \n",
       "\n",
       "                                                lemm_text  \n",
       "0       explanation why the edits make under my userna...  \n",
       "1       d aww he match this background colour i m seem...  \n",
       "2       hey man i m really not try to edit war it s ju...  \n",
       "3       more i can t make any real suggestion on impro...  \n",
       "4       you sir be my hero any chance you remember wha...  \n",
       "...                                                   ...  \n",
       "159446  and for the second time of ask when your view ...  \n",
       "159447  you should be ashamed of yourself that be a ho...  \n",
       "159448  spitzer umm theres no actual article for prost...  \n",
       "159449  and it look like it be actually you who put on...  \n",
       "159450  and i really don t think you understand i come...  \n",
       "\n",
       "[159292 rows x 4 columns]"
      ]
     },
     "execution_count": 12,
     "metadata": {},
     "output_type": "execute_result"
    }
   ],
   "source": [
    "#проверим полученный результат\n",
    "df"
   ]
  },
  {
   "cell_type": "code",
   "execution_count": 44,
   "metadata": {
    "scrolled": false
   },
   "outputs": [
    {
     "data": {
      "image/png": "[encoded data removed]",
      "text/plain": [
       "<Figure size 720x432 with 1 Axes>"
      ]
     },
     "metadata": {
      "needs_background": "light"
     },
     "output_type": "display_data"
    }
   ],
   "source": [
    "# Проведем частотный анализ и выведем облако наиболее часто повторяющихся слов\n",
    "\n",
    "#зададим стоп-слова\n",
    "stopwords = set(nltk_stopwords.words('english'))\n",
    "\n",
    "#преобразуем столбец с текстом\n",
    "text = ' '.join(df['lemm_text'])\n",
    "\n",
    "#генерируем облако слов\n",
    "cloud = WordCloud().generate(text)\n",
    "\n",
    "#задаем параметры метода облака слов\n",
    "cloud = WordCloud(stopwords=stopwords, max_words=100).generate(text)\n",
    "\n",
    "plt.figure(figsize=(10,6))\n",
    "plt.imshow(cloud)\n",
    "plt.axis('off')\n",
    "None"
   ]
  },
  {
   "cell_type": "markdown",
   "metadata": {},
   "source": [
    "В ходе подготовки данных были выполнены следующие этапы:\n",
    "1. загруженны необходимые библиотеки и сами данные;\n",
    "2. удален ненужный столбец;\n",
    "3. текст очищен от символов кроме букв и цифр;\n",
    "4. исследован баланс классов;\n",
    "6. текст лемматизирован с учетом частей речи.\n",
    "\n",
    "Далее обучим несколько моделей."
   ]
  },
  {
   "cell_type": "markdown",
   "metadata": {},
   "source": [
    "## Обучение"
   ]
  },
  {
   "cell_type": "code",
   "execution_count": 13,
   "metadata": {},
   "outputs": [],
   "source": [
    "#разделим выборки для дальнейшей векторизации признаков\n",
    "X = df['lemm_text']\n",
    "y = df['toxic']\n",
    "\n",
    "X_train, X_test, y_train, y_test = train_test_split(\n",
    "    X, y, test_size=0.25, stratify=y, random_state=12345)"
   ]
  },
  {
   "cell_type": "code",
   "execution_count": 14,
   "metadata": {},
   "outputs": [
    {
     "data": {
      "text/plain": [
       "(119469,)"
      ]
     },
     "metadata": {},
     "output_type": "display_data"
    },
    {
     "data": {
      "text/plain": [
       "(39823,)"
      ]
     },
     "metadata": {},
     "output_type": "display_data"
    },
    {
     "data": {
      "text/plain": [
       "(119469,)"
      ]
     },
     "metadata": {},
     "output_type": "display_data"
    },
    {
     "data": {
      "text/plain": [
       "(39823,)"
      ]
     },
     "metadata": {},
     "output_type": "display_data"
    }
   ],
   "source": [
    "#посмотрим на размер полученных выборок\n",
    "print('тренировочные выборки')\n",
    "display(X_train.shape)\n",
    "display(y_train.shape)\n",
    "print('тестовые выборки')\n",
    "display(X_test.shape)\n",
    "display(y_test.shape)"
   ]
  },
  {
   "cell_type": "code",
   "execution_count": 15,
   "metadata": {},
   "outputs": [],
   "source": [
    "# зададим метод векторизации\n",
    "# также сразу передадим параметр для создания n-грамм. \n",
    "# таким образом будет учтен контекст\n",
    "\n",
    "# nltk.download('stopwords')\n",
    "\n",
    "count_tf_idf = TfidfVectorizer(ngram_range=(1,3), min_df=3, max_df=0.9, use_idf=1,\n",
    "                               smooth_idf=1, sublinear_tf=1, stop_words=stopwords)"
   ]
  },
  {
   "cell_type": "code",
   "execution_count": 16,
   "metadata": {},
   "outputs": [],
   "source": [
    "#зададим метрики, которые будут вычисляться для всех моделей\n",
    "scorers = {\n",
    "    'roc_auc_score': make_scorer(roc_auc_score),\n",
    "    'f1_score': make_scorer(f1_score),\n",
    "    'precision_score': make_scorer(precision_score),\n",
    "    'recall_score': make_scorer(recall_score)\n",
    "}"
   ]
  },
  {
   "cell_type": "markdown",
   "metadata": {},
   "source": [
    "### Модель Логистическая регрессия"
   ]
  },
  {
   "cell_type": "code",
   "execution_count": 17,
   "metadata": {},
   "outputs": [],
   "source": [
    "#выберем диапазон параметров для варьирования\n",
    "param_search_l = {'model__C': [0.1, 1, 10]}"
   ]
  },
  {
   "cell_type": "code",
   "execution_count": 18,
   "metadata": {},
   "outputs": [],
   "source": [
    "#задаим параметры для модели LogisticRegression\n",
    "\n",
    "pipe_l = Pipeline([('vect', count_tf_idf),\n",
    "                   ('model', LogisticRegression(random_state=12, max_iter=200, class_weight='balanced'))])\n",
    "\n",
    "gsearch_l = GridSearchCV(estimator=pipe_l, \n",
    "                       cv=3, \n",
    "                       param_grid=param_search_l,\n",
    "                        refit='f1_score',\n",
    "                       scoring=scorers,\n",
    "                        n_jobs=-1)"
   ]
  },
  {
   "cell_type": "code",
   "execution_count": 19,
   "metadata": {},
   "outputs": [
    {
     "data": {
      "text/plain": [
       "GridSearchCV(cv=3,\n",
       "             estimator=Pipeline(steps=[('vect',\n",
       "                                        TfidfVectorizer(max_df=0.9, min_df=3,\n",
       "                                                        ngram_range=(1, 3),\n",
       "                                                        smooth_idf=1,\n",
       "                                                        stop_words={'a',\n",
       "                                                                    'about',\n",
       "                                                                    'above',\n",
       "                                                                    'after',\n",
       "                                                                    'again',\n",
       "                                                                    'against',\n",
       "                                                                    'ain',\n",
       "                                                                    'all', 'am',\n",
       "                                                                    'an', 'and',\n",
       "                                                                    'any',\n",
       "                                                                    'are',\n",
       "                                                                    'aren',\n",
       "                                                                    \"aren't\",\n",
       "                                                                    'as', 'at',\n",
       "                                                                    'be',\n",
       "                                                                    'because',\n",
       "                                                                    'been',\n",
       "                                                                    'before',\n",
       "                                                                    'being',\n",
       "                                                                    'below',\n",
       "                                                                    'between',\n",
       "                                                                    'both',\n",
       "                                                                    'but', 'by',\n",
       "                                                                    'can',\n",
       "                                                                    'couldn',\n",
       "                                                                    \"couldn't\", ...},\n",
       "                                                        sublinear_tf=1,\n",
       "                                                        use_idf=1)),\n",
       "                                       ('model',\n",
       "                                        LogisticRegression(class_weight='balanced',\n",
       "                                                           max_iter=200,\n",
       "                                                           random_state=12))]),\n",
       "             n_jobs=-1, param_grid={'model__C': [0.1, 1, 10, 100]},\n",
       "             refit='f1_score',\n",
       "             scoring={'f1_score': make_scorer(f1_score),\n",
       "                      'precision_score': make_scorer(precision_score),\n",
       "                      'recall_score': make_scorer(recall_score),\n",
       "                      'roc_auc_score': make_scorer(roc_auc_score)})"
      ]
     },
     "execution_count": 19,
     "metadata": {},
     "output_type": "execute_result"
    }
   ],
   "source": [
    "#обучим модель LightGBM\n",
    "gsearch_l.fit(X_train, y_train)"
   ]
  },
  {
   "cell_type": "code",
   "execution_count": 20,
   "metadata": {},
   "outputs": [
    {
     "name": "stdout",
     "output_type": "stream",
     "text": [
      "F1 для модели LightGBM: 0.77\n",
      "Лучший набор параметров модели LightGBM: {'model__C': 10}\n"
     ]
    }
   ],
   "source": [
    "#далее посмотрим на получившийся результат\n",
    "print( 'F1 для модели LightGBM:', \"%.2f\" % gsearch_l.best_score_)\n",
    "print( 'Лучший набор параметров модели LightGBM:', gsearch_l.best_params_)"
   ]
  },
  {
   "cell_type": "code",
   "execution_count": 21,
   "metadata": {},
   "outputs": [],
   "source": [
    "#зададим функцию для вывода интересующих метрик\n",
    "\n",
    "def results_gm(model):\n",
    "    \n",
    "    results = pd.DataFrame(model.cv_results_)\n",
    "    table_results = (results[['mean_test_f1_score', 'mean_test_roc_auc_score', \n",
    "                    'mean_test_precision_score', 'mean_test_recall_score']].round(3).head(5)\n",
    "                     .sort_values(by='mean_test_f1_score', ascending=False))\n",
    "    \n",
    "    return table_results"
   ]
  },
  {
   "cell_type": "code",
   "execution_count": 22,
   "metadata": {},
   "outputs": [
    {
     "data": {
      "text/html": [
       "<div>\n",
       "<style scoped>\n",
       "    .dataframe tbody tr th:only-of-type {\n",
       "        vertical-align: middle;\n",
       "    }\n",
       "\n",
       "    .dataframe tbody tr th {\n",
       "        vertical-align: top;\n",
       "    }\n",
       "\n",
       "    .dataframe thead th {\n",
       "        text-align: right;\n",
       "    }\n",
       "</style>\n",
       "<table border=\"1\" class=\"dataframe\">\n",
       "  <thead>\n",
       "    <tr style=\"text-align: right;\">\n",
       "      <th></th>\n",
       "      <th>mean_test_f1_score</th>\n",
       "      <th>mean_test_roc_auc_score</th>\n",
       "      <th>mean_test_precision_score</th>\n",
       "      <th>mean_test_recall_score</th>\n",
       "    </tr>\n",
       "  </thead>\n",
       "  <tbody>\n",
       "    <tr>\n",
       "      <th>2</th>\n",
       "      <td>0.773</td>\n",
       "      <td>0.879</td>\n",
       "      <td>0.760</td>\n",
       "      <td>0.786</td>\n",
       "    </tr>\n",
       "    <tr>\n",
       "      <th>3</th>\n",
       "      <td>0.765</td>\n",
       "      <td>0.864</td>\n",
       "      <td>0.779</td>\n",
       "      <td>0.752</td>\n",
       "    </tr>\n",
       "    <tr>\n",
       "      <th>1</th>\n",
       "      <td>0.744</td>\n",
       "      <td>0.889</td>\n",
       "      <td>0.679</td>\n",
       "      <td>0.823</td>\n",
       "    </tr>\n",
       "    <tr>\n",
       "      <th>0</th>\n",
       "      <td>0.699</td>\n",
       "      <td>0.876</td>\n",
       "      <td>0.614</td>\n",
       "      <td>0.810</td>\n",
       "    </tr>\n",
       "  </tbody>\n",
       "</table>\n",
       "</div>"
      ],
      "text/plain": [
       "   mean_test_f1_score  mean_test_roc_auc_score  mean_test_precision_score  \\\n",
       "2               0.773                    0.879                      0.760   \n",
       "3               0.765                    0.864                      0.779   \n",
       "1               0.744                    0.889                      0.679   \n",
       "0               0.699                    0.876                      0.614   \n",
       "\n",
       "   mean_test_recall_score  \n",
       "2                   0.786  \n",
       "3                   0.752  \n",
       "1                   0.823  \n",
       "0                   0.810  "
      ]
     },
     "execution_count": 22,
     "metadata": {},
     "output_type": "execute_result"
    }
   ],
   "source": [
    "#сохраним результаты в таблице и выведем результаты\n",
    "tadle_results_l = results_gm(gsearch_l)\n",
    "\n",
    "tadle_results_l"
   ]
  },
  {
   "cell_type": "markdown",
   "metadata": {},
   "source": [
    "Основные метрики для кросс-валидации получились неплохие. Целевой показатель F1 соотвествует требованию проекта, а также метрика ROC-AUC достаточно высокая. "
   ]
  },
  {
   "cell_type": "markdown",
   "metadata": {},
   "source": [
    "### Модель LightGBM"
   ]
  },
  {
   "cell_type": "code",
   "execution_count": 23,
   "metadata": {},
   "outputs": [],
   "source": [
    "#далее обучим бустинговую модель\n",
    "\n",
    "#выберем диапазон параметров для варьирования\n",
    "param_search_lgb = {'model__max_depth': [4, 6, 10, 12],\n",
    "                    'model__num_leaves': [30, 40, 50, 60]}"
   ]
  },
  {
   "cell_type": "code",
   "execution_count": 24,
   "metadata": {},
   "outputs": [],
   "source": [
    "#задаим постоянные параметры для модели LightGBM\n",
    "params_lgb = {'n_estimators': 100,\n",
    "              'learning_rate': 0.3,\n",
    "              'class_weight': 'balanced',\n",
    "              'random_state': 42}\n",
    "\n",
    "pipe_lgb = Pipeline([\n",
    "    ('vect', count_tf_idf),\n",
    "    ('model', LGBMClassifier(**params_lgb))])\n",
    "\n",
    "gsearch_lgb = GridSearchCV(estimator=pipe_lgb, \n",
    "                       cv=3, \n",
    "                       param_grid=param_search_lgb,\n",
    "                        refit='f1_score',\n",
    "                       scoring=scorers,\n",
    "                           n_jobs=-1)"
   ]
  },
  {
   "cell_type": "code",
   "execution_count": 25,
   "metadata": {},
   "outputs": [
    {
     "data": {
      "text/plain": [
       "GridSearchCV(cv=3,\n",
       "             estimator=Pipeline(steps=[('vect',\n",
       "                                        TfidfVectorizer(max_df=0.9, min_df=3,\n",
       "                                                        ngram_range=(1, 3),\n",
       "                                                        smooth_idf=1,\n",
       "                                                        stop_words={'a',\n",
       "                                                                    'about',\n",
       "                                                                    'above',\n",
       "                                                                    'after',\n",
       "                                                                    'again',\n",
       "                                                                    'against',\n",
       "                                                                    'ain',\n",
       "                                                                    'all', 'am',\n",
       "                                                                    'an', 'and',\n",
       "                                                                    'any',\n",
       "                                                                    'are',\n",
       "                                                                    'aren',\n",
       "                                                                    \"aren't\",\n",
       "                                                                    'as', 'at',\n",
       "                                                                    'be',\n",
       "                                                                    'because',\n",
       "                                                                    'been',\n",
       "                                                                    'before',\n",
       "                                                                    'being',\n",
       "                                                                    'below',\n",
       "                                                                    'between',\n",
       "                                                                    'both',\n",
       "                                                                    'but', 'by',\n",
       "                                                                    'can',\n",
       "                                                                    'couldn',\n",
       "                                                                    \"couldn't\", ...},\n",
       "                                                        s...\n",
       "                                        LGBMClassifier(class_weight='balanced',\n",
       "                                                       learning_rate=0.3,\n",
       "                                                       random_state=42))]),\n",
       "             n_jobs=-1,\n",
       "             param_grid={'model__max_depth': [4, 6, 10, 12],\n",
       "                         'model__num_leaves': [30, 40, 50, 60]},\n",
       "             refit='f1_score',\n",
       "             scoring={'f1_score': make_scorer(f1_score),\n",
       "                      'precision_score': make_scorer(precision_score),\n",
       "                      'recall_score': make_scorer(recall_score),\n",
       "                      'roc_auc_score': make_scorer(roc_auc_score)})"
      ]
     },
     "execution_count": 25,
     "metadata": {},
     "output_type": "execute_result"
    }
   ],
   "source": [
    "#обучим модель LightGBM\n",
    "gsearch_lgb.fit(X_train, y_train)"
   ]
  },
  {
   "cell_type": "code",
   "execution_count": 26,
   "metadata": {},
   "outputs": [
    {
     "name": "stdout",
     "output_type": "stream",
     "text": [
      "F1 для модели LightGBM: 0.74\n",
      "Лучший набор параметров модели LightGBM: {'model__max_depth': 12, 'model__num_leaves': 60}\n"
     ]
    }
   ],
   "source": [
    "#далее посмотрим на получившийся результат\n",
    "print( 'F1 для модели LightGBM:', \"%.2f\" % gsearch_lgb.best_score_)\n",
    "print( 'Лучший набор параметров модели LightGBM:', gsearch_lgb.best_params_)"
   ]
  },
  {
   "cell_type": "code",
   "execution_count": 27,
   "metadata": {},
   "outputs": [
    {
     "data": {
      "text/html": [
       "<div>\n",
       "<style scoped>\n",
       "    .dataframe tbody tr th:only-of-type {\n",
       "        vertical-align: middle;\n",
       "    }\n",
       "\n",
       "    .dataframe tbody tr th {\n",
       "        vertical-align: top;\n",
       "    }\n",
       "\n",
       "    .dataframe thead th {\n",
       "        text-align: right;\n",
       "    }\n",
       "</style>\n",
       "<table border=\"1\" class=\"dataframe\">\n",
       "  <thead>\n",
       "    <tr style=\"text-align: right;\">\n",
       "      <th></th>\n",
       "      <th>mean_test_f1_score</th>\n",
       "      <th>mean_test_roc_auc_score</th>\n",
       "      <th>mean_test_precision_score</th>\n",
       "      <th>mean_test_recall_score</th>\n",
       "    </tr>\n",
       "  </thead>\n",
       "  <tbody>\n",
       "    <tr>\n",
       "      <th>4</th>\n",
       "      <td>0.730</td>\n",
       "      <td>0.871</td>\n",
       "      <td>0.683</td>\n",
       "      <td>0.784</td>\n",
       "    </tr>\n",
       "    <tr>\n",
       "      <th>0</th>\n",
       "      <td>0.718</td>\n",
       "      <td>0.864</td>\n",
       "      <td>0.672</td>\n",
       "      <td>0.771</td>\n",
       "    </tr>\n",
       "    <tr>\n",
       "      <th>1</th>\n",
       "      <td>0.718</td>\n",
       "      <td>0.864</td>\n",
       "      <td>0.672</td>\n",
       "      <td>0.771</td>\n",
       "    </tr>\n",
       "    <tr>\n",
       "      <th>2</th>\n",
       "      <td>0.718</td>\n",
       "      <td>0.864</td>\n",
       "      <td>0.672</td>\n",
       "      <td>0.771</td>\n",
       "    </tr>\n",
       "    <tr>\n",
       "      <th>3</th>\n",
       "      <td>0.718</td>\n",
       "      <td>0.864</td>\n",
       "      <td>0.672</td>\n",
       "      <td>0.771</td>\n",
       "    </tr>\n",
       "  </tbody>\n",
       "</table>\n",
       "</div>"
      ],
      "text/plain": [
       "   mean_test_f1_score  mean_test_roc_auc_score  mean_test_precision_score  \\\n",
       "4               0.730                    0.871                      0.683   \n",
       "0               0.718                    0.864                      0.672   \n",
       "1               0.718                    0.864                      0.672   \n",
       "2               0.718                    0.864                      0.672   \n",
       "3               0.718                    0.864                      0.672   \n",
       "\n",
       "   mean_test_recall_score  \n",
       "4                   0.784  \n",
       "0                   0.771  \n",
       "1                   0.771  \n",
       "2                   0.771  \n",
       "3                   0.771  "
      ]
     },
     "execution_count": 27,
     "metadata": {},
     "output_type": "execute_result"
    }
   ],
   "source": [
    "#сохраним результаты в таблице и выведем результаты\n",
    "tadle_results_lgb = results_gm(gsearch_lgb)\n",
    "\n",
    "tadle_results_lgb"
   ]
  },
  {
   "cell_type": "markdown",
   "metadata": {},
   "source": [
    "Модель LightGBM показала результаты хуже, чем на линейной модели. "
   ]
  },
  {
   "cell_type": "markdown",
   "metadata": {},
   "source": [
    "### Модель SGDClassifier"
   ]
  },
  {
   "cell_type": "code",
   "execution_count": 28,
   "metadata": {},
   "outputs": [],
   "source": [
    "#задаим постоянные параметры для модели SGDClassifier\n",
    "params_sgd = {\n",
    "    'max_iter': 100,\n",
    "    'tol': 0.001,\n",
    "    'class_weight': 'balanced',\n",
    "    'random_state': 42}\n",
    "\n",
    "param_search_sgb = {'model__alpha': [0.0001, 0.001, 0.01, 0.1]}\n",
    "\n",
    "pipe_sgd = Pipeline([\n",
    "    ('vect', count_tf_idf),\n",
    "    ('model', SGDClassifier(**params_sgd))])\n",
    "\n",
    "gsearch_sgd = GridSearchCV(estimator=pipe_sgd, \n",
    "                       cv=3, \n",
    "                       param_grid=param_search_sgb,\n",
    "                       refit='f1_score',\n",
    "                       scoring=scorers,\n",
    "                          n_jobs=-1)"
   ]
  },
  {
   "cell_type": "code",
   "execution_count": 29,
   "metadata": {},
   "outputs": [
    {
     "data": {
      "text/plain": [
       "GridSearchCV(cv=3,\n",
       "             estimator=Pipeline(steps=[('vect',\n",
       "                                        TfidfVectorizer(max_df=0.9, min_df=3,\n",
       "                                                        ngram_range=(1, 3),\n",
       "                                                        smooth_idf=1,\n",
       "                                                        stop_words={'a',\n",
       "                                                                    'about',\n",
       "                                                                    'above',\n",
       "                                                                    'after',\n",
       "                                                                    'again',\n",
       "                                                                    'against',\n",
       "                                                                    'ain',\n",
       "                                                                    'all', 'am',\n",
       "                                                                    'an', 'and',\n",
       "                                                                    'any',\n",
       "                                                                    'are',\n",
       "                                                                    'aren',\n",
       "                                                                    \"aren't\",\n",
       "                                                                    'as', 'at',\n",
       "                                                                    'be',\n",
       "                                                                    'because',\n",
       "                                                                    'been',\n",
       "                                                                    'before',\n",
       "                                                                    'being',\n",
       "                                                                    'below',\n",
       "                                                                    'between',\n",
       "                                                                    'both',\n",
       "                                                                    'but', 'by',\n",
       "                                                                    'can',\n",
       "                                                                    'couldn',\n",
       "                                                                    \"couldn't\", ...},\n",
       "                                                        s...tf=1,\n",
       "                                                        use_idf=1)),\n",
       "                                       ('model',\n",
       "                                        SGDClassifier(class_weight='balanced',\n",
       "                                                      max_iter=100,\n",
       "                                                      random_state=42))]),\n",
       "             n_jobs=-1, param_grid={'model__alpha': [0.0001, 0.001, 0.01, 0.1]},\n",
       "             refit='f1_score',\n",
       "             scoring={'f1_score': make_scorer(f1_score),\n",
       "                      'precision_score': make_scorer(precision_score),\n",
       "                      'recall_score': make_scorer(recall_score),\n",
       "                      'roc_auc_score': make_scorer(roc_auc_score)})"
      ]
     },
     "execution_count": 29,
     "metadata": {},
     "output_type": "execute_result"
    }
   ],
   "source": [
    "#обучим модель SGDClassifier\n",
    "gsearch_sgd.fit(X_train, y_train)"
   ]
  },
  {
   "cell_type": "code",
   "execution_count": 30,
   "metadata": {},
   "outputs": [
    {
     "name": "stdout",
     "output_type": "stream",
     "text": [
      "F1 для модели SGDClassifier: 0.73\n",
      "Лучший набор параметров модели SGDClassifier: {'model__alpha': 0.0001}\n"
     ]
    }
   ],
   "source": [
    "#далее посмотрим на получившийся результат\n",
    "print( 'F1 для модели SGDClassifier:', \"%.2f\" % gsearch_sgd.best_score_)\n",
    "print( 'Лучший набор параметров модели SGDClassifier:', gsearch_sgd.best_params_)"
   ]
  },
  {
   "cell_type": "code",
   "execution_count": 31,
   "metadata": {},
   "outputs": [
    {
     "data": {
      "text/html": [
       "<div>\n",
       "<style scoped>\n",
       "    .dataframe tbody tr th:only-of-type {\n",
       "        vertical-align: middle;\n",
       "    }\n",
       "\n",
       "    .dataframe tbody tr th {\n",
       "        vertical-align: top;\n",
       "    }\n",
       "\n",
       "    .dataframe thead th {\n",
       "        text-align: right;\n",
       "    }\n",
       "</style>\n",
       "<table border=\"1\" class=\"dataframe\">\n",
       "  <thead>\n",
       "    <tr style=\"text-align: right;\">\n",
       "      <th></th>\n",
       "      <th>mean_test_f1_score</th>\n",
       "      <th>mean_test_roc_auc_score</th>\n",
       "      <th>mean_test_precision_score</th>\n",
       "      <th>mean_test_recall_score</th>\n",
       "    </tr>\n",
       "  </thead>\n",
       "  <tbody>\n",
       "    <tr>\n",
       "      <th>0</th>\n",
       "      <td>0.734</td>\n",
       "      <td>0.889</td>\n",
       "      <td>0.660</td>\n",
       "      <td>0.826</td>\n",
       "    </tr>\n",
       "    <tr>\n",
       "      <th>1</th>\n",
       "      <td>0.712</td>\n",
       "      <td>0.821</td>\n",
       "      <td>0.768</td>\n",
       "      <td>0.665</td>\n",
       "    </tr>\n",
       "    <tr>\n",
       "      <th>2</th>\n",
       "      <td>0.491</td>\n",
       "      <td>0.714</td>\n",
       "      <td>0.577</td>\n",
       "      <td>0.708</td>\n",
       "    </tr>\n",
       "    <tr>\n",
       "      <th>3</th>\n",
       "      <td>0.234</td>\n",
       "      <td>0.574</td>\n",
       "      <td>0.411</td>\n",
       "      <td>0.719</td>\n",
       "    </tr>\n",
       "  </tbody>\n",
       "</table>\n",
       "</div>"
      ],
      "text/plain": [
       "   mean_test_f1_score  mean_test_roc_auc_score  mean_test_precision_score  \\\n",
       "0               0.734                    0.889                      0.660   \n",
       "1               0.712                    0.821                      0.768   \n",
       "2               0.491                    0.714                      0.577   \n",
       "3               0.234                    0.574                      0.411   \n",
       "\n",
       "   mean_test_recall_score  \n",
       "0                   0.826  \n",
       "1                   0.665  \n",
       "2                   0.708  \n",
       "3                   0.719  "
      ]
     },
     "execution_count": 31,
     "metadata": {},
     "output_type": "execute_result"
    }
   ],
   "source": [
    "#сохраним результаты в таблице и выведем результаты для нескольких итераций валидации\n",
    "tadle_results_sgd = results_gm(gsearch_sgd)\n",
    "\n",
    "tadle_results_sgd"
   ]
  },
  {
   "cell_type": "markdown",
   "metadata": {},
   "source": [
    "Результаты модели SGD оказались немного лучше чем простая модель Логистической регрессии. Алгоритм хорошо находит долю объектов положительного класса из всех объектов положительного класса - показатель recall на валидационных выборках выше, чем для линейной модели."
   ]
  },
  {
   "cell_type": "markdown",
   "metadata": {},
   "source": [
    "## Тестирование модели"
   ]
  },
  {
   "cell_type": "markdown",
   "metadata": {},
   "source": [
    "Лучшие результаты показала модель Логичтисекая регрессия. Получим результаты на тестовых данных."
   ]
  },
  {
   "cell_type": "code",
   "execution_count": 35,
   "metadata": {},
   "outputs": [
    {
     "name": "stdout",
     "output_type": "stream",
     "text": [
      "AUC_ROC при тестировании: 0.97\n",
      "F1 при тестировании: 0.78\n"
     ]
    }
   ],
   "source": [
    "model_test=gsearch_l.best_estimator_\n",
    "\n",
    "predicted_test = model_test.predict(X_test)\n",
    "\n",
    "# вычислим вероятность положительного класса для всех моделей\n",
    "probabilities_test = model_test.predict_proba(X_test)\n",
    "\n",
    "#вычислим значение auc_roc\n",
    "auc_roc_test = roc_auc_score(y_test, probabilities_test[:, 1])\n",
    "\n",
    "print('AUC_ROC при тестировании:',\"%.2f\" % auc_roc_test)\n",
    "print(\"F1 при тестировании:\", \"%.2f\" % f1_score(y_test, predicted_test))"
   ]
  },
  {
   "cell_type": "code",
   "execution_count": 33,
   "metadata": {},
   "outputs": [
    {
     "data": {
      "image/png": "[encoded data removed]",
      "text/plain": [
       "<Figure size 720x576 with 1 Axes>"
      ]
     },
     "metadata": {
      "needs_background": "light"
     },
     "output_type": "display_data"
    }
   ],
   "source": [
    "# посмотрим на изменение метрик полноты и точности при изменении порога классификации \n",
    "#для лучшей модели на тестовых данных\n",
    "\n",
    "# вычислим значения точности, полноты и порога\n",
    "precision, recall, thresholds = precision_recall_curve(y_test, \n",
    "                                                       probabilities_test[:, 1]) # Логистическая регрессия\n",
    "# выведем графики изменения кривых по мере изменения порога \n",
    "plt.figure(figsize=(10, 8))\n",
    "plt.plot(recall, precision, linestyle='-', label='Logistic Regression')\n",
    "plt.legend()\n",
    "plt.xlabel('Recall')\n",
    "plt.ylabel('Precision')\n",
    "plt.ylim([0.0, 1.05])\n",
    "plt.xlim([0.0, 1.0])\n",
    "plt.title('Кривая Precision-Recall')\n",
    "plt.show() "
   ]
  },
  {
   "cell_type": "code",
   "execution_count": 34,
   "metadata": {},
   "outputs": [
    {
     "data": {
      "image/png": "[encoded data removed]",
      "text/plain": [
       "<Figure size 720x576 with 1 Axes>"
      ]
     },
     "metadata": {
      "needs_background": "light"
     },
     "output_type": "display_data"
    }
   ],
   "source": [
    "# посмотрим на кривую ошибок при изменении порога классификации\n",
    "#для лучшей модели на тестовых данных\n",
    "\n",
    "# вычислим значения ошибок и порога\n",
    "fpr, tpr, thresholds = roc_curve(y_test, probabilities_test[:, 1])\n",
    "\n",
    "# выведем графики кривой ошибок для всех моделей\n",
    "plt.figure(figsize=(10, 8))\n",
    "plt.plot(fpr, tpr, linestyle='-', label='Logistic Regression')\n",
    "plt.plot([0, 1], [0, 1], linestyle=':', label='Dummy Model') # добавим график для случаной модели\n",
    "plt.legend()\n",
    "plt.xlabel('False Positive Rate')\n",
    "plt.ylabel('True Positive Rate')\n",
    "plt.ylim([0.0, 1.0])\n",
    "plt.xlim([0.0, 1.0])\n",
    "plt.title('ROC-кривая')\n",
    "plt.show()"
   ]
  },
  {
   "cell_type": "markdown",
   "metadata": {},
   "source": [
    "ROC- кривые показывают отношение ложноположительных ответов (FPR) и истинно положительных ответов (TPR) по мере изменения порога классификации. Для оценки качества модели используется площадь под соотвествующей кривой - метрика AUC-ROC. Судя по характеру кривой ошибок и площади под кривой, качество предсказаний удовлетворительное. "
   ]
  },
  {
   "cell_type": "markdown",
   "metadata": {},
   "source": [
    "## Выводы"
   ]
  },
  {
   "cell_type": "markdown",
   "metadata": {},
   "source": [
    "В ходе проекта выполнена задача обучения модели и классификации комментариев на позитивные и негативные. \n",
    "\n",
    "Выполнена цель проекта - построена модель Логистической регрессии со значением метрики качества *F1* выше 0.75. \n",
    "\n",
    "**Выполнены следующие этапы и получены результаты**\n",
    "\n",
    "1. Данные загружены и подготовлены:\n",
    "   - исследован и устранен дисбаланс классов;\n",
    "   - текст лемматизирован и преобразован в вектор признаков.\n",
    "2. Обучены модели и получены результаты на валидационной выборке:\n",
    "   - Логистическая регрессия: F1=0.77; \n",
    "   - LightGBM: F1=0.74;\n",
    "   - SGDClassifier: F1=0.73;\n",
    "3. Лучшие результаты на тестовой выборке показала модель Логистическая регрессия: F1=0.78; AUC-ROC=0.97."
   ]
  }
 ],
 "metadata": {
  "kernelspec": {
   "display_name": "Python 3 (ipykernel)",
   "language": "python",
   "name": "python3"
  },
  "language_info": {
   "codemirror_mode": {
    "name": "ipython",
    "version": 3
   },
   "file_extension": ".py",
   "mimetype": "text/x-python",
   "name": "python",
   "nbconvert_exporter": "python",
   "pygments_lexer": "ipython3",
   "version": "3.9.12"
  },
  "toc": {
   "base_numbering": 1,
   "nav_menu": {},
   "number_sections": true,
   "sideBar": true,
   "skip_h1_title": true,
   "title_cell": "Содержание",
   "title_sidebar": "Contents",
   "toc_cell": true,
   "toc_position": {
    "height": "calc(100% - 180px)",
    "left": "10px",
    "top": "150px",
    "width": "302.391px"
   },
   "toc_section_display": true,
   "toc_window_display": false
  }
 },
 "nbformat": 4,
 "nbformat_minor": 2
}
