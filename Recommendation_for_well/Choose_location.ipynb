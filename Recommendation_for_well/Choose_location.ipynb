{
 "cells": [
  {
   "cell_type": "markdown",
   "metadata": {},
   "source": [
    "# Выбор локации для скважины"
   ]
  },
  {
   "cell_type": "markdown",
   "metadata": {},
   "source": [
    "Предоставлены пробы нефти в трёх регионах: в каждом 10 000 месторождений, где измерили качество нефти и объём её запасов. \n",
    "\n",
    "<b>Задача проекта</b> - построить модель машинного обучения, которая поможет определить регион, где добыча принесёт наибольшую прибыль. \n",
    "\n",
    "<b>Цель проекта</b> - определить регион для разработки.\n",
    "\n",
    "<b>Данные:</b>\n",
    "- <i>id</i> — уникальный идентификатор скважины;\n",
    "- <i>f0, f1, f2</i> — три признака точек (неважно, что они означают, но сами признаки значимы);\n",
    "- <i>product</i> — объём запасов в скважине (тыс. баррелей).\n",
    "\n",
    "<b>План проекта:</b>\n",
    "1. Загрузить и подготовить данные;\n",
    "2. Обучить и проверить модель для каждого региона:\n",
    "   - Разбить данные на обучающую и валидационную выборки в соотношении 75:25;\n",
    "   - Обучить модель и сделать предсказания на валидационной выборке;\n",
    "   - Сохранить предсказания и правильные ответы на валидационной выборке;\n",
    "   - Напечатать на экране средний запас предсказанного сырья и RMSE модели;\n",
    "   - Проанализировать результаты.\n",
    "3. Подготовиться к расчёту прибыли:\n",
    "   - Все ключевые значения для расчётов сохранить в отдельных переменных;\n",
    "   - Рассчитать достаточный объём сырья для безубыточной разработки новой скважины. Сравнить полученный объём сырья со средним запасом в каждом регионе;\n",
    "   - Выводы по этапу подготовки расчёта прибыли.\n",
    "4. Написать функцию для расчёта прибыли по выбранным скважинам и предсказаниям модели:\n",
    "   - Выбрать скважины с максимальными значениями предсказаний;\n",
    "   - Просуммировать целевое значение объёма сырья, соответствующее этим предсказаниям;\n",
    "   - Рассчитать прибыль для полученного объёма сырья.\n",
    "   - Применить технику Bootstrap с 1000 выборок, чтобы найти распределение прибыли;\n",
    "   - Найти среднюю прибыль, 95%-й доверительный интервал и риск убытков. Убыток — это отрицательная прибыль;\n",
    "   - Выводы: предложить регион для разработки скважин и обосновать выбор."
   ]
  },
  {
   "cell_type": "markdown",
   "metadata": {},
   "source": [
    "## Загрузка и подготовка данных"
   ]
  },
  {
   "cell_type": "code",
   "execution_count": 2,
   "metadata": {},
   "outputs": [],
   "source": [
    "#загрузим необходимые библиотеки\n",
    "import os\n",
    "import pandas as pd\n",
    "from pandas_profiling import ProfileReport\n",
    "import matplotlib.pyplot as plt\n",
    "import numpy as np\n",
    "\n",
    "from sklearn.model_selection import train_test_split\n",
    "\n",
    "from sklearn.utils import shuffle\n",
    "\n",
    "from sklearn.linear_model import LinearRegression\n",
    "from sklearn.preprocessing import RobustScaler\n",
    "from sklearn.preprocessing import StandardScaler\n",
    "\n",
    "from sklearn.metrics import mean_squared_error\n",
    "\n",
    "import warnings\n",
    "warnings.filterwarnings(\"ignore\")"
   ]
  },
  {
   "cell_type": "code",
   "execution_count": 3,
   "metadata": {},
   "outputs": [],
   "source": [
    "#зафиксируем исходные данные по условию задачи\n",
    "\n",
    "PRICE = 450_000 #цена еденицы сырья\n",
    "BUDGET = 10_000_000_000 # бюджет на разработку скважин в регионе\n",
    "ID_RESULT = 200 # итоговое количество скажин для разработки"
   ]
  },
  {
   "cell_type": "code",
   "execution_count": 4,
   "metadata": {},
   "outputs": [
    {
     "name": "stdout",
     "output_type": "stream",
     "text": [
      "platform\n",
      "platform\n",
      "platform\n"
     ]
    }
   ],
   "source": [
    "#Загрузим датасеты\n",
    "\n",
    "def read_df(df):\n",
    "    if os.path.exists('/datasets/'+df):\n",
    "        df_raw = pd.read_csv('/datasets/'+df)\n",
    "        print('platform')\n",
    "    else:\n",
    "        df_raw = pd.read_csv(df)\n",
    "        print('remote')\n",
    "    return df_raw\n",
    "    \n",
    "df1_raw = read_df('geo_data_0.csv')\n",
    "df2_raw = read_df('geo_data_1.csv')\n",
    "df3_raw = read_df('geo_data_2.csv')"
   ]
  },
  {
   "cell_type": "code",
   "execution_count": 5,
   "metadata": {},
   "outputs": [],
   "source": [
    "#создадим подробный отчет об исходных данных\n",
    "def profile(df):\n",
    "    profile = ProfileReport(df, title=\"Pandas Profiling Report\")\n",
    "    return profile"
   ]
  },
  {
   "cell_type": "code",
   "execution_count": null,
   "metadata": {},
   "outputs": [],
   "source": [
    "'''подробный отчет создан при помощи Profiling Report\n",
    "\n",
    "profile(df1_raw)\n",
    "'''"
   ]
  },
  {
   "cell_type": "code",
   "execution_count": 7,
   "metadata": {},
   "outputs": [
    {
     "data": {
      "image/png": "[encoded data removed]",
      "text/plain": [
       "<Figure size 864x432 with 1 Axes>"
      ]
     },
     "metadata": {
      "needs_background": "light"
     },
     "output_type": "display_data"
    }
   ],
   "source": [
    "#посмотрим наличие выбросов для признаков на диаграмме\n",
    "columns_to_plot = ['f0', 'f1', 'f2']    \n",
    "\n",
    "df1_raw[columns_to_plot].plot(kind='box', figsize=(12,6))\n",
    "None"
   ]
  },
  {
   "cell_type": "markdown",
   "metadata": {},
   "source": [
    "Похоже, что в первом датасете целевой признак product коррелирует с f2. Пропущенных значений нет. В столбце id есть дубликаты для 20 строк. Это не большое количество и его можно удалить, но предварительно необходимо более подробно их рассмотреть. Данные распределены нормально для признака f2. Столбец id необходимо будет удалить для всех датасетов, поскольку не имеет значения при обучении. "
   ]
  },
  {
   "cell_type": "code",
   "execution_count": null,
   "metadata": {},
   "outputs": [],
   "source": [
    "'''подробный отчет создан при помощи Profiling Report\n",
    "\n",
    "profile(df2_raw)\n",
    "'''"
   ]
  },
  {
   "cell_type": "code",
   "execution_count": 9,
   "metadata": {},
   "outputs": [
    {
     "data": {
      "image/png": "[encoded data removed]",
      "text/plain": [
       "<Figure size 864x432 with 1 Axes>"
      ]
     },
     "metadata": {
      "needs_background": "light"
     },
     "output_type": "display_data"
    }
   ],
   "source": [
    "#посмотрим наличие выбросов для признаков на диаграмме  \n",
    "df2_raw[columns_to_plot].plot(kind='box', figsize=(12,6))\n",
    "None"
   ]
  },
  {
   "cell_type": "markdown",
   "metadata": {},
   "source": [
    "Данные распределены нормально для признака f1. Замечена высокая корреляция между признаками product и f2. Кроме того, замечена невысокая мультиколлинеарность признаков f0 и f1. В данном датасете также присутвуют дубликаты в столбце id в количестве 8 значений. "
   ]
  },
  {
   "cell_type": "code",
   "execution_count": null,
   "metadata": {},
   "outputs": [],
   "source": [
    "'''подробный отчет создан при помощи Profiling Report\n",
    "\n",
    "profile(df3_raw)\n",
    "'''"
   ]
  },
  {
   "cell_type": "code",
   "execution_count": 11,
   "metadata": {},
   "outputs": [
    {
     "data": {
      "image/png": "[encoded data removed]",
      "text/plain": [
       "<Figure size 864x432 with 1 Axes>"
      ]
     },
     "metadata": {
      "needs_background": "light"
     },
     "output_type": "display_data"
    }
   ],
   "source": [
    "#посмотрим наличие выбросов для признаков на диаграмме\n",
    "df3_raw[columns_to_plot].plot(kind='box', figsize=(12,6))\n",
    "None"
   ]
  },
  {
   "cell_type": "markdown",
   "metadata": {},
   "source": [
    "Последний датасет не имеет пропусков и корреляции признаков, но есть небольшое количество дубликатов в столбце id. Распределение нормальное для всех значений. Признак f2 сильно коррелирует с целевым признаком product."
   ]
  },
  {
   "cell_type": "code",
   "execution_count": 12,
   "metadata": {},
   "outputs": [
    {
     "data": {
      "text/html": [
       "<div>\n",
       "<style scoped>\n",
       "    .dataframe tbody tr th:only-of-type {\n",
       "        vertical-align: middle;\n",
       "    }\n",
       "\n",
       "    .dataframe tbody tr th {\n",
       "        vertical-align: top;\n",
       "    }\n",
       "\n",
       "    .dataframe thead th {\n",
       "        text-align: right;\n",
       "    }\n",
       "</style>\n",
       "<table border=\"1\" class=\"dataframe\">\n",
       "  <thead>\n",
       "    <tr style=\"text-align: right;\">\n",
       "      <th></th>\n",
       "      <th>id</th>\n",
       "      <th>f0</th>\n",
       "      <th>f1</th>\n",
       "      <th>f2</th>\n",
       "      <th>product</th>\n",
       "    </tr>\n",
       "  </thead>\n",
       "  <tbody>\n",
       "    <tr>\n",
       "      <th>66136</th>\n",
       "      <td>74z30</td>\n",
       "      <td>1.084962</td>\n",
       "      <td>-0.312358</td>\n",
       "      <td>6.990771</td>\n",
       "      <td>127.643327</td>\n",
       "    </tr>\n",
       "    <tr>\n",
       "      <th>64022</th>\n",
       "      <td>74z30</td>\n",
       "      <td>0.741456</td>\n",
       "      <td>0.459229</td>\n",
       "      <td>5.153109</td>\n",
       "      <td>140.771492</td>\n",
       "    </tr>\n",
       "    <tr>\n",
       "      <th>51970</th>\n",
       "      <td>A5aEY</td>\n",
       "      <td>-0.180335</td>\n",
       "      <td>0.935548</td>\n",
       "      <td>-2.094773</td>\n",
       "      <td>33.020205</td>\n",
       "    </tr>\n",
       "    <tr>\n",
       "      <th>3389</th>\n",
       "      <td>A5aEY</td>\n",
       "      <td>-0.039949</td>\n",
       "      <td>0.156872</td>\n",
       "      <td>0.209861</td>\n",
       "      <td>89.249364</td>\n",
       "    </tr>\n",
       "    <tr>\n",
       "      <th>69163</th>\n",
       "      <td>AGS9W</td>\n",
       "      <td>-0.933795</td>\n",
       "      <td>0.116194</td>\n",
       "      <td>-3.655896</td>\n",
       "      <td>19.230453</td>\n",
       "    </tr>\n",
       "    <tr>\n",
       "      <th>42529</th>\n",
       "      <td>AGS9W</td>\n",
       "      <td>1.454747</td>\n",
       "      <td>-0.479651</td>\n",
       "      <td>0.683380</td>\n",
       "      <td>126.370504</td>\n",
       "    </tr>\n",
       "    <tr>\n",
       "      <th>931</th>\n",
       "      <td>HZww2</td>\n",
       "      <td>0.755284</td>\n",
       "      <td>0.368511</td>\n",
       "      <td>1.863211</td>\n",
       "      <td>30.681774</td>\n",
       "    </tr>\n",
       "    <tr>\n",
       "      <th>7530</th>\n",
       "      <td>HZww2</td>\n",
       "      <td>1.061194</td>\n",
       "      <td>-0.373969</td>\n",
       "      <td>10.430210</td>\n",
       "      <td>158.828695</td>\n",
       "    </tr>\n",
       "    <tr>\n",
       "      <th>63593</th>\n",
       "      <td>QcMuo</td>\n",
       "      <td>0.635635</td>\n",
       "      <td>-0.473422</td>\n",
       "      <td>0.862670</td>\n",
       "      <td>64.578675</td>\n",
       "    </tr>\n",
       "    <tr>\n",
       "      <th>1949</th>\n",
       "      <td>QcMuo</td>\n",
       "      <td>0.506563</td>\n",
       "      <td>-0.323775</td>\n",
       "      <td>-2.215583</td>\n",
       "      <td>75.496502</td>\n",
       "    </tr>\n",
       "    <tr>\n",
       "      <th>75715</th>\n",
       "      <td>Tdehs</td>\n",
       "      <td>0.112079</td>\n",
       "      <td>0.430296</td>\n",
       "      <td>3.218993</td>\n",
       "      <td>60.964018</td>\n",
       "    </tr>\n",
       "    <tr>\n",
       "      <th>21426</th>\n",
       "      <td>Tdehs</td>\n",
       "      <td>0.829407</td>\n",
       "      <td>0.298807</td>\n",
       "      <td>-0.049563</td>\n",
       "      <td>96.035308</td>\n",
       "    </tr>\n",
       "    <tr>\n",
       "      <th>92341</th>\n",
       "      <td>TtcGQ</td>\n",
       "      <td>0.110711</td>\n",
       "      <td>1.022689</td>\n",
       "      <td>0.911381</td>\n",
       "      <td>101.318008</td>\n",
       "    </tr>\n",
       "    <tr>\n",
       "      <th>60140</th>\n",
       "      <td>TtcGQ</td>\n",
       "      <td>0.569276</td>\n",
       "      <td>-0.104876</td>\n",
       "      <td>6.440215</td>\n",
       "      <td>85.350186</td>\n",
       "    </tr>\n",
       "    <tr>\n",
       "      <th>89582</th>\n",
       "      <td>bsk9y</td>\n",
       "      <td>0.398908</td>\n",
       "      <td>-0.400253</td>\n",
       "      <td>10.122376</td>\n",
       "      <td>163.433078</td>\n",
       "    </tr>\n",
       "    <tr>\n",
       "      <th>97785</th>\n",
       "      <td>bsk9y</td>\n",
       "      <td>0.378429</td>\n",
       "      <td>0.005837</td>\n",
       "      <td>0.160827</td>\n",
       "      <td>160.637302</td>\n",
       "    </tr>\n",
       "    <tr>\n",
       "      <th>41724</th>\n",
       "      <td>bxg6G</td>\n",
       "      <td>-0.823752</td>\n",
       "      <td>0.546319</td>\n",
       "      <td>3.630479</td>\n",
       "      <td>93.007798</td>\n",
       "    </tr>\n",
       "    <tr>\n",
       "      <th>1364</th>\n",
       "      <td>bxg6G</td>\n",
       "      <td>0.411645</td>\n",
       "      <td>0.856830</td>\n",
       "      <td>-3.653440</td>\n",
       "      <td>73.604260</td>\n",
       "    </tr>\n",
       "    <tr>\n",
       "      <th>16633</th>\n",
       "      <td>fiKDv</td>\n",
       "      <td>0.157341</td>\n",
       "      <td>1.028359</td>\n",
       "      <td>5.585586</td>\n",
       "      <td>95.817889</td>\n",
       "    </tr>\n",
       "    <tr>\n",
       "      <th>90815</th>\n",
       "      <td>fiKDv</td>\n",
       "      <td>0.049883</td>\n",
       "      <td>0.841313</td>\n",
       "      <td>6.394613</td>\n",
       "      <td>137.346586</td>\n",
       "    </tr>\n",
       "  </tbody>\n",
       "</table>\n",
       "</div>"
      ],
      "text/plain": [
       "          id        f0        f1         f2     product\n",
       "66136  74z30  1.084962 -0.312358   6.990771  127.643327\n",
       "64022  74z30  0.741456  0.459229   5.153109  140.771492\n",
       "51970  A5aEY -0.180335  0.935548  -2.094773   33.020205\n",
       "3389   A5aEY -0.039949  0.156872   0.209861   89.249364\n",
       "69163  AGS9W -0.933795  0.116194  -3.655896   19.230453\n",
       "42529  AGS9W  1.454747 -0.479651   0.683380  126.370504\n",
       "931    HZww2  0.755284  0.368511   1.863211   30.681774\n",
       "7530   HZww2  1.061194 -0.373969  10.430210  158.828695\n",
       "63593  QcMuo  0.635635 -0.473422   0.862670   64.578675\n",
       "1949   QcMuo  0.506563 -0.323775  -2.215583   75.496502\n",
       "75715  Tdehs  0.112079  0.430296   3.218993   60.964018\n",
       "21426  Tdehs  0.829407  0.298807  -0.049563   96.035308\n",
       "92341  TtcGQ  0.110711  1.022689   0.911381  101.318008\n",
       "60140  TtcGQ  0.569276 -0.104876   6.440215   85.350186\n",
       "89582  bsk9y  0.398908 -0.400253  10.122376  163.433078\n",
       "97785  bsk9y  0.378429  0.005837   0.160827  160.637302\n",
       "41724  bxg6G -0.823752  0.546319   3.630479   93.007798\n",
       "1364   bxg6G  0.411645  0.856830  -3.653440   73.604260\n",
       "16633  fiKDv  0.157341  1.028359   5.585586   95.817889\n",
       "90815  fiKDv  0.049883  0.841313   6.394613  137.346586"
      ]
     },
     "execution_count": 12,
     "metadata": {},
     "output_type": "execute_result"
    }
   ],
   "source": [
    "#посмотрим на дубликаты в датасете для первого региона\n",
    "col = df1_raw['id']\n",
    "df1_raw[col.isin(col[col.duplicated()])].sort_values('id')"
   ]
  },
  {
   "cell_type": "markdown",
   "metadata": {},
   "source": [
    "Можно заметить, что строки не дублируются полностью. Причина, по которой для некоторых скважин имеются разные данные замеров/характеристик, неизвестна. Для некоторых скважин данные по выбоработке сильно отличаются для первого и второго, предположительно, замера. Поскольку нам неизвестно, какие данные в данном случае актуальны, оставим датасеты без изменений."
   ]
  },
  {
   "cell_type": "code",
   "execution_count": 13,
   "metadata": {},
   "outputs": [],
   "source": [
    "#удалим столбец id из всех датасетов\n",
    "def drop_col(df, col):\n",
    "    \"\"\" \n",
    "    Удаление столбцов из датафрейма.\n",
    "    Входные параметры: датафрейм, название столбца.\n",
    "    На выходе получен датафрейм без соотвествующего столбца.\n",
    "    \"\"\"\n",
    "    df_num = df.drop([col], axis=1)\n",
    "    return df_num\n",
    "\n",
    "df_1 = drop_col(df1_raw, 'id')\n",
    "df_2 = drop_col(df2_raw, 'id')\n",
    "df_3 = drop_col(df3_raw, 'id')"
   ]
  },
  {
   "cell_type": "markdown",
   "metadata": {},
   "source": [
    "В целом данные не содержат пропуски и имеют нормальное рампределение, но имеются выбросы в некоторых признаках. Встречается небольшой процент дубликатов в столбце id. Некоторые признаки коррелируют между собой. Но поскольку данные закодированы, не целесообразно удалять коррелирующие признаки в слепую. После удаления незначащего признака разделим выборки и выполним масштабирование."
   ]
  },
  {
   "cell_type": "markdown",
   "metadata": {},
   "source": [
    "## Обучение и проверка модели"
   ]
  },
  {
   "cell_type": "code",
   "execution_count": 14,
   "metadata": {},
   "outputs": [],
   "source": [
    "#создадим общую выборку с признаками и целевыми значениями\n",
    "def data_split(df):\n",
    "    \"\"\" \n",
    "    Создание выборок для обучения модели.\n",
    "    Входные параметры: датафрейм.\n",
    "    На выходе получены датафреймы тренировочных и валидационных признаков и целей.\n",
    "    \"\"\"\n",
    "    X = df.drop(['product'], axis=1)\n",
    "    y = df['product']\n",
    "    \n",
    "    #выделим набор данных для обучающей, валидационной выборки \n",
    "    X_train, X_valid, y_train, y_valid = train_test_split(\n",
    "        X, y, shuffle=True, test_size=0.25, stratify=None, random_state=12345)\n",
    "    \n",
    "    return X_train, X_valid, y_train, y_valid\n",
    "\n",
    "\n",
    "X_train_1, X_valid_1, y_train_1, y_valid_1 = data_split(df_1)\n",
    "X_train_2, X_valid_2, y_train_2, y_valid_2 = data_split(df_2)\n",
    "X_train_3, X_valid_3, y_train_3, y_valid_3 = data_split(df_3)"
   ]
  },
  {
   "cell_type": "code",
   "execution_count": 15,
   "metadata": {},
   "outputs": [
    {
     "name": "stdout",
     "output_type": "stream",
     "text": [
      "dataset 1\n",
      "(75000, 3)\n",
      "(25000, 3)\n",
      "(75000,)\n",
      "(25000,)\n",
      "dataset 2\n",
      "(75000, 3)\n",
      "(25000, 3)\n",
      "(75000,)\n",
      "(25000,)\n",
      "dataset 3\n",
      "(75000, 3)\n",
      "(25000, 3)\n",
      "(75000,)\n",
      "(25000,)\n"
     ]
    }
   ],
   "source": [
    "#проверим, как выполнилось деление выборок\n",
    "print('dataset 1')\n",
    "print(X_train_1.shape)\n",
    "print(X_valid_1.shape)\n",
    "print(y_train_1.shape)\n",
    "print(y_valid_1.shape)\n",
    "print('dataset 2')\n",
    "print(X_train_2.shape)\n",
    "print(X_valid_2.shape)\n",
    "print(y_train_2.shape)\n",
    "print(y_valid_2.shape)\n",
    "print('dataset 3')\n",
    "print(X_train_3.shape)\n",
    "print(X_valid_3.shape)\n",
    "print(y_train_3.shape)\n",
    "print(y_valid_3.shape)"
   ]
  },
  {
   "cell_type": "code",
   "execution_count": 16,
   "metadata": {},
   "outputs": [],
   "source": [
    "#выполним масштабирование признаков\n",
    "\n",
    "#определим численные столбцы для масштабирования\n",
    "numeric = ['f0', 'f1', 'f2']\n",
    "\n",
    "#определим инструмент для масштабирования и обучим и применим на тренировочных данных\n",
    "scaler_1 = RobustScaler()\n",
    "X_train_1[numeric] = scaler_1.fit_transform(X_train_1[numeric])\n",
    "\n",
    "X_train_2[numeric] = scaler_1.fit_transform(X_train_2[numeric])\n",
    "\n",
    "#данные для третьего региона распределены нормально для всех признаков, \n",
    "#поэтому используем стандартный метод масштабирования\n",
    "scaler_2 = StandardScaler()\n",
    "X_train_3[numeric] = scaler_2.fit_transform(X_train_3[numeric])\n",
    "\n",
    "#применим масштабирование для валидационных выборок\n",
    "X_valid_1[numeric] = scaler_1.transform(X_valid_1[numeric])\n",
    "X_valid_2[numeric] = scaler_1.transform(X_valid_2[numeric])\n",
    "X_valid_3[numeric] = scaler_2.transform(X_valid_3[numeric])"
   ]
  },
  {
   "cell_type": "code",
   "execution_count": 17,
   "metadata": {},
   "outputs": [],
   "source": [
    "model = LinearRegression()# инициализируем модель LinearRegression\n",
    "\n",
    "#определим функцию для олучения предсказаний для всех регионов\n",
    "def predictions(X_train, y_train, X_valid, y_valid):\n",
    "    \"\"\" \n",
    "    Получение предсказаний.\n",
    "    Входные параметры: тренировочные и валидационные выборки признаков и целей.\n",
    "    В ходе работы функции обучается модель, выполняются предсказания и \n",
    "    расчитывается метрика средней квадратичной ошибки.\n",
    "    На выходе получены датафреймы с предсказанием и метрика rmse.\n",
    "    \"\"\"\n",
    "    model.fit(X_train, y_train)\n",
    "    prediction = model.predict(X_valid)\n",
    "    rmse = mean_squared_error(y_valid, prediction)**0.5\n",
    "    \n",
    "    return prediction, rmse\n",
    "\n",
    "prediction_1, rmse_1 = predictions(X_train_1, y_train_1, X_valid_1, y_valid_1)\n",
    "prediction_2, rmse_2 = predictions(X_train_2, y_train_2, X_valid_2, y_valid_2)\n",
    "prediction_3, rmse_3 = predictions(X_train_3, y_train_3, X_valid_3, y_valid_3)"
   ]
  },
  {
   "cell_type": "code",
   "execution_count": 18,
   "metadata": {},
   "outputs": [
    {
     "data": {
      "text/html": [
       "<div>\n",
       "<style scoped>\n",
       "    .dataframe tbody tr th:only-of-type {\n",
       "        vertical-align: middle;\n",
       "    }\n",
       "\n",
       "    .dataframe tbody tr th {\n",
       "        vertical-align: top;\n",
       "    }\n",
       "\n",
       "    .dataframe thead th {\n",
       "        text-align: right;\n",
       "    }\n",
       "</style>\n",
       "<table border=\"1\" class=\"dataframe\">\n",
       "  <thead>\n",
       "    <tr style=\"text-align: right;\">\n",
       "      <th></th>\n",
       "      <th>Средний запас</th>\n",
       "      <th>RMSE</th>\n",
       "    </tr>\n",
       "  </thead>\n",
       "  <tbody>\n",
       "    <tr>\n",
       "      <th>Регион_1</th>\n",
       "      <td>88.01</td>\n",
       "      <td>40.00</td>\n",
       "    </tr>\n",
       "    <tr>\n",
       "      <th>Регион_2</th>\n",
       "      <td>68.73</td>\n",
       "      <td>0.89</td>\n",
       "    </tr>\n",
       "    <tr>\n",
       "      <th>Регион_3</th>\n",
       "      <td>94.97</td>\n",
       "      <td>40.03</td>\n",
       "    </tr>\n",
       "  </tbody>\n",
       "</table>\n",
       "</div>"
      ],
      "text/plain": [
       "          Средний запас   RMSE\n",
       "Регион_1          88.01  40.00\n",
       "Регион_2          68.73   0.89\n",
       "Регион_3          94.97  40.03"
      ]
     },
     "execution_count": 18,
     "metadata": {},
     "output_type": "execute_result"
    }
   ],
   "source": [
    "#зададим названия столбцов для нового датафрейма\n",
    "column = ['Средний запас', 'RMSE']\n",
    "\n",
    "#объединим данные с результатами\n",
    "all_data = (\n",
    "    [[\"%.2f\" % prediction_1.mean(), \"%.2f\" % rmse_1],\n",
    "     [\"%.2f\" % prediction_2.mean(), \"%.2f\" % rmse_2],\n",
    "     [\"%.2f\" % prediction_3.mean(), \"%.2f\" % rmse_3]])\n",
    "\n",
    "#добавим данные в датафрейм и выведем тадлицу\n",
    "all_res = pd.DataFrame(data=all_data, columns=column).astype(float)\n",
    "all_res.index = ['Регион_1', 'Регион_2', 'Регион_3']\n",
    "\n",
    "all_res"
   ]
  },
  {
   "cell_type": "markdown",
   "metadata": {},
   "source": [
    "Лучшие предсказания получились для данных из второго региона. Это можно объяснить тем, что признак 'f2' показал высокую корреляцию с целевым 'product'. Наименьший средний запас также получен для второго региона."
   ]
  },
  {
   "cell_type": "markdown",
   "metadata": {},
   "source": [
    "## Подготовка к расчёту прибыли"
   ]
  },
  {
   "cell_type": "code",
   "execution_count": 19,
   "metadata": {},
   "outputs": [
    {
     "name": "stdout",
     "output_type": "stream",
     "text": [
      "Минимальный объем сырья: 111.11\n"
     ]
    }
   ],
   "source": [
    "# найдем стоимость разработки одной скважины\n",
    "budget_per_id = BUDGET / ID_RESULT\n",
    "\n",
    "# Рассчитаем достаточный объём сырья для безубыточной разработки новой скважины\n",
    "product_profit_min = budget_per_id / PRICE\n",
    "\n",
    "print('Минимальный объем сырья:', \"%.2f\" % product_profit_min)"
   ]
  },
  {
   "cell_type": "code",
   "execution_count": 20,
   "metadata": {},
   "outputs": [
    {
     "data": {
      "text/html": [
       "<div>\n",
       "<style scoped>\n",
       "    .dataframe tbody tr th:only-of-type {\n",
       "        vertical-align: middle;\n",
       "    }\n",
       "\n",
       "    .dataframe tbody tr th {\n",
       "        vertical-align: top;\n",
       "    }\n",
       "\n",
       "    .dataframe thead th {\n",
       "        text-align: right;\n",
       "    }\n",
       "</style>\n",
       "<table border=\"1\" class=\"dataframe\">\n",
       "  <thead>\n",
       "    <tr style=\"text-align: right;\">\n",
       "      <th></th>\n",
       "      <th>Средний запас (реальный)</th>\n",
       "      <th>Разница</th>\n",
       "    </tr>\n",
       "  </thead>\n",
       "  <tbody>\n",
       "    <tr>\n",
       "      <th>Регион_1</th>\n",
       "      <td>92.50</td>\n",
       "      <td>-18.611111</td>\n",
       "    </tr>\n",
       "    <tr>\n",
       "      <th>Регион_2</th>\n",
       "      <td>68.83</td>\n",
       "      <td>-42.281111</td>\n",
       "    </tr>\n",
       "    <tr>\n",
       "      <th>Регион_3</th>\n",
       "      <td>95.00</td>\n",
       "      <td>-16.111111</td>\n",
       "    </tr>\n",
       "  </tbody>\n",
       "</table>\n",
       "</div>"
      ],
      "text/plain": [
       "          Средний запас (реальный)    Разница\n",
       "Регион_1                     92.50 -18.611111\n",
       "Регион_2                     68.83 -42.281111\n",
       "Регион_3                     95.00 -16.111111"
      ]
     },
     "execution_count": 20,
     "metadata": {},
     "output_type": "execute_result"
    }
   ],
   "source": [
    "#сравним со средним значеним для каждого региона\n",
    "column = ['Средний запас (реальный)']\n",
    "\n",
    "profit_real = (\n",
    "    [[\"%.2f\" % df_1['product'].mean()],\n",
    "     [\"%.2f\" % df_2['product'].mean()],\n",
    "     [\"%.2f\" % df_3['product'].mean()]])\n",
    "\n",
    "#добавим данные в датафрейм и выведем тадлицу\n",
    "profit_data = pd.DataFrame(data=profit_real, columns=column).astype(float)\n",
    "profit_data.index = ['Регион_1', 'Регион_2', 'Регион_3']\n",
    "\n",
    "profit_data['Разница'] = profit_data['Средний запас (реальный)'] - product_profit_min\n",
    "profit_data"
   ]
  },
  {
   "cell_type": "markdown",
   "metadata": {},
   "source": [
    "Минимальный объем сырья, гарантирующий безубыточную разработку скважины составил 111 тыс. баррелей. Наименьшая разница с предсказанным средним показателем добычи получена для третьего региона. Наибольшая разница - для второго. "
   ]
  },
  {
   "cell_type": "markdown",
   "metadata": {},
   "source": [
    "## Расчёт прибыли и рисков "
   ]
  },
  {
   "cell_type": "code",
   "execution_count": 21,
   "metadata": {},
   "outputs": [],
   "source": [
    "# Создадим функцию для расчёта прибыли по выбранным скважинам и предсказаниям модели\n",
    "def revenue(prediction, count):\n",
    "    \"\"\" \n",
    "    Функция для расчёта прибыли по выбранным скважинам и предсказаниям модели.\n",
    "    Входные параметры: датафрейм с предсказанием и количество \n",
    "    скважин для разработки.\n",
    "    В ходе работы функция отбирает 200 скважин с максимальными значениями \n",
    "    предсказаний, производит суммирование выработки\n",
    "    и вычисляет общую потенциальную прибыль.\n",
    "    На выходе получена прибыль для полученного объёма сырья.\n",
    "    \"\"\"\n",
    "    for i in prediction:\n",
    "        prediction_sorted = sorted(i, reverse=True)\n",
    "        selected = prediction_sorted[:count]\n",
    "        total = sum(selected)\n",
    "        total_price = total * PRICE   \n",
    "    return total_price\n",
    "\n",
    "# закрепим рандомные значения в параметре\n",
    "state = np.random.RandomState(12345)\n",
    "\n",
    "#создадим функцию для реализации бутстрепа\n",
    "def calcul(X_train, y_train, X_valid, y_valid):\n",
    "    \"\"\" \n",
    "    Функция для реализации бутстрепа при подсчете прибыли.\n",
    "    Входные параметры: тренировочные и валидационные выборки признаков и целей\n",
    "    для выборанного региона.\n",
    "    В ходе работы функция создает 1000 случайных распределений признаков и целей размером 500 строк.\n",
    "    Далее обучают модели и получают 1000 выборок с предсказаниями.\n",
    "    Следующим шагом применяется функция revenue. \n",
    "    На выходе получено распределение прибыли для выбранного региона.\n",
    "    \"\"\"\n",
    "    values = []\n",
    "    income = []\n",
    "    for i in range(1000):\n",
    "        X_train_subsample = X_train.sample(n=500, replace=True, random_state=state)\n",
    "        y_train_subsample = y_train[X_train_subsample.index]\n",
    "        X_valid_subsample = X_valid.sample(n=500, replace=True, random_state=state)\n",
    "        y_valid_subsample = y_valid[X_valid_subsample.index]\n",
    "        \n",
    "        model.fit(X_train_subsample, y_train_subsample) #обучение модели на тренировочных данных\n",
    "        pred = model.predict(X_valid_subsample) # предсказание на валидационных данных\n",
    "        values.append(pred) #все предсказания 1000х500\n",
    "        income.append(revenue(values, ID_RESULT)) #прибыль 1000 строк по 200 лучших\n",
    "    \n",
    "    return income   \n",
    "\n",
    "\n",
    "result_1 = calcul(X_train_1, y_train_1, X_valid_1, y_valid_1) \n",
    "result_2 = calcul(X_train_2, y_train_2, X_valid_2, y_valid_2)\n",
    "result_3 = calcul(X_train_3, y_train_3, X_valid_3, y_valid_3)"
   ]
  },
  {
   "cell_type": "code",
   "execution_count": 22,
   "metadata": {},
   "outputs": [],
   "source": [
    "#создадим функцию для получения целевых результатов для каждого региона\n",
    "def result_list(result_file):  \n",
    "    \"\"\" \n",
    "    Функция для получения результатов.\n",
    "    Входные параметры: распределение прибыли для выбранного региона. \n",
    "    На выходе получены значения средняя прибыль, границы 95%-го доверительного интервала\n",
    "    и вероятность убытков для выбранного региона в виде списка.\n",
    "    \"\"\"\n",
    "    j = 0\n",
    "    for item in result_file:\n",
    "        profit = item - BUDGET\n",
    "        if profit < 0:\n",
    "            j += 1\n",
    "    risk = j / 1000 * 100 # вероятность убытков в %\n",
    "    \n",
    "    result_series = pd.Series(result_file)\n",
    "   \n",
    "    mean = result_series.mean() - BUDGET # средняя выручка\n",
    "    lower = result_series.quantile(0.025) - BUDGET # нижняя граница доверительного интервала\n",
    "    upper = result_series.quantile(0.975) - BUDGET # верхняя граница доверительного интервала\n",
    "\n",
    "    row_results = [mean, lower, upper, risk]\n",
    "    \n",
    "    return row_results"
   ]
  },
  {
   "cell_type": "code",
   "execution_count": 23,
   "metadata": {},
   "outputs": [
    {
     "data": {
      "text/html": [
       "<div>\n",
       "<style scoped>\n",
       "    .dataframe tbody tr th:only-of-type {\n",
       "        vertical-align: middle;\n",
       "    }\n",
       "\n",
       "    .dataframe tbody tr th {\n",
       "        vertical-align: top;\n",
       "    }\n",
       "\n",
       "    .dataframe thead th {\n",
       "        text-align: right;\n",
       "    }\n",
       "</style>\n",
       "<table border=\"1\" class=\"dataframe\">\n",
       "  <thead>\n",
       "    <tr style=\"text-align: right;\">\n",
       "      <th></th>\n",
       "      <th>Средняя прибыль, млн</th>\n",
       "      <th>Нижняя граница Д.И., млн</th>\n",
       "      <th>Верхняя граница Д.И., млн</th>\n",
       "      <th>Риск убытков %</th>\n",
       "    </tr>\n",
       "  </thead>\n",
       "  <tbody>\n",
       "    <tr>\n",
       "      <th>Регион_1</th>\n",
       "      <td>671.92</td>\n",
       "      <td>-22.91</td>\n",
       "      <td>1419.97</td>\n",
       "      <td>3.30</td>\n",
       "    </tr>\n",
       "    <tr>\n",
       "      <th>Регион_2</th>\n",
       "      <td>438.38</td>\n",
       "      <td>34.26</td>\n",
       "      <td>850.76</td>\n",
       "      <td>1.90</td>\n",
       "    </tr>\n",
       "    <tr>\n",
       "      <th>Регион_3</th>\n",
       "      <td>284.75</td>\n",
       "      <td>-152.10</td>\n",
       "      <td>726.02</td>\n",
       "      <td>9.80</td>\n",
       "    </tr>\n",
       "  </tbody>\n",
       "</table>\n",
       "</div>"
      ],
      "text/plain": [
       "          Средняя прибыль, млн  Нижняя граница Д.И., млн  \\\n",
       "Регион_1                671.92                    -22.91   \n",
       "Регион_2                438.38                     34.26   \n",
       "Регион_3                284.75                   -152.10   \n",
       "\n",
       "          Верхняя граница Д.И., млн  Риск убытков %  \n",
       "Регион_1                    1419.97            3.30  \n",
       "Регион_2                     850.76            1.90  \n",
       "Регион_3                     726.02            9.80  "
      ]
     },
     "execution_count": 23,
     "metadata": {},
     "output_type": "execute_result"
    }
   ],
   "source": [
    "pd.options.display.float_format = '{:.2f}'.format #зададим настройку ограничивающую точность значений\n",
    "\n",
    "all_files = [result_1, result_2, result_3] # объединим все результаты в один список\n",
    "\n",
    "# получим таблицу с ключевыми результатами для всех регионов\n",
    "table = []\n",
    "for file in all_files: \n",
    "    row = result_list(file)\n",
    "    table.append(row)\n",
    "\n",
    "# преобразуем полученные данные в датафрейм\n",
    "all_results = pd.DataFrame(table)       \n",
    "\n",
    "# настроим таблицу результатов \n",
    "column = ['Средняя прибыль, млн', 'Нижняя граница Д.И., млн', 'Верхняя граница Д.И., млн', 'Риск убытков %']\n",
    "all_results.columns = column\n",
    "all_results.index = ['Регион_1', 'Регион_2', 'Регион_3']\n",
    "all_results.loc[:, 'Средняя прибыль, млн': 'Верхняя граница Д.И., млн'] \\\n",
    "= all_results.loc[:, 'Средняя прибыль, млн': 'Верхняя граница Д.И., млн'].apply(lambda x: x/1000000)\n",
    "\n",
    "# выведем итоговую таблицу\n",
    "all_results"
   ]
  },
  {
   "cell_type": "markdown",
   "metadata": {},
   "source": [
    "Наиболее подходящий регион для разработки - второй регион. По результатам проверки работы модели обучения на большом количестве выборок в ходе бутстрепа дало средний показатель прибыли равный 438 миллиона рублей. Доверительный интервал, составляющий 95% выборки - от 34 млн. до 851 млн. рублей. Вероятность убытков составила 1.9%, что меньше порогового значения 2.5%. Для остальных регионов вероятность убытков выше, поэтому, регионы 1 и 3 нельзя рекомендовать для разработки при текущих условиях."
   ]
  },
  {
   "cell_type": "markdown",
   "metadata": {},
   "source": [
    "## Выводы\n",
    "\n"
   ]
  },
  {
   "cell_type": "markdown",
   "metadata": {},
   "source": [
    "<b>В результате выполнения проекта решена задача и достигнута цель - выбран 2 регион для потенциальной разработки, поскольку вероятность убытков там составила менее 2.5%</b>\n",
    "\n",
    "\n",
    "<b>Выполнены следующие этапы:</b>\n",
    "1. Исходные данные загружены, проанализированы и обработаны;\n",
    "2. Обучена модель линейной регрессии для каждого региона:\n",
    "   - Данные разбиты на тренировочные и валидационные;\n",
    "   - Признаки отмасштабированы;\n",
    "   - Обучена модель, получены предсказания;\n",
    "   - Получен средний запас предсказанного сырья и RMSE всех моделей.\n",
    "3. Выполнены предварительные вычисления для расчета прибыли:\n",
    "   - Все ключевые значения для расчётов сохранены в отдельных переменных;\n",
    "   - Расчитан достаточный объём сырья для безубыточной разработки новой скважины - 111.11 тыс. баррелей;\n",
    "   - Выполнено сравнение полученного объёма сырья со средним запасом в каждом регионе.\n",
    "4. Расчитана прибыль и риски убыточной разработки для каждого региона:\n",
    "   - Написана функция для расчёта прибыли по выбранным скважинам и предсказаниям модели;\n",
    "   - Рассчитана прибыль для полученного объёма сырья.\n",
    "   - Рассчитана средняя прибыль, 95%-й доверительный интервал и риск убытков;\n",
    "   - Предложен регион для разработки скважин."
   ]
  }
 ],
 "metadata": {
  "ExecuteTimeLog": [
   {
    "duration": 15552,
    "start_time": "2022-12-21T17:54:25.608Z"
   },
   {
    "duration": 3386,
    "start_time": "2022-12-21T17:54:41.163Z"
   },
   {
    "duration": 1077,
    "start_time": "2022-12-21T17:54:44.553Z"
   },
   {
    "duration": 4,
    "start_time": "2022-12-21T17:54:45.632Z"
   },
   {
    "duration": 9938,
    "start_time": "2022-12-21T17:54:45.637Z"
   },
   {
    "duration": 8470,
    "start_time": "2022-12-21T17:54:55.578Z"
   },
   {
    "duration": 9574,
    "start_time": "2022-12-21T17:55:04.049Z"
   },
   {
    "duration": 14,
    "start_time": "2022-12-21T17:55:13.624Z"
   },
   {
    "duration": 80,
    "start_time": "2022-12-21T17:55:13.640Z"
   },
   {
    "duration": 7,
    "start_time": "2022-12-21T17:55:13.723Z"
   },
   {
    "duration": 290,
    "start_time": "2022-12-21T17:55:13.731Z"
   },
   {
    "duration": 179,
    "start_time": "2022-12-21T17:55:14.023Z"
   },
   {
    "duration": 136,
    "start_time": "2022-12-21T17:55:14.206Z"
   },
   {
    "duration": 14,
    "start_time": "2022-12-21T17:55:14.344Z"
   },
   {
    "duration": 27,
    "start_time": "2022-12-21T17:55:14.360Z"
   },
   {
    "duration": 50,
    "start_time": "2022-12-21T17:55:14.389Z"
   },
   {
    "duration": 236275,
    "start_time": "2022-12-21T17:55:14.441Z"
   },
   {
    "duration": 4,
    "start_time": "2022-12-21T17:59:10.718Z"
   },
   {
    "duration": 23,
    "start_time": "2022-12-21T17:59:10.723Z"
   },
   {
    "duration": 4,
    "start_time": "2022-12-21T18:19:31.542Z"
   },
   {
    "duration": 4,
    "start_time": "2022-12-21T18:19:46.356Z"
   },
   {
    "duration": 6,
    "start_time": "2022-12-21T18:22:56.072Z"
   },
   {
    "duration": 5,
    "start_time": "2022-12-21T18:29:16.445Z"
   },
   {
    "duration": 28,
    "start_time": "2022-12-21T18:29:32.609Z"
   },
   {
    "duration": 12761,
    "start_time": "2022-12-22T09:13:18.086Z"
   },
   {
    "duration": 1996,
    "start_time": "2022-12-22T09:13:30.849Z"
   },
   {
    "duration": 1896,
    "start_time": "2022-12-22T09:13:39.487Z"
   },
   {
    "duration": 3,
    "start_time": "2022-12-22T09:13:44.935Z"
   },
   {
    "duration": 8409,
    "start_time": "2022-12-22T09:13:49.249Z"
   },
   {
    "duration": 7608,
    "start_time": "2022-12-22T09:19:33.499Z"
   },
   {
    "duration": 8147,
    "start_time": "2022-12-22T09:23:20.798Z"
   },
   {
    "duration": 32,
    "start_time": "2022-12-22T09:28:41.051Z"
   },
   {
    "duration": 19,
    "start_time": "2022-12-22T09:28:48.655Z"
   },
   {
    "duration": 22,
    "start_time": "2022-12-22T09:29:06.202Z"
   },
   {
    "duration": 278,
    "start_time": "2022-12-22T09:29:16.057Z"
   },
   {
    "duration": 26,
    "start_time": "2022-12-22T09:31:02.278Z"
   },
   {
    "duration": 27,
    "start_time": "2022-12-22T09:31:48.204Z"
   },
   {
    "duration": 35,
    "start_time": "2022-12-22T09:33:30.205Z"
   },
   {
    "duration": 8,
    "start_time": "2022-12-22T09:49:18.142Z"
   },
   {
    "duration": 32,
    "start_time": "2022-12-22T09:50:08.037Z"
   },
   {
    "duration": 9,
    "start_time": "2022-12-22T09:50:09.962Z"
   },
   {
    "duration": 188,
    "start_time": "2022-12-22T09:56:00.901Z"
   },
   {
    "duration": 151,
    "start_time": "2022-12-22T09:56:09.545Z"
   },
   {
    "duration": 217,
    "start_time": "2022-12-22T09:56:14.712Z"
   },
   {
    "duration": 124,
    "start_time": "2022-12-22T09:56:32.284Z"
   },
   {
    "duration": 202,
    "start_time": "2022-12-22T09:56:36.120Z"
   },
   {
    "duration": 15,
    "start_time": "2022-12-22T09:57:59.377Z"
   },
   {
    "duration": 30,
    "start_time": "2022-12-22T09:58:17.974Z"
   },
   {
    "duration": 131,
    "start_time": "2022-12-22T09:58:45.661Z"
   },
   {
    "duration": 108,
    "start_time": "2022-12-22T09:59:22.458Z"
   },
   {
    "duration": 129,
    "start_time": "2022-12-22T09:59:26.932Z"
   },
   {
    "duration": 152,
    "start_time": "2022-12-22T09:59:41.997Z"
   },
   {
    "duration": 256,
    "start_time": "2022-12-22T10:00:28.346Z"
   },
   {
    "duration": 401,
    "start_time": "2022-12-22T10:00:42.805Z"
   },
   {
    "duration": 13,
    "start_time": "2022-12-22T10:02:01.404Z"
   },
   {
    "duration": 582,
    "start_time": "2022-12-22T10:02:13.268Z"
   },
   {
    "duration": 722,
    "start_time": "2022-12-22T10:03:44.092Z"
   },
   {
    "duration": 122,
    "start_time": "2022-12-22T10:05:21.329Z"
   },
   {
    "duration": 120,
    "start_time": "2022-12-22T10:07:02.321Z"
   },
   {
    "duration": 123,
    "start_time": "2022-12-22T10:07:17.520Z"
   },
   {
    "duration": 126,
    "start_time": "2022-12-22T10:08:46.235Z"
   },
   {
    "duration": 122,
    "start_time": "2022-12-22T10:08:51.304Z"
   },
   {
    "duration": 122,
    "start_time": "2022-12-22T10:08:56.344Z"
   },
   {
    "duration": 114,
    "start_time": "2022-12-22T10:09:01.700Z"
   },
   {
    "duration": 108,
    "start_time": "2022-12-22T10:09:19.208Z"
   },
   {
    "duration": 115,
    "start_time": "2022-12-22T10:10:13.804Z"
   },
   {
    "duration": 122,
    "start_time": "2022-12-22T10:10:17.877Z"
   },
   {
    "duration": 126,
    "start_time": "2022-12-22T10:10:22.144Z"
   },
   {
    "duration": 131,
    "start_time": "2022-12-22T10:10:29.598Z"
   },
   {
    "duration": 447,
    "start_time": "2022-12-22T10:11:24.215Z"
   },
   {
    "duration": 130,
    "start_time": "2022-12-22T10:11:30.701Z"
   },
   {
    "duration": 135,
    "start_time": "2022-12-22T10:11:37.276Z"
   },
   {
    "duration": 31,
    "start_time": "2022-12-22T10:16:34.168Z"
   },
   {
    "duration": 10,
    "start_time": "2022-12-22T10:16:50.541Z"
   },
   {
    "duration": 10,
    "start_time": "2022-12-22T10:16:57.444Z"
   },
   {
    "duration": 12,
    "start_time": "2022-12-22T10:17:10.705Z"
   },
   {
    "duration": 33,
    "start_time": "2022-12-22T10:18:14.596Z"
   },
   {
    "duration": 13,
    "start_time": "2022-12-22T10:18:15.581Z"
   },
   {
    "duration": 36,
    "start_time": "2022-12-22T10:18:26.901Z"
   },
   {
    "duration": 10,
    "start_time": "2022-12-22T10:18:31.139Z"
   },
   {
    "duration": 4,
    "start_time": "2022-12-22T10:21:15.825Z"
   },
   {
    "duration": 50,
    "start_time": "2022-12-22T10:21:23.531Z"
   },
   {
    "duration": 43,
    "start_time": "2022-12-22T10:21:58.357Z"
   },
   {
    "duration": 11,
    "start_time": "2022-12-22T10:22:00.108Z"
   },
   {
    "duration": 10,
    "start_time": "2022-12-22T10:22:05.324Z"
   },
   {
    "duration": 10,
    "start_time": "2022-12-22T10:22:11.405Z"
   },
   {
    "duration": 11,
    "start_time": "2022-12-22T10:22:16.542Z"
   },
   {
    "duration": 10,
    "start_time": "2022-12-22T10:22:21.724Z"
   },
   {
    "duration": 10,
    "start_time": "2022-12-22T10:23:03.069Z"
   },
   {
    "duration": 10,
    "start_time": "2022-12-22T10:23:10.480Z"
   },
   {
    "duration": 9,
    "start_time": "2022-12-22T10:23:15.031Z"
   },
   {
    "duration": 11,
    "start_time": "2022-12-22T10:23:19.119Z"
   },
   {
    "duration": 9,
    "start_time": "2022-12-22T10:23:23.109Z"
   },
   {
    "duration": 44,
    "start_time": "2022-12-22T10:25:28.511Z"
   },
   {
    "duration": 10,
    "start_time": "2022-12-22T10:25:34.204Z"
   },
   {
    "duration": 9,
    "start_time": "2022-12-22T10:25:38.074Z"
   },
   {
    "duration": 45,
    "start_time": "2022-12-22T10:26:06.238Z"
   },
   {
    "duration": 10,
    "start_time": "2022-12-22T10:26:07.129Z"
   },
   {
    "duration": 10,
    "start_time": "2022-12-22T10:26:11.623Z"
   },
   {
    "duration": 10,
    "start_time": "2022-12-22T10:26:18.830Z"
   },
   {
    "duration": 25,
    "start_time": "2022-12-22T10:26:32.457Z"
   },
   {
    "duration": 25,
    "start_time": "2022-12-22T10:26:43.504Z"
   },
   {
    "duration": 36,
    "start_time": "2022-12-22T10:28:09.807Z"
   },
   {
    "duration": 26,
    "start_time": "2022-12-22T10:28:10.815Z"
   },
   {
    "duration": 25,
    "start_time": "2022-12-22T10:28:17.165Z"
   },
   {
    "duration": 24,
    "start_time": "2022-12-22T10:28:22.989Z"
   },
   {
    "duration": 26,
    "start_time": "2022-12-22T10:31:45.671Z"
   },
   {
    "duration": 13,
    "start_time": "2022-12-22T10:31:49.926Z"
   },
   {
    "duration": 15,
    "start_time": "2022-12-22T10:32:00.700Z"
   },
   {
    "duration": 25,
    "start_time": "2022-12-22T10:32:09.408Z"
   },
   {
    "duration": 10,
    "start_time": "2022-12-22T10:32:31.640Z"
   },
   {
    "duration": 27,
    "start_time": "2022-12-22T10:33:07.381Z"
   },
   {
    "duration": 17,
    "start_time": "2022-12-22T10:33:25.833Z"
   },
   {
    "duration": 28,
    "start_time": "2022-12-22T10:33:26.908Z"
   },
   {
    "duration": 25,
    "start_time": "2022-12-22T10:33:32.346Z"
   },
   {
    "duration": 249,
    "start_time": "2022-12-22T10:36:50.065Z"
   },
   {
    "duration": 11,
    "start_time": "2022-12-22T10:36:50.954Z"
   },
   {
    "duration": 3,
    "start_time": "2022-12-22T10:37:25.707Z"
   },
   {
    "duration": 13,
    "start_time": "2022-12-22T10:41:28.804Z"
   },
   {
    "duration": 10,
    "start_time": "2022-12-22T10:42:44.373Z"
   },
   {
    "duration": 1119,
    "start_time": "2022-12-22T10:47:09.649Z"
   },
   {
    "duration": 15,
    "start_time": "2022-12-22T10:47:24.114Z"
   },
   {
    "duration": 4,
    "start_time": "2022-12-22T10:47:30.922Z"
   },
   {
    "duration": 12,
    "start_time": "2022-12-22T10:47:33.303Z"
   },
   {
    "duration": 2100,
    "start_time": "2022-12-22T10:49:48.029Z"
   },
   {
    "duration": 1918,
    "start_time": "2022-12-22T10:49:50.131Z"
   },
   {
    "duration": 3,
    "start_time": "2022-12-22T10:49:52.051Z"
   },
   {
    "duration": 375,
    "start_time": "2022-12-22T10:49:52.056Z"
   },
   {
    "duration": 3,
    "start_time": "2022-12-22T10:49:52.432Z"
   },
   {
    "duration": 8413,
    "start_time": "2022-12-22T10:49:52.437Z"
   },
   {
    "duration": 142,
    "start_time": "2022-12-22T10:50:00.852Z"
   },
   {
    "duration": 7552,
    "start_time": "2022-12-22T10:50:00.995Z"
   },
   {
    "duration": 166,
    "start_time": "2022-12-22T10:50:08.548Z"
   },
   {
    "duration": 7989,
    "start_time": "2022-12-22T10:50:08.717Z"
   },
   {
    "duration": 156,
    "start_time": "2022-12-22T10:50:16.713Z"
   },
   {
    "duration": 30,
    "start_time": "2022-12-22T10:50:16.870Z"
   },
   {
    "duration": 8,
    "start_time": "2022-12-22T10:50:16.913Z"
   },
   {
    "duration": 54,
    "start_time": "2022-12-22T10:50:16.924Z"
   },
   {
    "duration": 6,
    "start_time": "2022-12-22T10:50:16.981Z"
   },
   {
    "duration": 66,
    "start_time": "2022-12-22T10:50:16.989Z"
   },
   {
    "duration": 257,
    "start_time": "2022-12-22T10:50:17.056Z"
   },
   {
    "duration": 99,
    "start_time": "2022-12-22T10:50:17.315Z"
   },
   {
    "duration": 5,
    "start_time": "2022-12-22T10:50:17.416Z"
   },
   {
    "duration": 15,
    "start_time": "2022-12-22T10:50:17.422Z"
   },
   {
    "duration": 198151,
    "start_time": "2022-12-22T10:50:17.439Z"
   },
   {
    "duration": 4,
    "start_time": "2022-12-22T10:53:35.592Z"
   },
   {
    "duration": 28,
    "start_time": "2022-12-22T10:53:35.598Z"
   },
   {
    "duration": 19,
    "start_time": "2022-12-22T11:00:52.547Z"
   },
   {
    "duration": 19,
    "start_time": "2022-12-22T11:01:28.735Z"
   },
   {
    "duration": 9,
    "start_time": "2022-12-22T11:02:42.315Z"
   },
   {
    "duration": 12,
    "start_time": "2022-12-22T11:02:50.357Z"
   },
   {
    "duration": 9,
    "start_time": "2022-12-22T11:02:57.032Z"
   },
   {
    "duration": 2139,
    "start_time": "2022-12-22T11:03:19.191Z"
   },
   {
    "duration": 1820,
    "start_time": "2022-12-22T11:03:21.332Z"
   },
   {
    "duration": 2,
    "start_time": "2022-12-22T11:03:23.154Z"
   },
   {
    "duration": 399,
    "start_time": "2022-12-22T11:03:23.159Z"
   },
   {
    "duration": 3,
    "start_time": "2022-12-22T11:03:23.560Z"
   },
   {
    "duration": 8918,
    "start_time": "2022-12-22T11:03:23.565Z"
   },
   {
    "duration": 147,
    "start_time": "2022-12-22T11:03:32.485Z"
   },
   {
    "duration": 8107,
    "start_time": "2022-12-22T11:03:32.633Z"
   },
   {
    "duration": 165,
    "start_time": "2022-12-22T11:03:40.742Z"
   },
   {
    "duration": 8589,
    "start_time": "2022-12-22T11:03:40.912Z"
   },
   {
    "duration": 168,
    "start_time": "2022-12-22T11:03:49.502Z"
   },
   {
    "duration": 28,
    "start_time": "2022-12-22T11:03:49.672Z"
   },
   {
    "duration": 7,
    "start_time": "2022-12-22T11:03:49.712Z"
   },
   {
    "duration": 65,
    "start_time": "2022-12-22T11:03:49.721Z"
   },
   {
    "duration": 5,
    "start_time": "2022-12-22T11:03:49.788Z"
   },
   {
    "duration": 58,
    "start_time": "2022-12-22T11:03:49.795Z"
   },
   {
    "duration": 360,
    "start_time": "2022-12-22T11:03:49.855Z"
   },
   {
    "duration": 114,
    "start_time": "2022-12-22T11:03:50.217Z"
   },
   {
    "duration": 32,
    "start_time": "2022-12-22T11:03:50.334Z"
   },
   {
    "duration": 39,
    "start_time": "2022-12-22T11:03:50.369Z"
   },
   {
    "duration": 199794,
    "start_time": "2022-12-22T11:03:50.410Z"
   },
   {
    "duration": 4,
    "start_time": "2022-12-22T11:07:10.205Z"
   },
   {
    "duration": 23,
    "start_time": "2022-12-22T11:07:10.211Z"
   },
   {
    "duration": 2237,
    "start_time": "2022-12-22T11:58:48.886Z"
   },
   {
    "duration": 2195,
    "start_time": "2022-12-22T11:58:51.125Z"
   },
   {
    "duration": 3,
    "start_time": "2022-12-22T11:58:53.321Z"
   },
   {
    "duration": 376,
    "start_time": "2022-12-22T11:58:53.326Z"
   },
   {
    "duration": 3,
    "start_time": "2022-12-22T11:58:53.703Z"
   },
   {
    "duration": 8752,
    "start_time": "2022-12-22T11:58:53.707Z"
   },
   {
    "duration": 181,
    "start_time": "2022-12-22T11:59:02.460Z"
   },
   {
    "duration": 8036,
    "start_time": "2022-12-22T11:59:02.643Z"
   },
   {
    "duration": 189,
    "start_time": "2022-12-22T11:59:10.680Z"
   },
   {
    "duration": 9091,
    "start_time": "2022-12-22T11:59:10.871Z"
   },
   {
    "duration": 211,
    "start_time": "2022-12-22T11:59:19.964Z"
   },
   {
    "duration": 31,
    "start_time": "2022-12-22T11:59:20.177Z"
   },
   {
    "duration": 7,
    "start_time": "2022-12-22T11:59:20.209Z"
   },
   {
    "duration": 36,
    "start_time": "2022-12-22T11:59:20.218Z"
   },
   {
    "duration": 7,
    "start_time": "2022-12-22T11:59:20.255Z"
   },
   {
    "duration": 69,
    "start_time": "2022-12-22T11:59:20.263Z"
   },
   {
    "duration": 364,
    "start_time": "2022-12-22T11:59:20.334Z"
   },
   {
    "duration": 100,
    "start_time": "2022-12-22T11:59:20.702Z"
   },
   {
    "duration": 4,
    "start_time": "2022-12-22T11:59:20.804Z"
   },
   {
    "duration": 19,
    "start_time": "2022-12-22T11:59:20.810Z"
   },
   {
    "duration": 222126,
    "start_time": "2022-12-22T11:59:20.831Z"
   },
   {
    "duration": 4,
    "start_time": "2022-12-22T12:03:02.959Z"
   },
   {
    "duration": 38,
    "start_time": "2022-12-22T12:03:02.964Z"
   }
  ],
  "kernelspec": {
   "display_name": "Python 3 (ipykernel)",
   "language": "python",
   "name": "python3"
  },
  "language_info": {
   "codemirror_mode": {
    "name": "ipython",
    "version": 3
   },
   "file_extension": ".py",
   "mimetype": "text/x-python",
   "name": "python",
   "nbconvert_exporter": "python",
   "pygments_lexer": "ipython3",
   "version": "3.9.12"
  },
  "toc": {
   "base_numbering": 1,
   "nav_menu": {},
   "number_sections": true,
   "sideBar": true,
   "skip_h1_title": true,
   "title_cell": "Table of Contents",
   "title_sidebar": "Contents",
   "toc_cell": false,
   "toc_position": {},
   "toc_section_display": true,
   "toc_window_display": true
  }
 },
 "nbformat": 4,
 "nbformat_minor": 2
}
